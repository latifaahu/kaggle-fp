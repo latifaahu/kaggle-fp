{
 "cells": [
  {
   "cell_type": "markdown",
   "id": "5f7c4958",
   "metadata": {
    "papermill": {
     "duration": 0.010642,
     "end_time": "2022-10-22T17:13:46.806867",
     "exception": false,
     "start_time": "2022-10-22T17:13:46.796225",
     "status": "completed"
    },
    "tags": []
   },
   "source": [
    "# Import Library"
   ]
  },
  {
   "cell_type": "code",
   "execution_count": 1,
   "id": "212469b3",
   "metadata": {
    "execution": {
     "iopub.execute_input": "2022-10-22T17:13:46.829864Z",
     "iopub.status.busy": "2022-10-22T17:13:46.829461Z",
     "iopub.status.idle": "2022-10-22T17:13:47.820973Z",
     "shell.execute_reply": "2022-10-22T17:13:47.819978Z"
    },
    "papermill": {
     "duration": 1.007235,
     "end_time": "2022-10-22T17:13:47.823754",
     "exception": false,
     "start_time": "2022-10-22T17:13:46.816519",
     "status": "completed"
    },
    "tags": []
   },
   "outputs": [],
   "source": [
    "import numpy as np\n",
    "import pandas as pd\n",
    "import matplotlib.pyplot as plt\n",
    "import seaborn as sns\n",
    "plt.style.use('fivethirtyeight')\n",
    "import warnings\n",
    "warnings.filterwarnings('ignore')\n",
    "%matplotlib inline\n",
    "import ast"
   ]
  },
  {
   "cell_type": "markdown",
   "id": "81c345b7",
   "metadata": {
    "papermill": {
     "duration": 0.009229,
     "end_time": "2022-10-22T17:13:47.842649",
     "exception": false,
     "start_time": "2022-10-22T17:13:47.833420",
     "status": "completed"
    },
    "tags": []
   },
   "source": [
    "# Read Data "
   ]
  },
  {
   "cell_type": "code",
   "execution_count": 2,
   "id": "36cbe529",
   "metadata": {
    "execution": {
     "iopub.execute_input": "2022-10-22T17:13:47.863759Z",
     "iopub.status.busy": "2022-10-22T17:13:47.862855Z",
     "iopub.status.idle": "2022-10-22T17:14:39.238920Z",
     "shell.execute_reply": "2022-10-22T17:14:39.237699Z"
    },
    "papermill": {
     "duration": 51.389426,
     "end_time": "2022-10-22T17:14:39.241636",
     "exception": false,
     "start_time": "2022-10-22T17:13:47.852210",
     "status": "completed"
    },
    "tags": []
   },
   "outputs": [],
   "source": [
    "click = pd.read_csv('../input/fashion-campus/click_stream.csv')\n",
    "cust = pd.read_csv('../input/fashion-campus/customer.csv')\n",
    "product = pd.read_csv('../input/fashion-campus/product.csv', on_bad_lines='skip')\n",
    "trans = pd.read_csv('../input/fashion-campus/transactions.csv')"
   ]
  },
  {
   "cell_type": "markdown",
   "id": "a647dafa",
   "metadata": {
    "papermill": {
     "duration": 0.009141,
     "end_time": "2022-10-22T17:14:39.260480",
     "exception": false,
     "start_time": "2022-10-22T17:14:39.251339",
     "status": "completed"
    },
    "tags": []
   },
   "source": [
    "# Cek Data Transaksi dan Click Stream Booking"
   ]
  },
  {
   "cell_type": "code",
   "execution_count": 3,
   "id": "b2ddaae5",
   "metadata": {
    "execution": {
     "iopub.execute_input": "2022-10-22T17:14:39.282257Z",
     "iopub.status.busy": "2022-10-22T17:14:39.280919Z",
     "iopub.status.idle": "2022-10-22T17:14:40.165665Z",
     "shell.execute_reply": "2022-10-22T17:14:40.164684Z"
    },
    "papermill": {
     "duration": 0.898158,
     "end_time": "2022-10-22T17:14:40.167961",
     "exception": false,
     "start_time": "2022-10-22T17:14:39.269803",
     "status": "completed"
    },
    "tags": []
   },
   "outputs": [],
   "source": [
    "ses_book = click[click['event_name'] == 'BOOKING']"
   ]
  },
  {
   "cell_type": "code",
   "execution_count": 4,
   "id": "a6941368",
   "metadata": {
    "execution": {
     "iopub.execute_input": "2022-10-22T17:14:40.188524Z",
     "iopub.status.busy": "2022-10-22T17:14:40.188170Z",
     "iopub.status.idle": "2022-10-22T17:14:41.663709Z",
     "shell.execute_reply": "2022-10-22T17:14:41.662800Z"
    },
    "papermill": {
     "duration": 1.488287,
     "end_time": "2022-10-22T17:14:41.665921",
     "exception": false,
     "start_time": "2022-10-22T17:14:40.177634",
     "status": "completed"
    },
    "tags": []
   },
   "outputs": [],
   "source": [
    "trans_book = trans[['booking_id','session_id']].merge(ses_book, on='session_id', how='left', indicator=True)"
   ]
  },
  {
   "cell_type": "code",
   "execution_count": 5,
   "id": "674202aa",
   "metadata": {
    "execution": {
     "iopub.execute_input": "2022-10-22T17:14:41.686223Z",
     "iopub.status.busy": "2022-10-22T17:14:41.685890Z",
     "iopub.status.idle": "2022-10-22T17:14:41.704317Z",
     "shell.execute_reply": "2022-10-22T17:14:41.703302Z"
    },
    "papermill": {
     "duration": 0.031395,
     "end_time": "2022-10-22T17:14:41.706805",
     "exception": false,
     "start_time": "2022-10-22T17:14:41.675410",
     "status": "completed"
    },
    "tags": []
   },
   "outputs": [
    {
     "data": {
      "text/html": [
       "<div>\n",
       "<style scoped>\n",
       "    .dataframe tbody tr th:only-of-type {\n",
       "        vertical-align: middle;\n",
       "    }\n",
       "\n",
       "    .dataframe tbody tr th {\n",
       "        vertical-align: top;\n",
       "    }\n",
       "\n",
       "    .dataframe thead th {\n",
       "        text-align: right;\n",
       "    }\n",
       "</style>\n",
       "<table border=\"1\" class=\"dataframe\">\n",
       "  <thead>\n",
       "    <tr style=\"text-align: right;\">\n",
       "      <th></th>\n",
       "      <th>booking_id</th>\n",
       "      <th>session_id</th>\n",
       "      <th>event_name</th>\n",
       "      <th>event_time</th>\n",
       "      <th>event_id</th>\n",
       "      <th>traffic_source</th>\n",
       "      <th>event_metadata</th>\n",
       "      <th>_merge</th>\n",
       "    </tr>\n",
       "  </thead>\n",
       "  <tbody>\n",
       "    <tr>\n",
       "      <th>0</th>\n",
       "      <td>186e2bee-0637-4710-8981-50c2d737bc42</td>\n",
       "      <td>3abaa6ce-e320-4e51-9469-d9f3fa328e86</td>\n",
       "      <td>BOOKING</td>\n",
       "      <td>2018-07-29T15:22:01.458193Z</td>\n",
       "      <td>74a81855-2725-42f8-968d-9a142316745d</td>\n",
       "      <td>WEB</td>\n",
       "      <td>{'payment_status': 'Success'}</td>\n",
       "      <td>both</td>\n",
       "    </tr>\n",
       "    <tr>\n",
       "      <th>1</th>\n",
       "      <td>caadb57b-e808-4f94-9e96-8a7d4c9898db</td>\n",
       "      <td>2ee5ead1-f13e-4759-92df-7ff48475e970</td>\n",
       "      <td>BOOKING</td>\n",
       "      <td>2018-07-30T12:40:22.365620Z</td>\n",
       "      <td>ace20e22-053f-416c-987f-7d9599c30353</td>\n",
       "      <td>MOBILE</td>\n",
       "      <td>{'payment_status': 'Success'}</td>\n",
       "      <td>both</td>\n",
       "    </tr>\n",
       "    <tr>\n",
       "      <th>2</th>\n",
       "      <td>6000fffb-9c1a-4f4a-9296-bc8f6b622b50</td>\n",
       "      <td>93325fb6-eb00-4268-bb0e-6471795a0ad0</td>\n",
       "      <td>BOOKING</td>\n",
       "      <td>2018-09-15T11:51:17.365620Z</td>\n",
       "      <td>8dd15a94-e987-4bdf-a9c9-9a5d2072e8a5</td>\n",
       "      <td>MOBILE</td>\n",
       "      <td>{'payment_status': 'Success'}</td>\n",
       "      <td>both</td>\n",
       "    </tr>\n",
       "    <tr>\n",
       "      <th>3</th>\n",
       "      <td>f5e530a7-4350-4cd1-a3bc-525b5037bcab</td>\n",
       "      <td>bcad5a61-1b67-448d-8ff4-781d67bc56e4</td>\n",
       "      <td>BOOKING</td>\n",
       "      <td>2018-11-01T11:23:48.365620Z</td>\n",
       "      <td>e44648d8-be8c-47ac-ab38-ba67cfb03d11</td>\n",
       "      <td>MOBILE</td>\n",
       "      <td>{'payment_status': 'Success'}</td>\n",
       "      <td>both</td>\n",
       "    </tr>\n",
       "    <tr>\n",
       "      <th>4</th>\n",
       "      <td>0efc0594-dbbf-4f9a-b0b0-a488cfddf8a2</td>\n",
       "      <td>df1042ab-13e6-4072-b9d2-64a81974c51a</td>\n",
       "      <td>BOOKING</td>\n",
       "      <td>2018-12-18T11:20:30.365620Z</td>\n",
       "      <td>4db72e33-b40f-4f5e-a9dc-b60caa989b37</td>\n",
       "      <td>MOBILE</td>\n",
       "      <td>{'payment_status': 'Success'}</td>\n",
       "      <td>both</td>\n",
       "    </tr>\n",
       "  </tbody>\n",
       "</table>\n",
       "</div>"
      ],
      "text/plain": [
       "                             booking_id                            session_id  \\\n",
       "0  186e2bee-0637-4710-8981-50c2d737bc42  3abaa6ce-e320-4e51-9469-d9f3fa328e86   \n",
       "1  caadb57b-e808-4f94-9e96-8a7d4c9898db  2ee5ead1-f13e-4759-92df-7ff48475e970   \n",
       "2  6000fffb-9c1a-4f4a-9296-bc8f6b622b50  93325fb6-eb00-4268-bb0e-6471795a0ad0   \n",
       "3  f5e530a7-4350-4cd1-a3bc-525b5037bcab  bcad5a61-1b67-448d-8ff4-781d67bc56e4   \n",
       "4  0efc0594-dbbf-4f9a-b0b0-a488cfddf8a2  df1042ab-13e6-4072-b9d2-64a81974c51a   \n",
       "\n",
       "  event_name                   event_time  \\\n",
       "0    BOOKING  2018-07-29T15:22:01.458193Z   \n",
       "1    BOOKING  2018-07-30T12:40:22.365620Z   \n",
       "2    BOOKING  2018-09-15T11:51:17.365620Z   \n",
       "3    BOOKING  2018-11-01T11:23:48.365620Z   \n",
       "4    BOOKING  2018-12-18T11:20:30.365620Z   \n",
       "\n",
       "                               event_id traffic_source  \\\n",
       "0  74a81855-2725-42f8-968d-9a142316745d            WEB   \n",
       "1  ace20e22-053f-416c-987f-7d9599c30353         MOBILE   \n",
       "2  8dd15a94-e987-4bdf-a9c9-9a5d2072e8a5         MOBILE   \n",
       "3  e44648d8-be8c-47ac-ab38-ba67cfb03d11         MOBILE   \n",
       "4  4db72e33-b40f-4f5e-a9dc-b60caa989b37         MOBILE   \n",
       "\n",
       "                  event_metadata _merge  \n",
       "0  {'payment_status': 'Success'}   both  \n",
       "1  {'payment_status': 'Success'}   both  \n",
       "2  {'payment_status': 'Success'}   both  \n",
       "3  {'payment_status': 'Success'}   both  \n",
       "4  {'payment_status': 'Success'}   both  "
      ]
     },
     "execution_count": 5,
     "metadata": {},
     "output_type": "execute_result"
    }
   ],
   "source": [
    "trans_book.head()"
   ]
  },
  {
   "cell_type": "code",
   "execution_count": 6,
   "id": "306d3e5e",
   "metadata": {
    "execution": {
     "iopub.execute_input": "2022-10-22T17:14:41.729310Z",
     "iopub.status.busy": "2022-10-22T17:14:41.728942Z",
     "iopub.status.idle": "2022-10-22T17:14:41.743266Z",
     "shell.execute_reply": "2022-10-22T17:14:41.741909Z"
    },
    "papermill": {
     "duration": 0.028611,
     "end_time": "2022-10-22T17:14:41.745491",
     "exception": false,
     "start_time": "2022-10-22T17:14:41.716880",
     "status": "completed"
    },
    "tags": []
   },
   "outputs": [
    {
     "data": {
      "text/html": [
       "<div>\n",
       "<style scoped>\n",
       "    .dataframe tbody tr th:only-of-type {\n",
       "        vertical-align: middle;\n",
       "    }\n",
       "\n",
       "    .dataframe tbody tr th {\n",
       "        vertical-align: top;\n",
       "    }\n",
       "\n",
       "    .dataframe thead th {\n",
       "        text-align: right;\n",
       "    }\n",
       "</style>\n",
       "<table border=\"1\" class=\"dataframe\">\n",
       "  <thead>\n",
       "    <tr style=\"text-align: right;\">\n",
       "      <th></th>\n",
       "      <th>booking_id</th>\n",
       "      <th>session_id</th>\n",
       "      <th>event_name</th>\n",
       "      <th>event_time</th>\n",
       "      <th>event_id</th>\n",
       "      <th>traffic_source</th>\n",
       "      <th>event_metadata</th>\n",
       "      <th>_merge</th>\n",
       "    </tr>\n",
       "  </thead>\n",
       "  <tbody>\n",
       "    <tr>\n",
       "      <th>848700</th>\n",
       "      <td>9dd7ca0b-0c84-473b-8c2d-2998358b4782</td>\n",
       "      <td>a00f6bc1-87a4-4a03-84b9-3cf9874f1613</td>\n",
       "      <td>NaN</td>\n",
       "      <td>NaN</td>\n",
       "      <td>NaN</td>\n",
       "      <td>NaN</td>\n",
       "      <td>NaN</td>\n",
       "      <td>left_only</td>\n",
       "    </tr>\n",
       "    <tr>\n",
       "      <th>848701</th>\n",
       "      <td>24793e46-d2d6-4b21-8223-4d721a133a85</td>\n",
       "      <td>72dc1452-68fe-439b-bf4b-e3050597bba5</td>\n",
       "      <td>NaN</td>\n",
       "      <td>NaN</td>\n",
       "      <td>NaN</td>\n",
       "      <td>NaN</td>\n",
       "      <td>NaN</td>\n",
       "      <td>left_only</td>\n",
       "    </tr>\n",
       "  </tbody>\n",
       "</table>\n",
       "</div>"
      ],
      "text/plain": [
       "                                  booking_id  \\\n",
       "848700  9dd7ca0b-0c84-473b-8c2d-2998358b4782   \n",
       "848701  24793e46-d2d6-4b21-8223-4d721a133a85   \n",
       "\n",
       "                                  session_id event_name event_time event_id  \\\n",
       "848700  a00f6bc1-87a4-4a03-84b9-3cf9874f1613        NaN        NaN      NaN   \n",
       "848701  72dc1452-68fe-439b-bf4b-e3050597bba5        NaN        NaN      NaN   \n",
       "\n",
       "       traffic_source event_metadata     _merge  \n",
       "848700            NaN            NaN  left_only  \n",
       "848701            NaN            NaN  left_only  "
      ]
     },
     "execution_count": 6,
     "metadata": {},
     "output_type": "execute_result"
    }
   ],
   "source": [
    "trans_book[trans_book['_merge'] == 'left_only']"
   ]
  },
  {
   "cell_type": "markdown",
   "id": "86a739e2",
   "metadata": {
    "papermill": {
     "duration": 0.009507,
     "end_time": "2022-10-22T17:14:41.765254",
     "exception": false,
     "start_time": "2022-10-22T17:14:41.755747",
     "status": "completed"
    },
    "tags": []
   },
   "source": [
    "terdapat 2 data transaksi yang event_name nya bukan BOOKING, padahal dia punya booking_id, mari kita cari tahu apa event_namenya"
   ]
  },
  {
   "cell_type": "code",
   "execution_count": 7,
   "id": "1dd5e764",
   "metadata": {
    "execution": {
     "iopub.execute_input": "2022-10-22T17:14:41.786657Z",
     "iopub.status.busy": "2022-10-22T17:14:41.786067Z",
     "iopub.status.idle": "2022-10-22T17:14:42.516206Z",
     "shell.execute_reply": "2022-10-22T17:14:42.515137Z"
    },
    "papermill": {
     "duration": 0.743417,
     "end_time": "2022-10-22T17:14:42.518620",
     "exception": false,
     "start_time": "2022-10-22T17:14:41.775203",
     "status": "completed"
    },
    "tags": []
   },
   "outputs": [
    {
     "data": {
      "text/html": [
       "<div>\n",
       "<style scoped>\n",
       "    .dataframe tbody tr th:only-of-type {\n",
       "        vertical-align: middle;\n",
       "    }\n",
       "\n",
       "    .dataframe tbody tr th {\n",
       "        vertical-align: top;\n",
       "    }\n",
       "\n",
       "    .dataframe thead th {\n",
       "        text-align: right;\n",
       "    }\n",
       "</style>\n",
       "<table border=\"1\" class=\"dataframe\">\n",
       "  <thead>\n",
       "    <tr style=\"text-align: right;\">\n",
       "      <th></th>\n",
       "      <th>session_id</th>\n",
       "      <th>event_name</th>\n",
       "      <th>event_metadata</th>\n",
       "    </tr>\n",
       "  </thead>\n",
       "  <tbody>\n",
       "  </tbody>\n",
       "</table>\n",
       "</div>"
      ],
      "text/plain": [
       "Empty DataFrame\n",
       "Columns: [session_id, event_name, event_metadata]\n",
       "Index: []"
      ]
     },
     "execution_count": 7,
     "metadata": {},
     "output_type": "execute_result"
    }
   ],
   "source": [
    "click[click['session_id'] == 'a00f6bc1-87a4-4a03-84b9-3cf9874f1613'][['session_id','event_name','event_metadata']]"
   ]
  },
  {
   "cell_type": "code",
   "execution_count": 8,
   "id": "99bac3a6",
   "metadata": {
    "execution": {
     "iopub.execute_input": "2022-10-22T17:14:42.540604Z",
     "iopub.status.busy": "2022-10-22T17:14:42.539881Z",
     "iopub.status.idle": "2022-10-22T17:14:43.259660Z",
     "shell.execute_reply": "2022-10-22T17:14:43.258996Z"
    },
    "papermill": {
     "duration": 0.732648,
     "end_time": "2022-10-22T17:14:43.261504",
     "exception": false,
     "start_time": "2022-10-22T17:14:42.528856",
     "status": "completed"
    },
    "tags": []
   },
   "outputs": [
    {
     "data": {
      "text/html": [
       "<div>\n",
       "<style scoped>\n",
       "    .dataframe tbody tr th:only-of-type {\n",
       "        vertical-align: middle;\n",
       "    }\n",
       "\n",
       "    .dataframe tbody tr th {\n",
       "        vertical-align: top;\n",
       "    }\n",
       "\n",
       "    .dataframe thead th {\n",
       "        text-align: right;\n",
       "    }\n",
       "</style>\n",
       "<table border=\"1\" class=\"dataframe\">\n",
       "  <thead>\n",
       "    <tr style=\"text-align: right;\">\n",
       "      <th></th>\n",
       "      <th>session_id</th>\n",
       "      <th>event_name</th>\n",
       "      <th>event_metadata</th>\n",
       "    </tr>\n",
       "  </thead>\n",
       "  <tbody>\n",
       "  </tbody>\n",
       "</table>\n",
       "</div>"
      ],
      "text/plain": [
       "Empty DataFrame\n",
       "Columns: [session_id, event_name, event_metadata]\n",
       "Index: []"
      ]
     },
     "execution_count": 8,
     "metadata": {},
     "output_type": "execute_result"
    }
   ],
   "source": [
    "click[click['session_id'] == '72dc1452-68fe-439b-bf4b-e3050597bba5'][['session_id','event_name','event_metadata']]"
   ]
  },
  {
   "cell_type": "markdown",
   "id": "d0b71394",
   "metadata": {
    "papermill": {
     "duration": 0.009529,
     "end_time": "2022-10-22T17:14:43.281092",
     "exception": false,
     "start_time": "2022-10-22T17:14:43.271563",
     "status": "completed"
    },
    "tags": []
   },
   "source": [
    "ternyata dia gadaa data session_id dan click_streamnya? HOW CAN?! mari kita lihat data lain yang punya event_name BOOKING"
   ]
  },
  {
   "cell_type": "code",
   "execution_count": 9,
   "id": "3184ef2b",
   "metadata": {
    "execution": {
     "iopub.execute_input": "2022-10-22T17:14:43.302044Z",
     "iopub.status.busy": "2022-10-22T17:14:43.301698Z",
     "iopub.status.idle": "2022-10-22T17:14:44.032711Z",
     "shell.execute_reply": "2022-10-22T17:14:44.031865Z"
    },
    "papermill": {
     "duration": 0.743896,
     "end_time": "2022-10-22T17:14:44.034682",
     "exception": false,
     "start_time": "2022-10-22T17:14:43.290786",
     "status": "completed"
    },
    "tags": []
   },
   "outputs": [
    {
     "data": {
      "text/html": [
       "<div>\n",
       "<style scoped>\n",
       "    .dataframe tbody tr th:only-of-type {\n",
       "        vertical-align: middle;\n",
       "    }\n",
       "\n",
       "    .dataframe tbody tr th {\n",
       "        vertical-align: top;\n",
       "    }\n",
       "\n",
       "    .dataframe thead th {\n",
       "        text-align: right;\n",
       "    }\n",
       "</style>\n",
       "<table border=\"1\" class=\"dataframe\">\n",
       "  <thead>\n",
       "    <tr style=\"text-align: right;\">\n",
       "      <th></th>\n",
       "      <th>session_id</th>\n",
       "      <th>event_name</th>\n",
       "      <th>event_metadata</th>\n",
       "    </tr>\n",
       "  </thead>\n",
       "  <tbody>\n",
       "    <tr>\n",
       "      <th>12609138</th>\n",
       "      <td>3abaa6ce-e320-4e51-9469-d9f3fa328e86</td>\n",
       "      <td>HOMEPAGE</td>\n",
       "      <td>NaN</td>\n",
       "    </tr>\n",
       "    <tr>\n",
       "      <th>12609139</th>\n",
       "      <td>3abaa6ce-e320-4e51-9469-d9f3fa328e86</td>\n",
       "      <td>ADD_TO_CART</td>\n",
       "      <td>{'product_id': 54728, 'quantity': 1, 'item_pri...</td>\n",
       "    </tr>\n",
       "    <tr>\n",
       "      <th>12609140</th>\n",
       "      <td>3abaa6ce-e320-4e51-9469-d9f3fa328e86</td>\n",
       "      <td>ADD_PROMO</td>\n",
       "      <td>{'promo_code': 'WEEKENDSERU', 'promo_amount': ...</td>\n",
       "    </tr>\n",
       "    <tr>\n",
       "      <th>12609141</th>\n",
       "      <td>3abaa6ce-e320-4e51-9469-d9f3fa328e86</td>\n",
       "      <td>BOOKING</td>\n",
       "      <td>{'payment_status': 'Success'}</td>\n",
       "    </tr>\n",
       "    <tr>\n",
       "      <th>12609142</th>\n",
       "      <td>3abaa6ce-e320-4e51-9469-d9f3fa328e86</td>\n",
       "      <td>CLICK</td>\n",
       "      <td>NaN</td>\n",
       "    </tr>\n",
       "    <tr>\n",
       "      <th>12609143</th>\n",
       "      <td>3abaa6ce-e320-4e51-9469-d9f3fa328e86</td>\n",
       "      <td>CLICK</td>\n",
       "      <td>NaN</td>\n",
       "    </tr>\n",
       "    <tr>\n",
       "      <th>12609144</th>\n",
       "      <td>3abaa6ce-e320-4e51-9469-d9f3fa328e86</td>\n",
       "      <td>PROMO_PAGE</td>\n",
       "      <td>NaN</td>\n",
       "    </tr>\n",
       "    <tr>\n",
       "      <th>12609145</th>\n",
       "      <td>3abaa6ce-e320-4e51-9469-d9f3fa328e86</td>\n",
       "      <td>HOMEPAGE</td>\n",
       "      <td>NaN</td>\n",
       "    </tr>\n",
       "    <tr>\n",
       "      <th>12609146</th>\n",
       "      <td>3abaa6ce-e320-4e51-9469-d9f3fa328e86</td>\n",
       "      <td>PROMO_PAGE</td>\n",
       "      <td>NaN</td>\n",
       "    </tr>\n",
       "    <tr>\n",
       "      <th>12609147</th>\n",
       "      <td>3abaa6ce-e320-4e51-9469-d9f3fa328e86</td>\n",
       "      <td>ADD_TO_CART</td>\n",
       "      <td>{'product_id': 43341, 'quantity': 1, 'item_pri...</td>\n",
       "    </tr>\n",
       "    <tr>\n",
       "      <th>12609148</th>\n",
       "      <td>3abaa6ce-e320-4e51-9469-d9f3fa328e86</td>\n",
       "      <td>CLICK</td>\n",
       "      <td>NaN</td>\n",
       "    </tr>\n",
       "    <tr>\n",
       "      <th>12609149</th>\n",
       "      <td>3abaa6ce-e320-4e51-9469-d9f3fa328e86</td>\n",
       "      <td>ADD_TO_CART</td>\n",
       "      <td>{'product_id': 4282, 'quantity': 1, 'item_pric...</td>\n",
       "    </tr>\n",
       "    <tr>\n",
       "      <th>12609150</th>\n",
       "      <td>3abaa6ce-e320-4e51-9469-d9f3fa328e86</td>\n",
       "      <td>CLICK</td>\n",
       "      <td>NaN</td>\n",
       "    </tr>\n",
       "    <tr>\n",
       "      <th>12609151</th>\n",
       "      <td>3abaa6ce-e320-4e51-9469-d9f3fa328e86</td>\n",
       "      <td>PROMO_PAGE</td>\n",
       "      <td>NaN</td>\n",
       "    </tr>\n",
       "    <tr>\n",
       "      <th>12609152</th>\n",
       "      <td>3abaa6ce-e320-4e51-9469-d9f3fa328e86</td>\n",
       "      <td>CLICK</td>\n",
       "      <td>NaN</td>\n",
       "    </tr>\n",
       "    <tr>\n",
       "      <th>12609153</th>\n",
       "      <td>3abaa6ce-e320-4e51-9469-d9f3fa328e86</td>\n",
       "      <td>PROMO_PAGE</td>\n",
       "      <td>NaN</td>\n",
       "    </tr>\n",
       "    <tr>\n",
       "      <th>12609154</th>\n",
       "      <td>3abaa6ce-e320-4e51-9469-d9f3fa328e86</td>\n",
       "      <td>SEARCH</td>\n",
       "      <td>{'search_keywords': 'Barang Bekas'}</td>\n",
       "    </tr>\n",
       "    <tr>\n",
       "      <th>12609155</th>\n",
       "      <td>3abaa6ce-e320-4e51-9469-d9f3fa328e86</td>\n",
       "      <td>HOMEPAGE</td>\n",
       "      <td>NaN</td>\n",
       "    </tr>\n",
       "    <tr>\n",
       "      <th>12609156</th>\n",
       "      <td>3abaa6ce-e320-4e51-9469-d9f3fa328e86</td>\n",
       "      <td>CLICK</td>\n",
       "      <td>NaN</td>\n",
       "    </tr>\n",
       "    <tr>\n",
       "      <th>12609157</th>\n",
       "      <td>3abaa6ce-e320-4e51-9469-d9f3fa328e86</td>\n",
       "      <td>ITEM_DETAIL</td>\n",
       "      <td>NaN</td>\n",
       "    </tr>\n",
       "    <tr>\n",
       "      <th>12609158</th>\n",
       "      <td>3abaa6ce-e320-4e51-9469-d9f3fa328e86</td>\n",
       "      <td>ITEM_DETAIL</td>\n",
       "      <td>NaN</td>\n",
       "    </tr>\n",
       "    <tr>\n",
       "      <th>12609159</th>\n",
       "      <td>3abaa6ce-e320-4e51-9469-d9f3fa328e86</td>\n",
       "      <td>ADD_TO_CART</td>\n",
       "      <td>{'product_id': 54538, 'quantity': 1, 'item_pri...</td>\n",
       "    </tr>\n",
       "    <tr>\n",
       "      <th>12609160</th>\n",
       "      <td>3abaa6ce-e320-4e51-9469-d9f3fa328e86</td>\n",
       "      <td>PROMO_PAGE</td>\n",
       "      <td>NaN</td>\n",
       "    </tr>\n",
       "    <tr>\n",
       "      <th>12609161</th>\n",
       "      <td>3abaa6ce-e320-4e51-9469-d9f3fa328e86</td>\n",
       "      <td>CLICK</td>\n",
       "      <td>NaN</td>\n",
       "    </tr>\n",
       "    <tr>\n",
       "      <th>12609162</th>\n",
       "      <td>3abaa6ce-e320-4e51-9469-d9f3fa328e86</td>\n",
       "      <td>HOMEPAGE</td>\n",
       "      <td>NaN</td>\n",
       "    </tr>\n",
       "  </tbody>\n",
       "</table>\n",
       "</div>"
      ],
      "text/plain": [
       "                                    session_id   event_name  \\\n",
       "12609138  3abaa6ce-e320-4e51-9469-d9f3fa328e86     HOMEPAGE   \n",
       "12609139  3abaa6ce-e320-4e51-9469-d9f3fa328e86  ADD_TO_CART   \n",
       "12609140  3abaa6ce-e320-4e51-9469-d9f3fa328e86    ADD_PROMO   \n",
       "12609141  3abaa6ce-e320-4e51-9469-d9f3fa328e86      BOOKING   \n",
       "12609142  3abaa6ce-e320-4e51-9469-d9f3fa328e86        CLICK   \n",
       "12609143  3abaa6ce-e320-4e51-9469-d9f3fa328e86        CLICK   \n",
       "12609144  3abaa6ce-e320-4e51-9469-d9f3fa328e86   PROMO_PAGE   \n",
       "12609145  3abaa6ce-e320-4e51-9469-d9f3fa328e86     HOMEPAGE   \n",
       "12609146  3abaa6ce-e320-4e51-9469-d9f3fa328e86   PROMO_PAGE   \n",
       "12609147  3abaa6ce-e320-4e51-9469-d9f3fa328e86  ADD_TO_CART   \n",
       "12609148  3abaa6ce-e320-4e51-9469-d9f3fa328e86        CLICK   \n",
       "12609149  3abaa6ce-e320-4e51-9469-d9f3fa328e86  ADD_TO_CART   \n",
       "12609150  3abaa6ce-e320-4e51-9469-d9f3fa328e86        CLICK   \n",
       "12609151  3abaa6ce-e320-4e51-9469-d9f3fa328e86   PROMO_PAGE   \n",
       "12609152  3abaa6ce-e320-4e51-9469-d9f3fa328e86        CLICK   \n",
       "12609153  3abaa6ce-e320-4e51-9469-d9f3fa328e86   PROMO_PAGE   \n",
       "12609154  3abaa6ce-e320-4e51-9469-d9f3fa328e86       SEARCH   \n",
       "12609155  3abaa6ce-e320-4e51-9469-d9f3fa328e86     HOMEPAGE   \n",
       "12609156  3abaa6ce-e320-4e51-9469-d9f3fa328e86        CLICK   \n",
       "12609157  3abaa6ce-e320-4e51-9469-d9f3fa328e86  ITEM_DETAIL   \n",
       "12609158  3abaa6ce-e320-4e51-9469-d9f3fa328e86  ITEM_DETAIL   \n",
       "12609159  3abaa6ce-e320-4e51-9469-d9f3fa328e86  ADD_TO_CART   \n",
       "12609160  3abaa6ce-e320-4e51-9469-d9f3fa328e86   PROMO_PAGE   \n",
       "12609161  3abaa6ce-e320-4e51-9469-d9f3fa328e86        CLICK   \n",
       "12609162  3abaa6ce-e320-4e51-9469-d9f3fa328e86     HOMEPAGE   \n",
       "\n",
       "                                             event_metadata  \n",
       "12609138                                                NaN  \n",
       "12609139  {'product_id': 54728, 'quantity': 1, 'item_pri...  \n",
       "12609140  {'promo_code': 'WEEKENDSERU', 'promo_amount': ...  \n",
       "12609141                      {'payment_status': 'Success'}  \n",
       "12609142                                                NaN  \n",
       "12609143                                                NaN  \n",
       "12609144                                                NaN  \n",
       "12609145                                                NaN  \n",
       "12609146                                                NaN  \n",
       "12609147  {'product_id': 43341, 'quantity': 1, 'item_pri...  \n",
       "12609148                                                NaN  \n",
       "12609149  {'product_id': 4282, 'quantity': 1, 'item_pric...  \n",
       "12609150                                                NaN  \n",
       "12609151                                                NaN  \n",
       "12609152                                                NaN  \n",
       "12609153                                                NaN  \n",
       "12609154                {'search_keywords': 'Barang Bekas'}  \n",
       "12609155                                                NaN  \n",
       "12609156                                                NaN  \n",
       "12609157                                                NaN  \n",
       "12609158                                                NaN  \n",
       "12609159  {'product_id': 54538, 'quantity': 1, 'item_pri...  \n",
       "12609160                                                NaN  \n",
       "12609161                                                NaN  \n",
       "12609162                                                NaN  "
      ]
     },
     "execution_count": 9,
     "metadata": {},
     "output_type": "execute_result"
    }
   ],
   "source": [
    "click[click['session_id'] == '3abaa6ce-e320-4e51-9469-d9f3fa328e86'][['session_id','event_name','event_metadata']]"
   ]
  },
  {
   "cell_type": "markdown",
   "id": "a954f555",
   "metadata": {
    "papermill": {
     "duration": 0.01062,
     "end_time": "2022-10-22T17:14:44.055866",
     "exception": false,
     "start_time": "2022-10-22T17:14:44.045246",
     "status": "completed"
    },
    "tags": []
   },
   "source": [
    "ternyata setelah dicek, data id_session yang punya booking_id dan event BOOKING tervalidasi datanya di click_stream. maka 2 data tadi kita drop aja soalnya mungkin itu ada salah input"
   ]
  },
  {
   "cell_type": "code",
   "execution_count": 10,
   "id": "b243467f",
   "metadata": {
    "execution": {
     "iopub.execute_input": "2022-10-22T17:14:44.078148Z",
     "iopub.status.busy": "2022-10-22T17:14:44.077543Z",
     "iopub.status.idle": "2022-10-22T17:14:44.909939Z",
     "shell.execute_reply": "2022-10-22T17:14:44.909262Z"
    },
    "papermill": {
     "duration": 0.846505,
     "end_time": "2022-10-22T17:14:44.912675",
     "exception": false,
     "start_time": "2022-10-22T17:14:44.066170",
     "status": "completed"
    },
    "tags": []
   },
   "outputs": [],
   "source": [
    "transaction_book = trans[['booking_id','session_id']].merge(ses_book, on='session_id', how='inner')"
   ]
  },
  {
   "cell_type": "code",
   "execution_count": 11,
   "id": "6fc68dcc",
   "metadata": {
    "execution": {
     "iopub.execute_input": "2022-10-22T17:14:44.937453Z",
     "iopub.status.busy": "2022-10-22T17:14:44.937150Z",
     "iopub.status.idle": "2022-10-22T17:14:44.943459Z",
     "shell.execute_reply": "2022-10-22T17:14:44.942283Z"
    },
    "papermill": {
     "duration": 0.021157,
     "end_time": "2022-10-22T17:14:44.946312",
     "exception": false,
     "start_time": "2022-10-22T17:14:44.925155",
     "status": "completed"
    },
    "tags": []
   },
   "outputs": [
    {
     "data": {
      "text/plain": [
       "(852582, 7)"
      ]
     },
     "execution_count": 11,
     "metadata": {},
     "output_type": "execute_result"
    }
   ],
   "source": [
    "transaction_book.shape"
   ]
  },
  {
   "cell_type": "markdown",
   "id": "105acfdc",
   "metadata": {
    "papermill": {
     "duration": 0.009974,
     "end_time": "2022-10-22T17:14:44.966893",
     "exception": false,
     "start_time": "2022-10-22T17:14:44.956919",
     "status": "completed"
    },
    "tags": []
   },
   "source": [
    "# jumlah masing2 event_name tiap session"
   ]
  },
  {
   "cell_type": "code",
   "execution_count": 12,
   "id": "1cd34946",
   "metadata": {
    "execution": {
     "iopub.execute_input": "2022-10-22T17:14:44.988848Z",
     "iopub.status.busy": "2022-10-22T17:14:44.988357Z",
     "iopub.status.idle": "2022-10-22T17:14:45.898983Z",
     "shell.execute_reply": "2022-10-22T17:14:45.897914Z"
    },
    "papermill": {
     "duration": 0.923789,
     "end_time": "2022-10-22T17:14:45.900800",
     "exception": false,
     "start_time": "2022-10-22T17:14:44.977011",
     "status": "completed"
    },
    "tags": []
   },
   "outputs": [
    {
     "data": {
      "text/plain": [
       "array(['HOMEPAGE', 'SCROLL', 'ADD_TO_CART', 'BOOKING', 'SEARCH',\n",
       "       'ITEM_DETAIL', 'ADD_PROMO', 'CLICK', 'PROMO_PAGE'], dtype=object)"
      ]
     },
     "execution_count": 12,
     "metadata": {},
     "output_type": "execute_result"
    }
   ],
   "source": [
    "click['event_name'].unique()"
   ]
  },
  {
   "cell_type": "markdown",
   "id": "16c0debb",
   "metadata": {
    "papermill": {
     "duration": 0.011287,
     "end_time": "2022-10-22T17:14:45.928048",
     "exception": false,
     "start_time": "2022-10-22T17:14:45.916761",
     "status": "completed"
    },
    "tags": []
   },
   "source": [
    "ada 9 jenis event: HOMEPAGE, SCROLL, ADD_TO_CART, BOOKING, SEARCH, ITEM_DETAIL, ADD_PROMO, CLICK, PROMO_PAGE"
   ]
  },
  {
   "cell_type": "code",
   "execution_count": 13,
   "id": "53a46224",
   "metadata": {
    "execution": {
     "iopub.execute_input": "2022-10-22T17:14:45.952098Z",
     "iopub.status.busy": "2022-10-22T17:14:45.951748Z",
     "iopub.status.idle": "2022-10-22T17:14:45.957343Z",
     "shell.execute_reply": "2022-10-22T17:14:45.956520Z"
    },
    "papermill": {
     "duration": 0.018911,
     "end_time": "2022-10-22T17:14:45.959091",
     "exception": false,
     "start_time": "2022-10-22T17:14:45.940180",
     "status": "completed"
    },
    "tags": []
   },
   "outputs": [
    {
     "data": {
      "text/plain": [
       "(12833602, 6)"
      ]
     },
     "execution_count": 13,
     "metadata": {},
     "output_type": "execute_result"
    }
   ],
   "source": [
    "click.shape"
   ]
  },
  {
   "cell_type": "code",
   "execution_count": 14,
   "id": "0e2c5ba4",
   "metadata": {
    "execution": {
     "iopub.execute_input": "2022-10-22T17:14:45.981772Z",
     "iopub.status.busy": "2022-10-22T17:14:45.981423Z",
     "iopub.status.idle": "2022-10-22T17:14:45.993121Z",
     "shell.execute_reply": "2022-10-22T17:14:45.992203Z"
    },
    "papermill": {
     "duration": 0.02533,
     "end_time": "2022-10-22T17:14:45.995045",
     "exception": false,
     "start_time": "2022-10-22T17:14:45.969715",
     "status": "completed"
    },
    "tags": []
   },
   "outputs": [
    {
     "data": {
      "text/html": [
       "<div>\n",
       "<style scoped>\n",
       "    .dataframe tbody tr th:only-of-type {\n",
       "        vertical-align: middle;\n",
       "    }\n",
       "\n",
       "    .dataframe tbody tr th {\n",
       "        vertical-align: top;\n",
       "    }\n",
       "\n",
       "    .dataframe thead th {\n",
       "        text-align: right;\n",
       "    }\n",
       "</style>\n",
       "<table border=\"1\" class=\"dataframe\">\n",
       "  <thead>\n",
       "    <tr style=\"text-align: right;\">\n",
       "      <th></th>\n",
       "      <th>session_id</th>\n",
       "      <th>event_name</th>\n",
       "      <th>event_time</th>\n",
       "      <th>event_id</th>\n",
       "      <th>traffic_source</th>\n",
       "      <th>event_metadata</th>\n",
       "    </tr>\n",
       "  </thead>\n",
       "  <tbody>\n",
       "    <tr>\n",
       "      <th>0</th>\n",
       "      <td>fb0abf9e-fd1a-44dd-b5c0-2834d5a4b81c</td>\n",
       "      <td>HOMEPAGE</td>\n",
       "      <td>2019-09-06T15:54:32.821085Z</td>\n",
       "      <td>9c4388c4-c95b-4678-b5ca-e9cbc0734109</td>\n",
       "      <td>MOBILE</td>\n",
       "      <td>NaN</td>\n",
       "    </tr>\n",
       "    <tr>\n",
       "      <th>1</th>\n",
       "      <td>fb0abf9e-fd1a-44dd-b5c0-2834d5a4b81c</td>\n",
       "      <td>SCROLL</td>\n",
       "      <td>2019-09-06T16:03:57.821085Z</td>\n",
       "      <td>4690e1f5-3f99-42d3-84a5-22c4c4d8500a</td>\n",
       "      <td>MOBILE</td>\n",
       "      <td>NaN</td>\n",
       "    </tr>\n",
       "    <tr>\n",
       "      <th>2</th>\n",
       "      <td>7d440441-e67a-4d36-b324-80ffd636d166</td>\n",
       "      <td>HOMEPAGE</td>\n",
       "      <td>2019-09-01T12:05:10.322763Z</td>\n",
       "      <td>88aeaeb5-ec98-4859-852c-8abb483faf31</td>\n",
       "      <td>MOBILE</td>\n",
       "      <td>NaN</td>\n",
       "    </tr>\n",
       "    <tr>\n",
       "      <th>3</th>\n",
       "      <td>7d440441-e67a-4d36-b324-80ffd636d166</td>\n",
       "      <td>ADD_TO_CART</td>\n",
       "      <td>2019-09-01T12:06:33.322763Z</td>\n",
       "      <td>934e306e-ecc6-472f-9ccb-12c8536910a2</td>\n",
       "      <td>MOBILE</td>\n",
       "      <td>{'product_id': 15315, 'quantity': 4, 'item_pri...</td>\n",
       "    </tr>\n",
       "    <tr>\n",
       "      <th>4</th>\n",
       "      <td>7d440441-e67a-4d36-b324-80ffd636d166</td>\n",
       "      <td>BOOKING</td>\n",
       "      <td>2019-09-01T12:15:29.425431Z</td>\n",
       "      <td>9f4767a1-40fa-4c9c-9524-dfad18634d56</td>\n",
       "      <td>MOBILE</td>\n",
       "      <td>{'payment_status': 'Success'}</td>\n",
       "    </tr>\n",
       "  </tbody>\n",
       "</table>\n",
       "</div>"
      ],
      "text/plain": [
       "                             session_id   event_name  \\\n",
       "0  fb0abf9e-fd1a-44dd-b5c0-2834d5a4b81c     HOMEPAGE   \n",
       "1  fb0abf9e-fd1a-44dd-b5c0-2834d5a4b81c       SCROLL   \n",
       "2  7d440441-e67a-4d36-b324-80ffd636d166     HOMEPAGE   \n",
       "3  7d440441-e67a-4d36-b324-80ffd636d166  ADD_TO_CART   \n",
       "4  7d440441-e67a-4d36-b324-80ffd636d166      BOOKING   \n",
       "\n",
       "                    event_time                              event_id  \\\n",
       "0  2019-09-06T15:54:32.821085Z  9c4388c4-c95b-4678-b5ca-e9cbc0734109   \n",
       "1  2019-09-06T16:03:57.821085Z  4690e1f5-3f99-42d3-84a5-22c4c4d8500a   \n",
       "2  2019-09-01T12:05:10.322763Z  88aeaeb5-ec98-4859-852c-8abb483faf31   \n",
       "3  2019-09-01T12:06:33.322763Z  934e306e-ecc6-472f-9ccb-12c8536910a2   \n",
       "4  2019-09-01T12:15:29.425431Z  9f4767a1-40fa-4c9c-9524-dfad18634d56   \n",
       "\n",
       "  traffic_source                                     event_metadata  \n",
       "0         MOBILE                                                NaN  \n",
       "1         MOBILE                                                NaN  \n",
       "2         MOBILE                                                NaN  \n",
       "3         MOBILE  {'product_id': 15315, 'quantity': 4, 'item_pri...  \n",
       "4         MOBILE                      {'payment_status': 'Success'}  "
      ]
     },
     "execution_count": 14,
     "metadata": {},
     "output_type": "execute_result"
    }
   ],
   "source": [
    "click.head()"
   ]
  },
  {
   "cell_type": "code",
   "execution_count": 15,
   "id": "e3af9809",
   "metadata": {
    "execution": {
     "iopub.execute_input": "2022-10-22T17:14:46.018640Z",
     "iopub.status.busy": "2022-10-22T17:14:46.018321Z",
     "iopub.status.idle": "2022-10-22T17:14:46.860854Z",
     "shell.execute_reply": "2022-10-22T17:14:46.859441Z"
    },
    "papermill": {
     "duration": 0.857227,
     "end_time": "2022-10-22T17:14:46.863430",
     "exception": false,
     "start_time": "2022-10-22T17:14:46.006203",
     "status": "completed"
    },
    "tags": []
   },
   "outputs": [
    {
     "data": {
      "text/plain": [
       "3abaa6ce-e320-4e51-9469-d9f3fa328e86    1\n",
       "fd1c35ad-9a81-4ff9-9c13-909216f4e954    1\n",
       "82ca8ea9-735b-48e5-9f29-8bd4c30dba55    1\n",
       "f0118283-e2bc-4bc4-843e-30b5adc7082d    1\n",
       "c94f7bd9-5b04-4172-b4ef-bfee94e4960c    1\n",
       "                                       ..\n",
       "1c1454f4-d187-4779-bd25-641f281e84a7    1\n",
       "bb4cbffe-b429-4ee8-83e3-aa4fc6ad9b9e    1\n",
       "049a3c41-928e-446d-b3dd-97b12642f58f    1\n",
       "b9625971-a539-4bc4-87f2-da062b5ff9df    1\n",
       "5e3183df-198b-40e0-b861-27ef694a832a    1\n",
       "Name: session_id, Length: 852584, dtype: int64"
      ]
     },
     "execution_count": 15,
     "metadata": {},
     "output_type": "execute_result"
    }
   ],
   "source": [
    "trans['session_id'].value_counts()"
   ]
  },
  {
   "cell_type": "markdown",
   "id": "e82aaf15",
   "metadata": {
    "papermill": {
     "duration": 0.010553,
     "end_time": "2022-10-22T17:14:46.885938",
     "exception": false,
     "start_time": "2022-10-22T17:14:46.875385",
     "status": "completed"
    },
    "tags": []
   },
   "source": [
    "ada user yang hanya membuat account, lalu mencoba aplikasi dengan meng-klik berbagai macam tombol yang ada, namun tidak pernah melakukan transaksi. untuk pengecekan behavior user dalam melakukan click_stream hanya bisa dilakukan pada user yang pernah melakukan transaksi, baik transaksinya sukses ataupun gagal (table click_stream --> merge transactions ('session_id') --> merge customer ('customer_id')). LALU BAGAIMANA NASIB CUSTOMER YANG TIDAK PERNAH TRANSAKSI? KITA TIDAK BISA MENGECEK BEHAVIORNYA DONG? sepertinya iyes"
   ]
  },
  {
   "cell_type": "code",
   "execution_count": 16,
   "id": "d5261e3c",
   "metadata": {
    "execution": {
     "iopub.execute_input": "2022-10-22T17:14:46.909170Z",
     "iopub.status.busy": "2022-10-22T17:14:46.908720Z",
     "iopub.status.idle": "2022-10-22T17:14:46.914733Z",
     "shell.execute_reply": "2022-10-22T17:14:46.913912Z"
    },
    "papermill": {
     "duration": 0.019907,
     "end_time": "2022-10-22T17:14:46.916513",
     "exception": false,
     "start_time": "2022-10-22T17:14:46.896606",
     "status": "completed"
    },
    "tags": []
   },
   "outputs": [
    {
     "data": {
      "text/plain": [
       "370598"
      ]
     },
     "execution_count": 16,
     "metadata": {},
     "output_type": "execute_result"
    }
   ],
   "source": [
    "# data click_stream yang tidak bisa dicek siapa customernya (click.shape - cust_session.shape)\n",
    "12833602 - 12463004"
   ]
  },
  {
   "cell_type": "code",
   "execution_count": 17,
   "id": "0bae3810",
   "metadata": {
    "execution": {
     "iopub.execute_input": "2022-10-22T17:14:46.941970Z",
     "iopub.status.busy": "2022-10-22T17:14:46.941090Z",
     "iopub.status.idle": "2022-10-22T17:14:59.248615Z",
     "shell.execute_reply": "2022-10-22T17:14:59.247691Z"
    },
    "papermill": {
     "duration": 12.322235,
     "end_time": "2022-10-22T17:14:59.250808",
     "exception": false,
     "start_time": "2022-10-22T17:14:46.928573",
     "status": "completed"
    },
    "tags": []
   },
   "outputs": [],
   "source": [
    "# merging dengan data cust\n",
    "cust_session = click.iloc[:,:2].merge(trans, on='session_id', how='inner')\n",
    "cust_session = cust_session.iloc[:,[0,1,3]]"
   ]
  },
  {
   "cell_type": "code",
   "execution_count": 18,
   "id": "dc2cf13d",
   "metadata": {
    "execution": {
     "iopub.execute_input": "2022-10-22T17:14:59.274460Z",
     "iopub.status.busy": "2022-10-22T17:14:59.273679Z",
     "iopub.status.idle": "2022-10-22T17:14:59.278839Z",
     "shell.execute_reply": "2022-10-22T17:14:59.277982Z"
    },
    "papermill": {
     "duration": 0.018649,
     "end_time": "2022-10-22T17:14:59.280566",
     "exception": false,
     "start_time": "2022-10-22T17:14:59.261917",
     "status": "completed"
    },
    "tags": []
   },
   "outputs": [
    {
     "data": {
      "text/plain": [
       "(12463004, 3)"
      ]
     },
     "execution_count": 18,
     "metadata": {},
     "output_type": "execute_result"
    }
   ],
   "source": [
    "cust_session.shape"
   ]
  },
  {
   "cell_type": "code",
   "execution_count": 19,
   "id": "ee9d4211",
   "metadata": {
    "execution": {
     "iopub.execute_input": "2022-10-22T17:14:59.304794Z",
     "iopub.status.busy": "2022-10-22T17:14:59.304424Z",
     "iopub.status.idle": "2022-10-22T17:14:59.314334Z",
     "shell.execute_reply": "2022-10-22T17:14:59.313245Z"
    },
    "papermill": {
     "duration": 0.024225,
     "end_time": "2022-10-22T17:14:59.316005",
     "exception": false,
     "start_time": "2022-10-22T17:14:59.291780",
     "status": "completed"
    },
    "tags": []
   },
   "outputs": [
    {
     "data": {
      "text/html": [
       "<div>\n",
       "<style scoped>\n",
       "    .dataframe tbody tr th:only-of-type {\n",
       "        vertical-align: middle;\n",
       "    }\n",
       "\n",
       "    .dataframe tbody tr th {\n",
       "        vertical-align: top;\n",
       "    }\n",
       "\n",
       "    .dataframe thead th {\n",
       "        text-align: right;\n",
       "    }\n",
       "</style>\n",
       "<table border=\"1\" class=\"dataframe\">\n",
       "  <thead>\n",
       "    <tr style=\"text-align: right;\">\n",
       "      <th></th>\n",
       "      <th>session_id</th>\n",
       "      <th>event_name</th>\n",
       "      <th>customer_id</th>\n",
       "    </tr>\n",
       "  </thead>\n",
       "  <tbody>\n",
       "    <tr>\n",
       "      <th>0</th>\n",
       "      <td>7d440441-e67a-4d36-b324-80ffd636d166</td>\n",
       "      <td>HOMEPAGE</td>\n",
       "      <td>18770</td>\n",
       "    </tr>\n",
       "    <tr>\n",
       "      <th>1</th>\n",
       "      <td>7d440441-e67a-4d36-b324-80ffd636d166</td>\n",
       "      <td>ADD_TO_CART</td>\n",
       "      <td>18770</td>\n",
       "    </tr>\n",
       "    <tr>\n",
       "      <th>2</th>\n",
       "      <td>7d440441-e67a-4d36-b324-80ffd636d166</td>\n",
       "      <td>BOOKING</td>\n",
       "      <td>18770</td>\n",
       "    </tr>\n",
       "    <tr>\n",
       "      <th>3</th>\n",
       "      <td>7d440441-e67a-4d36-b324-80ffd636d166</td>\n",
       "      <td>SEARCH</td>\n",
       "      <td>18770</td>\n",
       "    </tr>\n",
       "    <tr>\n",
       "      <th>4</th>\n",
       "      <td>7d440441-e67a-4d36-b324-80ffd636d166</td>\n",
       "      <td>HOMEPAGE</td>\n",
       "      <td>18770</td>\n",
       "    </tr>\n",
       "  </tbody>\n",
       "</table>\n",
       "</div>"
      ],
      "text/plain": [
       "                             session_id   event_name  customer_id\n",
       "0  7d440441-e67a-4d36-b324-80ffd636d166     HOMEPAGE        18770\n",
       "1  7d440441-e67a-4d36-b324-80ffd636d166  ADD_TO_CART        18770\n",
       "2  7d440441-e67a-4d36-b324-80ffd636d166      BOOKING        18770\n",
       "3  7d440441-e67a-4d36-b324-80ffd636d166       SEARCH        18770\n",
       "4  7d440441-e67a-4d36-b324-80ffd636d166     HOMEPAGE        18770"
      ]
     },
     "execution_count": 19,
     "metadata": {},
     "output_type": "execute_result"
    }
   ],
   "source": [
    "cust_session.head()"
   ]
  },
  {
   "cell_type": "code",
   "execution_count": 20,
   "id": "18f40371",
   "metadata": {
    "execution": {
     "iopub.execute_input": "2022-10-22T17:14:59.340719Z",
     "iopub.status.busy": "2022-10-22T17:14:59.339753Z",
     "iopub.status.idle": "2022-10-22T17:14:59.361631Z",
     "shell.execute_reply": "2022-10-22T17:14:59.360962Z"
    },
    "papermill": {
     "duration": 0.036254,
     "end_time": "2022-10-22T17:14:59.363622",
     "exception": false,
     "start_time": "2022-10-22T17:14:59.327368",
     "status": "completed"
    },
    "tags": []
   },
   "outputs": [
    {
     "data": {
      "text/html": [
       "<div>\n",
       "<style scoped>\n",
       "    .dataframe tbody tr th:only-of-type {\n",
       "        vertical-align: middle;\n",
       "    }\n",
       "\n",
       "    .dataframe tbody tr th {\n",
       "        vertical-align: top;\n",
       "    }\n",
       "\n",
       "    .dataframe thead th {\n",
       "        text-align: right;\n",
       "    }\n",
       "</style>\n",
       "<table border=\"1\" class=\"dataframe\">\n",
       "  <thead>\n",
       "    <tr style=\"text-align: right;\">\n",
       "      <th></th>\n",
       "      <th>session_id</th>\n",
       "      <th>event_name</th>\n",
       "      <th>customer_id</th>\n",
       "    </tr>\n",
       "  </thead>\n",
       "  <tbody>\n",
       "    <tr>\n",
       "      <th>0</th>\n",
       "      <td>7d440441-e67a-4d36-b324-80ffd636d166</td>\n",
       "      <td>HOMEPAGE</td>\n",
       "      <td>18770</td>\n",
       "    </tr>\n",
       "    <tr>\n",
       "      <th>1</th>\n",
       "      <td>7d440441-e67a-4d36-b324-80ffd636d166</td>\n",
       "      <td>ADD_TO_CART</td>\n",
       "      <td>18770</td>\n",
       "    </tr>\n",
       "    <tr>\n",
       "      <th>2</th>\n",
       "      <td>7d440441-e67a-4d36-b324-80ffd636d166</td>\n",
       "      <td>BOOKING</td>\n",
       "      <td>18770</td>\n",
       "    </tr>\n",
       "    <tr>\n",
       "      <th>3</th>\n",
       "      <td>7d440441-e67a-4d36-b324-80ffd636d166</td>\n",
       "      <td>SEARCH</td>\n",
       "      <td>18770</td>\n",
       "    </tr>\n",
       "    <tr>\n",
       "      <th>4</th>\n",
       "      <td>7d440441-e67a-4d36-b324-80ffd636d166</td>\n",
       "      <td>HOMEPAGE</td>\n",
       "      <td>18770</td>\n",
       "    </tr>\n",
       "    <tr>\n",
       "      <th>...</th>\n",
       "      <td>...</td>\n",
       "      <td>...</td>\n",
       "      <td>...</td>\n",
       "    </tr>\n",
       "    <tr>\n",
       "      <th>2390</th>\n",
       "      <td>dc85c13c-7791-4437-b038-d46f6cbfb14f</td>\n",
       "      <td>SEARCH</td>\n",
       "      <td>18770</td>\n",
       "    </tr>\n",
       "    <tr>\n",
       "      <th>2391</th>\n",
       "      <td>dc85c13c-7791-4437-b038-d46f6cbfb14f</td>\n",
       "      <td>SCROLL</td>\n",
       "      <td>18770</td>\n",
       "    </tr>\n",
       "    <tr>\n",
       "      <th>2392</th>\n",
       "      <td>dc85c13c-7791-4437-b038-d46f6cbfb14f</td>\n",
       "      <td>SCROLL</td>\n",
       "      <td>18770</td>\n",
       "    </tr>\n",
       "    <tr>\n",
       "      <th>2393</th>\n",
       "      <td>dc85c13c-7791-4437-b038-d46f6cbfb14f</td>\n",
       "      <td>CLICK</td>\n",
       "      <td>18770</td>\n",
       "    </tr>\n",
       "    <tr>\n",
       "      <th>2394</th>\n",
       "      <td>dc85c13c-7791-4437-b038-d46f6cbfb14f</td>\n",
       "      <td>CLICK</td>\n",
       "      <td>18770</td>\n",
       "    </tr>\n",
       "  </tbody>\n",
       "</table>\n",
       "<p>2395 rows × 3 columns</p>\n",
       "</div>"
      ],
      "text/plain": [
       "                                session_id   event_name  customer_id\n",
       "0     7d440441-e67a-4d36-b324-80ffd636d166     HOMEPAGE        18770\n",
       "1     7d440441-e67a-4d36-b324-80ffd636d166  ADD_TO_CART        18770\n",
       "2     7d440441-e67a-4d36-b324-80ffd636d166      BOOKING        18770\n",
       "3     7d440441-e67a-4d36-b324-80ffd636d166       SEARCH        18770\n",
       "4     7d440441-e67a-4d36-b324-80ffd636d166     HOMEPAGE        18770\n",
       "...                                    ...          ...          ...\n",
       "2390  dc85c13c-7791-4437-b038-d46f6cbfb14f       SEARCH        18770\n",
       "2391  dc85c13c-7791-4437-b038-d46f6cbfb14f       SCROLL        18770\n",
       "2392  dc85c13c-7791-4437-b038-d46f6cbfb14f       SCROLL        18770\n",
       "2393  dc85c13c-7791-4437-b038-d46f6cbfb14f        CLICK        18770\n",
       "2394  dc85c13c-7791-4437-b038-d46f6cbfb14f        CLICK        18770\n",
       "\n",
       "[2395 rows x 3 columns]"
      ]
     },
     "execution_count": 20,
     "metadata": {},
     "output_type": "execute_result"
    }
   ],
   "source": [
    "w = cust_session[cust_session['customer_id'] == 18770]\n",
    "w"
   ]
  },
  {
   "cell_type": "markdown",
   "id": "f6dd1f72",
   "metadata": {
    "papermill": {
     "duration": 0.010998,
     "end_time": "2022-10-22T17:14:59.386176",
     "exception": false,
     "start_time": "2022-10-22T17:14:59.375178",
     "status": "completed"
    },
    "tags": []
   },
   "source": [
    "# Merge Data"
   ]
  },
  {
   "cell_type": "code",
   "execution_count": 21,
   "id": "1e22ebd4",
   "metadata": {
    "execution": {
     "iopub.execute_input": "2022-10-22T17:14:59.410725Z",
     "iopub.status.busy": "2022-10-22T17:14:59.409641Z",
     "iopub.status.idle": "2022-10-22T17:15:01.601340Z",
     "shell.execute_reply": "2022-10-22T17:15:01.600734Z"
    },
    "papermill": {
     "duration": 2.205734,
     "end_time": "2022-10-22T17:15:01.603052",
     "exception": false,
     "start_time": "2022-10-22T17:14:59.397318",
     "status": "completed"
    },
    "tags": []
   },
   "outputs": [
    {
     "data": {
      "text/plain": [
       "customer_id                    0\n",
       "first_name                     0\n",
       "last_name                      0\n",
       "username                       0\n",
       "email                          0\n",
       "gender                         0\n",
       "birthdate                      0\n",
       "device_type                    0\n",
       "device_id                      0\n",
       "device_version                 0\n",
       "home_location_lat              0\n",
       "home_location_long             0\n",
       "home_location                  0\n",
       "home_country                   0\n",
       "first_join_date                0\n",
       "created_at                 49295\n",
       "booking_id                 49295\n",
       "session_id                 49295\n",
       "product_metadata           49295\n",
       "payment_method             49295\n",
       "payment_status             49295\n",
       "promo_amount               49295\n",
       "promo_code                575343\n",
       "shipment_fee               49295\n",
       "shipment_date_limit        49295\n",
       "shipment_location_lat      49295\n",
       "shipment_location_long     49295\n",
       "total_amount               49295\n",
       "dtype: int64"
      ]
     },
     "execution_count": 21,
     "metadata": {},
     "output_type": "execute_result"
    }
   ],
   "source": [
    "df = cust.merge(right = trans, how = 'left', on = 'customer_id')\n",
    "df.isna().sum()"
   ]
  },
  {
   "cell_type": "markdown",
   "id": "e3290627",
   "metadata": {
    "papermill": {
     "duration": 0.011448,
     "end_time": "2022-10-22T17:15:01.626965",
     "exception": false,
     "start_time": "2022-10-22T17:15:01.615517",
     "status": "completed"
    },
    "tags": []
   },
   "source": [
    "# FI : Total Transaksi Masing2 Cust"
   ]
  },
  {
   "cell_type": "code",
   "execution_count": 22,
   "id": "28400a7e",
   "metadata": {
    "execution": {
     "iopub.execute_input": "2022-10-22T17:15:01.651910Z",
     "iopub.status.busy": "2022-10-22T17:15:01.651050Z",
     "iopub.status.idle": "2022-10-22T17:15:04.254420Z",
     "shell.execute_reply": "2022-10-22T17:15:04.253576Z"
    },
    "papermill": {
     "duration": 2.618021,
     "end_time": "2022-10-22T17:15:04.256472",
     "exception": false,
     "start_time": "2022-10-22T17:15:01.638451",
     "status": "completed"
    },
    "tags": []
   },
   "outputs": [],
   "source": [
    "# merge data customer dengan transaksinya (baik transaksi sukses maupun gagal)\n",
    "cust_trans = cust.merge(right = trans, how = 'left', on = 'customer_id')\n",
    "\n",
    "# buat tabel mengenai total transaksi tiap pelanggan\n",
    "total_transaksi = cust_trans.groupby('customer_id')[['booking_id']].count().sort_values(by = 'booking_id', ascending = False).reset_index()\n",
    "total_transaksi = total_transaksi.rename(columns = {'booking_id' : 'total_transaksi'})\n",
    "\n",
    "# buat tabel mengenai total transaksi sukses tiap pelanggan\n",
    "sukses = cust_trans[cust_trans['payment_status'] == 'Success']\n",
    "total_transaksi_sukses = sukses.groupby('customer_id')[['booking_id']].count().sort_values(by = 'booking_id', ascending = False).reset_index()\n",
    "total_transaksi_sukses = total_transaksi_sukses.rename(columns = {'booking_id' : 'total_transaksi_sukses'})\n",
    "\n",
    "# buat tabel mengenai total transaksi sukses tiap pelanggan\n",
    "gagal = cust_trans[cust_trans['payment_status'] == 'Failed']\n",
    "total_transaksi_gagal = gagal.groupby('customer_id')[['booking_id']].count().sort_values(by = 'booking_id', ascending = False).reset_index()\n",
    "total_transaksi_gagal = total_transaksi_gagal.rename(columns = {'booking_id' : 'total_transaksi_gagal'})\n",
    "\n",
    "# merge total, sukses, dan gagal\n",
    "transaksi_all = total_transaksi.merge(total_transaksi_sukses, on='customer_id', how='outer')\n",
    "transaksi_all = transaksi_all.merge(total_transaksi_gagal, on='customer_id', how='outer')\n",
    "\n",
    "# handling NaN\n",
    "transaksi_all = transaksi_all.fillna(0)\n",
    "\n",
    "# buat kolom yang menjelaskan frekuensi order tiap pelanggan (asumsi = jika dibawah sama dengan 3 disebut sedikit, selain itu banyak)\n",
    "def freq(x):\n",
    "    if x == 0:\n",
    "        return 'never'\n",
    "    elif x <= 3:\n",
    "        return 'few'\n",
    "    else:\n",
    "        return 'many'\n",
    "transaksi_all['transaksi_freq'] = transaksi_all['total_transaksi_sukses'].apply(freq)"
   ]
  },
  {
   "cell_type": "code",
   "execution_count": 23,
   "id": "49641671",
   "metadata": {
    "execution": {
     "iopub.execute_input": "2022-10-22T17:15:04.283555Z",
     "iopub.status.busy": "2022-10-22T17:15:04.283205Z",
     "iopub.status.idle": "2022-10-22T17:15:04.294592Z",
     "shell.execute_reply": "2022-10-22T17:15:04.293664Z"
    },
    "papermill": {
     "duration": 0.027523,
     "end_time": "2022-10-22T17:15:04.296373",
     "exception": false,
     "start_time": "2022-10-22T17:15:04.268850",
     "status": "completed"
    },
    "tags": []
   },
   "outputs": [
    {
     "data": {
      "text/html": [
       "<div>\n",
       "<style scoped>\n",
       "    .dataframe tbody tr th:only-of-type {\n",
       "        vertical-align: middle;\n",
       "    }\n",
       "\n",
       "    .dataframe tbody tr th {\n",
       "        vertical-align: top;\n",
       "    }\n",
       "\n",
       "    .dataframe thead th {\n",
       "        text-align: right;\n",
       "    }\n",
       "</style>\n",
       "<table border=\"1\" class=\"dataframe\">\n",
       "  <thead>\n",
       "    <tr style=\"text-align: right;\">\n",
       "      <th></th>\n",
       "      <th>customer_id</th>\n",
       "      <th>total_transaksi</th>\n",
       "      <th>total_transaksi_sukses</th>\n",
       "      <th>total_transaksi_gagal</th>\n",
       "      <th>transaksi_freq</th>\n",
       "    </tr>\n",
       "  </thead>\n",
       "  <tbody>\n",
       "    <tr>\n",
       "      <th>0</th>\n",
       "      <td>43202</td>\n",
       "      <td>550</td>\n",
       "      <td>550.0</td>\n",
       "      <td>0.0</td>\n",
       "      <td>many</td>\n",
       "    </tr>\n",
       "    <tr>\n",
       "      <th>1</th>\n",
       "      <td>29496</td>\n",
       "      <td>505</td>\n",
       "      <td>505.0</td>\n",
       "      <td>0.0</td>\n",
       "      <td>many</td>\n",
       "    </tr>\n",
       "    <tr>\n",
       "      <th>2</th>\n",
       "      <td>82237</td>\n",
       "      <td>503</td>\n",
       "      <td>503.0</td>\n",
       "      <td>0.0</td>\n",
       "      <td>many</td>\n",
       "    </tr>\n",
       "    <tr>\n",
       "      <th>3</th>\n",
       "      <td>10167</td>\n",
       "      <td>473</td>\n",
       "      <td>460.0</td>\n",
       "      <td>13.0</td>\n",
       "      <td>many</td>\n",
       "    </tr>\n",
       "    <tr>\n",
       "      <th>4</th>\n",
       "      <td>69740</td>\n",
       "      <td>458</td>\n",
       "      <td>458.0</td>\n",
       "      <td>0.0</td>\n",
       "      <td>many</td>\n",
       "    </tr>\n",
       "  </tbody>\n",
       "</table>\n",
       "</div>"
      ],
      "text/plain": [
       "   customer_id  total_transaksi  total_transaksi_sukses  \\\n",
       "0        43202              550                   550.0   \n",
       "1        29496              505                   505.0   \n",
       "2        82237              503                   503.0   \n",
       "3        10167              473                   460.0   \n",
       "4        69740              458                   458.0   \n",
       "\n",
       "   total_transaksi_gagal transaksi_freq  \n",
       "0                    0.0           many  \n",
       "1                    0.0           many  \n",
       "2                    0.0           many  \n",
       "3                   13.0           many  \n",
       "4                    0.0           many  "
      ]
     },
     "execution_count": 23,
     "metadata": {},
     "output_type": "execute_result"
    }
   ],
   "source": [
    "transaksi_all.head()"
   ]
  },
  {
   "cell_type": "code",
   "execution_count": 24,
   "id": "bbd0df77",
   "metadata": {
    "execution": {
     "iopub.execute_input": "2022-10-22T17:15:04.322209Z",
     "iopub.status.busy": "2022-10-22T17:15:04.321686Z",
     "iopub.status.idle": "2022-10-22T17:15:04.333950Z",
     "shell.execute_reply": "2022-10-22T17:15:04.333283Z"
    },
    "papermill": {
     "duration": 0.027187,
     "end_time": "2022-10-22T17:15:04.335716",
     "exception": false,
     "start_time": "2022-10-22T17:15:04.308529",
     "status": "completed"
    },
    "tags": []
   },
   "outputs": [
    {
     "data": {
      "text/html": [
       "<div>\n",
       "<style scoped>\n",
       "    .dataframe tbody tr th:only-of-type {\n",
       "        vertical-align: middle;\n",
       "    }\n",
       "\n",
       "    .dataframe tbody tr th {\n",
       "        vertical-align: top;\n",
       "    }\n",
       "\n",
       "    .dataframe thead th {\n",
       "        text-align: right;\n",
       "    }\n",
       "</style>\n",
       "<table border=\"1\" class=\"dataframe\">\n",
       "  <thead>\n",
       "    <tr style=\"text-align: right;\">\n",
       "      <th></th>\n",
       "      <th>index</th>\n",
       "      <th>transaksi_freq</th>\n",
       "    </tr>\n",
       "  </thead>\n",
       "  <tbody>\n",
       "    <tr>\n",
       "      <th>0</th>\n",
       "      <td>never</td>\n",
       "      <td>49758</td>\n",
       "    </tr>\n",
       "    <tr>\n",
       "      <th>1</th>\n",
       "      <td>many</td>\n",
       "      <td>30755</td>\n",
       "    </tr>\n",
       "    <tr>\n",
       "      <th>2</th>\n",
       "      <td>few</td>\n",
       "      <td>19487</td>\n",
       "    </tr>\n",
       "  </tbody>\n",
       "</table>\n",
       "</div>"
      ],
      "text/plain": [
       "   index  transaksi_freq\n",
       "0  never           49758\n",
       "1   many           30755\n",
       "2    few           19487"
      ]
     },
     "execution_count": 24,
     "metadata": {},
     "output_type": "execute_result"
    }
   ],
   "source": [
    "transaksi_all['transaksi_freq'].value_counts().reset_index()"
   ]
  },
  {
   "cell_type": "code",
   "execution_count": 25,
   "id": "a3c160f5",
   "metadata": {
    "execution": {
     "iopub.execute_input": "2022-10-22T17:15:04.361699Z",
     "iopub.status.busy": "2022-10-22T17:15:04.361127Z",
     "iopub.status.idle": "2022-10-22T17:15:04.505812Z",
     "shell.execute_reply": "2022-10-22T17:15:04.504872Z"
    },
    "papermill": {
     "duration": 0.160065,
     "end_time": "2022-10-22T17:15:04.507933",
     "exception": false,
     "start_time": "2022-10-22T17:15:04.347868",
     "status": "completed"
    },
    "tags": []
   },
   "outputs": [
    {
     "data": {
      "image/png": "[encoded data removed]",
      "text/plain": [
       "<Figure size 432x288 with 1 Axes>"
      ]
     },
     "metadata": {},
     "output_type": "display_data"
    }
   ],
   "source": [
    "transaksi_visual = transaksi_all.groupby('transaksi_freq')['customer_id'].count().reset_index()\n",
    "transaksi_visual = transaksi_visual.rename(columns = {'customer_id' : 'total_customer'})\n",
    "\n",
    "plt.pie(x = transaksi_visual['total_customer'], labels = transaksi_visual['transaksi_freq'], autopct='%1.1f%%')\n",
    "plt.tight_layout()\n",
    "plt.show()"
   ]
  },
  {
   "cell_type": "markdown",
   "id": "5e541114",
   "metadata": {
    "papermill": {
     "duration": 0.015315,
     "end_time": "2022-10-22T17:15:04.539225",
     "exception": false,
     "start_time": "2022-10-22T17:15:04.523910",
     "status": "completed"
    },
    "tags": []
   },
   "source": [
    "jumlah customer yang tidak pernah melakukan transaksi sangat banyak, yakni mencapai 49% dari total customer keseluruhan, dan jumlah customer yang melakukan transaksi (sukses) lebih dari 3 kali (many) cukup banyak, yakni mencapai hampir 1/3 dari total customer keseluruhan"
   ]
  },
  {
   "cell_type": "markdown",
   "id": "b4c84fd7",
   "metadata": {
    "papermill": {
     "duration": 0.015273,
     "end_time": "2022-10-22T17:15:04.570068",
     "exception": false,
     "start_time": "2022-10-22T17:15:04.554795",
     "status": "completed"
    },
    "tags": []
   },
   "source": [
    "# FI : Tanggal transaksi pertama dan transaksi terakhir (transaksi sukses)"
   ]
  },
  {
   "cell_type": "code",
   "execution_count": 26,
   "id": "bb3e9635",
   "metadata": {
    "execution": {
     "iopub.execute_input": "2022-10-22T17:15:04.601431Z",
     "iopub.status.busy": "2022-10-22T17:15:04.600803Z",
     "iopub.status.idle": "2022-10-22T17:15:13.064973Z",
     "shell.execute_reply": "2022-10-22T17:15:13.063549Z"
    },
    "papermill": {
     "duration": 8.481608,
     "end_time": "2022-10-22T17:15:13.067490",
     "exception": false,
     "start_time": "2022-10-22T17:15:04.585882",
     "status": "completed"
    },
    "tags": []
   },
   "outputs": [],
   "source": [
    "trans_success = trans[trans['payment_status'] == 'Success']\n",
    "\n",
    "# buat tabel yang menginfokan tanggal pembelian pertama tiap pelanggan\n",
    "first_purchase = trans_success.groupby(['customer_id'])['created_at'].min()\n",
    "first_purchase = pd.DataFrame(data = first_purchase).reset_index()\n",
    "first_purchase['created_at'] = pd.to_datetime(first_purchase['created_at']).dt.date\n",
    "first_purchase = first_purchase.rename(columns = {'created_at' : 'first_purchase_date'})\n",
    "\n",
    "# buat tabel yang menginfokan tanggal pembelian terakhir tiap pelanggan\n",
    "last_purchase = trans_success.groupby(['customer_id'])['created_at'].max()\n",
    "last_purchase = pd.DataFrame(data = last_purchase).reset_index()\n",
    "last_purchase['created_at'] = pd.to_datetime(last_purchase['created_at']).dt.date\n",
    "last_purchase = last_purchase.rename(columns = {'created_at' : 'last_purchase_date'})"
   ]
  },
  {
   "cell_type": "code",
   "execution_count": 27,
   "id": "4151ae84",
   "metadata": {
    "execution": {
     "iopub.execute_input": "2022-10-22T17:15:13.094078Z",
     "iopub.status.busy": "2022-10-22T17:15:13.093067Z",
     "iopub.status.idle": "2022-10-22T17:15:13.185233Z",
     "shell.execute_reply": "2022-10-22T17:15:13.184203Z"
    },
    "papermill": {
     "duration": 0.107535,
     "end_time": "2022-10-22T17:15:13.187497",
     "exception": false,
     "start_time": "2022-10-22T17:15:13.079962",
     "status": "completed"
    },
    "tags": []
   },
   "outputs": [],
   "source": [
    "# gabungkan tabel first_purchase dan last_purchase\n",
    "purchase_date = pd.merge(left = first_purchase, right = last_purchase, on = 'customer_id')\n",
    "\n",
    "# buat kolom mengenai recency tiap pelanggan\n",
    "purchase_date['recency_days'] = pd.to_datetime(\"today\").date() - purchase_date['last_purchase_date']"
   ]
  },
  {
   "cell_type": "code",
   "execution_count": 28,
   "id": "aec820b0",
   "metadata": {
    "execution": {
     "iopub.execute_input": "2022-10-22T17:15:13.214285Z",
     "iopub.status.busy": "2022-10-22T17:15:13.213329Z",
     "iopub.status.idle": "2022-10-22T17:15:13.224678Z",
     "shell.execute_reply": "2022-10-22T17:15:13.223675Z"
    },
    "papermill": {
     "duration": 0.02657,
     "end_time": "2022-10-22T17:15:13.226762",
     "exception": false,
     "start_time": "2022-10-22T17:15:13.200192",
     "status": "completed"
    },
    "tags": []
   },
   "outputs": [
    {
     "data": {
      "text/html": [
       "<div>\n",
       "<style scoped>\n",
       "    .dataframe tbody tr th:only-of-type {\n",
       "        vertical-align: middle;\n",
       "    }\n",
       "\n",
       "    .dataframe tbody tr th {\n",
       "        vertical-align: top;\n",
       "    }\n",
       "\n",
       "    .dataframe thead th {\n",
       "        text-align: right;\n",
       "    }\n",
       "</style>\n",
       "<table border=\"1\" class=\"dataframe\">\n",
       "  <thead>\n",
       "    <tr style=\"text-align: right;\">\n",
       "      <th></th>\n",
       "      <th>customer_id</th>\n",
       "      <th>first_purchase_date</th>\n",
       "      <th>last_purchase_date</th>\n",
       "      <th>recency_days</th>\n",
       "    </tr>\n",
       "  </thead>\n",
       "  <tbody>\n",
       "    <tr>\n",
       "      <th>0</th>\n",
       "      <td>3</td>\n",
       "      <td>2018-08-25</td>\n",
       "      <td>2022-06-26</td>\n",
       "      <td>118 days</td>\n",
       "    </tr>\n",
       "    <tr>\n",
       "      <th>1</th>\n",
       "      <td>8</td>\n",
       "      <td>2021-02-13</td>\n",
       "      <td>2022-05-15</td>\n",
       "      <td>160 days</td>\n",
       "    </tr>\n",
       "    <tr>\n",
       "      <th>2</th>\n",
       "      <td>9</td>\n",
       "      <td>2021-06-27</td>\n",
       "      <td>2022-05-28</td>\n",
       "      <td>147 days</td>\n",
       "    </tr>\n",
       "    <tr>\n",
       "      <th>3</th>\n",
       "      <td>11</td>\n",
       "      <td>2022-03-07</td>\n",
       "      <td>2022-03-07</td>\n",
       "      <td>229 days</td>\n",
       "    </tr>\n",
       "    <tr>\n",
       "      <th>4</th>\n",
       "      <td>15</td>\n",
       "      <td>2019-09-30</td>\n",
       "      <td>2022-01-05</td>\n",
       "      <td>290 days</td>\n",
       "    </tr>\n",
       "  </tbody>\n",
       "</table>\n",
       "</div>"
      ],
      "text/plain": [
       "   customer_id first_purchase_date last_purchase_date recency_days\n",
       "0            3          2018-08-25         2022-06-26     118 days\n",
       "1            8          2021-02-13         2022-05-15     160 days\n",
       "2            9          2021-06-27         2022-05-28     147 days\n",
       "3           11          2022-03-07         2022-03-07     229 days\n",
       "4           15          2019-09-30         2022-01-05     290 days"
      ]
     },
     "execution_count": 28,
     "metadata": {},
     "output_type": "execute_result"
    }
   ],
   "source": [
    "purchase_date.head()"
   ]
  },
  {
   "cell_type": "code",
   "execution_count": 29,
   "id": "2dd4dd92",
   "metadata": {
    "execution": {
     "iopub.execute_input": "2022-10-22T17:15:13.252978Z",
     "iopub.status.busy": "2022-10-22T17:15:13.252631Z",
     "iopub.status.idle": "2022-10-22T17:15:13.258707Z",
     "shell.execute_reply": "2022-10-22T17:15:13.257874Z"
    },
    "papermill": {
     "duration": 0.021242,
     "end_time": "2022-10-22T17:15:13.260519",
     "exception": false,
     "start_time": "2022-10-22T17:15:13.239277",
     "status": "completed"
    },
    "tags": []
   },
   "outputs": [
    {
     "data": {
      "text/plain": [
       "(50242, 4)"
      ]
     },
     "execution_count": 29,
     "metadata": {},
     "output_type": "execute_result"
    }
   ],
   "source": [
    "purchase_date.shape"
   ]
  },
  {
   "cell_type": "markdown",
   "id": "8e98f2a3",
   "metadata": {
    "papermill": {
     "duration": 0.012167,
     "end_time": "2022-10-22T17:15:13.285424",
     "exception": false,
     "start_time": "2022-10-22T17:15:13.273257",
     "status": "completed"
    },
    "tags": []
   },
   "source": [
    "# FI : Jumlah event click masing2 cust yang telah transaksi"
   ]
  },
  {
   "cell_type": "code",
   "execution_count": 30,
   "id": "bd10de60",
   "metadata": {
    "execution": {
     "iopub.execute_input": "2022-10-22T17:15:13.312431Z",
     "iopub.status.busy": "2022-10-22T17:15:13.312056Z",
     "iopub.status.idle": "2022-10-22T17:15:27.783935Z",
     "shell.execute_reply": "2022-10-22T17:15:27.783311Z"
    },
    "papermill": {
     "duration": 14.487451,
     "end_time": "2022-10-22T17:15:27.785672",
     "exception": false,
     "start_time": "2022-10-22T17:15:13.298221",
     "status": "completed"
    },
    "tags": []
   },
   "outputs": [
    {
     "data": {
      "text/html": [
       "<div>\n",
       "<style scoped>\n",
       "    .dataframe tbody tr th:only-of-type {\n",
       "        vertical-align: middle;\n",
       "    }\n",
       "\n",
       "    .dataframe tbody tr th {\n",
       "        vertical-align: top;\n",
       "    }\n",
       "\n",
       "    .dataframe thead th {\n",
       "        text-align: right;\n",
       "    }\n",
       "</style>\n",
       "<table border=\"1\" class=\"dataframe\">\n",
       "  <thead>\n",
       "    <tr style=\"text-align: right;\">\n",
       "      <th></th>\n",
       "      <th>customer_id</th>\n",
       "      <th>add_promo_freq</th>\n",
       "      <th>add_to_cart_freq</th>\n",
       "      <th>booking_freq</th>\n",
       "      <th>click_freq</th>\n",
       "      <th>homepage_freq</th>\n",
       "      <th>item_detail_freq</th>\n",
       "      <th>promo_page_freq</th>\n",
       "      <th>scroll_freq</th>\n",
       "      <th>search_freq</th>\n",
       "    </tr>\n",
       "  </thead>\n",
       "  <tbody>\n",
       "    <tr>\n",
       "      <th>0</th>\n",
       "      <td>3</td>\n",
       "      <td>27.0</td>\n",
       "      <td>156.0</td>\n",
       "      <td>51.0</td>\n",
       "      <td>118.0</td>\n",
       "      <td>109.0</td>\n",
       "      <td>56.0</td>\n",
       "      <td>42.0</td>\n",
       "      <td>72.0</td>\n",
       "      <td>51.0</td>\n",
       "    </tr>\n",
       "    <tr>\n",
       "      <th>1</th>\n",
       "      <td>8</td>\n",
       "      <td>1.0</td>\n",
       "      <td>14.0</td>\n",
       "      <td>7.0</td>\n",
       "      <td>25.0</td>\n",
       "      <td>93.0</td>\n",
       "      <td>32.0</td>\n",
       "      <td>5.0</td>\n",
       "      <td>16.0</td>\n",
       "      <td>9.0</td>\n",
       "    </tr>\n",
       "    <tr>\n",
       "      <th>2</th>\n",
       "      <td>9</td>\n",
       "      <td>0.0</td>\n",
       "      <td>16.0</td>\n",
       "      <td>6.0</td>\n",
       "      <td>11.0</td>\n",
       "      <td>8.0</td>\n",
       "      <td>5.0</td>\n",
       "      <td>3.0</td>\n",
       "      <td>6.0</td>\n",
       "      <td>4.0</td>\n",
       "    </tr>\n",
       "    <tr>\n",
       "      <th>3</th>\n",
       "      <td>11</td>\n",
       "      <td>1.0</td>\n",
       "      <td>4.0</td>\n",
       "      <td>1.0</td>\n",
       "      <td>1.0</td>\n",
       "      <td>3.0</td>\n",
       "      <td>2.0</td>\n",
       "      <td>2.0</td>\n",
       "      <td>0.0</td>\n",
       "      <td>0.0</td>\n",
       "    </tr>\n",
       "    <tr>\n",
       "      <th>4</th>\n",
       "      <td>15</td>\n",
       "      <td>4.0</td>\n",
       "      <td>21.0</td>\n",
       "      <td>5.0</td>\n",
       "      <td>9.0</td>\n",
       "      <td>9.0</td>\n",
       "      <td>3.0</td>\n",
       "      <td>1.0</td>\n",
       "      <td>2.0</td>\n",
       "      <td>3.0</td>\n",
       "    </tr>\n",
       "  </tbody>\n",
       "</table>\n",
       "</div>"
      ],
      "text/plain": [
       "   customer_id  add_promo_freq  add_to_cart_freq  booking_freq  click_freq  \\\n",
       "0            3            27.0             156.0          51.0       118.0   \n",
       "1            8             1.0              14.0           7.0        25.0   \n",
       "2            9             0.0              16.0           6.0        11.0   \n",
       "3           11             1.0               4.0           1.0         1.0   \n",
       "4           15             4.0              21.0           5.0         9.0   \n",
       "\n",
       "   homepage_freq  item_detail_freq  promo_page_freq  scroll_freq  search_freq  \n",
       "0          109.0              56.0             42.0         72.0         51.0  \n",
       "1           93.0              32.0              5.0         16.0          9.0  \n",
       "2            8.0               5.0              3.0          6.0          4.0  \n",
       "3            3.0               2.0              2.0          0.0          0.0  \n",
       "4            9.0               3.0              1.0          2.0          3.0  "
      ]
     },
     "execution_count": 30,
     "metadata": {},
     "output_type": "execute_result"
    }
   ],
   "source": [
    "# merging dengan data cust\n",
    "cust_session = click.iloc[:,:2].merge(trans, on='session_id', how='inner')\n",
    "cust_session = cust_session.iloc[:,[0,1,3]]\n",
    "\n",
    "# ambil frequency event masing-masing cust\n",
    "total_event = cust_session.groupby(['customer_id','event_name']).count().reset_index()\n",
    "# total_event\n",
    "\n",
    "# buat feature baru\n",
    "total_event = total_event.pivot_table('session_id', ['customer_id'], 'event_name')\n",
    "\n",
    "# showing dataframe\n",
    "total_event = total_event.rename_axis(None, axis=1).reset_index()\n",
    "\n",
    "# handling NaN\n",
    "total_event = total_event.fillna(0)\n",
    "\n",
    "# rename columns\n",
    "total_event = total_event.rename({\n",
    "    'ADD_PROMO' : 'add_promo_freq',\n",
    "    'ADD_TO_CART' : 'add_to_cart_freq',\n",
    "    'BOOKING' : 'booking_freq',\n",
    "    'CLICK' : 'click_freq',\n",
    "    'HOMEPAGE' : 'homepage_freq',\n",
    "    'ITEM_DETAIL' : 'item_detail_freq',\n",
    "    'PROMO_PAGE' : 'promo_page_freq',\n",
    "    'SCROLL' : 'scroll_freq',\n",
    "    'SEARCH' : 'search_freq'\n",
    "}, axis='columns') \n",
    "\n",
    "\n",
    "total_event.head()"
   ]
  },
  {
   "cell_type": "code",
   "execution_count": 31,
   "id": "2f5ab26f",
   "metadata": {
    "execution": {
     "iopub.execute_input": "2022-10-22T17:15:27.812480Z",
     "iopub.status.busy": "2022-10-22T17:15:27.812095Z",
     "iopub.status.idle": "2022-10-22T17:15:27.818878Z",
     "shell.execute_reply": "2022-10-22T17:15:27.817866Z"
    },
    "papermill": {
     "duration": 0.022348,
     "end_time": "2022-10-22T17:15:27.820800",
     "exception": false,
     "start_time": "2022-10-22T17:15:27.798452",
     "status": "completed"
    },
    "tags": []
   },
   "outputs": [
    {
     "data": {
      "text/plain": [
       "(50704, 10)"
      ]
     },
     "execution_count": 31,
     "metadata": {},
     "output_type": "execute_result"
    }
   ],
   "source": [
    "total_event.shape"
   ]
  },
  {
   "cell_type": "code",
   "execution_count": null,
   "id": "cc84b55d",
   "metadata": {
    "papermill": {
     "duration": 0.012575,
     "end_time": "2022-10-22T17:15:27.847170",
     "exception": false,
     "start_time": "2022-10-22T17:15:27.834595",
     "status": "completed"
    },
    "tags": []
   },
   "outputs": [],
   "source": []
  },
  {
   "cell_type": "code",
   "execution_count": null,
   "id": "985c4394",
   "metadata": {
    "papermill": {
     "duration": 0.012509,
     "end_time": "2022-10-22T17:15:27.872596",
     "exception": false,
     "start_time": "2022-10-22T17:15:27.860087",
     "status": "completed"
    },
    "tags": []
   },
   "outputs": [],
   "source": []
  },
  {
   "cell_type": "code",
   "execution_count": null,
   "id": "39c616f6",
   "metadata": {
    "papermill": {
     "duration": 0.012251,
     "end_time": "2022-10-22T17:15:27.897630",
     "exception": false,
     "start_time": "2022-10-22T17:15:27.885379",
     "status": "completed"
    },
    "tags": []
   },
   "outputs": [],
   "source": []
  },
  {
   "cell_type": "markdown",
   "id": "8d3d2de3",
   "metadata": {
    "papermill": {
     "duration": 0.012196,
     "end_time": "2022-10-22T17:15:27.922321",
     "exception": false,
     "start_time": "2022-10-22T17:15:27.910125",
     "status": "completed"
    },
    "tags": []
   },
   "source": [
    "# Normalize json"
   ]
  },
  {
   "cell_type": "code",
   "execution_count": 32,
   "id": "8dc707c1",
   "metadata": {
    "execution": {
     "iopub.execute_input": "2022-10-22T17:15:27.949356Z",
     "iopub.status.busy": "2022-10-22T17:15:27.948942Z",
     "iopub.status.idle": "2022-10-22T17:15:28.861825Z",
     "shell.execute_reply": "2022-10-22T17:15:28.861133Z"
    },
    "papermill": {
     "duration": 0.929108,
     "end_time": "2022-10-22T17:15:28.863977",
     "exception": false,
     "start_time": "2022-10-22T17:15:27.934869",
     "status": "completed"
    },
    "tags": []
   },
   "outputs": [],
   "source": [
    "click['event_metadata'] = click['event_metadata'].fillna('{}')"
   ]
  },
  {
   "cell_type": "code",
   "execution_count": 33,
   "id": "4c625c31",
   "metadata": {
    "execution": {
     "iopub.execute_input": "2022-10-22T17:15:28.891448Z",
     "iopub.status.busy": "2022-10-22T17:15:28.891119Z",
     "iopub.status.idle": "2022-10-22T17:17:10.381093Z",
     "shell.execute_reply": "2022-10-22T17:17:10.380352Z"
    },
    "papermill": {
     "duration": 101.505861,
     "end_time": "2022-10-22T17:17:10.383144",
     "exception": false,
     "start_time": "2022-10-22T17:15:28.877283",
     "status": "completed"
    },
    "tags": []
   },
   "outputs": [],
   "source": [
    "click['event_metadata'] = click['event_metadata'].apply(ast.literal_eval)"
   ]
  },
  {
   "cell_type": "code",
   "execution_count": 34,
   "id": "5ff4117f",
   "metadata": {
    "execution": {
     "iopub.execute_input": "2022-10-22T17:17:10.411953Z",
     "iopub.status.busy": "2022-10-22T17:17:10.411370Z",
     "iopub.status.idle": "2022-10-22T17:17:57.102480Z",
     "shell.execute_reply": "2022-10-22T17:17:57.101240Z"
    },
    "papermill": {
     "duration": 46.707936,
     "end_time": "2022-10-22T17:17:57.104833",
     "exception": false,
     "start_time": "2022-10-22T17:17:10.396897",
     "status": "completed"
    },
    "tags": []
   },
   "outputs": [],
   "source": [
    "click = pd.concat([click.drop(['event_metadata'], axis=1), pd.json_normalize(click['event_metadata'])], axis=1)"
   ]
  },
  {
   "cell_type": "code",
   "execution_count": 35,
   "id": "947ad9a7",
   "metadata": {
    "execution": {
     "iopub.execute_input": "2022-10-22T17:17:57.132948Z",
     "iopub.status.busy": "2022-10-22T17:17:57.132581Z",
     "iopub.status.idle": "2022-10-22T17:18:00.940999Z",
     "shell.execute_reply": "2022-10-22T17:18:00.940124Z"
    },
    "papermill": {
     "duration": 3.825916,
     "end_time": "2022-10-22T17:18:00.943870",
     "exception": false,
     "start_time": "2022-10-22T17:17:57.117954",
     "status": "completed"
    },
    "tags": []
   },
   "outputs": [
    {
     "data": {
      "text/html": [
       "<div>\n",
       "<style scoped>\n",
       "    .dataframe tbody tr th:only-of-type {\n",
       "        vertical-align: middle;\n",
       "    }\n",
       "\n",
       "    .dataframe tbody tr th {\n",
       "        vertical-align: top;\n",
       "    }\n",
       "\n",
       "    .dataframe thead th {\n",
       "        text-align: right;\n",
       "    }\n",
       "</style>\n",
       "<table border=\"1\" class=\"dataframe\">\n",
       "  <thead>\n",
       "    <tr style=\"text-align: right;\">\n",
       "      <th></th>\n",
       "      <th>session_id</th>\n",
       "      <th>event_name</th>\n",
       "      <th>event_time</th>\n",
       "      <th>event_id</th>\n",
       "      <th>traffic_source</th>\n",
       "      <th>product_id</th>\n",
       "      <th>quantity</th>\n",
       "      <th>item_price</th>\n",
       "      <th>payment_status</th>\n",
       "      <th>search_keywords</th>\n",
       "      <th>promo_code</th>\n",
       "      <th>promo_amount</th>\n",
       "    </tr>\n",
       "  </thead>\n",
       "  <tbody>\n",
       "    <tr>\n",
       "      <th>5</th>\n",
       "      <td>7d440441-e67a-4d36-b324-80ffd636d166</td>\n",
       "      <td>SEARCH</td>\n",
       "      <td>2019-09-01T12:07:00.322763Z</td>\n",
       "      <td>c952142b-4fe9-4694-ad7f-21a5d1bed9ca</td>\n",
       "      <td>MOBILE</td>\n",
       "      <td>NaN</td>\n",
       "      <td>NaN</td>\n",
       "      <td>NaN</td>\n",
       "      <td>NaN</td>\n",
       "      <td>Dress Kondangan</td>\n",
       "      <td>NaN</td>\n",
       "      <td>NaN</td>\n",
       "    </tr>\n",
       "    <tr>\n",
       "      <th>22</th>\n",
       "      <td>f7b5cd60-4f87-4b3c-8bde-c7da8930eec2</td>\n",
       "      <td>SEARCH</td>\n",
       "      <td>2019-09-09T05:06:26.425431Z</td>\n",
       "      <td>65ad97d0-9207-447e-b09d-fcc00a569824</td>\n",
       "      <td>MOBILE</td>\n",
       "      <td>NaN</td>\n",
       "      <td>NaN</td>\n",
       "      <td>NaN</td>\n",
       "      <td>NaN</td>\n",
       "      <td>Tas Wanita</td>\n",
       "      <td>NaN</td>\n",
       "      <td>NaN</td>\n",
       "    </tr>\n",
       "    <tr>\n",
       "      <th>35</th>\n",
       "      <td>f7b5cd60-4f87-4b3c-8bde-c7da8930eec2</td>\n",
       "      <td>SEARCH</td>\n",
       "      <td>2019-09-09T08:50:27.425431Z</td>\n",
       "      <td>a2e93548-18b5-4a79-b74f-42bbc0cf0fbd</td>\n",
       "      <td>MOBILE</td>\n",
       "      <td>NaN</td>\n",
       "      <td>NaN</td>\n",
       "      <td>NaN</td>\n",
       "      <td>NaN</td>\n",
       "      <td>Celana Panjang</td>\n",
       "      <td>NaN</td>\n",
       "      <td>NaN</td>\n",
       "    </tr>\n",
       "    <tr>\n",
       "      <th>57</th>\n",
       "      <td>98e66f53-f24f-4238-8c9c-34a0482e22d5</td>\n",
       "      <td>SEARCH</td>\n",
       "      <td>2019-10-02T17:17:08.425431Z</td>\n",
       "      <td>bf6963cd-b681-4763-b796-ce18d3b9004f</td>\n",
       "      <td>MOBILE</td>\n",
       "      <td>NaN</td>\n",
       "      <td>NaN</td>\n",
       "      <td>NaN</td>\n",
       "      <td>NaN</td>\n",
       "      <td>Kaos</td>\n",
       "      <td>NaN</td>\n",
       "      <td>NaN</td>\n",
       "    </tr>\n",
       "    <tr>\n",
       "      <th>59</th>\n",
       "      <td>98e66f53-f24f-4238-8c9c-34a0482e22d5</td>\n",
       "      <td>SEARCH</td>\n",
       "      <td>2019-10-02T21:07:33.425431Z</td>\n",
       "      <td>cf5d38ae-7f44-4166-9cf9-c43fb57b8f3a</td>\n",
       "      <td>MOBILE</td>\n",
       "      <td>NaN</td>\n",
       "      <td>NaN</td>\n",
       "      <td>NaN</td>\n",
       "      <td>NaN</td>\n",
       "      <td>Sepatu</td>\n",
       "      <td>NaN</td>\n",
       "      <td>NaN</td>\n",
       "    </tr>\n",
       "    <tr>\n",
       "      <th>...</th>\n",
       "      <td>...</td>\n",
       "      <td>...</td>\n",
       "      <td>...</td>\n",
       "      <td>...</td>\n",
       "      <td>...</td>\n",
       "      <td>...</td>\n",
       "      <td>...</td>\n",
       "      <td>...</td>\n",
       "      <td>...</td>\n",
       "      <td>...</td>\n",
       "      <td>...</td>\n",
       "      <td>...</td>\n",
       "    </tr>\n",
       "    <tr>\n",
       "      <th>12833585</th>\n",
       "      <td>f38416ce-51f2-46b0-a476-776d8fed1cb0</td>\n",
       "      <td>SEARCH</td>\n",
       "      <td>2021-08-01T08:03:07.737783Z</td>\n",
       "      <td>4e527503-27e3-4cbc-8964-23896c34fa96</td>\n",
       "      <td>WEB</td>\n",
       "      <td>NaN</td>\n",
       "      <td>NaN</td>\n",
       "      <td>NaN</td>\n",
       "      <td>NaN</td>\n",
       "      <td>Sepatu Adidas</td>\n",
       "      <td>NaN</td>\n",
       "      <td>NaN</td>\n",
       "    </tr>\n",
       "    <tr>\n",
       "      <th>12833589</th>\n",
       "      <td>c1ce86f6-858b-4009-af5b-f1483a28d020</td>\n",
       "      <td>SEARCH</td>\n",
       "      <td>2020-09-22T22:44:59.674560Z</td>\n",
       "      <td>cbc4e8e5-aa48-40c6-8e69-07382e1d35bc</td>\n",
       "      <td>WEB</td>\n",
       "      <td>NaN</td>\n",
       "      <td>NaN</td>\n",
       "      <td>NaN</td>\n",
       "      <td>NaN</td>\n",
       "      <td>Barang Bekas</td>\n",
       "      <td>NaN</td>\n",
       "      <td>NaN</td>\n",
       "    </tr>\n",
       "    <tr>\n",
       "      <th>12833593</th>\n",
       "      <td>f5c4bbe0-f977-45bb-af23-6ab524df7777</td>\n",
       "      <td>SEARCH</td>\n",
       "      <td>2022-04-09T21:01:31.132472Z</td>\n",
       "      <td>086302b8-62ba-4ce6-8cdc-9924c92176fc</td>\n",
       "      <td>MOBILE</td>\n",
       "      <td>NaN</td>\n",
       "      <td>NaN</td>\n",
       "      <td>NaN</td>\n",
       "      <td>NaN</td>\n",
       "      <td>Baju</td>\n",
       "      <td>NaN</td>\n",
       "      <td>NaN</td>\n",
       "    </tr>\n",
       "    <tr>\n",
       "      <th>12833597</th>\n",
       "      <td>ad1063b0-a6e5-40a9-aed6-d1b45741e571</td>\n",
       "      <td>SEARCH</td>\n",
       "      <td>2021-06-07T04:37:53.354381Z</td>\n",
       "      <td>4b3b91a5-9bda-44de-87dc-153367071dfc</td>\n",
       "      <td>MOBILE</td>\n",
       "      <td>NaN</td>\n",
       "      <td>NaN</td>\n",
       "      <td>NaN</td>\n",
       "      <td>NaN</td>\n",
       "      <td>Bekas</td>\n",
       "      <td>NaN</td>\n",
       "      <td>NaN</td>\n",
       "    </tr>\n",
       "    <tr>\n",
       "      <th>12833601</th>\n",
       "      <td>64585e37-3fe7-48d7-b79b-ebcb70230eb2</td>\n",
       "      <td>SEARCH</td>\n",
       "      <td>2021-05-05T11:53:12.985835Z</td>\n",
       "      <td>3c60d8bc-b3e1-41fa-a87b-f65a9053856a</td>\n",
       "      <td>MOBILE</td>\n",
       "      <td>NaN</td>\n",
       "      <td>NaN</td>\n",
       "      <td>NaN</td>\n",
       "      <td>NaN</td>\n",
       "      <td>Baju</td>\n",
       "      <td>NaN</td>\n",
       "      <td>NaN</td>\n",
       "    </tr>\n",
       "  </tbody>\n",
       "</table>\n",
       "<p>1173266 rows × 12 columns</p>\n",
       "</div>"
      ],
      "text/plain": [
       "                                    session_id event_name  \\\n",
       "5         7d440441-e67a-4d36-b324-80ffd636d166     SEARCH   \n",
       "22        f7b5cd60-4f87-4b3c-8bde-c7da8930eec2     SEARCH   \n",
       "35        f7b5cd60-4f87-4b3c-8bde-c7da8930eec2     SEARCH   \n",
       "57        98e66f53-f24f-4238-8c9c-34a0482e22d5     SEARCH   \n",
       "59        98e66f53-f24f-4238-8c9c-34a0482e22d5     SEARCH   \n",
       "...                                        ...        ...   \n",
       "12833585  f38416ce-51f2-46b0-a476-776d8fed1cb0     SEARCH   \n",
       "12833589  c1ce86f6-858b-4009-af5b-f1483a28d020     SEARCH   \n",
       "12833593  f5c4bbe0-f977-45bb-af23-6ab524df7777     SEARCH   \n",
       "12833597  ad1063b0-a6e5-40a9-aed6-d1b45741e571     SEARCH   \n",
       "12833601  64585e37-3fe7-48d7-b79b-ebcb70230eb2     SEARCH   \n",
       "\n",
       "                           event_time                              event_id  \\\n",
       "5         2019-09-01T12:07:00.322763Z  c952142b-4fe9-4694-ad7f-21a5d1bed9ca   \n",
       "22        2019-09-09T05:06:26.425431Z  65ad97d0-9207-447e-b09d-fcc00a569824   \n",
       "35        2019-09-09T08:50:27.425431Z  a2e93548-18b5-4a79-b74f-42bbc0cf0fbd   \n",
       "57        2019-10-02T17:17:08.425431Z  bf6963cd-b681-4763-b796-ce18d3b9004f   \n",
       "59        2019-10-02T21:07:33.425431Z  cf5d38ae-7f44-4166-9cf9-c43fb57b8f3a   \n",
       "...                               ...                                   ...   \n",
       "12833585  2021-08-01T08:03:07.737783Z  4e527503-27e3-4cbc-8964-23896c34fa96   \n",
       "12833589  2020-09-22T22:44:59.674560Z  cbc4e8e5-aa48-40c6-8e69-07382e1d35bc   \n",
       "12833593  2022-04-09T21:01:31.132472Z  086302b8-62ba-4ce6-8cdc-9924c92176fc   \n",
       "12833597  2021-06-07T04:37:53.354381Z  4b3b91a5-9bda-44de-87dc-153367071dfc   \n",
       "12833601  2021-05-05T11:53:12.985835Z  3c60d8bc-b3e1-41fa-a87b-f65a9053856a   \n",
       "\n",
       "         traffic_source  product_id  quantity  item_price payment_status  \\\n",
       "5                MOBILE         NaN       NaN         NaN            NaN   \n",
       "22               MOBILE         NaN       NaN         NaN            NaN   \n",
       "35               MOBILE         NaN       NaN         NaN            NaN   \n",
       "57               MOBILE         NaN       NaN         NaN            NaN   \n",
       "59               MOBILE         NaN       NaN         NaN            NaN   \n",
       "...                 ...         ...       ...         ...            ...   \n",
       "12833585            WEB         NaN       NaN         NaN            NaN   \n",
       "12833589            WEB         NaN       NaN         NaN            NaN   \n",
       "12833593         MOBILE         NaN       NaN         NaN            NaN   \n",
       "12833597         MOBILE         NaN       NaN         NaN            NaN   \n",
       "12833601         MOBILE         NaN       NaN         NaN            NaN   \n",
       "\n",
       "          search_keywords promo_code  promo_amount  \n",
       "5         Dress Kondangan        NaN           NaN  \n",
       "22             Tas Wanita        NaN           NaN  \n",
       "35         Celana Panjang        NaN           NaN  \n",
       "57                   Kaos        NaN           NaN  \n",
       "59                 Sepatu        NaN           NaN  \n",
       "...                   ...        ...           ...  \n",
       "12833585    Sepatu Adidas        NaN           NaN  \n",
       "12833589     Barang Bekas        NaN           NaN  \n",
       "12833593             Baju        NaN           NaN  \n",
       "12833597            Bekas        NaN           NaN  \n",
       "12833601             Baju        NaN           NaN  \n",
       "\n",
       "[1173266 rows x 12 columns]"
      ]
     },
     "execution_count": 35,
     "metadata": {},
     "output_type": "execute_result"
    }
   ],
   "source": [
    "click[click['event_name'] == 'SEARCH']"
   ]
  }
 ],
 "metadata": {
  "kernelspec": {
   "display_name": "Python 3",
   "language": "python",
   "name": "python3"
  },
  "language_info": {
   "codemirror_mode": {
    "name": "ipython",
    "version": 3
   },
   "file_extension": ".py",
   "mimetype": "text/x-python",
   "name": "python",
   "nbconvert_exporter": "python",
   "pygments_lexer": "ipython3",
   "version": "3.7.12"
  },
  "papermill": {
   "default_parameters": {},
   "duration": 264.246066,
   "end_time": "2022-10-22T17:18:04.079387",
   "environment_variables": {},
   "exception": null,
   "input_path": "__notebook__.ipynb",
   "output_path": "__notebook__.ipynb",
   "parameters": {},
   "start_time": "2022-10-22T17:13:39.833321",
   "version": "2.3.4"
  }
 },
 "nbformat": 4,
 "nbformat_minor": 5
}
