{
 "cells": [
  {
   "cell_type": "markdown",
   "id": "43ba4334",
   "metadata": {
    "papermill": {
     "duration": 0.014458,
     "end_time": "2022-10-23T15:26:09.404941",
     "exception": false,
     "start_time": "2022-10-23T15:26:09.390483",
     "status": "completed"
    },
    "tags": []
   },
   "source": [
    "# Import Library"
   ]
  },
  {
   "cell_type": "code",
   "execution_count": 1,
   "id": "ab16e93b",
   "metadata": {
    "execution": {
     "iopub.execute_input": "2022-10-23T15:26:09.434394Z",
     "iopub.status.busy": "2022-10-23T15:26:09.433607Z",
     "iopub.status.idle": "2022-10-23T15:26:10.635352Z",
     "shell.execute_reply": "2022-10-23T15:26:10.634085Z"
    },
    "papermill": {
     "duration": 1.220714,
     "end_time": "2022-10-23T15:26:10.638253",
     "exception": false,
     "start_time": "2022-10-23T15:26:09.417539",
     "status": "completed"
    },
    "tags": []
   },
   "outputs": [],
   "source": [
    "import numpy as np\n",
    "import pandas as pd\n",
    "import matplotlib.pyplot as plt\n",
    "import seaborn as sns\n",
    "plt.style.use('fivethirtyeight')\n",
    "import warnings\n",
    "warnings.filterwarnings('ignore')\n",
    "%matplotlib inline\n",
    "import ast"
   ]
  },
  {
   "cell_type": "markdown",
   "id": "9cea4e1a",
   "metadata": {
    "papermill": {
     "duration": 0.013079,
     "end_time": "2022-10-23T15:26:10.664333",
     "exception": false,
     "start_time": "2022-10-23T15:26:10.651254",
     "status": "completed"
    },
    "tags": []
   },
   "source": [
    "# Read Data "
   ]
  },
  {
   "cell_type": "code",
   "execution_count": 2,
   "id": "ec78a86d",
   "metadata": {
    "execution": {
     "iopub.execute_input": "2022-10-23T15:26:10.693315Z",
     "iopub.status.busy": "2022-10-23T15:26:10.692544Z",
     "iopub.status.idle": "2022-10-23T15:27:17.657306Z",
     "shell.execute_reply": "2022-10-23T15:27:17.656044Z"
    },
    "papermill": {
     "duration": 66.982731,
     "end_time": "2022-10-23T15:27:17.660241",
     "exception": false,
     "start_time": "2022-10-23T15:26:10.677510",
     "status": "completed"
    },
    "tags": []
   },
   "outputs": [],
   "source": [
    "click = pd.read_csv('../input/fashion-campus/click_stream.csv')\n",
    "cust = pd.read_csv('../input/fashion-campus/customer.csv')\n",
    "product = pd.read_csv('../input/fashion-campus/product.csv', on_bad_lines='skip')\n",
    "trans = pd.read_csv('../input/fashion-campus/transactions.csv')"
   ]
  },
  {
   "cell_type": "markdown",
   "id": "4832e7bf",
   "metadata": {
    "papermill": {
     "duration": 0.012094,
     "end_time": "2022-10-23T15:27:17.685115",
     "exception": false,
     "start_time": "2022-10-23T15:27:17.673021",
     "status": "completed"
    },
    "tags": []
   },
   "source": [
    "# Cek Data Transaksi dan Click Stream Booking"
   ]
  },
  {
   "cell_type": "code",
   "execution_count": 3,
   "id": "f69854e6",
   "metadata": {
    "execution": {
     "iopub.execute_input": "2022-10-23T15:27:17.711599Z",
     "iopub.status.busy": "2022-10-23T15:27:17.711165Z",
     "iopub.status.idle": "2022-10-23T15:27:18.821932Z",
     "shell.execute_reply": "2022-10-23T15:27:18.820586Z"
    },
    "papermill": {
     "duration": 1.127516,
     "end_time": "2022-10-23T15:27:18.824858",
     "exception": false,
     "start_time": "2022-10-23T15:27:17.697342",
     "status": "completed"
    },
    "tags": []
   },
   "outputs": [],
   "source": [
    "ses_book = click[click['event_name'] == 'BOOKING']"
   ]
  },
  {
   "cell_type": "code",
   "execution_count": 4,
   "id": "be563641",
   "metadata": {
    "execution": {
     "iopub.execute_input": "2022-10-23T15:27:18.851846Z",
     "iopub.status.busy": "2022-10-23T15:27:18.851268Z",
     "iopub.status.idle": "2022-10-23T15:27:20.997396Z",
     "shell.execute_reply": "2022-10-23T15:27:20.996396Z"
    },
    "papermill": {
     "duration": 2.16259,
     "end_time": "2022-10-23T15:27:20.999991",
     "exception": false,
     "start_time": "2022-10-23T15:27:18.837401",
     "status": "completed"
    },
    "tags": []
   },
   "outputs": [],
   "source": [
    "trans_book = trans[['booking_id','session_id']].merge(ses_book, on='session_id', how='left', indicator=True)"
   ]
  },
  {
   "cell_type": "code",
   "execution_count": 5,
   "id": "af89ef78",
   "metadata": {
    "execution": {
     "iopub.execute_input": "2022-10-23T15:27:21.027626Z",
     "iopub.status.busy": "2022-10-23T15:27:21.027184Z",
     "iopub.status.idle": "2022-10-23T15:27:21.050692Z",
     "shell.execute_reply": "2022-10-23T15:27:21.049810Z"
    },
    "papermill": {
     "duration": 0.040796,
     "end_time": "2022-10-23T15:27:21.053299",
     "exception": false,
     "start_time": "2022-10-23T15:27:21.012503",
     "status": "completed"
    },
    "tags": []
   },
   "outputs": [
    {
     "data": {
      "text/html": [
       "<div>\n",
       "<style scoped>\n",
       "    .dataframe tbody tr th:only-of-type {\n",
       "        vertical-align: middle;\n",
       "    }\n",
       "\n",
       "    .dataframe tbody tr th {\n",
       "        vertical-align: top;\n",
       "    }\n",
       "\n",
       "    .dataframe thead th {\n",
       "        text-align: right;\n",
       "    }\n",
       "</style>\n",
       "<table border=\"1\" class=\"dataframe\">\n",
       "  <thead>\n",
       "    <tr style=\"text-align: right;\">\n",
       "      <th></th>\n",
       "      <th>booking_id</th>\n",
       "      <th>session_id</th>\n",
       "      <th>event_name</th>\n",
       "      <th>event_time</th>\n",
       "      <th>event_id</th>\n",
       "      <th>traffic_source</th>\n",
       "      <th>event_metadata</th>\n",
       "      <th>_merge</th>\n",
       "    </tr>\n",
       "  </thead>\n",
       "  <tbody>\n",
       "    <tr>\n",
       "      <th>0</th>\n",
       "      <td>186e2bee-0637-4710-8981-50c2d737bc42</td>\n",
       "      <td>3abaa6ce-e320-4e51-9469-d9f3fa328e86</td>\n",
       "      <td>BOOKING</td>\n",
       "      <td>2018-07-29T15:22:01.458193Z</td>\n",
       "      <td>74a81855-2725-42f8-968d-9a142316745d</td>\n",
       "      <td>WEB</td>\n",
       "      <td>{'payment_status': 'Success'}</td>\n",
       "      <td>both</td>\n",
       "    </tr>\n",
       "    <tr>\n",
       "      <th>1</th>\n",
       "      <td>caadb57b-e808-4f94-9e96-8a7d4c9898db</td>\n",
       "      <td>2ee5ead1-f13e-4759-92df-7ff48475e970</td>\n",
       "      <td>BOOKING</td>\n",
       "      <td>2018-07-30T12:40:22.365620Z</td>\n",
       "      <td>ace20e22-053f-416c-987f-7d9599c30353</td>\n",
       "      <td>MOBILE</td>\n",
       "      <td>{'payment_status': 'Success'}</td>\n",
       "      <td>both</td>\n",
       "    </tr>\n",
       "    <tr>\n",
       "      <th>2</th>\n",
       "      <td>6000fffb-9c1a-4f4a-9296-bc8f6b622b50</td>\n",
       "      <td>93325fb6-eb00-4268-bb0e-6471795a0ad0</td>\n",
       "      <td>BOOKING</td>\n",
       "      <td>2018-09-15T11:51:17.365620Z</td>\n",
       "      <td>8dd15a94-e987-4bdf-a9c9-9a5d2072e8a5</td>\n",
       "      <td>MOBILE</td>\n",
       "      <td>{'payment_status': 'Success'}</td>\n",
       "      <td>both</td>\n",
       "    </tr>\n",
       "    <tr>\n",
       "      <th>3</th>\n",
       "      <td>f5e530a7-4350-4cd1-a3bc-525b5037bcab</td>\n",
       "      <td>bcad5a61-1b67-448d-8ff4-781d67bc56e4</td>\n",
       "      <td>BOOKING</td>\n",
       "      <td>2018-11-01T11:23:48.365620Z</td>\n",
       "      <td>e44648d8-be8c-47ac-ab38-ba67cfb03d11</td>\n",
       "      <td>MOBILE</td>\n",
       "      <td>{'payment_status': 'Success'}</td>\n",
       "      <td>both</td>\n",
       "    </tr>\n",
       "    <tr>\n",
       "      <th>4</th>\n",
       "      <td>0efc0594-dbbf-4f9a-b0b0-a488cfddf8a2</td>\n",
       "      <td>df1042ab-13e6-4072-b9d2-64a81974c51a</td>\n",
       "      <td>BOOKING</td>\n",
       "      <td>2018-12-18T11:20:30.365620Z</td>\n",
       "      <td>4db72e33-b40f-4f5e-a9dc-b60caa989b37</td>\n",
       "      <td>MOBILE</td>\n",
       "      <td>{'payment_status': 'Success'}</td>\n",
       "      <td>both</td>\n",
       "    </tr>\n",
       "  </tbody>\n",
       "</table>\n",
       "</div>"
      ],
      "text/plain": [
       "                             booking_id                            session_id  \\\n",
       "0  186e2bee-0637-4710-8981-50c2d737bc42  3abaa6ce-e320-4e51-9469-d9f3fa328e86   \n",
       "1  caadb57b-e808-4f94-9e96-8a7d4c9898db  2ee5ead1-f13e-4759-92df-7ff48475e970   \n",
       "2  6000fffb-9c1a-4f4a-9296-bc8f6b622b50  93325fb6-eb00-4268-bb0e-6471795a0ad0   \n",
       "3  f5e530a7-4350-4cd1-a3bc-525b5037bcab  bcad5a61-1b67-448d-8ff4-781d67bc56e4   \n",
       "4  0efc0594-dbbf-4f9a-b0b0-a488cfddf8a2  df1042ab-13e6-4072-b9d2-64a81974c51a   \n",
       "\n",
       "  event_name                   event_time  \\\n",
       "0    BOOKING  2018-07-29T15:22:01.458193Z   \n",
       "1    BOOKING  2018-07-30T12:40:22.365620Z   \n",
       "2    BOOKING  2018-09-15T11:51:17.365620Z   \n",
       "3    BOOKING  2018-11-01T11:23:48.365620Z   \n",
       "4    BOOKING  2018-12-18T11:20:30.365620Z   \n",
       "\n",
       "                               event_id traffic_source  \\\n",
       "0  74a81855-2725-42f8-968d-9a142316745d            WEB   \n",
       "1  ace20e22-053f-416c-987f-7d9599c30353         MOBILE   \n",
       "2  8dd15a94-e987-4bdf-a9c9-9a5d2072e8a5         MOBILE   \n",
       "3  e44648d8-be8c-47ac-ab38-ba67cfb03d11         MOBILE   \n",
       "4  4db72e33-b40f-4f5e-a9dc-b60caa989b37         MOBILE   \n",
       "\n",
       "                  event_metadata _merge  \n",
       "0  {'payment_status': 'Success'}   both  \n",
       "1  {'payment_status': 'Success'}   both  \n",
       "2  {'payment_status': 'Success'}   both  \n",
       "3  {'payment_status': 'Success'}   both  \n",
       "4  {'payment_status': 'Success'}   both  "
      ]
     },
     "execution_count": 5,
     "metadata": {},
     "output_type": "execute_result"
    }
   ],
   "source": [
    "trans_book.head()"
   ]
  },
  {
   "cell_type": "code",
   "execution_count": 6,
   "id": "0a16d8fa",
   "metadata": {
    "execution": {
     "iopub.execute_input": "2022-10-23T15:27:21.081017Z",
     "iopub.status.busy": "2022-10-23T15:27:21.080319Z",
     "iopub.status.idle": "2022-10-23T15:27:21.095005Z",
     "shell.execute_reply": "2022-10-23T15:27:21.094122Z"
    },
    "papermill": {
     "duration": 0.031128,
     "end_time": "2022-10-23T15:27:21.097215",
     "exception": false,
     "start_time": "2022-10-23T15:27:21.066087",
     "status": "completed"
    },
    "tags": []
   },
   "outputs": [
    {
     "data": {
      "text/html": [
       "<div>\n",
       "<style scoped>\n",
       "    .dataframe tbody tr th:only-of-type {\n",
       "        vertical-align: middle;\n",
       "    }\n",
       "\n",
       "    .dataframe tbody tr th {\n",
       "        vertical-align: top;\n",
       "    }\n",
       "\n",
       "    .dataframe thead th {\n",
       "        text-align: right;\n",
       "    }\n",
       "</style>\n",
       "<table border=\"1\" class=\"dataframe\">\n",
       "  <thead>\n",
       "    <tr style=\"text-align: right;\">\n",
       "      <th></th>\n",
       "      <th>booking_id</th>\n",
       "      <th>session_id</th>\n",
       "      <th>event_name</th>\n",
       "      <th>event_time</th>\n",
       "      <th>event_id</th>\n",
       "      <th>traffic_source</th>\n",
       "      <th>event_metadata</th>\n",
       "      <th>_merge</th>\n",
       "    </tr>\n",
       "  </thead>\n",
       "  <tbody>\n",
       "    <tr>\n",
       "      <th>848700</th>\n",
       "      <td>9dd7ca0b-0c84-473b-8c2d-2998358b4782</td>\n",
       "      <td>a00f6bc1-87a4-4a03-84b9-3cf9874f1613</td>\n",
       "      <td>NaN</td>\n",
       "      <td>NaN</td>\n",
       "      <td>NaN</td>\n",
       "      <td>NaN</td>\n",
       "      <td>NaN</td>\n",
       "      <td>left_only</td>\n",
       "    </tr>\n",
       "    <tr>\n",
       "      <th>848701</th>\n",
       "      <td>24793e46-d2d6-4b21-8223-4d721a133a85</td>\n",
       "      <td>72dc1452-68fe-439b-bf4b-e3050597bba5</td>\n",
       "      <td>NaN</td>\n",
       "      <td>NaN</td>\n",
       "      <td>NaN</td>\n",
       "      <td>NaN</td>\n",
       "      <td>NaN</td>\n",
       "      <td>left_only</td>\n",
       "    </tr>\n",
       "  </tbody>\n",
       "</table>\n",
       "</div>"
      ],
      "text/plain": [
       "                                  booking_id  \\\n",
       "848700  9dd7ca0b-0c84-473b-8c2d-2998358b4782   \n",
       "848701  24793e46-d2d6-4b21-8223-4d721a133a85   \n",
       "\n",
       "                                  session_id event_name event_time event_id  \\\n",
       "848700  a00f6bc1-87a4-4a03-84b9-3cf9874f1613        NaN        NaN      NaN   \n",
       "848701  72dc1452-68fe-439b-bf4b-e3050597bba5        NaN        NaN      NaN   \n",
       "\n",
       "       traffic_source event_metadata     _merge  \n",
       "848700            NaN            NaN  left_only  \n",
       "848701            NaN            NaN  left_only  "
      ]
     },
     "execution_count": 6,
     "metadata": {},
     "output_type": "execute_result"
    }
   ],
   "source": [
    "trans_book[trans_book['_merge'] == 'left_only']"
   ]
  },
  {
   "cell_type": "markdown",
   "id": "a7f5f4ea",
   "metadata": {
    "papermill": {
     "duration": 0.013289,
     "end_time": "2022-10-23T15:27:21.123687",
     "exception": false,
     "start_time": "2022-10-23T15:27:21.110398",
     "status": "completed"
    },
    "tags": []
   },
   "source": [
    "terdapat 2 data transaksi yang event_name nya bukan BOOKING, padahal dia punya booking_id, mari kita cari tahu apa event_namenya"
   ]
  },
  {
   "cell_type": "code",
   "execution_count": 7,
   "id": "c5ad90e1",
   "metadata": {
    "execution": {
     "iopub.execute_input": "2022-10-23T15:27:21.151393Z",
     "iopub.status.busy": "2022-10-23T15:27:21.150670Z",
     "iopub.status.idle": "2022-10-23T15:27:22.000461Z",
     "shell.execute_reply": "2022-10-23T15:27:21.999140Z"
    },
    "papermill": {
     "duration": 0.866625,
     "end_time": "2022-10-23T15:27:22.003129",
     "exception": false,
     "start_time": "2022-10-23T15:27:21.136504",
     "status": "completed"
    },
    "tags": []
   },
   "outputs": [
    {
     "data": {
      "text/html": [
       "<div>\n",
       "<style scoped>\n",
       "    .dataframe tbody tr th:only-of-type {\n",
       "        vertical-align: middle;\n",
       "    }\n",
       "\n",
       "    .dataframe tbody tr th {\n",
       "        vertical-align: top;\n",
       "    }\n",
       "\n",
       "    .dataframe thead th {\n",
       "        text-align: right;\n",
       "    }\n",
       "</style>\n",
       "<table border=\"1\" class=\"dataframe\">\n",
       "  <thead>\n",
       "    <tr style=\"text-align: right;\">\n",
       "      <th></th>\n",
       "      <th>session_id</th>\n",
       "      <th>event_name</th>\n",
       "      <th>event_metadata</th>\n",
       "    </tr>\n",
       "  </thead>\n",
       "  <tbody>\n",
       "  </tbody>\n",
       "</table>\n",
       "</div>"
      ],
      "text/plain": [
       "Empty DataFrame\n",
       "Columns: [session_id, event_name, event_metadata]\n",
       "Index: []"
      ]
     },
     "execution_count": 7,
     "metadata": {},
     "output_type": "execute_result"
    }
   ],
   "source": [
    "click[click['session_id'] == 'a00f6bc1-87a4-4a03-84b9-3cf9874f1613'][['session_id','event_name','event_metadata']]"
   ]
  },
  {
   "cell_type": "code",
   "execution_count": 8,
   "id": "f748eb6b",
   "metadata": {
    "execution": {
     "iopub.execute_input": "2022-10-23T15:27:22.031403Z",
     "iopub.status.busy": "2022-10-23T15:27:22.030952Z",
     "iopub.status.idle": "2022-10-23T15:27:22.877479Z",
     "shell.execute_reply": "2022-10-23T15:27:22.876335Z"
    },
    "papermill": {
     "duration": 0.864277,
     "end_time": "2022-10-23T15:27:22.880544",
     "exception": false,
     "start_time": "2022-10-23T15:27:22.016267",
     "status": "completed"
    },
    "tags": []
   },
   "outputs": [
    {
     "data": {
      "text/html": [
       "<div>\n",
       "<style scoped>\n",
       "    .dataframe tbody tr th:only-of-type {\n",
       "        vertical-align: middle;\n",
       "    }\n",
       "\n",
       "    .dataframe tbody tr th {\n",
       "        vertical-align: top;\n",
       "    }\n",
       "\n",
       "    .dataframe thead th {\n",
       "        text-align: right;\n",
       "    }\n",
       "</style>\n",
       "<table border=\"1\" class=\"dataframe\">\n",
       "  <thead>\n",
       "    <tr style=\"text-align: right;\">\n",
       "      <th></th>\n",
       "      <th>session_id</th>\n",
       "      <th>event_name</th>\n",
       "      <th>event_metadata</th>\n",
       "    </tr>\n",
       "  </thead>\n",
       "  <tbody>\n",
       "  </tbody>\n",
       "</table>\n",
       "</div>"
      ],
      "text/plain": [
       "Empty DataFrame\n",
       "Columns: [session_id, event_name, event_metadata]\n",
       "Index: []"
      ]
     },
     "execution_count": 8,
     "metadata": {},
     "output_type": "execute_result"
    }
   ],
   "source": [
    "click[click['session_id'] == '72dc1452-68fe-439b-bf4b-e3050597bba5'][['session_id','event_name','event_metadata']]"
   ]
  },
  {
   "cell_type": "markdown",
   "id": "7ce2261d",
   "metadata": {
    "papermill": {
     "duration": 0.015036,
     "end_time": "2022-10-23T15:27:22.910443",
     "exception": false,
     "start_time": "2022-10-23T15:27:22.895407",
     "status": "completed"
    },
    "tags": []
   },
   "source": [
    "ternyata dia gadaa data session_id dan click_streamnya? HOW CAN?! mari kita lihat data lain yang punya event_name BOOKING"
   ]
  },
  {
   "cell_type": "code",
   "execution_count": 9,
   "id": "c234f584",
   "metadata": {
    "execution": {
     "iopub.execute_input": "2022-10-23T15:27:22.940651Z",
     "iopub.status.busy": "2022-10-23T15:27:22.939649Z",
     "iopub.status.idle": "2022-10-23T15:27:23.796610Z",
     "shell.execute_reply": "2022-10-23T15:27:23.795448Z"
    },
    "papermill": {
     "duration": 0.874263,
     "end_time": "2022-10-23T15:27:23.799250",
     "exception": false,
     "start_time": "2022-10-23T15:27:22.924987",
     "status": "completed"
    },
    "tags": []
   },
   "outputs": [
    {
     "data": {
      "text/html": [
       "<div>\n",
       "<style scoped>\n",
       "    .dataframe tbody tr th:only-of-type {\n",
       "        vertical-align: middle;\n",
       "    }\n",
       "\n",
       "    .dataframe tbody tr th {\n",
       "        vertical-align: top;\n",
       "    }\n",
       "\n",
       "    .dataframe thead th {\n",
       "        text-align: right;\n",
       "    }\n",
       "</style>\n",
       "<table border=\"1\" class=\"dataframe\">\n",
       "  <thead>\n",
       "    <tr style=\"text-align: right;\">\n",
       "      <th></th>\n",
       "      <th>session_id</th>\n",
       "      <th>event_name</th>\n",
       "      <th>event_metadata</th>\n",
       "    </tr>\n",
       "  </thead>\n",
       "  <tbody>\n",
       "    <tr>\n",
       "      <th>12609138</th>\n",
       "      <td>3abaa6ce-e320-4e51-9469-d9f3fa328e86</td>\n",
       "      <td>HOMEPAGE</td>\n",
       "      <td>NaN</td>\n",
       "    </tr>\n",
       "    <tr>\n",
       "      <th>12609139</th>\n",
       "      <td>3abaa6ce-e320-4e51-9469-d9f3fa328e86</td>\n",
       "      <td>ADD_TO_CART</td>\n",
       "      <td>{'product_id': 54728, 'quantity': 1, 'item_pri...</td>\n",
       "    </tr>\n",
       "    <tr>\n",
       "      <th>12609140</th>\n",
       "      <td>3abaa6ce-e320-4e51-9469-d9f3fa328e86</td>\n",
       "      <td>ADD_PROMO</td>\n",
       "      <td>{'promo_code': 'WEEKENDSERU', 'promo_amount': ...</td>\n",
       "    </tr>\n",
       "    <tr>\n",
       "      <th>12609141</th>\n",
       "      <td>3abaa6ce-e320-4e51-9469-d9f3fa328e86</td>\n",
       "      <td>BOOKING</td>\n",
       "      <td>{'payment_status': 'Success'}</td>\n",
       "    </tr>\n",
       "    <tr>\n",
       "      <th>12609142</th>\n",
       "      <td>3abaa6ce-e320-4e51-9469-d9f3fa328e86</td>\n",
       "      <td>CLICK</td>\n",
       "      <td>NaN</td>\n",
       "    </tr>\n",
       "    <tr>\n",
       "      <th>12609143</th>\n",
       "      <td>3abaa6ce-e320-4e51-9469-d9f3fa328e86</td>\n",
       "      <td>CLICK</td>\n",
       "      <td>NaN</td>\n",
       "    </tr>\n",
       "    <tr>\n",
       "      <th>12609144</th>\n",
       "      <td>3abaa6ce-e320-4e51-9469-d9f3fa328e86</td>\n",
       "      <td>PROMO_PAGE</td>\n",
       "      <td>NaN</td>\n",
       "    </tr>\n",
       "    <tr>\n",
       "      <th>12609145</th>\n",
       "      <td>3abaa6ce-e320-4e51-9469-d9f3fa328e86</td>\n",
       "      <td>HOMEPAGE</td>\n",
       "      <td>NaN</td>\n",
       "    </tr>\n",
       "    <tr>\n",
       "      <th>12609146</th>\n",
       "      <td>3abaa6ce-e320-4e51-9469-d9f3fa328e86</td>\n",
       "      <td>PROMO_PAGE</td>\n",
       "      <td>NaN</td>\n",
       "    </tr>\n",
       "    <tr>\n",
       "      <th>12609147</th>\n",
       "      <td>3abaa6ce-e320-4e51-9469-d9f3fa328e86</td>\n",
       "      <td>ADD_TO_CART</td>\n",
       "      <td>{'product_id': 43341, 'quantity': 1, 'item_pri...</td>\n",
       "    </tr>\n",
       "    <tr>\n",
       "      <th>12609148</th>\n",
       "      <td>3abaa6ce-e320-4e51-9469-d9f3fa328e86</td>\n",
       "      <td>CLICK</td>\n",
       "      <td>NaN</td>\n",
       "    </tr>\n",
       "    <tr>\n",
       "      <th>12609149</th>\n",
       "      <td>3abaa6ce-e320-4e51-9469-d9f3fa328e86</td>\n",
       "      <td>ADD_TO_CART</td>\n",
       "      <td>{'product_id': 4282, 'quantity': 1, 'item_pric...</td>\n",
       "    </tr>\n",
       "    <tr>\n",
       "      <th>12609150</th>\n",
       "      <td>3abaa6ce-e320-4e51-9469-d9f3fa328e86</td>\n",
       "      <td>CLICK</td>\n",
       "      <td>NaN</td>\n",
       "    </tr>\n",
       "    <tr>\n",
       "      <th>12609151</th>\n",
       "      <td>3abaa6ce-e320-4e51-9469-d9f3fa328e86</td>\n",
       "      <td>PROMO_PAGE</td>\n",
       "      <td>NaN</td>\n",
       "    </tr>\n",
       "    <tr>\n",
       "      <th>12609152</th>\n",
       "      <td>3abaa6ce-e320-4e51-9469-d9f3fa328e86</td>\n",
       "      <td>CLICK</td>\n",
       "      <td>NaN</td>\n",
       "    </tr>\n",
       "    <tr>\n",
       "      <th>12609153</th>\n",
       "      <td>3abaa6ce-e320-4e51-9469-d9f3fa328e86</td>\n",
       "      <td>PROMO_PAGE</td>\n",
       "      <td>NaN</td>\n",
       "    </tr>\n",
       "    <tr>\n",
       "      <th>12609154</th>\n",
       "      <td>3abaa6ce-e320-4e51-9469-d9f3fa328e86</td>\n",
       "      <td>SEARCH</td>\n",
       "      <td>{'search_keywords': 'Barang Bekas'}</td>\n",
       "    </tr>\n",
       "    <tr>\n",
       "      <th>12609155</th>\n",
       "      <td>3abaa6ce-e320-4e51-9469-d9f3fa328e86</td>\n",
       "      <td>HOMEPAGE</td>\n",
       "      <td>NaN</td>\n",
       "    </tr>\n",
       "    <tr>\n",
       "      <th>12609156</th>\n",
       "      <td>3abaa6ce-e320-4e51-9469-d9f3fa328e86</td>\n",
       "      <td>CLICK</td>\n",
       "      <td>NaN</td>\n",
       "    </tr>\n",
       "    <tr>\n",
       "      <th>12609157</th>\n",
       "      <td>3abaa6ce-e320-4e51-9469-d9f3fa328e86</td>\n",
       "      <td>ITEM_DETAIL</td>\n",
       "      <td>NaN</td>\n",
       "    </tr>\n",
       "    <tr>\n",
       "      <th>12609158</th>\n",
       "      <td>3abaa6ce-e320-4e51-9469-d9f3fa328e86</td>\n",
       "      <td>ITEM_DETAIL</td>\n",
       "      <td>NaN</td>\n",
       "    </tr>\n",
       "    <tr>\n",
       "      <th>12609159</th>\n",
       "      <td>3abaa6ce-e320-4e51-9469-d9f3fa328e86</td>\n",
       "      <td>ADD_TO_CART</td>\n",
       "      <td>{'product_id': 54538, 'quantity': 1, 'item_pri...</td>\n",
       "    </tr>\n",
       "    <tr>\n",
       "      <th>12609160</th>\n",
       "      <td>3abaa6ce-e320-4e51-9469-d9f3fa328e86</td>\n",
       "      <td>PROMO_PAGE</td>\n",
       "      <td>NaN</td>\n",
       "    </tr>\n",
       "    <tr>\n",
       "      <th>12609161</th>\n",
       "      <td>3abaa6ce-e320-4e51-9469-d9f3fa328e86</td>\n",
       "      <td>CLICK</td>\n",
       "      <td>NaN</td>\n",
       "    </tr>\n",
       "    <tr>\n",
       "      <th>12609162</th>\n",
       "      <td>3abaa6ce-e320-4e51-9469-d9f3fa328e86</td>\n",
       "      <td>HOMEPAGE</td>\n",
       "      <td>NaN</td>\n",
       "    </tr>\n",
       "  </tbody>\n",
       "</table>\n",
       "</div>"
      ],
      "text/plain": [
       "                                    session_id   event_name  \\\n",
       "12609138  3abaa6ce-e320-4e51-9469-d9f3fa328e86     HOMEPAGE   \n",
       "12609139  3abaa6ce-e320-4e51-9469-d9f3fa328e86  ADD_TO_CART   \n",
       "12609140  3abaa6ce-e320-4e51-9469-d9f3fa328e86    ADD_PROMO   \n",
       "12609141  3abaa6ce-e320-4e51-9469-d9f3fa328e86      BOOKING   \n",
       "12609142  3abaa6ce-e320-4e51-9469-d9f3fa328e86        CLICK   \n",
       "12609143  3abaa6ce-e320-4e51-9469-d9f3fa328e86        CLICK   \n",
       "12609144  3abaa6ce-e320-4e51-9469-d9f3fa328e86   PROMO_PAGE   \n",
       "12609145  3abaa6ce-e320-4e51-9469-d9f3fa328e86     HOMEPAGE   \n",
       "12609146  3abaa6ce-e320-4e51-9469-d9f3fa328e86   PROMO_PAGE   \n",
       "12609147  3abaa6ce-e320-4e51-9469-d9f3fa328e86  ADD_TO_CART   \n",
       "12609148  3abaa6ce-e320-4e51-9469-d9f3fa328e86        CLICK   \n",
       "12609149  3abaa6ce-e320-4e51-9469-d9f3fa328e86  ADD_TO_CART   \n",
       "12609150  3abaa6ce-e320-4e51-9469-d9f3fa328e86        CLICK   \n",
       "12609151  3abaa6ce-e320-4e51-9469-d9f3fa328e86   PROMO_PAGE   \n",
       "12609152  3abaa6ce-e320-4e51-9469-d9f3fa328e86        CLICK   \n",
       "12609153  3abaa6ce-e320-4e51-9469-d9f3fa328e86   PROMO_PAGE   \n",
       "12609154  3abaa6ce-e320-4e51-9469-d9f3fa328e86       SEARCH   \n",
       "12609155  3abaa6ce-e320-4e51-9469-d9f3fa328e86     HOMEPAGE   \n",
       "12609156  3abaa6ce-e320-4e51-9469-d9f3fa328e86        CLICK   \n",
       "12609157  3abaa6ce-e320-4e51-9469-d9f3fa328e86  ITEM_DETAIL   \n",
       "12609158  3abaa6ce-e320-4e51-9469-d9f3fa328e86  ITEM_DETAIL   \n",
       "12609159  3abaa6ce-e320-4e51-9469-d9f3fa328e86  ADD_TO_CART   \n",
       "12609160  3abaa6ce-e320-4e51-9469-d9f3fa328e86   PROMO_PAGE   \n",
       "12609161  3abaa6ce-e320-4e51-9469-d9f3fa328e86        CLICK   \n",
       "12609162  3abaa6ce-e320-4e51-9469-d9f3fa328e86     HOMEPAGE   \n",
       "\n",
       "                                             event_metadata  \n",
       "12609138                                                NaN  \n",
       "12609139  {'product_id': 54728, 'quantity': 1, 'item_pri...  \n",
       "12609140  {'promo_code': 'WEEKENDSERU', 'promo_amount': ...  \n",
       "12609141                      {'payment_status': 'Success'}  \n",
       "12609142                                                NaN  \n",
       "12609143                                                NaN  \n",
       "12609144                                                NaN  \n",
       "12609145                                                NaN  \n",
       "12609146                                                NaN  \n",
       "12609147  {'product_id': 43341, 'quantity': 1, 'item_pri...  \n",
       "12609148                                                NaN  \n",
       "12609149  {'product_id': 4282, 'quantity': 1, 'item_pric...  \n",
       "12609150                                                NaN  \n",
       "12609151                                                NaN  \n",
       "12609152                                                NaN  \n",
       "12609153                                                NaN  \n",
       "12609154                {'search_keywords': 'Barang Bekas'}  \n",
       "12609155                                                NaN  \n",
       "12609156                                                NaN  \n",
       "12609157                                                NaN  \n",
       "12609158                                                NaN  \n",
       "12609159  {'product_id': 54538, 'quantity': 1, 'item_pri...  \n",
       "12609160                                                NaN  \n",
       "12609161                                                NaN  \n",
       "12609162                                                NaN  "
      ]
     },
     "execution_count": 9,
     "metadata": {},
     "output_type": "execute_result"
    }
   ],
   "source": [
    "click[click['session_id'] == '3abaa6ce-e320-4e51-9469-d9f3fa328e86'][['session_id','event_name','event_metadata']]"
   ]
  },
  {
   "cell_type": "markdown",
   "id": "6e29813b",
   "metadata": {
    "papermill": {
     "duration": 0.013354,
     "end_time": "2022-10-23T15:27:23.827325",
     "exception": false,
     "start_time": "2022-10-23T15:27:23.813971",
     "status": "completed"
    },
    "tags": []
   },
   "source": [
    "ternyata setelah dicek, data id_session yang punya booking_id dan event BOOKING tervalidasi datanya di click_stream. maka 2 data tadi kita drop aja soalnya mungkin itu ada salah input"
   ]
  },
  {
   "cell_type": "code",
   "execution_count": 10,
   "id": "cc1c1aca",
   "metadata": {
    "execution": {
     "iopub.execute_input": "2022-10-23T15:27:23.856400Z",
     "iopub.status.busy": "2022-10-23T15:27:23.855968Z",
     "iopub.status.idle": "2022-10-23T15:27:24.987579Z",
     "shell.execute_reply": "2022-10-23T15:27:24.986427Z"
    },
    "papermill": {
     "duration": 1.149446,
     "end_time": "2022-10-23T15:27:24.990408",
     "exception": false,
     "start_time": "2022-10-23T15:27:23.840962",
     "status": "completed"
    },
    "tags": []
   },
   "outputs": [],
   "source": [
    "transaction_book = trans[['booking_id','session_id']].merge(ses_book, on='session_id', how='inner')"
   ]
  },
  {
   "cell_type": "code",
   "execution_count": 11,
   "id": "40c71562",
   "metadata": {
    "execution": {
     "iopub.execute_input": "2022-10-23T15:27:25.020508Z",
     "iopub.status.busy": "2022-10-23T15:27:25.020071Z",
     "iopub.status.idle": "2022-10-23T15:27:25.027779Z",
     "shell.execute_reply": "2022-10-23T15:27:25.026633Z"
    },
    "papermill": {
     "duration": 0.025492,
     "end_time": "2022-10-23T15:27:25.030477",
     "exception": false,
     "start_time": "2022-10-23T15:27:25.004985",
     "status": "completed"
    },
    "tags": []
   },
   "outputs": [
    {
     "data": {
      "text/plain": [
       "(852582, 7)"
      ]
     },
     "execution_count": 11,
     "metadata": {},
     "output_type": "execute_result"
    }
   ],
   "source": [
    "transaction_book.shape"
   ]
  },
  {
   "cell_type": "markdown",
   "id": "db573582",
   "metadata": {
    "papermill": {
     "duration": 0.014051,
     "end_time": "2022-10-23T15:27:25.058733",
     "exception": false,
     "start_time": "2022-10-23T15:27:25.044682",
     "status": "completed"
    },
    "tags": []
   },
   "source": [
    "# jumlah masing2 event_name tiap session"
   ]
  },
  {
   "cell_type": "code",
   "execution_count": 12,
   "id": "892a0867",
   "metadata": {
    "execution": {
     "iopub.execute_input": "2022-10-23T15:27:25.088922Z",
     "iopub.status.busy": "2022-10-23T15:27:25.088415Z",
     "iopub.status.idle": "2022-10-23T15:27:26.153161Z",
     "shell.execute_reply": "2022-10-23T15:27:26.151835Z"
    },
    "papermill": {
     "duration": 1.082522,
     "end_time": "2022-10-23T15:27:26.155664",
     "exception": false,
     "start_time": "2022-10-23T15:27:25.073142",
     "status": "completed"
    },
    "tags": []
   },
   "outputs": [
    {
     "data": {
      "text/plain": [
       "array(['HOMEPAGE', 'SCROLL', 'ADD_TO_CART', 'BOOKING', 'SEARCH',\n",
       "       'ITEM_DETAIL', 'ADD_PROMO', 'CLICK', 'PROMO_PAGE'], dtype=object)"
      ]
     },
     "execution_count": 12,
     "metadata": {},
     "output_type": "execute_result"
    }
   ],
   "source": [
    "click['event_name'].unique()"
   ]
  },
  {
   "cell_type": "markdown",
   "id": "2880c00c",
   "metadata": {
    "papermill": {
     "duration": 0.013487,
     "end_time": "2022-10-23T15:27:26.182916",
     "exception": false,
     "start_time": "2022-10-23T15:27:26.169429",
     "status": "completed"
    },
    "tags": []
   },
   "source": [
    "ada 9 jenis event: HOMEPAGE, SCROLL, ADD_TO_CART, BOOKING, SEARCH, ITEM_DETAIL, ADD_PROMO, CLICK, PROMO_PAGE"
   ]
  },
  {
   "cell_type": "code",
   "execution_count": 13,
   "id": "b839949c",
   "metadata": {
    "execution": {
     "iopub.execute_input": "2022-10-23T15:27:26.213118Z",
     "iopub.status.busy": "2022-10-23T15:27:26.212690Z",
     "iopub.status.idle": "2022-10-23T15:27:26.219610Z",
     "shell.execute_reply": "2022-10-23T15:27:26.218496Z"
    },
    "papermill": {
     "duration": 0.025281,
     "end_time": "2022-10-23T15:27:26.222100",
     "exception": false,
     "start_time": "2022-10-23T15:27:26.196819",
     "status": "completed"
    },
    "tags": []
   },
   "outputs": [
    {
     "data": {
      "text/plain": [
       "(12833602, 6)"
      ]
     },
     "execution_count": 13,
     "metadata": {},
     "output_type": "execute_result"
    }
   ],
   "source": [
    "click.shape"
   ]
  },
  {
   "cell_type": "code",
   "execution_count": 14,
   "id": "5d5f4230",
   "metadata": {
    "execution": {
     "iopub.execute_input": "2022-10-23T15:27:26.252966Z",
     "iopub.status.busy": "2022-10-23T15:27:26.252169Z",
     "iopub.status.idle": "2022-10-23T15:27:26.266621Z",
     "shell.execute_reply": "2022-10-23T15:27:26.265391Z"
    },
    "papermill": {
     "duration": 0.032521,
     "end_time": "2022-10-23T15:27:26.268741",
     "exception": false,
     "start_time": "2022-10-23T15:27:26.236220",
     "status": "completed"
    },
    "tags": []
   },
   "outputs": [
    {
     "data": {
      "text/html": [
       "<div>\n",
       "<style scoped>\n",
       "    .dataframe tbody tr th:only-of-type {\n",
       "        vertical-align: middle;\n",
       "    }\n",
       "\n",
       "    .dataframe tbody tr th {\n",
       "        vertical-align: top;\n",
       "    }\n",
       "\n",
       "    .dataframe thead th {\n",
       "        text-align: right;\n",
       "    }\n",
       "</style>\n",
       "<table border=\"1\" class=\"dataframe\">\n",
       "  <thead>\n",
       "    <tr style=\"text-align: right;\">\n",
       "      <th></th>\n",
       "      <th>session_id</th>\n",
       "      <th>event_name</th>\n",
       "      <th>event_time</th>\n",
       "      <th>event_id</th>\n",
       "      <th>traffic_source</th>\n",
       "      <th>event_metadata</th>\n",
       "    </tr>\n",
       "  </thead>\n",
       "  <tbody>\n",
       "    <tr>\n",
       "      <th>0</th>\n",
       "      <td>fb0abf9e-fd1a-44dd-b5c0-2834d5a4b81c</td>\n",
       "      <td>HOMEPAGE</td>\n",
       "      <td>2019-09-06T15:54:32.821085Z</td>\n",
       "      <td>9c4388c4-c95b-4678-b5ca-e9cbc0734109</td>\n",
       "      <td>MOBILE</td>\n",
       "      <td>NaN</td>\n",
       "    </tr>\n",
       "    <tr>\n",
       "      <th>1</th>\n",
       "      <td>fb0abf9e-fd1a-44dd-b5c0-2834d5a4b81c</td>\n",
       "      <td>SCROLL</td>\n",
       "      <td>2019-09-06T16:03:57.821085Z</td>\n",
       "      <td>4690e1f5-3f99-42d3-84a5-22c4c4d8500a</td>\n",
       "      <td>MOBILE</td>\n",
       "      <td>NaN</td>\n",
       "    </tr>\n",
       "    <tr>\n",
       "      <th>2</th>\n",
       "      <td>7d440441-e67a-4d36-b324-80ffd636d166</td>\n",
       "      <td>HOMEPAGE</td>\n",
       "      <td>2019-09-01T12:05:10.322763Z</td>\n",
       "      <td>88aeaeb5-ec98-4859-852c-8abb483faf31</td>\n",
       "      <td>MOBILE</td>\n",
       "      <td>NaN</td>\n",
       "    </tr>\n",
       "    <tr>\n",
       "      <th>3</th>\n",
       "      <td>7d440441-e67a-4d36-b324-80ffd636d166</td>\n",
       "      <td>ADD_TO_CART</td>\n",
       "      <td>2019-09-01T12:06:33.322763Z</td>\n",
       "      <td>934e306e-ecc6-472f-9ccb-12c8536910a2</td>\n",
       "      <td>MOBILE</td>\n",
       "      <td>{'product_id': 15315, 'quantity': 4, 'item_pri...</td>\n",
       "    </tr>\n",
       "    <tr>\n",
       "      <th>4</th>\n",
       "      <td>7d440441-e67a-4d36-b324-80ffd636d166</td>\n",
       "      <td>BOOKING</td>\n",
       "      <td>2019-09-01T12:15:29.425431Z</td>\n",
       "      <td>9f4767a1-40fa-4c9c-9524-dfad18634d56</td>\n",
       "      <td>MOBILE</td>\n",
       "      <td>{'payment_status': 'Success'}</td>\n",
       "    </tr>\n",
       "  </tbody>\n",
       "</table>\n",
       "</div>"
      ],
      "text/plain": [
       "                             session_id   event_name  \\\n",
       "0  fb0abf9e-fd1a-44dd-b5c0-2834d5a4b81c     HOMEPAGE   \n",
       "1  fb0abf9e-fd1a-44dd-b5c0-2834d5a4b81c       SCROLL   \n",
       "2  7d440441-e67a-4d36-b324-80ffd636d166     HOMEPAGE   \n",
       "3  7d440441-e67a-4d36-b324-80ffd636d166  ADD_TO_CART   \n",
       "4  7d440441-e67a-4d36-b324-80ffd636d166      BOOKING   \n",
       "\n",
       "                    event_time                              event_id  \\\n",
       "0  2019-09-06T15:54:32.821085Z  9c4388c4-c95b-4678-b5ca-e9cbc0734109   \n",
       "1  2019-09-06T16:03:57.821085Z  4690e1f5-3f99-42d3-84a5-22c4c4d8500a   \n",
       "2  2019-09-01T12:05:10.322763Z  88aeaeb5-ec98-4859-852c-8abb483faf31   \n",
       "3  2019-09-01T12:06:33.322763Z  934e306e-ecc6-472f-9ccb-12c8536910a2   \n",
       "4  2019-09-01T12:15:29.425431Z  9f4767a1-40fa-4c9c-9524-dfad18634d56   \n",
       "\n",
       "  traffic_source                                     event_metadata  \n",
       "0         MOBILE                                                NaN  \n",
       "1         MOBILE                                                NaN  \n",
       "2         MOBILE                                                NaN  \n",
       "3         MOBILE  {'product_id': 15315, 'quantity': 4, 'item_pri...  \n",
       "4         MOBILE                      {'payment_status': 'Success'}  "
      ]
     },
     "execution_count": 14,
     "metadata": {},
     "output_type": "execute_result"
    }
   ],
   "source": [
    "click.head()"
   ]
  },
  {
   "cell_type": "code",
   "execution_count": 15,
   "id": "4cef2ea1",
   "metadata": {
    "execution": {
     "iopub.execute_input": "2022-10-23T15:27:26.299130Z",
     "iopub.status.busy": "2022-10-23T15:27:26.298714Z",
     "iopub.status.idle": "2022-10-23T15:27:27.287061Z",
     "shell.execute_reply": "2022-10-23T15:27:27.285780Z"
    },
    "papermill": {
     "duration": 1.006958,
     "end_time": "2022-10-23T15:27:27.289923",
     "exception": false,
     "start_time": "2022-10-23T15:27:26.282965",
     "status": "completed"
    },
    "tags": []
   },
   "outputs": [
    {
     "data": {
      "text/plain": [
       "3abaa6ce-e320-4e51-9469-d9f3fa328e86    1\n",
       "fd1c35ad-9a81-4ff9-9c13-909216f4e954    1\n",
       "82ca8ea9-735b-48e5-9f29-8bd4c30dba55    1\n",
       "f0118283-e2bc-4bc4-843e-30b5adc7082d    1\n",
       "c94f7bd9-5b04-4172-b4ef-bfee94e4960c    1\n",
       "                                       ..\n",
       "1c1454f4-d187-4779-bd25-641f281e84a7    1\n",
       "bb4cbffe-b429-4ee8-83e3-aa4fc6ad9b9e    1\n",
       "049a3c41-928e-446d-b3dd-97b12642f58f    1\n",
       "b9625971-a539-4bc4-87f2-da062b5ff9df    1\n",
       "5e3183df-198b-40e0-b861-27ef694a832a    1\n",
       "Name: session_id, Length: 852584, dtype: int64"
      ]
     },
     "execution_count": 15,
     "metadata": {},
     "output_type": "execute_result"
    }
   ],
   "source": [
    "trans['session_id'].value_counts()"
   ]
  },
  {
   "cell_type": "markdown",
   "id": "fe341b1d",
   "metadata": {
    "papermill": {
     "duration": 0.014116,
     "end_time": "2022-10-23T15:27:27.318557",
     "exception": false,
     "start_time": "2022-10-23T15:27:27.304441",
     "status": "completed"
    },
    "tags": []
   },
   "source": [
    "ada user yang hanya membuat account, lalu mencoba aplikasi dengan meng-klik berbagai macam tombol yang ada, namun tidak pernah melakukan transaksi. untuk pengecekan behavior user dalam melakukan click_stream hanya bisa dilakukan pada user yang pernah melakukan transaksi, baik transaksinya sukses ataupun gagal (table click_stream --> merge transactions ('session_id') --> merge customer ('customer_id')). LALU BAGAIMANA NASIB CUSTOMER YANG TIDAK PERNAH TRANSAKSI? KITA TIDAK BISA MENGECEK BEHAVIORNYA DONG? sepertinya iyes"
   ]
  },
  {
   "cell_type": "code",
   "execution_count": 16,
   "id": "f3db2f86",
   "metadata": {
    "execution": {
     "iopub.execute_input": "2022-10-23T15:27:27.349166Z",
     "iopub.status.busy": "2022-10-23T15:27:27.348707Z",
     "iopub.status.idle": "2022-10-23T15:27:27.356013Z",
     "shell.execute_reply": "2022-10-23T15:27:27.354808Z"
    },
    "papermill": {
     "duration": 0.025388,
     "end_time": "2022-10-23T15:27:27.358401",
     "exception": false,
     "start_time": "2022-10-23T15:27:27.333013",
     "status": "completed"
    },
    "tags": []
   },
   "outputs": [
    {
     "data": {
      "text/plain": [
       "370598"
      ]
     },
     "execution_count": 16,
     "metadata": {},
     "output_type": "execute_result"
    }
   ],
   "source": [
    "# data click_stream yang tidak bisa dicek siapa customernya (click.shape - cust_session.shape)\n",
    "12833602 - 12463004"
   ]
  },
  {
   "cell_type": "code",
   "execution_count": 17,
   "id": "739e7c07",
   "metadata": {
    "execution": {
     "iopub.execute_input": "2022-10-23T15:27:27.389924Z",
     "iopub.status.busy": "2022-10-23T15:27:27.388730Z",
     "iopub.status.idle": "2022-10-23T15:27:45.297308Z",
     "shell.execute_reply": "2022-10-23T15:27:45.296070Z"
    },
    "papermill": {
     "duration": 17.927228,
     "end_time": "2022-10-23T15:27:45.300107",
     "exception": false,
     "start_time": "2022-10-23T15:27:27.372879",
     "status": "completed"
    },
    "tags": []
   },
   "outputs": [],
   "source": [
    "# merging dengan data cust\n",
    "cust_session = click.iloc[:,:2].merge(trans, on='session_id', how='inner')\n",
    "cust_session = cust_session.iloc[:,[0,1,3]]"
   ]
  },
  {
   "cell_type": "code",
   "execution_count": 18,
   "id": "60b79a1c",
   "metadata": {
    "execution": {
     "iopub.execute_input": "2022-10-23T15:27:45.330693Z",
     "iopub.status.busy": "2022-10-23T15:27:45.330254Z",
     "iopub.status.idle": "2022-10-23T15:27:45.338776Z",
     "shell.execute_reply": "2022-10-23T15:27:45.337714Z"
    },
    "papermill": {
     "duration": 0.0265,
     "end_time": "2022-10-23T15:27:45.341120",
     "exception": false,
     "start_time": "2022-10-23T15:27:45.314620",
     "status": "completed"
    },
    "tags": []
   },
   "outputs": [
    {
     "data": {
      "text/plain": [
       "(12463004, 3)"
      ]
     },
     "execution_count": 18,
     "metadata": {},
     "output_type": "execute_result"
    }
   ],
   "source": [
    "cust_session.shape"
   ]
  },
  {
   "cell_type": "code",
   "execution_count": 19,
   "id": "88d391c1",
   "metadata": {
    "execution": {
     "iopub.execute_input": "2022-10-23T15:27:45.372371Z",
     "iopub.status.busy": "2022-10-23T15:27:45.371357Z",
     "iopub.status.idle": "2022-10-23T15:27:45.382914Z",
     "shell.execute_reply": "2022-10-23T15:27:45.381761Z"
    },
    "papermill": {
     "duration": 0.029819,
     "end_time": "2022-10-23T15:27:45.385461",
     "exception": false,
     "start_time": "2022-10-23T15:27:45.355642",
     "status": "completed"
    },
    "tags": []
   },
   "outputs": [
    {
     "data": {
      "text/html": [
       "<div>\n",
       "<style scoped>\n",
       "    .dataframe tbody tr th:only-of-type {\n",
       "        vertical-align: middle;\n",
       "    }\n",
       "\n",
       "    .dataframe tbody tr th {\n",
       "        vertical-align: top;\n",
       "    }\n",
       "\n",
       "    .dataframe thead th {\n",
       "        text-align: right;\n",
       "    }\n",
       "</style>\n",
       "<table border=\"1\" class=\"dataframe\">\n",
       "  <thead>\n",
       "    <tr style=\"text-align: right;\">\n",
       "      <th></th>\n",
       "      <th>session_id</th>\n",
       "      <th>event_name</th>\n",
       "      <th>customer_id</th>\n",
       "    </tr>\n",
       "  </thead>\n",
       "  <tbody>\n",
       "    <tr>\n",
       "      <th>0</th>\n",
       "      <td>7d440441-e67a-4d36-b324-80ffd636d166</td>\n",
       "      <td>HOMEPAGE</td>\n",
       "      <td>18770</td>\n",
       "    </tr>\n",
       "    <tr>\n",
       "      <th>1</th>\n",
       "      <td>7d440441-e67a-4d36-b324-80ffd636d166</td>\n",
       "      <td>ADD_TO_CART</td>\n",
       "      <td>18770</td>\n",
       "    </tr>\n",
       "    <tr>\n",
       "      <th>2</th>\n",
       "      <td>7d440441-e67a-4d36-b324-80ffd636d166</td>\n",
       "      <td>BOOKING</td>\n",
       "      <td>18770</td>\n",
       "    </tr>\n",
       "    <tr>\n",
       "      <th>3</th>\n",
       "      <td>7d440441-e67a-4d36-b324-80ffd636d166</td>\n",
       "      <td>SEARCH</td>\n",
       "      <td>18770</td>\n",
       "    </tr>\n",
       "    <tr>\n",
       "      <th>4</th>\n",
       "      <td>7d440441-e67a-4d36-b324-80ffd636d166</td>\n",
       "      <td>HOMEPAGE</td>\n",
       "      <td>18770</td>\n",
       "    </tr>\n",
       "  </tbody>\n",
       "</table>\n",
       "</div>"
      ],
      "text/plain": [
       "                             session_id   event_name  customer_id\n",
       "0  7d440441-e67a-4d36-b324-80ffd636d166     HOMEPAGE        18770\n",
       "1  7d440441-e67a-4d36-b324-80ffd636d166  ADD_TO_CART        18770\n",
       "2  7d440441-e67a-4d36-b324-80ffd636d166      BOOKING        18770\n",
       "3  7d440441-e67a-4d36-b324-80ffd636d166       SEARCH        18770\n",
       "4  7d440441-e67a-4d36-b324-80ffd636d166     HOMEPAGE        18770"
      ]
     },
     "execution_count": 19,
     "metadata": {},
     "output_type": "execute_result"
    }
   ],
   "source": [
    "cust_session.head()"
   ]
  },
  {
   "cell_type": "code",
   "execution_count": 20,
   "id": "6aa67460",
   "metadata": {
    "execution": {
     "iopub.execute_input": "2022-10-23T15:27:45.418237Z",
     "iopub.status.busy": "2022-10-23T15:27:45.417729Z",
     "iopub.status.idle": "2022-10-23T15:27:45.444453Z",
     "shell.execute_reply": "2022-10-23T15:27:45.443284Z"
    },
    "papermill": {
     "duration": 0.045994,
     "end_time": "2022-10-23T15:27:45.446997",
     "exception": false,
     "start_time": "2022-10-23T15:27:45.401003",
     "status": "completed"
    },
    "tags": []
   },
   "outputs": [
    {
     "data": {
      "text/html": [
       "<div>\n",
       "<style scoped>\n",
       "    .dataframe tbody tr th:only-of-type {\n",
       "        vertical-align: middle;\n",
       "    }\n",
       "\n",
       "    .dataframe tbody tr th {\n",
       "        vertical-align: top;\n",
       "    }\n",
       "\n",
       "    .dataframe thead th {\n",
       "        text-align: right;\n",
       "    }\n",
       "</style>\n",
       "<table border=\"1\" class=\"dataframe\">\n",
       "  <thead>\n",
       "    <tr style=\"text-align: right;\">\n",
       "      <th></th>\n",
       "      <th>session_id</th>\n",
       "      <th>event_name</th>\n",
       "      <th>customer_id</th>\n",
       "    </tr>\n",
       "  </thead>\n",
       "  <tbody>\n",
       "    <tr>\n",
       "      <th>0</th>\n",
       "      <td>7d440441-e67a-4d36-b324-80ffd636d166</td>\n",
       "      <td>HOMEPAGE</td>\n",
       "      <td>18770</td>\n",
       "    </tr>\n",
       "    <tr>\n",
       "      <th>1</th>\n",
       "      <td>7d440441-e67a-4d36-b324-80ffd636d166</td>\n",
       "      <td>ADD_TO_CART</td>\n",
       "      <td>18770</td>\n",
       "    </tr>\n",
       "    <tr>\n",
       "      <th>2</th>\n",
       "      <td>7d440441-e67a-4d36-b324-80ffd636d166</td>\n",
       "      <td>BOOKING</td>\n",
       "      <td>18770</td>\n",
       "    </tr>\n",
       "    <tr>\n",
       "      <th>3</th>\n",
       "      <td>7d440441-e67a-4d36-b324-80ffd636d166</td>\n",
       "      <td>SEARCH</td>\n",
       "      <td>18770</td>\n",
       "    </tr>\n",
       "    <tr>\n",
       "      <th>4</th>\n",
       "      <td>7d440441-e67a-4d36-b324-80ffd636d166</td>\n",
       "      <td>HOMEPAGE</td>\n",
       "      <td>18770</td>\n",
       "    </tr>\n",
       "    <tr>\n",
       "      <th>...</th>\n",
       "      <td>...</td>\n",
       "      <td>...</td>\n",
       "      <td>...</td>\n",
       "    </tr>\n",
       "    <tr>\n",
       "      <th>2390</th>\n",
       "      <td>dc85c13c-7791-4437-b038-d46f6cbfb14f</td>\n",
       "      <td>SEARCH</td>\n",
       "      <td>18770</td>\n",
       "    </tr>\n",
       "    <tr>\n",
       "      <th>2391</th>\n",
       "      <td>dc85c13c-7791-4437-b038-d46f6cbfb14f</td>\n",
       "      <td>SCROLL</td>\n",
       "      <td>18770</td>\n",
       "    </tr>\n",
       "    <tr>\n",
       "      <th>2392</th>\n",
       "      <td>dc85c13c-7791-4437-b038-d46f6cbfb14f</td>\n",
       "      <td>SCROLL</td>\n",
       "      <td>18770</td>\n",
       "    </tr>\n",
       "    <tr>\n",
       "      <th>2393</th>\n",
       "      <td>dc85c13c-7791-4437-b038-d46f6cbfb14f</td>\n",
       "      <td>CLICK</td>\n",
       "      <td>18770</td>\n",
       "    </tr>\n",
       "    <tr>\n",
       "      <th>2394</th>\n",
       "      <td>dc85c13c-7791-4437-b038-d46f6cbfb14f</td>\n",
       "      <td>CLICK</td>\n",
       "      <td>18770</td>\n",
       "    </tr>\n",
       "  </tbody>\n",
       "</table>\n",
       "<p>2395 rows × 3 columns</p>\n",
       "</div>"
      ],
      "text/plain": [
       "                                session_id   event_name  customer_id\n",
       "0     7d440441-e67a-4d36-b324-80ffd636d166     HOMEPAGE        18770\n",
       "1     7d440441-e67a-4d36-b324-80ffd636d166  ADD_TO_CART        18770\n",
       "2     7d440441-e67a-4d36-b324-80ffd636d166      BOOKING        18770\n",
       "3     7d440441-e67a-4d36-b324-80ffd636d166       SEARCH        18770\n",
       "4     7d440441-e67a-4d36-b324-80ffd636d166     HOMEPAGE        18770\n",
       "...                                    ...          ...          ...\n",
       "2390  dc85c13c-7791-4437-b038-d46f6cbfb14f       SEARCH        18770\n",
       "2391  dc85c13c-7791-4437-b038-d46f6cbfb14f       SCROLL        18770\n",
       "2392  dc85c13c-7791-4437-b038-d46f6cbfb14f       SCROLL        18770\n",
       "2393  dc85c13c-7791-4437-b038-d46f6cbfb14f        CLICK        18770\n",
       "2394  dc85c13c-7791-4437-b038-d46f6cbfb14f        CLICK        18770\n",
       "\n",
       "[2395 rows x 3 columns]"
      ]
     },
     "execution_count": 20,
     "metadata": {},
     "output_type": "execute_result"
    }
   ],
   "source": [
    "w = cust_session[cust_session['customer_id'] == 18770]\n",
    "w"
   ]
  },
  {
   "cell_type": "markdown",
   "id": "a4bc8a7f",
   "metadata": {
    "papermill": {
     "duration": 0.014891,
     "end_time": "2022-10-23T15:27:45.476958",
     "exception": false,
     "start_time": "2022-10-23T15:27:45.462067",
     "status": "completed"
    },
    "tags": []
   },
   "source": [
    "# Merge Data"
   ]
  },
  {
   "cell_type": "code",
   "execution_count": 21,
   "id": "fe3faa38",
   "metadata": {
    "execution": {
     "iopub.execute_input": "2022-10-23T15:27:45.508342Z",
     "iopub.status.busy": "2022-10-23T15:27:45.507807Z",
     "iopub.status.idle": "2022-10-23T15:27:48.418143Z",
     "shell.execute_reply": "2022-10-23T15:27:48.416551Z"
    },
    "papermill": {
     "duration": 2.929254,
     "end_time": "2022-10-23T15:27:48.421078",
     "exception": false,
     "start_time": "2022-10-23T15:27:45.491824",
     "status": "completed"
    },
    "tags": []
   },
   "outputs": [
    {
     "data": {
      "text/plain": [
       "customer_id                    0\n",
       "first_name                     0\n",
       "last_name                      0\n",
       "username                       0\n",
       "email                          0\n",
       "gender                         0\n",
       "birthdate                      0\n",
       "device_type                    0\n",
       "device_id                      0\n",
       "device_version                 0\n",
       "home_location_lat              0\n",
       "home_location_long             0\n",
       "home_location                  0\n",
       "home_country                   0\n",
       "first_join_date                0\n",
       "created_at                 49295\n",
       "booking_id                 49295\n",
       "session_id                 49295\n",
       "product_metadata           49295\n",
       "payment_method             49295\n",
       "payment_status             49295\n",
       "promo_amount               49295\n",
       "promo_code                575343\n",
       "shipment_fee               49295\n",
       "shipment_date_limit        49295\n",
       "shipment_location_lat      49295\n",
       "shipment_location_long     49295\n",
       "total_amount               49295\n",
       "dtype: int64"
      ]
     },
     "execution_count": 21,
     "metadata": {},
     "output_type": "execute_result"
    }
   ],
   "source": [
    "df = cust.merge(right = trans, how = 'left', on = 'customer_id')\n",
    "df.isna().sum()"
   ]
  },
  {
   "cell_type": "markdown",
   "id": "0182256e",
   "metadata": {
    "papermill": {
     "duration": 0.014949,
     "end_time": "2022-10-23T15:27:48.451190",
     "exception": false,
     "start_time": "2022-10-23T15:27:48.436241",
     "status": "completed"
    },
    "tags": []
   },
   "source": [
    "# FI : Total Transaksi Masing2 Cust"
   ]
  },
  {
   "cell_type": "code",
   "execution_count": 22,
   "id": "1aba0646",
   "metadata": {
    "execution": {
     "iopub.execute_input": "2022-10-23T15:27:48.484149Z",
     "iopub.status.busy": "2022-10-23T15:27:48.482860Z",
     "iopub.status.idle": "2022-10-23T15:27:52.207754Z",
     "shell.execute_reply": "2022-10-23T15:27:52.206362Z"
    },
    "papermill": {
     "duration": 3.744374,
     "end_time": "2022-10-23T15:27:52.210694",
     "exception": false,
     "start_time": "2022-10-23T15:27:48.466320",
     "status": "completed"
    },
    "tags": []
   },
   "outputs": [],
   "source": [
    "# merge data customer dengan transaksinya (baik transaksi sukses maupun gagal)\n",
    "cust_trans = cust.merge(right = trans, how = 'left', on = 'customer_id')\n",
    "\n",
    "# buat tabel mengenai total transaksi tiap pelanggan\n",
    "total_transaksi = cust_trans.groupby('customer_id')[['booking_id']].count().sort_values(by = 'booking_id', ascending = False).reset_index()\n",
    "total_transaksi = total_transaksi.rename(columns = {'booking_id' : 'total_transaksi'})\n",
    "\n",
    "# buat tabel mengenai total transaksi sukses tiap pelanggan\n",
    "sukses = cust_trans[cust_trans['payment_status'] == 'Success']\n",
    "total_transaksi_sukses = sukses.groupby('customer_id')[['booking_id']].count().sort_values(by = 'booking_id', ascending = False).reset_index()\n",
    "total_transaksi_sukses = total_transaksi_sukses.rename(columns = {'booking_id' : 'total_transaksi_sukses'})\n",
    "\n",
    "# buat tabel mengenai total transaksi sukses tiap pelanggan\n",
    "gagal = cust_trans[cust_trans['payment_status'] == 'Failed']\n",
    "total_transaksi_gagal = gagal.groupby('customer_id')[['booking_id']].count().sort_values(by = 'booking_id', ascending = False).reset_index()\n",
    "total_transaksi_gagal = total_transaksi_gagal.rename(columns = {'booking_id' : 'total_transaksi_gagal'})\n",
    "\n",
    "# merge total, sukses, dan gagal\n",
    "transaksi_all = total_transaksi.merge(total_transaksi_sukses, on='customer_id', how='outer')\n",
    "transaksi_all = transaksi_all.merge(total_transaksi_gagal, on='customer_id', how='outer')\n",
    "\n",
    "# handling NaN\n",
    "transaksi_all = transaksi_all.fillna(0)\n",
    "\n",
    "# buat kolom yang menjelaskan frekuensi order tiap pelanggan (asumsi = jika dibawah sama dengan 3 disebut sedikit, selain itu banyak)\n",
    "def freq(x):\n",
    "    if x == 0:\n",
    "        return 'never'\n",
    "    elif x <= 3:\n",
    "        return 'few'\n",
    "    else:\n",
    "        return 'many'\n",
    "transaksi_all['transaksi_freq'] = transaksi_all['total_transaksi_sukses'].apply(freq)"
   ]
  },
  {
   "cell_type": "code",
   "execution_count": 23,
   "id": "4fce73df",
   "metadata": {
    "execution": {
     "iopub.execute_input": "2022-10-23T15:27:52.244099Z",
     "iopub.status.busy": "2022-10-23T15:27:52.243629Z",
     "iopub.status.idle": "2022-10-23T15:27:52.258165Z",
     "shell.execute_reply": "2022-10-23T15:27:52.256825Z"
    },
    "papermill": {
     "duration": 0.03447,
     "end_time": "2022-10-23T15:27:52.261053",
     "exception": false,
     "start_time": "2022-10-23T15:27:52.226583",
     "status": "completed"
    },
    "tags": []
   },
   "outputs": [
    {
     "data": {
      "text/html": [
       "<div>\n",
       "<style scoped>\n",
       "    .dataframe tbody tr th:only-of-type {\n",
       "        vertical-align: middle;\n",
       "    }\n",
       "\n",
       "    .dataframe tbody tr th {\n",
       "        vertical-align: top;\n",
       "    }\n",
       "\n",
       "    .dataframe thead th {\n",
       "        text-align: right;\n",
       "    }\n",
       "</style>\n",
       "<table border=\"1\" class=\"dataframe\">\n",
       "  <thead>\n",
       "    <tr style=\"text-align: right;\">\n",
       "      <th></th>\n",
       "      <th>customer_id</th>\n",
       "      <th>total_transaksi</th>\n",
       "      <th>total_transaksi_sukses</th>\n",
       "      <th>total_transaksi_gagal</th>\n",
       "      <th>transaksi_freq</th>\n",
       "    </tr>\n",
       "  </thead>\n",
       "  <tbody>\n",
       "    <tr>\n",
       "      <th>0</th>\n",
       "      <td>43202</td>\n",
       "      <td>550</td>\n",
       "      <td>550.0</td>\n",
       "      <td>0.0</td>\n",
       "      <td>many</td>\n",
       "    </tr>\n",
       "    <tr>\n",
       "      <th>1</th>\n",
       "      <td>29496</td>\n",
       "      <td>505</td>\n",
       "      <td>505.0</td>\n",
       "      <td>0.0</td>\n",
       "      <td>many</td>\n",
       "    </tr>\n",
       "    <tr>\n",
       "      <th>2</th>\n",
       "      <td>82237</td>\n",
       "      <td>503</td>\n",
       "      <td>503.0</td>\n",
       "      <td>0.0</td>\n",
       "      <td>many</td>\n",
       "    </tr>\n",
       "    <tr>\n",
       "      <th>3</th>\n",
       "      <td>10167</td>\n",
       "      <td>473</td>\n",
       "      <td>460.0</td>\n",
       "      <td>13.0</td>\n",
       "      <td>many</td>\n",
       "    </tr>\n",
       "    <tr>\n",
       "      <th>4</th>\n",
       "      <td>69740</td>\n",
       "      <td>458</td>\n",
       "      <td>458.0</td>\n",
       "      <td>0.0</td>\n",
       "      <td>many</td>\n",
       "    </tr>\n",
       "  </tbody>\n",
       "</table>\n",
       "</div>"
      ],
      "text/plain": [
       "   customer_id  total_transaksi  total_transaksi_sukses  \\\n",
       "0        43202              550                   550.0   \n",
       "1        29496              505                   505.0   \n",
       "2        82237              503                   503.0   \n",
       "3        10167              473                   460.0   \n",
       "4        69740              458                   458.0   \n",
       "\n",
       "   total_transaksi_gagal transaksi_freq  \n",
       "0                    0.0           many  \n",
       "1                    0.0           many  \n",
       "2                    0.0           many  \n",
       "3                   13.0           many  \n",
       "4                    0.0           many  "
      ]
     },
     "execution_count": 23,
     "metadata": {},
     "output_type": "execute_result"
    }
   ],
   "source": [
    "transaksi_all.head()"
   ]
  },
  {
   "cell_type": "code",
   "execution_count": 24,
   "id": "92942181",
   "metadata": {
    "execution": {
     "iopub.execute_input": "2022-10-23T15:27:52.295408Z",
     "iopub.status.busy": "2022-10-23T15:27:52.294390Z",
     "iopub.status.idle": "2022-10-23T15:27:52.312021Z",
     "shell.execute_reply": "2022-10-23T15:27:52.310740Z"
    },
    "papermill": {
     "duration": 0.036913,
     "end_time": "2022-10-23T15:27:52.314347",
     "exception": false,
     "start_time": "2022-10-23T15:27:52.277434",
     "status": "completed"
    },
    "tags": []
   },
   "outputs": [
    {
     "data": {
      "text/html": [
       "<div>\n",
       "<style scoped>\n",
       "    .dataframe tbody tr th:only-of-type {\n",
       "        vertical-align: middle;\n",
       "    }\n",
       "\n",
       "    .dataframe tbody tr th {\n",
       "        vertical-align: top;\n",
       "    }\n",
       "\n",
       "    .dataframe thead th {\n",
       "        text-align: right;\n",
       "    }\n",
       "</style>\n",
       "<table border=\"1\" class=\"dataframe\">\n",
       "  <thead>\n",
       "    <tr style=\"text-align: right;\">\n",
       "      <th></th>\n",
       "      <th>index</th>\n",
       "      <th>transaksi_freq</th>\n",
       "    </tr>\n",
       "  </thead>\n",
       "  <tbody>\n",
       "    <tr>\n",
       "      <th>0</th>\n",
       "      <td>never</td>\n",
       "      <td>49758</td>\n",
       "    </tr>\n",
       "    <tr>\n",
       "      <th>1</th>\n",
       "      <td>many</td>\n",
       "      <td>30755</td>\n",
       "    </tr>\n",
       "    <tr>\n",
       "      <th>2</th>\n",
       "      <td>few</td>\n",
       "      <td>19487</td>\n",
       "    </tr>\n",
       "  </tbody>\n",
       "</table>\n",
       "</div>"
      ],
      "text/plain": [
       "   index  transaksi_freq\n",
       "0  never           49758\n",
       "1   many           30755\n",
       "2    few           19487"
      ]
     },
     "execution_count": 24,
     "metadata": {},
     "output_type": "execute_result"
    }
   ],
   "source": [
    "transaksi_all['transaksi_freq'].value_counts().reset_index()"
   ]
  },
  {
   "cell_type": "code",
   "execution_count": 25,
   "id": "71e940cc",
   "metadata": {
    "execution": {
     "iopub.execute_input": "2022-10-23T15:27:52.347545Z",
     "iopub.status.busy": "2022-10-23T15:27:52.346713Z",
     "iopub.status.idle": "2022-10-23T15:27:52.572162Z",
     "shell.execute_reply": "2022-10-23T15:27:52.570455Z"
    },
    "papermill": {
     "duration": 0.246833,
     "end_time": "2022-10-23T15:27:52.576821",
     "exception": false,
     "start_time": "2022-10-23T15:27:52.329988",
     "status": "completed"
    },
    "tags": []
   },
   "outputs": [
    {
     "data": {
      "image/png": "[encoded data removed]",
      "text/plain": [
       "<Figure size 432x288 with 1 Axes>"
      ]
     },
     "metadata": {},
     "output_type": "display_data"
    }
   ],
   "source": [
    "transaksi_visual = transaksi_all.groupby('transaksi_freq')['customer_id'].count().reset_index()\n",
    "transaksi_visual = transaksi_visual.rename(columns = {'customer_id' : 'total_customer'})\n",
    "\n",
    "plt.pie(x = transaksi_visual['total_customer'], labels = transaksi_visual['transaksi_freq'], autopct='%1.1f%%')\n",
    "plt.tight_layout()\n",
    "plt.show()"
   ]
  },
  {
   "cell_type": "markdown",
   "id": "7db046ef",
   "metadata": {
    "papermill": {
     "duration": 0.025107,
     "end_time": "2022-10-23T15:27:52.643729",
     "exception": false,
     "start_time": "2022-10-23T15:27:52.618622",
     "status": "completed"
    },
    "tags": []
   },
   "source": [
    "jumlah customer yang tidak pernah melakukan transaksi sangat banyak, yakni mencapai 49% dari total customer keseluruhan, dan jumlah customer yang melakukan transaksi (sukses) lebih dari 3 kali (many) cukup banyak, yakni mencapai hampir 1/3 dari total customer keseluruhan"
   ]
  },
  {
   "cell_type": "markdown",
   "id": "8a4c6d70",
   "metadata": {
    "papermill": {
     "duration": 0.015783,
     "end_time": "2022-10-23T15:27:52.675665",
     "exception": false,
     "start_time": "2022-10-23T15:27:52.659882",
     "status": "completed"
    },
    "tags": []
   },
   "source": [
    "# FI : Tanggal transaksi pertama dan transaksi terakhir (transaksi sukses)"
   ]
  },
  {
   "cell_type": "code",
   "execution_count": 26,
   "id": "47510d66",
   "metadata": {
    "execution": {
     "iopub.execute_input": "2022-10-23T15:27:52.710162Z",
     "iopub.status.busy": "2022-10-23T15:27:52.709425Z",
     "iopub.status.idle": "2022-10-23T15:28:02.249124Z",
     "shell.execute_reply": "2022-10-23T15:28:02.247663Z"
    },
    "papermill": {
     "duration": 9.559987,
     "end_time": "2022-10-23T15:28:02.251955",
     "exception": false,
     "start_time": "2022-10-23T15:27:52.691968",
     "status": "completed"
    },
    "tags": []
   },
   "outputs": [],
   "source": [
    "trans_success = trans[trans['payment_status'] == 'Success']\n",
    "\n",
    "# buat tabel yang menginfokan tanggal pembelian pertama tiap pelanggan\n",
    "first_purchase = trans_success.groupby(['customer_id'])['created_at'].min()\n",
    "first_purchase = pd.DataFrame(data = first_purchase).reset_index()\n",
    "first_purchase['created_at'] = pd.to_datetime(first_purchase['created_at']).dt.date\n",
    "first_purchase = first_purchase.rename(columns = {'created_at' : 'first_purchase_date'})\n",
    "\n",
    "# buat tabel yang menginfokan tanggal pembelian terakhir tiap pelanggan\n",
    "last_purchase = trans_success.groupby(['customer_id'])['created_at'].max()\n",
    "last_purchase = pd.DataFrame(data = last_purchase).reset_index()\n",
    "last_purchase['created_at'] = pd.to_datetime(last_purchase['created_at']).dt.date\n",
    "last_purchase = last_purchase.rename(columns = {'created_at' : 'last_purchase_date'})"
   ]
  },
  {
   "cell_type": "code",
   "execution_count": 27,
   "id": "f69d2902",
   "metadata": {
    "execution": {
     "iopub.execute_input": "2022-10-23T15:28:02.286582Z",
     "iopub.status.busy": "2022-10-23T15:28:02.286167Z",
     "iopub.status.idle": "2022-10-23T15:28:02.406858Z",
     "shell.execute_reply": "2022-10-23T15:28:02.405581Z"
    },
    "papermill": {
     "duration": 0.141389,
     "end_time": "2022-10-23T15:28:02.409862",
     "exception": false,
     "start_time": "2022-10-23T15:28:02.268473",
     "status": "completed"
    },
    "tags": []
   },
   "outputs": [],
   "source": [
    "# gabungkan tabel first_purchase dan last_purchase\n",
    "purchase_date = pd.merge(left = first_purchase, right = last_purchase, on = 'customer_id')\n",
    "\n",
    "# buat kolom mengenai recency tiap pelanggan\n",
    "purchase_date['recency_days'] = pd.to_datetime(\"today\").date() - purchase_date['last_purchase_date']"
   ]
  },
  {
   "cell_type": "code",
   "execution_count": 28,
   "id": "c169befe",
   "metadata": {
    "execution": {
     "iopub.execute_input": "2022-10-23T15:28:02.444373Z",
     "iopub.status.busy": "2022-10-23T15:28:02.443963Z",
     "iopub.status.idle": "2022-10-23T15:28:02.457147Z",
     "shell.execute_reply": "2022-10-23T15:28:02.455628Z"
    },
    "papermill": {
     "duration": 0.033169,
     "end_time": "2022-10-23T15:28:02.459689",
     "exception": false,
     "start_time": "2022-10-23T15:28:02.426520",
     "status": "completed"
    },
    "tags": []
   },
   "outputs": [
    {
     "data": {
      "text/html": [
       "<div>\n",
       "<style scoped>\n",
       "    .dataframe tbody tr th:only-of-type {\n",
       "        vertical-align: middle;\n",
       "    }\n",
       "\n",
       "    .dataframe tbody tr th {\n",
       "        vertical-align: top;\n",
       "    }\n",
       "\n",
       "    .dataframe thead th {\n",
       "        text-align: right;\n",
       "    }\n",
       "</style>\n",
       "<table border=\"1\" class=\"dataframe\">\n",
       "  <thead>\n",
       "    <tr style=\"text-align: right;\">\n",
       "      <th></th>\n",
       "      <th>customer_id</th>\n",
       "      <th>first_purchase_date</th>\n",
       "      <th>last_purchase_date</th>\n",
       "      <th>recency_days</th>\n",
       "    </tr>\n",
       "  </thead>\n",
       "  <tbody>\n",
       "    <tr>\n",
       "      <th>0</th>\n",
       "      <td>3</td>\n",
       "      <td>2018-08-25</td>\n",
       "      <td>2022-06-26</td>\n",
       "      <td>119 days</td>\n",
       "    </tr>\n",
       "    <tr>\n",
       "      <th>1</th>\n",
       "      <td>8</td>\n",
       "      <td>2021-02-13</td>\n",
       "      <td>2022-05-15</td>\n",
       "      <td>161 days</td>\n",
       "    </tr>\n",
       "    <tr>\n",
       "      <th>2</th>\n",
       "      <td>9</td>\n",
       "      <td>2021-06-27</td>\n",
       "      <td>2022-05-28</td>\n",
       "      <td>148 days</td>\n",
       "    </tr>\n",
       "    <tr>\n",
       "      <th>3</th>\n",
       "      <td>11</td>\n",
       "      <td>2022-03-07</td>\n",
       "      <td>2022-03-07</td>\n",
       "      <td>230 days</td>\n",
       "    </tr>\n",
       "    <tr>\n",
       "      <th>4</th>\n",
       "      <td>15</td>\n",
       "      <td>2019-09-30</td>\n",
       "      <td>2022-01-05</td>\n",
       "      <td>291 days</td>\n",
       "    </tr>\n",
       "  </tbody>\n",
       "</table>\n",
       "</div>"
      ],
      "text/plain": [
       "   customer_id first_purchase_date last_purchase_date recency_days\n",
       "0            3          2018-08-25         2022-06-26     119 days\n",
       "1            8          2021-02-13         2022-05-15     161 days\n",
       "2            9          2021-06-27         2022-05-28     148 days\n",
       "3           11          2022-03-07         2022-03-07     230 days\n",
       "4           15          2019-09-30         2022-01-05     291 days"
      ]
     },
     "execution_count": 28,
     "metadata": {},
     "output_type": "execute_result"
    }
   ],
   "source": [
    "purchase_date.head()"
   ]
  },
  {
   "cell_type": "code",
   "execution_count": 29,
   "id": "04b921e9",
   "metadata": {
    "execution": {
     "iopub.execute_input": "2022-10-23T15:28:02.495244Z",
     "iopub.status.busy": "2022-10-23T15:28:02.494851Z",
     "iopub.status.idle": "2022-10-23T15:28:02.502991Z",
     "shell.execute_reply": "2022-10-23T15:28:02.501382Z"
    },
    "papermill": {
     "duration": 0.029373,
     "end_time": "2022-10-23T15:28:02.505712",
     "exception": false,
     "start_time": "2022-10-23T15:28:02.476339",
     "status": "completed"
    },
    "tags": []
   },
   "outputs": [
    {
     "data": {
      "text/plain": [
       "(50242, 4)"
      ]
     },
     "execution_count": 29,
     "metadata": {},
     "output_type": "execute_result"
    }
   ],
   "source": [
    "purchase_date.shape"
   ]
  },
  {
   "cell_type": "markdown",
   "id": "a9b4eb14",
   "metadata": {
    "papermill": {
     "duration": 0.016325,
     "end_time": "2022-10-23T15:28:02.539005",
     "exception": false,
     "start_time": "2022-10-23T15:28:02.522680",
     "status": "completed"
    },
    "tags": []
   },
   "source": [
    "# FI : Jumlah event click masing2 cust yang telah transaksi"
   ]
  },
  {
   "cell_type": "code",
   "execution_count": 30,
   "id": "0c8890fd",
   "metadata": {
    "execution": {
     "iopub.execute_input": "2022-10-23T15:28:02.573640Z",
     "iopub.status.busy": "2022-10-23T15:28:02.573179Z",
     "iopub.status.idle": "2022-10-23T15:28:23.181064Z",
     "shell.execute_reply": "2022-10-23T15:28:23.179857Z"
    },
    "papermill": {
     "duration": 20.628376,
     "end_time": "2022-10-23T15:28:23.183692",
     "exception": false,
     "start_time": "2022-10-23T15:28:02.555316",
     "status": "completed"
    },
    "tags": []
   },
   "outputs": [
    {
     "data": {
      "text/html": [
       "<div>\n",
       "<style scoped>\n",
       "    .dataframe tbody tr th:only-of-type {\n",
       "        vertical-align: middle;\n",
       "    }\n",
       "\n",
       "    .dataframe tbody tr th {\n",
       "        vertical-align: top;\n",
       "    }\n",
       "\n",
       "    .dataframe thead th {\n",
       "        text-align: right;\n",
       "    }\n",
       "</style>\n",
       "<table border=\"1\" class=\"dataframe\">\n",
       "  <thead>\n",
       "    <tr style=\"text-align: right;\">\n",
       "      <th></th>\n",
       "      <th>customer_id</th>\n",
       "      <th>add_promo_freq</th>\n",
       "      <th>add_to_cart_freq</th>\n",
       "      <th>booking_freq</th>\n",
       "      <th>click_freq</th>\n",
       "      <th>homepage_freq</th>\n",
       "      <th>item_detail_freq</th>\n",
       "      <th>promo_page_freq</th>\n",
       "      <th>scroll_freq</th>\n",
       "      <th>search_freq</th>\n",
       "    </tr>\n",
       "  </thead>\n",
       "  <tbody>\n",
       "    <tr>\n",
       "      <th>0</th>\n",
       "      <td>3</td>\n",
       "      <td>27.0</td>\n",
       "      <td>156.0</td>\n",
       "      <td>51.0</td>\n",
       "      <td>118.0</td>\n",
       "      <td>109.0</td>\n",
       "      <td>56.0</td>\n",
       "      <td>42.0</td>\n",
       "      <td>72.0</td>\n",
       "      <td>51.0</td>\n",
       "    </tr>\n",
       "    <tr>\n",
       "      <th>1</th>\n",
       "      <td>8</td>\n",
       "      <td>1.0</td>\n",
       "      <td>14.0</td>\n",
       "      <td>7.0</td>\n",
       "      <td>25.0</td>\n",
       "      <td>93.0</td>\n",
       "      <td>32.0</td>\n",
       "      <td>5.0</td>\n",
       "      <td>16.0</td>\n",
       "      <td>9.0</td>\n",
       "    </tr>\n",
       "    <tr>\n",
       "      <th>2</th>\n",
       "      <td>9</td>\n",
       "      <td>0.0</td>\n",
       "      <td>16.0</td>\n",
       "      <td>6.0</td>\n",
       "      <td>11.0</td>\n",
       "      <td>8.0</td>\n",
       "      <td>5.0</td>\n",
       "      <td>3.0</td>\n",
       "      <td>6.0</td>\n",
       "      <td>4.0</td>\n",
       "    </tr>\n",
       "    <tr>\n",
       "      <th>3</th>\n",
       "      <td>11</td>\n",
       "      <td>1.0</td>\n",
       "      <td>4.0</td>\n",
       "      <td>1.0</td>\n",
       "      <td>1.0</td>\n",
       "      <td>3.0</td>\n",
       "      <td>2.0</td>\n",
       "      <td>2.0</td>\n",
       "      <td>0.0</td>\n",
       "      <td>0.0</td>\n",
       "    </tr>\n",
       "    <tr>\n",
       "      <th>4</th>\n",
       "      <td>15</td>\n",
       "      <td>4.0</td>\n",
       "      <td>21.0</td>\n",
       "      <td>5.0</td>\n",
       "      <td>9.0</td>\n",
       "      <td>9.0</td>\n",
       "      <td>3.0</td>\n",
       "      <td>1.0</td>\n",
       "      <td>2.0</td>\n",
       "      <td>3.0</td>\n",
       "    </tr>\n",
       "  </tbody>\n",
       "</table>\n",
       "</div>"
      ],
      "text/plain": [
       "   customer_id  add_promo_freq  add_to_cart_freq  booking_freq  click_freq  \\\n",
       "0            3            27.0             156.0          51.0       118.0   \n",
       "1            8             1.0              14.0           7.0        25.0   \n",
       "2            9             0.0              16.0           6.0        11.0   \n",
       "3           11             1.0               4.0           1.0         1.0   \n",
       "4           15             4.0              21.0           5.0         9.0   \n",
       "\n",
       "   homepage_freq  item_detail_freq  promo_page_freq  scroll_freq  search_freq  \n",
       "0          109.0              56.0             42.0         72.0         51.0  \n",
       "1           93.0              32.0              5.0         16.0          9.0  \n",
       "2            8.0               5.0              3.0          6.0          4.0  \n",
       "3            3.0               2.0              2.0          0.0          0.0  \n",
       "4            9.0               3.0              1.0          2.0          3.0  "
      ]
     },
     "execution_count": 30,
     "metadata": {},
     "output_type": "execute_result"
    }
   ],
   "source": [
    "# merging dengan data cust\n",
    "cust_session = click.iloc[:,:2].merge(trans, on='session_id', how='inner')\n",
    "cust_session = cust_session.iloc[:,[0,1,3]]\n",
    "\n",
    "# ambil frequency event masing-masing cust\n",
    "total_event = cust_session.groupby(['customer_id','event_name']).count().reset_index()\n",
    "# total_event\n",
    "\n",
    "# buat feature baru\n",
    "total_event = total_event.pivot_table('session_id', ['customer_id'], 'event_name')\n",
    "\n",
    "# showing dataframe\n",
    "total_event = total_event.rename_axis(None, axis=1).reset_index()\n",
    "\n",
    "# handling NaN\n",
    "total_event = total_event.fillna(0)\n",
    "\n",
    "# rename columns\n",
    "total_event = total_event.rename({\n",
    "    'ADD_PROMO' : 'add_promo_freq',\n",
    "    'ADD_TO_CART' : 'add_to_cart_freq',\n",
    "    'BOOKING' : 'booking_freq',\n",
    "    'CLICK' : 'click_freq',\n",
    "    'HOMEPAGE' : 'homepage_freq',\n",
    "    'ITEM_DETAIL' : 'item_detail_freq',\n",
    "    'PROMO_PAGE' : 'promo_page_freq',\n",
    "    'SCROLL' : 'scroll_freq',\n",
    "    'SEARCH' : 'search_freq'\n",
    "}, axis='columns') \n",
    "\n",
    "\n",
    "total_event.head()"
   ]
  },
  {
   "cell_type": "code",
   "execution_count": 31,
   "id": "35eca888",
   "metadata": {
    "execution": {
     "iopub.execute_input": "2022-10-23T15:28:23.219229Z",
     "iopub.status.busy": "2022-10-23T15:28:23.218436Z",
     "iopub.status.idle": "2022-10-23T15:28:23.224480Z",
     "shell.execute_reply": "2022-10-23T15:28:23.223414Z"
    },
    "papermill": {
     "duration": 0.026119,
     "end_time": "2022-10-23T15:28:23.226638",
     "exception": false,
     "start_time": "2022-10-23T15:28:23.200519",
     "status": "completed"
    },
    "tags": []
   },
   "outputs": [
    {
     "data": {
      "text/plain": [
       "(50704, 10)"
      ]
     },
     "execution_count": 31,
     "metadata": {},
     "output_type": "execute_result"
    }
   ],
   "source": [
    "total_event.shape"
   ]
  },
  {
   "cell_type": "markdown",
   "id": "d2f6245e",
   "metadata": {
    "papermill": {
     "duration": 0.016722,
     "end_time": "2022-10-23T15:28:23.260193",
     "exception": false,
     "start_time": "2022-10-23T15:28:23.243471",
     "status": "completed"
    },
    "tags": []
   },
   "source": [
    "# mengecek jumlah session masing2 user dan berapa waktu yang dihabiskan user di platform"
   ]
  },
  {
   "cell_type": "code",
   "execution_count": 32,
   "id": "2fa8eee9",
   "metadata": {
    "execution": {
     "iopub.execute_input": "2022-10-23T15:28:23.295100Z",
     "iopub.status.busy": "2022-10-23T15:28:23.294194Z",
     "iopub.status.idle": "2022-10-23T15:31:12.268710Z",
     "shell.execute_reply": "2022-10-23T15:31:12.267643Z"
    },
    "papermill": {
     "duration": 168.995696,
     "end_time": "2022-10-23T15:31:12.272217",
     "exception": false,
     "start_time": "2022-10-23T15:28:23.276521",
     "status": "completed"
    },
    "tags": []
   },
   "outputs": [],
   "source": [
    "# buat tabel yang menginfokan waktu interaksi pertama tiap session\n",
    "first_interact = click.groupby(['session_id'])['event_time'].min()\n",
    "first_interact = pd.DataFrame(data = first_interact).reset_index()\n",
    "# first_interact['event_time'] = pd.to_datetime(first_interact['event_time']).dt.time\n",
    "\n",
    "first_interact['event_time'] = pd.to_datetime(first_interact['event_time'])\n",
    "first_interact = first_interact.rename(columns = {'event_time' : 'first_interact_time'})\n",
    "\n",
    "# buat tabel yang menginfokan waktu interaksi pertama tiap session\n",
    "last_interact = click.groupby(['session_id'])['event_time'].max()\n",
    "last_interact = pd.DataFrame(data = last_interact).reset_index()\n",
    "# last_interact['event_time'] = pd.to_datetime(last_interact['event_time']).dt.time\n",
    "last_interact['event_time'] = pd.to_datetime(last_interact['event_time'])\n",
    "last_interact = last_interact.rename(columns = {'event_time' : 'last_interact_time'})"
   ]
  },
  {
   "cell_type": "code",
   "execution_count": 33,
   "id": "fefcb161",
   "metadata": {
    "execution": {
     "iopub.execute_input": "2022-10-23T15:31:12.308373Z",
     "iopub.status.busy": "2022-10-23T15:31:12.307713Z",
     "iopub.status.idle": "2022-10-23T15:31:13.238763Z",
     "shell.execute_reply": "2022-10-23T15:31:13.237513Z"
    },
    "papermill": {
     "duration": 0.952023,
     "end_time": "2022-10-23T15:31:13.241551",
     "exception": false,
     "start_time": "2022-10-23T15:31:12.289528",
     "status": "completed"
    },
    "tags": []
   },
   "outputs": [],
   "source": [
    "# gabungkan tabel first_interact dan last_interact\n",
    "session_time = pd.merge(left = first_interact, right = last_interact, on = 'session_id')\n",
    "\n",
    "# buat kolom mengenai waktu yang dihabiskan tiap session\n",
    "session_time['session_time'] = session_time['last_interact_time'] - session_time['first_interact_time']"
   ]
  },
  {
   "cell_type": "code",
   "execution_count": 34,
   "id": "bb0c3b44",
   "metadata": {
    "execution": {
     "iopub.execute_input": "2022-10-23T15:31:13.278484Z",
     "iopub.status.busy": "2022-10-23T15:31:13.278028Z",
     "iopub.status.idle": "2022-10-23T15:31:13.292292Z",
     "shell.execute_reply": "2022-10-23T15:31:13.291118Z"
    },
    "papermill": {
     "duration": 0.035807,
     "end_time": "2022-10-23T15:31:13.294779",
     "exception": false,
     "start_time": "2022-10-23T15:31:13.258972",
     "status": "completed"
    },
    "tags": []
   },
   "outputs": [
    {
     "data": {
      "text/html": [
       "<div>\n",
       "<style scoped>\n",
       "    .dataframe tbody tr th:only-of-type {\n",
       "        vertical-align: middle;\n",
       "    }\n",
       "\n",
       "    .dataframe tbody tr th {\n",
       "        vertical-align: top;\n",
       "    }\n",
       "\n",
       "    .dataframe thead th {\n",
       "        text-align: right;\n",
       "    }\n",
       "</style>\n",
       "<table border=\"1\" class=\"dataframe\">\n",
       "  <thead>\n",
       "    <tr style=\"text-align: right;\">\n",
       "      <th></th>\n",
       "      <th>session_id</th>\n",
       "      <th>first_interact_time</th>\n",
       "      <th>last_interact_time</th>\n",
       "      <th>session_time</th>\n",
       "    </tr>\n",
       "  </thead>\n",
       "  <tbody>\n",
       "    <tr>\n",
       "      <th>0</th>\n",
       "      <td>00001f29-3ede-4445-95f0-0178934e32ba</td>\n",
       "      <td>2019-05-17 11:51:52.276396+00:00</td>\n",
       "      <td>2019-05-19 20:17:04.276396+00:00</td>\n",
       "      <td>2 days 08:25:12</td>\n",
       "    </tr>\n",
       "    <tr>\n",
       "      <th>1</th>\n",
       "      <td>00003eca-954b-4150-aee1-63fc62f395cf</td>\n",
       "      <td>2019-08-24 05:47:16.849738+00:00</td>\n",
       "      <td>2019-08-24 06:26:12.662344+00:00</td>\n",
       "      <td>0 days 00:38:55.812606</td>\n",
       "    </tr>\n",
       "    <tr>\n",
       "      <th>2</th>\n",
       "      <td>0000425b-ddc8-4459-a240-6ba814dac132</td>\n",
       "      <td>2019-02-05 13:38:59.490443+00:00</td>\n",
       "      <td>2019-04-28 10:08:01.490443+00:00</td>\n",
       "      <td>81 days 20:29:02</td>\n",
       "    </tr>\n",
       "    <tr>\n",
       "      <th>3</th>\n",
       "      <td>00005746-17ec-449c-9c5c-699a3ea9304a</td>\n",
       "      <td>2022-03-08 23:17:19.510057+00:00</td>\n",
       "      <td>2022-03-08 23:21:35.510057+00:00</td>\n",
       "      <td>0 days 00:04:16</td>\n",
       "    </tr>\n",
       "    <tr>\n",
       "      <th>4</th>\n",
       "      <td>0000649b-9514-4600-979b-42166a798996</td>\n",
       "      <td>2020-07-17 13:32:48.525079+00:00</td>\n",
       "      <td>2020-07-23 14:31:15.525079+00:00</td>\n",
       "      <td>6 days 00:58:27</td>\n",
       "    </tr>\n",
       "  </tbody>\n",
       "</table>\n",
       "</div>"
      ],
      "text/plain": [
       "                             session_id              first_interact_time  \\\n",
       "0  00001f29-3ede-4445-95f0-0178934e32ba 2019-05-17 11:51:52.276396+00:00   \n",
       "1  00003eca-954b-4150-aee1-63fc62f395cf 2019-08-24 05:47:16.849738+00:00   \n",
       "2  0000425b-ddc8-4459-a240-6ba814dac132 2019-02-05 13:38:59.490443+00:00   \n",
       "3  00005746-17ec-449c-9c5c-699a3ea9304a 2022-03-08 23:17:19.510057+00:00   \n",
       "4  0000649b-9514-4600-979b-42166a798996 2020-07-17 13:32:48.525079+00:00   \n",
       "\n",
       "                last_interact_time           session_time  \n",
       "0 2019-05-19 20:17:04.276396+00:00        2 days 08:25:12  \n",
       "1 2019-08-24 06:26:12.662344+00:00 0 days 00:38:55.812606  \n",
       "2 2019-04-28 10:08:01.490443+00:00       81 days 20:29:02  \n",
       "3 2022-03-08 23:21:35.510057+00:00        0 days 00:04:16  \n",
       "4 2020-07-23 14:31:15.525079+00:00        6 days 00:58:27  "
      ]
     },
     "execution_count": 34,
     "metadata": {},
     "output_type": "execute_result"
    }
   ],
   "source": [
    "session_time.head()"
   ]
  },
  {
   "cell_type": "code",
   "execution_count": 35,
   "id": "7b4e1593",
   "metadata": {
    "execution": {
     "iopub.execute_input": "2022-10-23T15:31:13.331042Z",
     "iopub.status.busy": "2022-10-23T15:31:13.330600Z",
     "iopub.status.idle": "2022-10-23T15:31:15.415271Z",
     "shell.execute_reply": "2022-10-23T15:31:15.414209Z"
    },
    "papermill": {
     "duration": 2.105525,
     "end_time": "2022-10-23T15:31:15.417985",
     "exception": false,
     "start_time": "2022-10-23T15:31:13.312460",
     "status": "completed"
    },
    "tags": []
   },
   "outputs": [],
   "source": [
    "cust_session_time = trans.merge(session_time, on='session_id', how='inner')\n",
    "cust_session_time = cust_session_time.groupby('customer_id')['session_time'].sum().reset_index()\n",
    "cust_session_time = cust_session_time.sort_values('session_time', ascending=False)"
   ]
  },
  {
   "cell_type": "code",
   "execution_count": 36,
   "id": "d611cc7c",
   "metadata": {
    "execution": {
     "iopub.execute_input": "2022-10-23T15:31:15.455048Z",
     "iopub.status.busy": "2022-10-23T15:31:15.454040Z",
     "iopub.status.idle": "2022-10-23T15:31:15.465382Z",
     "shell.execute_reply": "2022-10-23T15:31:15.464195Z"
    },
    "papermill": {
     "duration": 0.031798,
     "end_time": "2022-10-23T15:31:15.467687",
     "exception": false,
     "start_time": "2022-10-23T15:31:15.435889",
     "status": "completed"
    },
    "tags": []
   },
   "outputs": [
    {
     "data": {
      "text/html": [
       "<div>\n",
       "<style scoped>\n",
       "    .dataframe tbody tr th:only-of-type {\n",
       "        vertical-align: middle;\n",
       "    }\n",
       "\n",
       "    .dataframe tbody tr th {\n",
       "        vertical-align: top;\n",
       "    }\n",
       "\n",
       "    .dataframe thead th {\n",
       "        text-align: right;\n",
       "    }\n",
       "</style>\n",
       "<table border=\"1\" class=\"dataframe\">\n",
       "  <thead>\n",
       "    <tr style=\"text-align: right;\">\n",
       "      <th></th>\n",
       "      <th>customer_id</th>\n",
       "      <th>session_time</th>\n",
       "    </tr>\n",
       "  </thead>\n",
       "  <tbody>\n",
       "    <tr>\n",
       "      <th>43284</th>\n",
       "      <td>85396</td>\n",
       "      <td>1090 days 07:44:45.557140992</td>\n",
       "    </tr>\n",
       "    <tr>\n",
       "      <th>3885</th>\n",
       "      <td>7473</td>\n",
       "      <td>1040 days 09:01:32.393412992</td>\n",
       "    </tr>\n",
       "    <tr>\n",
       "      <th>22196</th>\n",
       "      <td>43399</td>\n",
       "      <td>1034 days 13:59:11.397868992</td>\n",
       "    </tr>\n",
       "    <tr>\n",
       "      <th>835</th>\n",
       "      <td>1642</td>\n",
       "      <td>1031 days 05:19:09.461424</td>\n",
       "    </tr>\n",
       "    <tr>\n",
       "      <th>41267</th>\n",
       "      <td>81415</td>\n",
       "      <td>1029 days 04:12:58.103964992</td>\n",
       "    </tr>\n",
       "  </tbody>\n",
       "</table>\n",
       "</div>"
      ],
      "text/plain": [
       "       customer_id                 session_time\n",
       "43284        85396 1090 days 07:44:45.557140992\n",
       "3885          7473 1040 days 09:01:32.393412992\n",
       "22196        43399 1034 days 13:59:11.397868992\n",
       "835           1642    1031 days 05:19:09.461424\n",
       "41267        81415 1029 days 04:12:58.103964992"
      ]
     },
     "execution_count": 36,
     "metadata": {},
     "output_type": "execute_result"
    }
   ],
   "source": [
    "cust_session_time.head()"
   ]
  },
  {
   "cell_type": "code",
   "execution_count": 37,
   "id": "6299fbb6",
   "metadata": {
    "execution": {
     "iopub.execute_input": "2022-10-23T15:31:15.503691Z",
     "iopub.status.busy": "2022-10-23T15:31:15.502637Z",
     "iopub.status.idle": "2022-10-23T15:31:17.605233Z",
     "shell.execute_reply": "2022-10-23T15:31:17.604323Z"
    },
    "papermill": {
     "duration": 2.123356,
     "end_time": "2022-10-23T15:31:17.607807",
     "exception": false,
     "start_time": "2022-10-23T15:31:15.484451",
     "status": "completed"
    },
    "tags": []
   },
   "outputs": [],
   "source": [
    "cust_session_freq = trans.merge(session_time, on='session_id', how='inner')\n",
    "cust_session_freq = cust_session_freq.groupby('customer_id')['session_id'].count().reset_index()\n",
    "cust_session_freq = cust_session_freq.rename(columns = {'session_id' : 'total_session'})\n",
    "cust_session_freq = cust_session_freq.sort_values('total_session', ascending=False)"
   ]
  },
  {
   "cell_type": "code",
   "execution_count": 38,
   "id": "793041ce",
   "metadata": {
    "execution": {
     "iopub.execute_input": "2022-10-23T15:31:17.645963Z",
     "iopub.status.busy": "2022-10-23T15:31:17.645051Z",
     "iopub.status.idle": "2022-10-23T15:31:17.654207Z",
     "shell.execute_reply": "2022-10-23T15:31:17.653142Z"
    },
    "papermill": {
     "duration": 0.030417,
     "end_time": "2022-10-23T15:31:17.656502",
     "exception": false,
     "start_time": "2022-10-23T15:31:17.626085",
     "status": "completed"
    },
    "tags": []
   },
   "outputs": [
    {
     "data": {
      "text/html": [
       "<div>\n",
       "<style scoped>\n",
       "    .dataframe tbody tr th:only-of-type {\n",
       "        vertical-align: middle;\n",
       "    }\n",
       "\n",
       "    .dataframe tbody tr th {\n",
       "        vertical-align: top;\n",
       "    }\n",
       "\n",
       "    .dataframe thead th {\n",
       "        text-align: right;\n",
       "    }\n",
       "</style>\n",
       "<table border=\"1\" class=\"dataframe\">\n",
       "  <thead>\n",
       "    <tr style=\"text-align: right;\">\n",
       "      <th></th>\n",
       "      <th>customer_id</th>\n",
       "      <th>total_session</th>\n",
       "    </tr>\n",
       "  </thead>\n",
       "  <tbody>\n",
       "    <tr>\n",
       "      <th>22114</th>\n",
       "      <td>43202</td>\n",
       "      <td>550</td>\n",
       "    </tr>\n",
       "    <tr>\n",
       "      <th>15106</th>\n",
       "      <td>29496</td>\n",
       "      <td>505</td>\n",
       "    </tr>\n",
       "    <tr>\n",
       "      <th>41660</th>\n",
       "      <td>82237</td>\n",
       "      <td>503</td>\n",
       "    </tr>\n",
       "    <tr>\n",
       "      <th>5261</th>\n",
       "      <td>10167</td>\n",
       "      <td>473</td>\n",
       "    </tr>\n",
       "    <tr>\n",
       "      <th>35432</th>\n",
       "      <td>69740</td>\n",
       "      <td>458</td>\n",
       "    </tr>\n",
       "  </tbody>\n",
       "</table>\n",
       "</div>"
      ],
      "text/plain": [
       "       customer_id  total_session\n",
       "22114        43202            550\n",
       "15106        29496            505\n",
       "41660        82237            503\n",
       "5261         10167            473\n",
       "35432        69740            458"
      ]
     },
     "execution_count": 38,
     "metadata": {},
     "output_type": "execute_result"
    }
   ],
   "source": [
    "cust_session_freq.head()"
   ]
  },
  {
   "cell_type": "code",
   "execution_count": 39,
   "id": "31bf35f4",
   "metadata": {
    "execution": {
     "iopub.execute_input": "2022-10-23T15:31:17.692672Z",
     "iopub.status.busy": "2022-10-23T15:31:17.692232Z",
     "iopub.status.idle": "2022-10-23T15:31:17.725961Z",
     "shell.execute_reply": "2022-10-23T15:31:17.724741Z"
    },
    "papermill": {
     "duration": 0.055045,
     "end_time": "2022-10-23T15:31:17.728469",
     "exception": false,
     "start_time": "2022-10-23T15:31:17.673424",
     "status": "completed"
    },
    "tags": []
   },
   "outputs": [
    {
     "data": {
      "text/html": [
       "<div>\n",
       "<style scoped>\n",
       "    .dataframe tbody tr th:only-of-type {\n",
       "        vertical-align: middle;\n",
       "    }\n",
       "\n",
       "    .dataframe tbody tr th {\n",
       "        vertical-align: top;\n",
       "    }\n",
       "\n",
       "    .dataframe thead th {\n",
       "        text-align: right;\n",
       "    }\n",
       "</style>\n",
       "<table border=\"1\" class=\"dataframe\">\n",
       "  <thead>\n",
       "    <tr style=\"text-align: right;\">\n",
       "      <th></th>\n",
       "      <th>customer_id</th>\n",
       "      <th>total_session</th>\n",
       "      <th>session_time</th>\n",
       "      <th>avg_session_time</th>\n",
       "    </tr>\n",
       "  </thead>\n",
       "  <tbody>\n",
       "    <tr>\n",
       "      <th>0</th>\n",
       "      <td>43202</td>\n",
       "      <td>550</td>\n",
       "      <td>841 days 10:09:22.980147008</td>\n",
       "      <td>1 days 12:42:59.932691176</td>\n",
       "    </tr>\n",
       "    <tr>\n",
       "      <th>1</th>\n",
       "      <td>29496</td>\n",
       "      <td>505</td>\n",
       "      <td>554 days 05:09:02.968033</td>\n",
       "      <td>1 days 02:20:20.085085213</td>\n",
       "    </tr>\n",
       "    <tr>\n",
       "      <th>2</th>\n",
       "      <td>82237</td>\n",
       "      <td>503</td>\n",
       "      <td>706 days 18:34:59.166003</td>\n",
       "      <td>1 days 09:43:22.185220681</td>\n",
       "    </tr>\n",
       "    <tr>\n",
       "      <th>3</th>\n",
       "      <td>10167</td>\n",
       "      <td>473</td>\n",
       "      <td>649 days 21:06:34.125936</td>\n",
       "      <td>1 days 08:58:29.501323331</td>\n",
       "    </tr>\n",
       "    <tr>\n",
       "      <th>4</th>\n",
       "      <td>69740</td>\n",
       "      <td>458</td>\n",
       "      <td>517 days 08:02:01.589935</td>\n",
       "      <td>1 days 03:06:33.278580644</td>\n",
       "    </tr>\n",
       "    <tr>\n",
       "      <th>...</th>\n",
       "      <td>...</td>\n",
       "      <td>...</td>\n",
       "      <td>...</td>\n",
       "      <td>...</td>\n",
       "    </tr>\n",
       "    <tr>\n",
       "      <th>50699</th>\n",
       "      <td>80494</td>\n",
       "      <td>1</td>\n",
       "      <td>0 days 00:40:10.584424</td>\n",
       "      <td>0 days 00:40:10.584424</td>\n",
       "    </tr>\n",
       "    <tr>\n",
       "      <th>50700</th>\n",
       "      <td>14513</td>\n",
       "      <td>1</td>\n",
       "      <td>0 days 00:20:36.573197</td>\n",
       "      <td>0 days 00:20:36.573197</td>\n",
       "    </tr>\n",
       "    <tr>\n",
       "      <th>50701</th>\n",
       "      <td>80510</td>\n",
       "      <td>1</td>\n",
       "      <td>0 days 01:38:16.502030</td>\n",
       "      <td>0 days 01:38:16.502030</td>\n",
       "    </tr>\n",
       "    <tr>\n",
       "      <th>50702</th>\n",
       "      <td>56174</td>\n",
       "      <td>1</td>\n",
       "      <td>0 days 00:49:22.785180</td>\n",
       "      <td>0 days 00:49:22.785180</td>\n",
       "    </tr>\n",
       "    <tr>\n",
       "      <th>50703</th>\n",
       "      <td>99999</td>\n",
       "      <td>1</td>\n",
       "      <td>0 days 00:11:57.803596</td>\n",
       "      <td>0 days 00:11:57.803596</td>\n",
       "    </tr>\n",
       "  </tbody>\n",
       "</table>\n",
       "<p>50704 rows × 4 columns</p>\n",
       "</div>"
      ],
      "text/plain": [
       "       customer_id  total_session                session_time  \\\n",
       "0            43202            550 841 days 10:09:22.980147008   \n",
       "1            29496            505    554 days 05:09:02.968033   \n",
       "2            82237            503    706 days 18:34:59.166003   \n",
       "3            10167            473    649 days 21:06:34.125936   \n",
       "4            69740            458    517 days 08:02:01.589935   \n",
       "...            ...            ...                         ...   \n",
       "50699        80494              1      0 days 00:40:10.584424   \n",
       "50700        14513              1      0 days 00:20:36.573197   \n",
       "50701        80510              1      0 days 01:38:16.502030   \n",
       "50702        56174              1      0 days 00:49:22.785180   \n",
       "50703        99999              1      0 days 00:11:57.803596   \n",
       "\n",
       "               avg_session_time  \n",
       "0     1 days 12:42:59.932691176  \n",
       "1     1 days 02:20:20.085085213  \n",
       "2     1 days 09:43:22.185220681  \n",
       "3     1 days 08:58:29.501323331  \n",
       "4     1 days 03:06:33.278580644  \n",
       "...                         ...  \n",
       "50699    0 days 00:40:10.584424  \n",
       "50700    0 days 00:20:36.573197  \n",
       "50701    0 days 01:38:16.502030  \n",
       "50702    0 days 00:49:22.785180  \n",
       "50703    0 days 00:11:57.803596  \n",
       "\n",
       "[50704 rows x 4 columns]"
      ]
     },
     "execution_count": 39,
     "metadata": {},
     "output_type": "execute_result"
    }
   ],
   "source": [
    "cust_sess_total = cust_session_freq.merge(cust_session_time, on='customer_id')\n",
    "cust_sess_total['avg_session_time'] = cust_sess_total['session_time'] / cust_sess_total['total_session']\n",
    "cust_sess_total"
   ]
  },
  {
   "cell_type": "markdown",
   "id": "442eb822",
   "metadata": {
    "papermill": {
     "duration": 0.017222,
     "end_time": "2022-10-23T15:31:17.762991",
     "exception": false,
     "start_time": "2022-10-23T15:31:17.745769",
     "status": "completed"
    },
    "tags": []
   },
   "source": [
    "# Normalize json"
   ]
  },
  {
   "cell_type": "code",
   "execution_count": 40,
   "id": "666c35d3",
   "metadata": {
    "execution": {
     "iopub.execute_input": "2022-10-23T15:31:17.800774Z",
     "iopub.status.busy": "2022-10-23T15:31:17.800315Z",
     "iopub.status.idle": "2022-10-23T15:31:19.093963Z",
     "shell.execute_reply": "2022-10-23T15:31:19.092702Z"
    },
    "papermill": {
     "duration": 1.316288,
     "end_time": "2022-10-23T15:31:19.096688",
     "exception": false,
     "start_time": "2022-10-23T15:31:17.780400",
     "status": "completed"
    },
    "tags": []
   },
   "outputs": [],
   "source": [
    "click['event_metadata'] = click['event_metadata'].fillna('{}')"
   ]
  },
  {
   "cell_type": "code",
   "execution_count": 41,
   "id": "16cf8216",
   "metadata": {
    "execution": {
     "iopub.execute_input": "2022-10-23T15:31:19.134074Z",
     "iopub.status.busy": "2022-10-23T15:31:19.133404Z",
     "iopub.status.idle": "2022-10-23T15:33:18.856256Z",
     "shell.execute_reply": "2022-10-23T15:33:18.855061Z"
    },
    "papermill": {
     "duration": 119.745136,
     "end_time": "2022-10-23T15:33:18.859234",
     "exception": false,
     "start_time": "2022-10-23T15:31:19.114098",
     "status": "completed"
    },
    "tags": []
   },
   "outputs": [],
   "source": [
    "click['event_metadata'] = click['event_metadata'].apply(ast.literal_eval)"
   ]
  },
  {
   "cell_type": "code",
   "execution_count": 42,
   "id": "eaed073c",
   "metadata": {
    "execution": {
     "iopub.execute_input": "2022-10-23T15:33:18.895611Z",
     "iopub.status.busy": "2022-10-23T15:33:18.895233Z",
     "iopub.status.idle": "2022-10-23T15:34:14.375169Z",
     "shell.execute_reply": "2022-10-23T15:34:14.374258Z"
    },
    "papermill": {
     "duration": 55.501134,
     "end_time": "2022-10-23T15:34:14.377828",
     "exception": false,
     "start_time": "2022-10-23T15:33:18.876694",
     "status": "completed"
    },
    "tags": []
   },
   "outputs": [],
   "source": [
    "click = pd.concat([click.drop(['event_metadata'], axis=1), pd.json_normalize(click['event_metadata'])], axis=1)"
   ]
  },
  {
   "cell_type": "code",
   "execution_count": 43,
   "id": "567378a7",
   "metadata": {
    "execution": {
     "iopub.execute_input": "2022-10-23T15:34:14.416412Z",
     "iopub.status.busy": "2022-10-23T15:34:14.415042Z",
     "iopub.status.idle": "2022-10-23T15:34:20.897052Z",
     "shell.execute_reply": "2022-10-23T15:34:20.896143Z"
    },
    "papermill": {
     "duration": 6.503137,
     "end_time": "2022-10-23T15:34:20.899493",
     "exception": false,
     "start_time": "2022-10-23T15:34:14.396356",
     "status": "completed"
    },
    "tags": []
   },
   "outputs": [
    {
     "data": {
      "text/html": [
       "<div>\n",
       "<style scoped>\n",
       "    .dataframe tbody tr th:only-of-type {\n",
       "        vertical-align: middle;\n",
       "    }\n",
       "\n",
       "    .dataframe tbody tr th {\n",
       "        vertical-align: top;\n",
       "    }\n",
       "\n",
       "    .dataframe thead th {\n",
       "        text-align: right;\n",
       "    }\n",
       "</style>\n",
       "<table border=\"1\" class=\"dataframe\">\n",
       "  <thead>\n",
       "    <tr style=\"text-align: right;\">\n",
       "      <th></th>\n",
       "      <th>session_id</th>\n",
       "      <th>product_id</th>\n",
       "      <th>quantity</th>\n",
       "      <th>item_price</th>\n",
       "    </tr>\n",
       "  </thead>\n",
       "  <tbody>\n",
       "    <tr>\n",
       "      <th>3</th>\n",
       "      <td>7d440441-e67a-4d36-b324-80ffd636d166</td>\n",
       "      <td>15315.0</td>\n",
       "      <td>4.0</td>\n",
       "      <td>313529.0</td>\n",
       "    </tr>\n",
       "    <tr>\n",
       "      <th>12</th>\n",
       "      <td>f7b5cd60-4f87-4b3c-8bde-c7da8930eec2</td>\n",
       "      <td>6133.0</td>\n",
       "      <td>2.0</td>\n",
       "      <td>249443.0</td>\n",
       "    </tr>\n",
       "    <tr>\n",
       "      <th>13</th>\n",
       "      <td>f7b5cd60-4f87-4b3c-8bde-c7da8930eec2</td>\n",
       "      <td>6721.0</td>\n",
       "      <td>1.0</td>\n",
       "      <td>134504.0</td>\n",
       "    </tr>\n",
       "    <tr>\n",
       "      <th>14</th>\n",
       "      <td>f7b5cd60-4f87-4b3c-8bde-c7da8930eec2</td>\n",
       "      <td>57622.0</td>\n",
       "      <td>1.0</td>\n",
       "      <td>384716.0</td>\n",
       "    </tr>\n",
       "    <tr>\n",
       "      <th>15</th>\n",
       "      <td>f7b5cd60-4f87-4b3c-8bde-c7da8930eec2</td>\n",
       "      <td>5490.0</td>\n",
       "      <td>1.0</td>\n",
       "      <td>121318.0</td>\n",
       "    </tr>\n",
       "    <tr>\n",
       "      <th>...</th>\n",
       "      <td>...</td>\n",
       "      <td>...</td>\n",
       "      <td>...</td>\n",
       "      <td>...</td>\n",
       "    </tr>\n",
       "    <tr>\n",
       "      <th>12833583</th>\n",
       "      <td>f38416ce-51f2-46b0-a476-776d8fed1cb0</td>\n",
       "      <td>4869.0</td>\n",
       "      <td>1.0</td>\n",
       "      <td>282771.0</td>\n",
       "    </tr>\n",
       "    <tr>\n",
       "      <th>12833587</th>\n",
       "      <td>c1ce86f6-858b-4009-af5b-f1483a28d020</td>\n",
       "      <td>25127.0</td>\n",
       "      <td>1.0</td>\n",
       "      <td>166365.0</td>\n",
       "    </tr>\n",
       "    <tr>\n",
       "      <th>12833591</th>\n",
       "      <td>f5c4bbe0-f977-45bb-af23-6ab524df7777</td>\n",
       "      <td>19386.0</td>\n",
       "      <td>1.0</td>\n",
       "      <td>208644.0</td>\n",
       "    </tr>\n",
       "    <tr>\n",
       "      <th>12833595</th>\n",
       "      <td>ad1063b0-a6e5-40a9-aed6-d1b45741e571</td>\n",
       "      <td>13143.0</td>\n",
       "      <td>1.0</td>\n",
       "      <td>284949.0</td>\n",
       "    </tr>\n",
       "    <tr>\n",
       "      <th>12833599</th>\n",
       "      <td>64585e37-3fe7-48d7-b79b-ebcb70230eb2</td>\n",
       "      <td>19820.0</td>\n",
       "      <td>1.0</td>\n",
       "      <td>88918.0</td>\n",
       "    </tr>\n",
       "  </tbody>\n",
       "</table>\n",
       "<p>1937157 rows × 4 columns</p>\n",
       "</div>"
      ],
      "text/plain": [
       "                                    session_id  product_id  quantity  \\\n",
       "3         7d440441-e67a-4d36-b324-80ffd636d166     15315.0       4.0   \n",
       "12        f7b5cd60-4f87-4b3c-8bde-c7da8930eec2      6133.0       2.0   \n",
       "13        f7b5cd60-4f87-4b3c-8bde-c7da8930eec2      6721.0       1.0   \n",
       "14        f7b5cd60-4f87-4b3c-8bde-c7da8930eec2     57622.0       1.0   \n",
       "15        f7b5cd60-4f87-4b3c-8bde-c7da8930eec2      5490.0       1.0   \n",
       "...                                        ...         ...       ...   \n",
       "12833583  f38416ce-51f2-46b0-a476-776d8fed1cb0      4869.0       1.0   \n",
       "12833587  c1ce86f6-858b-4009-af5b-f1483a28d020     25127.0       1.0   \n",
       "12833591  f5c4bbe0-f977-45bb-af23-6ab524df7777     19386.0       1.0   \n",
       "12833595  ad1063b0-a6e5-40a9-aed6-d1b45741e571     13143.0       1.0   \n",
       "12833599  64585e37-3fe7-48d7-b79b-ebcb70230eb2     19820.0       1.0   \n",
       "\n",
       "          item_price  \n",
       "3           313529.0  \n",
       "12          249443.0  \n",
       "13          134504.0  \n",
       "14          384716.0  \n",
       "15          121318.0  \n",
       "...              ...  \n",
       "12833583    282771.0  \n",
       "12833587    166365.0  \n",
       "12833591    208644.0  \n",
       "12833595    284949.0  \n",
       "12833599     88918.0  \n",
       "\n",
       "[1937157 rows x 4 columns]"
      ]
     },
     "execution_count": 43,
     "metadata": {},
     "output_type": "execute_result"
    }
   ],
   "source": [
    "# search_click = click[click['event_name'] == 'SEARCH'][['session_id','search_keywords']]\n",
    "add_to_cart_click = click[click['event_name'] == 'ADD_TO_CART'][['session_id','product_id','quantity','item_price']]\n",
    "add_to_cart_click"
   ]
  },
  {
   "cell_type": "code",
   "execution_count": 44,
   "id": "a47749bd",
   "metadata": {
    "execution": {
     "iopub.execute_input": "2022-10-23T15:34:20.936640Z",
     "iopub.status.busy": "2022-10-23T15:34:20.936053Z",
     "iopub.status.idle": "2022-10-23T15:34:22.389362Z",
     "shell.execute_reply": "2022-10-23T15:34:22.387678Z"
    },
    "papermill": {
     "duration": 1.476047,
     "end_time": "2022-10-23T15:34:22.393347",
     "exception": false,
     "start_time": "2022-10-23T15:34:20.917300",
     "status": "completed"
    },
    "tags": []
   },
   "outputs": [
    {
     "data": {
      "text/plain": [
       "eaeb79af-fbe8-4825-8457-c73f5937ef96    52\n",
       "63687c42-bbbc-443a-be21-2e15e0e8c7a9    49\n",
       "5f3094ac-b3e4-4dc1-b1a2-bd492634abea    49\n",
       "2744464b-1097-4bb5-89e2-275aba30d3ea    48\n",
       "5aa4bcd3-d4a7-400f-a11f-5cf38b751fe4    43\n",
       "                                        ..\n",
       "d57ffd34-889c-47a3-8c5c-7f7b6b443956     1\n",
       "d60e345b-31a0-410d-895f-3e40a88d94ce     1\n",
       "5cd98885-b44b-4d23-9490-bbaf4387bae7     1\n",
       "514d016e-1fd4-48fb-a890-599bcf8a27c4     1\n",
       "64585e37-3fe7-48d7-b79b-ebcb70230eb2     1\n",
       "Name: session_id, Length: 872061, dtype: int64"
      ]
     },
     "execution_count": 44,
     "metadata": {},
     "output_type": "execute_result"
    }
   ],
   "source": [
    "add_to_cart_click['session_id'].value_counts()"
   ]
  }
 ],
 "metadata": {
  "kernelspec": {
   "display_name": "Python 3",
   "language": "python",
   "name": "python3"
  },
  "language_info": {
   "codemirror_mode": {
    "name": "ipython",
    "version": 3
   },
   "file_extension": ".py",
   "mimetype": "text/x-python",
   "name": "python",
   "nbconvert_exporter": "python",
   "pygments_lexer": "ipython3",
   "version": "3.7.12"
  },
  "papermill": {
   "default_parameters": {},
   "duration": 506.530302,
   "end_time": "2022-10-23T15:34:26.259080",
   "environment_variables": {},
   "exception": null,
   "input_path": "__notebook__.ipynb",
   "output_path": "__notebook__.ipynb",
   "parameters": {},
   "start_time": "2022-10-23T15:25:59.728778",
   "version": "2.3.4"
  }
 },
 "nbformat": 4,
 "nbformat_minor": 5
}
