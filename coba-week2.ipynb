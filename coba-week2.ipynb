{
 "cells": [
  {
   "cell_type": "markdown",
   "id": "d8f457d8",
   "metadata": {
    "papermill": {
     "duration": 0.024906,
     "end_time": "2022-10-24T14:32:53.776860",
     "exception": false,
     "start_time": "2022-10-24T14:32:53.751954",
     "status": "completed"
    },
    "tags": []
   },
   "source": [
    "# Import Library"
   ]
  },
  {
   "cell_type": "code",
   "execution_count": 1,
   "id": "638de71c",
   "metadata": {
    "execution": {
     "iopub.execute_input": "2022-10-24T14:32:53.820881Z",
     "iopub.status.busy": "2022-10-24T14:32:53.819607Z",
     "iopub.status.idle": "2022-10-24T14:32:55.102663Z",
     "shell.execute_reply": "2022-10-24T14:32:55.101462Z"
    },
    "papermill": {
     "duration": 1.308199,
     "end_time": "2022-10-24T14:32:55.105618",
     "exception": false,
     "start_time": "2022-10-24T14:32:53.797419",
     "status": "completed"
    },
    "tags": []
   },
   "outputs": [],
   "source": [
    "import numpy as np\n",
    "import pandas as pd\n",
    "import matplotlib.pyplot as plt\n",
    "import seaborn as sns\n",
    "plt.style.use('fivethirtyeight')\n",
    "import warnings\n",
    "warnings.filterwarnings('ignore')\n",
    "%matplotlib inline\n",
    "import ast\n",
    "import json"
   ]
  },
  {
   "cell_type": "markdown",
   "id": "881a8c2d",
   "metadata": {
    "papermill": {
     "duration": 0.019833,
     "end_time": "2022-10-24T14:32:55.145952",
     "exception": false,
     "start_time": "2022-10-24T14:32:55.126119",
     "status": "completed"
    },
    "tags": []
   },
   "source": [
    "# Read Data "
   ]
  },
  {
   "cell_type": "code",
   "execution_count": 2,
   "id": "fe51c133",
   "metadata": {
    "execution": {
     "iopub.execute_input": "2022-10-24T14:32:55.188813Z",
     "iopub.status.busy": "2022-10-24T14:32:55.188356Z",
     "iopub.status.idle": "2022-10-24T14:34:07.862305Z",
     "shell.execute_reply": "2022-10-24T14:34:07.860578Z"
    },
    "papermill": {
     "duration": 72.699065,
     "end_time": "2022-10-24T14:34:07.865426",
     "exception": false,
     "start_time": "2022-10-24T14:32:55.166361",
     "status": "completed"
    },
    "tags": []
   },
   "outputs": [],
   "source": [
    "click = pd.read_csv('../input/fashion-campus/click_stream.csv')\n",
    "cust = pd.read_csv('../input/fashion-campus/customer.csv')\n",
    "product = pd.read_csv('../input/fashion-campus/product.csv', on_bad_lines='skip')\n",
    "trans = pd.read_csv('../input/fashion-campus/transactions.csv')"
   ]
  },
  {
   "cell_type": "markdown",
   "id": "b278e614",
   "metadata": {
    "papermill": {
     "duration": 0.02022,
     "end_time": "2022-10-24T14:34:07.906511",
     "exception": false,
     "start_time": "2022-10-24T14:34:07.886291",
     "status": "completed"
    },
    "tags": []
   },
   "source": [
    "# Cek Data Transaksi dan Click Stream Booking"
   ]
  },
  {
   "cell_type": "code",
   "execution_count": 3,
   "id": "0a165cb9",
   "metadata": {
    "execution": {
     "iopub.execute_input": "2022-10-24T14:34:07.949948Z",
     "iopub.status.busy": "2022-10-24T14:34:07.949501Z",
     "iopub.status.idle": "2022-10-24T14:34:09.093479Z",
     "shell.execute_reply": "2022-10-24T14:34:09.092050Z"
    },
    "papermill": {
     "duration": 1.169513,
     "end_time": "2022-10-24T14:34:09.096430",
     "exception": false,
     "start_time": "2022-10-24T14:34:07.926917",
     "status": "completed"
    },
    "tags": []
   },
   "outputs": [],
   "source": [
    "ses_book = click[click['event_name'] == 'BOOKING']"
   ]
  },
  {
   "cell_type": "code",
   "execution_count": 4,
   "id": "f13ca982",
   "metadata": {
    "execution": {
     "iopub.execute_input": "2022-10-24T14:34:09.140350Z",
     "iopub.status.busy": "2022-10-24T14:34:09.139895Z",
     "iopub.status.idle": "2022-10-24T14:34:11.432763Z",
     "shell.execute_reply": "2022-10-24T14:34:11.431251Z"
    },
    "papermill": {
     "duration": 2.319363,
     "end_time": "2022-10-24T14:34:11.436508",
     "exception": false,
     "start_time": "2022-10-24T14:34:09.117145",
     "status": "completed"
    },
    "tags": []
   },
   "outputs": [],
   "source": [
    "trans_book = trans[['booking_id','session_id']].merge(ses_book, on='session_id', how='left', indicator=True)"
   ]
  },
  {
   "cell_type": "code",
   "execution_count": 5,
   "id": "17840fb7",
   "metadata": {
    "execution": {
     "iopub.execute_input": "2022-10-24T14:34:11.501584Z",
     "iopub.status.busy": "2022-10-24T14:34:11.501103Z",
     "iopub.status.idle": "2022-10-24T14:34:11.527962Z",
     "shell.execute_reply": "2022-10-24T14:34:11.527005Z"
    },
    "papermill": {
     "duration": 0.066686,
     "end_time": "2022-10-24T14:34:11.532470",
     "exception": false,
     "start_time": "2022-10-24T14:34:11.465784",
     "status": "completed"
    },
    "tags": []
   },
   "outputs": [
    {
     "data": {
      "text/html": [
       "<div>\n",
       "<style scoped>\n",
       "    .dataframe tbody tr th:only-of-type {\n",
       "        vertical-align: middle;\n",
       "    }\n",
       "\n",
       "    .dataframe tbody tr th {\n",
       "        vertical-align: top;\n",
       "    }\n",
       "\n",
       "    .dataframe thead th {\n",
       "        text-align: right;\n",
       "    }\n",
       "</style>\n",
       "<table border=\"1\" class=\"dataframe\">\n",
       "  <thead>\n",
       "    <tr style=\"text-align: right;\">\n",
       "      <th></th>\n",
       "      <th>booking_id</th>\n",
       "      <th>session_id</th>\n",
       "      <th>event_name</th>\n",
       "      <th>event_time</th>\n",
       "      <th>event_id</th>\n",
       "      <th>traffic_source</th>\n",
       "      <th>event_metadata</th>\n",
       "      <th>_merge</th>\n",
       "    </tr>\n",
       "  </thead>\n",
       "  <tbody>\n",
       "    <tr>\n",
       "      <th>0</th>\n",
       "      <td>186e2bee-0637-4710-8981-50c2d737bc42</td>\n",
       "      <td>3abaa6ce-e320-4e51-9469-d9f3fa328e86</td>\n",
       "      <td>BOOKING</td>\n",
       "      <td>2018-07-29T15:22:01.458193Z</td>\n",
       "      <td>74a81855-2725-42f8-968d-9a142316745d</td>\n",
       "      <td>WEB</td>\n",
       "      <td>{'payment_status': 'Success'}</td>\n",
       "      <td>both</td>\n",
       "    </tr>\n",
       "    <tr>\n",
       "      <th>1</th>\n",
       "      <td>caadb57b-e808-4f94-9e96-8a7d4c9898db</td>\n",
       "      <td>2ee5ead1-f13e-4759-92df-7ff48475e970</td>\n",
       "      <td>BOOKING</td>\n",
       "      <td>2018-07-30T12:40:22.365620Z</td>\n",
       "      <td>ace20e22-053f-416c-987f-7d9599c30353</td>\n",
       "      <td>MOBILE</td>\n",
       "      <td>{'payment_status': 'Success'}</td>\n",
       "      <td>both</td>\n",
       "    </tr>\n",
       "    <tr>\n",
       "      <th>2</th>\n",
       "      <td>6000fffb-9c1a-4f4a-9296-bc8f6b622b50</td>\n",
       "      <td>93325fb6-eb00-4268-bb0e-6471795a0ad0</td>\n",
       "      <td>BOOKING</td>\n",
       "      <td>2018-09-15T11:51:17.365620Z</td>\n",
       "      <td>8dd15a94-e987-4bdf-a9c9-9a5d2072e8a5</td>\n",
       "      <td>MOBILE</td>\n",
       "      <td>{'payment_status': 'Success'}</td>\n",
       "      <td>both</td>\n",
       "    </tr>\n",
       "    <tr>\n",
       "      <th>3</th>\n",
       "      <td>f5e530a7-4350-4cd1-a3bc-525b5037bcab</td>\n",
       "      <td>bcad5a61-1b67-448d-8ff4-781d67bc56e4</td>\n",
       "      <td>BOOKING</td>\n",
       "      <td>2018-11-01T11:23:48.365620Z</td>\n",
       "      <td>e44648d8-be8c-47ac-ab38-ba67cfb03d11</td>\n",
       "      <td>MOBILE</td>\n",
       "      <td>{'payment_status': 'Success'}</td>\n",
       "      <td>both</td>\n",
       "    </tr>\n",
       "    <tr>\n",
       "      <th>4</th>\n",
       "      <td>0efc0594-dbbf-4f9a-b0b0-a488cfddf8a2</td>\n",
       "      <td>df1042ab-13e6-4072-b9d2-64a81974c51a</td>\n",
       "      <td>BOOKING</td>\n",
       "      <td>2018-12-18T11:20:30.365620Z</td>\n",
       "      <td>4db72e33-b40f-4f5e-a9dc-b60caa989b37</td>\n",
       "      <td>MOBILE</td>\n",
       "      <td>{'payment_status': 'Success'}</td>\n",
       "      <td>both</td>\n",
       "    </tr>\n",
       "  </tbody>\n",
       "</table>\n",
       "</div>"
      ],
      "text/plain": [
       "                             booking_id                            session_id  \\\n",
       "0  186e2bee-0637-4710-8981-50c2d737bc42  3abaa6ce-e320-4e51-9469-d9f3fa328e86   \n",
       "1  caadb57b-e808-4f94-9e96-8a7d4c9898db  2ee5ead1-f13e-4759-92df-7ff48475e970   \n",
       "2  6000fffb-9c1a-4f4a-9296-bc8f6b622b50  93325fb6-eb00-4268-bb0e-6471795a0ad0   \n",
       "3  f5e530a7-4350-4cd1-a3bc-525b5037bcab  bcad5a61-1b67-448d-8ff4-781d67bc56e4   \n",
       "4  0efc0594-dbbf-4f9a-b0b0-a488cfddf8a2  df1042ab-13e6-4072-b9d2-64a81974c51a   \n",
       "\n",
       "  event_name                   event_time  \\\n",
       "0    BOOKING  2018-07-29T15:22:01.458193Z   \n",
       "1    BOOKING  2018-07-30T12:40:22.365620Z   \n",
       "2    BOOKING  2018-09-15T11:51:17.365620Z   \n",
       "3    BOOKING  2018-11-01T11:23:48.365620Z   \n",
       "4    BOOKING  2018-12-18T11:20:30.365620Z   \n",
       "\n",
       "                               event_id traffic_source  \\\n",
       "0  74a81855-2725-42f8-968d-9a142316745d            WEB   \n",
       "1  ace20e22-053f-416c-987f-7d9599c30353         MOBILE   \n",
       "2  8dd15a94-e987-4bdf-a9c9-9a5d2072e8a5         MOBILE   \n",
       "3  e44648d8-be8c-47ac-ab38-ba67cfb03d11         MOBILE   \n",
       "4  4db72e33-b40f-4f5e-a9dc-b60caa989b37         MOBILE   \n",
       "\n",
       "                  event_metadata _merge  \n",
       "0  {'payment_status': 'Success'}   both  \n",
       "1  {'payment_status': 'Success'}   both  \n",
       "2  {'payment_status': 'Success'}   both  \n",
       "3  {'payment_status': 'Success'}   both  \n",
       "4  {'payment_status': 'Success'}   both  "
      ]
     },
     "execution_count": 5,
     "metadata": {},
     "output_type": "execute_result"
    }
   ],
   "source": [
    "trans_book.head()"
   ]
  },
  {
   "cell_type": "code",
   "execution_count": 6,
   "id": "cb88d2f3",
   "metadata": {
    "execution": {
     "iopub.execute_input": "2022-10-24T14:34:11.582657Z",
     "iopub.status.busy": "2022-10-24T14:34:11.582107Z",
     "iopub.status.idle": "2022-10-24T14:34:11.600631Z",
     "shell.execute_reply": "2022-10-24T14:34:11.599348Z"
    },
    "papermill": {
     "duration": 0.043814,
     "end_time": "2022-10-24T14:34:11.603628",
     "exception": false,
     "start_time": "2022-10-24T14:34:11.559814",
     "status": "completed"
    },
    "tags": []
   },
   "outputs": [
    {
     "data": {
      "text/html": [
       "<div>\n",
       "<style scoped>\n",
       "    .dataframe tbody tr th:only-of-type {\n",
       "        vertical-align: middle;\n",
       "    }\n",
       "\n",
       "    .dataframe tbody tr th {\n",
       "        vertical-align: top;\n",
       "    }\n",
       "\n",
       "    .dataframe thead th {\n",
       "        text-align: right;\n",
       "    }\n",
       "</style>\n",
       "<table border=\"1\" class=\"dataframe\">\n",
       "  <thead>\n",
       "    <tr style=\"text-align: right;\">\n",
       "      <th></th>\n",
       "      <th>booking_id</th>\n",
       "      <th>session_id</th>\n",
       "      <th>event_name</th>\n",
       "      <th>event_time</th>\n",
       "      <th>event_id</th>\n",
       "      <th>traffic_source</th>\n",
       "      <th>event_metadata</th>\n",
       "      <th>_merge</th>\n",
       "    </tr>\n",
       "  </thead>\n",
       "  <tbody>\n",
       "    <tr>\n",
       "      <th>848700</th>\n",
       "      <td>9dd7ca0b-0c84-473b-8c2d-2998358b4782</td>\n",
       "      <td>a00f6bc1-87a4-4a03-84b9-3cf9874f1613</td>\n",
       "      <td>NaN</td>\n",
       "      <td>NaN</td>\n",
       "      <td>NaN</td>\n",
       "      <td>NaN</td>\n",
       "      <td>NaN</td>\n",
       "      <td>left_only</td>\n",
       "    </tr>\n",
       "    <tr>\n",
       "      <th>848701</th>\n",
       "      <td>24793e46-d2d6-4b21-8223-4d721a133a85</td>\n",
       "      <td>72dc1452-68fe-439b-bf4b-e3050597bba5</td>\n",
       "      <td>NaN</td>\n",
       "      <td>NaN</td>\n",
       "      <td>NaN</td>\n",
       "      <td>NaN</td>\n",
       "      <td>NaN</td>\n",
       "      <td>left_only</td>\n",
       "    </tr>\n",
       "  </tbody>\n",
       "</table>\n",
       "</div>"
      ],
      "text/plain": [
       "                                  booking_id  \\\n",
       "848700  9dd7ca0b-0c84-473b-8c2d-2998358b4782   \n",
       "848701  24793e46-d2d6-4b21-8223-4d721a133a85   \n",
       "\n",
       "                                  session_id event_name event_time event_id  \\\n",
       "848700  a00f6bc1-87a4-4a03-84b9-3cf9874f1613        NaN        NaN      NaN   \n",
       "848701  72dc1452-68fe-439b-bf4b-e3050597bba5        NaN        NaN      NaN   \n",
       "\n",
       "       traffic_source event_metadata     _merge  \n",
       "848700            NaN            NaN  left_only  \n",
       "848701            NaN            NaN  left_only  "
      ]
     },
     "execution_count": 6,
     "metadata": {},
     "output_type": "execute_result"
    }
   ],
   "source": [
    "trans_book[trans_book['_merge'] == 'left_only']"
   ]
  },
  {
   "cell_type": "markdown",
   "id": "7ec38350",
   "metadata": {
    "papermill": {
     "duration": 0.02089,
     "end_time": "2022-10-24T14:34:11.645241",
     "exception": false,
     "start_time": "2022-10-24T14:34:11.624351",
     "status": "completed"
    },
    "tags": []
   },
   "source": [
    "terdapat 2 data transaksi yang event_name nya bukan BOOKING, padahal dia punya booking_id, mari kita cari tahu apa event_namenya"
   ]
  },
  {
   "cell_type": "code",
   "execution_count": 7,
   "id": "9e59772d",
   "metadata": {
    "execution": {
     "iopub.execute_input": "2022-10-24T14:34:11.695333Z",
     "iopub.status.busy": "2022-10-24T14:34:11.694849Z",
     "iopub.status.idle": "2022-10-24T14:34:12.561452Z",
     "shell.execute_reply": "2022-10-24T14:34:12.560106Z"
    },
    "papermill": {
     "duration": 0.895032,
     "end_time": "2022-10-24T14:34:12.564107",
     "exception": false,
     "start_time": "2022-10-24T14:34:11.669075",
     "status": "completed"
    },
    "tags": []
   },
   "outputs": [
    {
     "data": {
      "text/html": [
       "<div>\n",
       "<style scoped>\n",
       "    .dataframe tbody tr th:only-of-type {\n",
       "        vertical-align: middle;\n",
       "    }\n",
       "\n",
       "    .dataframe tbody tr th {\n",
       "        vertical-align: top;\n",
       "    }\n",
       "\n",
       "    .dataframe thead th {\n",
       "        text-align: right;\n",
       "    }\n",
       "</style>\n",
       "<table border=\"1\" class=\"dataframe\">\n",
       "  <thead>\n",
       "    <tr style=\"text-align: right;\">\n",
       "      <th></th>\n",
       "      <th>session_id</th>\n",
       "      <th>event_name</th>\n",
       "      <th>event_metadata</th>\n",
       "    </tr>\n",
       "  </thead>\n",
       "  <tbody>\n",
       "  </tbody>\n",
       "</table>\n",
       "</div>"
      ],
      "text/plain": [
       "Empty DataFrame\n",
       "Columns: [session_id, event_name, event_metadata]\n",
       "Index: []"
      ]
     },
     "execution_count": 7,
     "metadata": {},
     "output_type": "execute_result"
    }
   ],
   "source": [
    "click[click['session_id'] == 'a00f6bc1-87a4-4a03-84b9-3cf9874f1613'][['session_id','event_name','event_metadata']]"
   ]
  },
  {
   "cell_type": "code",
   "execution_count": 8,
   "id": "b3b48221",
   "metadata": {
    "execution": {
     "iopub.execute_input": "2022-10-24T14:34:12.608209Z",
     "iopub.status.busy": "2022-10-24T14:34:12.607732Z",
     "iopub.status.idle": "2022-10-24T14:34:13.492812Z",
     "shell.execute_reply": "2022-10-24T14:34:13.491512Z"
    },
    "papermill": {
     "duration": 0.910326,
     "end_time": "2022-10-24T14:34:13.495532",
     "exception": false,
     "start_time": "2022-10-24T14:34:12.585206",
     "status": "completed"
    },
    "tags": []
   },
   "outputs": [
    {
     "data": {
      "text/html": [
       "<div>\n",
       "<style scoped>\n",
       "    .dataframe tbody tr th:only-of-type {\n",
       "        vertical-align: middle;\n",
       "    }\n",
       "\n",
       "    .dataframe tbody tr th {\n",
       "        vertical-align: top;\n",
       "    }\n",
       "\n",
       "    .dataframe thead th {\n",
       "        text-align: right;\n",
       "    }\n",
       "</style>\n",
       "<table border=\"1\" class=\"dataframe\">\n",
       "  <thead>\n",
       "    <tr style=\"text-align: right;\">\n",
       "      <th></th>\n",
       "      <th>session_id</th>\n",
       "      <th>event_name</th>\n",
       "      <th>event_metadata</th>\n",
       "    </tr>\n",
       "  </thead>\n",
       "  <tbody>\n",
       "  </tbody>\n",
       "</table>\n",
       "</div>"
      ],
      "text/plain": [
       "Empty DataFrame\n",
       "Columns: [session_id, event_name, event_metadata]\n",
       "Index: []"
      ]
     },
     "execution_count": 8,
     "metadata": {},
     "output_type": "execute_result"
    }
   ],
   "source": [
    "click[click['session_id'] == '72dc1452-68fe-439b-bf4b-e3050597bba5'][['session_id','event_name','event_metadata']]"
   ]
  },
  {
   "cell_type": "markdown",
   "id": "5a0b4af8",
   "metadata": {
    "papermill": {
     "duration": 0.020942,
     "end_time": "2022-10-24T14:34:13.537827",
     "exception": false,
     "start_time": "2022-10-24T14:34:13.516885",
     "status": "completed"
    },
    "tags": []
   },
   "source": [
    "ternyata dia gadaa data session_id dan click_streamnya? HOW CAN?! mari kita lihat data lain yang punya event_name BOOKING"
   ]
  },
  {
   "cell_type": "code",
   "execution_count": 9,
   "id": "9ed9cad8",
   "metadata": {
    "execution": {
     "iopub.execute_input": "2022-10-24T14:34:13.584918Z",
     "iopub.status.busy": "2022-10-24T14:34:13.584515Z",
     "iopub.status.idle": "2022-10-24T14:34:14.447556Z",
     "shell.execute_reply": "2022-10-24T14:34:14.446047Z"
    },
    "papermill": {
     "duration": 0.889283,
     "end_time": "2022-10-24T14:34:14.450307",
     "exception": false,
     "start_time": "2022-10-24T14:34:13.561024",
     "status": "completed"
    },
    "tags": []
   },
   "outputs": [
    {
     "data": {
      "text/html": [
       "<div>\n",
       "<style scoped>\n",
       "    .dataframe tbody tr th:only-of-type {\n",
       "        vertical-align: middle;\n",
       "    }\n",
       "\n",
       "    .dataframe tbody tr th {\n",
       "        vertical-align: top;\n",
       "    }\n",
       "\n",
       "    .dataframe thead th {\n",
       "        text-align: right;\n",
       "    }\n",
       "</style>\n",
       "<table border=\"1\" class=\"dataframe\">\n",
       "  <thead>\n",
       "    <tr style=\"text-align: right;\">\n",
       "      <th></th>\n",
       "      <th>session_id</th>\n",
       "      <th>event_name</th>\n",
       "      <th>event_metadata</th>\n",
       "    </tr>\n",
       "  </thead>\n",
       "  <tbody>\n",
       "    <tr>\n",
       "      <th>12609138</th>\n",
       "      <td>3abaa6ce-e320-4e51-9469-d9f3fa328e86</td>\n",
       "      <td>HOMEPAGE</td>\n",
       "      <td>NaN</td>\n",
       "    </tr>\n",
       "    <tr>\n",
       "      <th>12609139</th>\n",
       "      <td>3abaa6ce-e320-4e51-9469-d9f3fa328e86</td>\n",
       "      <td>ADD_TO_CART</td>\n",
       "      <td>{'product_id': 54728, 'quantity': 1, 'item_pri...</td>\n",
       "    </tr>\n",
       "    <tr>\n",
       "      <th>12609140</th>\n",
       "      <td>3abaa6ce-e320-4e51-9469-d9f3fa328e86</td>\n",
       "      <td>ADD_PROMO</td>\n",
       "      <td>{'promo_code': 'WEEKENDSERU', 'promo_amount': ...</td>\n",
       "    </tr>\n",
       "    <tr>\n",
       "      <th>12609141</th>\n",
       "      <td>3abaa6ce-e320-4e51-9469-d9f3fa328e86</td>\n",
       "      <td>BOOKING</td>\n",
       "      <td>{'payment_status': 'Success'}</td>\n",
       "    </tr>\n",
       "    <tr>\n",
       "      <th>12609142</th>\n",
       "      <td>3abaa6ce-e320-4e51-9469-d9f3fa328e86</td>\n",
       "      <td>CLICK</td>\n",
       "      <td>NaN</td>\n",
       "    </tr>\n",
       "    <tr>\n",
       "      <th>12609143</th>\n",
       "      <td>3abaa6ce-e320-4e51-9469-d9f3fa328e86</td>\n",
       "      <td>CLICK</td>\n",
       "      <td>NaN</td>\n",
       "    </tr>\n",
       "    <tr>\n",
       "      <th>12609144</th>\n",
       "      <td>3abaa6ce-e320-4e51-9469-d9f3fa328e86</td>\n",
       "      <td>PROMO_PAGE</td>\n",
       "      <td>NaN</td>\n",
       "    </tr>\n",
       "    <tr>\n",
       "      <th>12609145</th>\n",
       "      <td>3abaa6ce-e320-4e51-9469-d9f3fa328e86</td>\n",
       "      <td>HOMEPAGE</td>\n",
       "      <td>NaN</td>\n",
       "    </tr>\n",
       "    <tr>\n",
       "      <th>12609146</th>\n",
       "      <td>3abaa6ce-e320-4e51-9469-d9f3fa328e86</td>\n",
       "      <td>PROMO_PAGE</td>\n",
       "      <td>NaN</td>\n",
       "    </tr>\n",
       "    <tr>\n",
       "      <th>12609147</th>\n",
       "      <td>3abaa6ce-e320-4e51-9469-d9f3fa328e86</td>\n",
       "      <td>ADD_TO_CART</td>\n",
       "      <td>{'product_id': 43341, 'quantity': 1, 'item_pri...</td>\n",
       "    </tr>\n",
       "    <tr>\n",
       "      <th>12609148</th>\n",
       "      <td>3abaa6ce-e320-4e51-9469-d9f3fa328e86</td>\n",
       "      <td>CLICK</td>\n",
       "      <td>NaN</td>\n",
       "    </tr>\n",
       "    <tr>\n",
       "      <th>12609149</th>\n",
       "      <td>3abaa6ce-e320-4e51-9469-d9f3fa328e86</td>\n",
       "      <td>ADD_TO_CART</td>\n",
       "      <td>{'product_id': 4282, 'quantity': 1, 'item_pric...</td>\n",
       "    </tr>\n",
       "    <tr>\n",
       "      <th>12609150</th>\n",
       "      <td>3abaa6ce-e320-4e51-9469-d9f3fa328e86</td>\n",
       "      <td>CLICK</td>\n",
       "      <td>NaN</td>\n",
       "    </tr>\n",
       "    <tr>\n",
       "      <th>12609151</th>\n",
       "      <td>3abaa6ce-e320-4e51-9469-d9f3fa328e86</td>\n",
       "      <td>PROMO_PAGE</td>\n",
       "      <td>NaN</td>\n",
       "    </tr>\n",
       "    <tr>\n",
       "      <th>12609152</th>\n",
       "      <td>3abaa6ce-e320-4e51-9469-d9f3fa328e86</td>\n",
       "      <td>CLICK</td>\n",
       "      <td>NaN</td>\n",
       "    </tr>\n",
       "    <tr>\n",
       "      <th>12609153</th>\n",
       "      <td>3abaa6ce-e320-4e51-9469-d9f3fa328e86</td>\n",
       "      <td>PROMO_PAGE</td>\n",
       "      <td>NaN</td>\n",
       "    </tr>\n",
       "    <tr>\n",
       "      <th>12609154</th>\n",
       "      <td>3abaa6ce-e320-4e51-9469-d9f3fa328e86</td>\n",
       "      <td>SEARCH</td>\n",
       "      <td>{'search_keywords': 'Barang Bekas'}</td>\n",
       "    </tr>\n",
       "    <tr>\n",
       "      <th>12609155</th>\n",
       "      <td>3abaa6ce-e320-4e51-9469-d9f3fa328e86</td>\n",
       "      <td>HOMEPAGE</td>\n",
       "      <td>NaN</td>\n",
       "    </tr>\n",
       "    <tr>\n",
       "      <th>12609156</th>\n",
       "      <td>3abaa6ce-e320-4e51-9469-d9f3fa328e86</td>\n",
       "      <td>CLICK</td>\n",
       "      <td>NaN</td>\n",
       "    </tr>\n",
       "    <tr>\n",
       "      <th>12609157</th>\n",
       "      <td>3abaa6ce-e320-4e51-9469-d9f3fa328e86</td>\n",
       "      <td>ITEM_DETAIL</td>\n",
       "      <td>NaN</td>\n",
       "    </tr>\n",
       "    <tr>\n",
       "      <th>12609158</th>\n",
       "      <td>3abaa6ce-e320-4e51-9469-d9f3fa328e86</td>\n",
       "      <td>ITEM_DETAIL</td>\n",
       "      <td>NaN</td>\n",
       "    </tr>\n",
       "    <tr>\n",
       "      <th>12609159</th>\n",
       "      <td>3abaa6ce-e320-4e51-9469-d9f3fa328e86</td>\n",
       "      <td>ADD_TO_CART</td>\n",
       "      <td>{'product_id': 54538, 'quantity': 1, 'item_pri...</td>\n",
       "    </tr>\n",
       "    <tr>\n",
       "      <th>12609160</th>\n",
       "      <td>3abaa6ce-e320-4e51-9469-d9f3fa328e86</td>\n",
       "      <td>PROMO_PAGE</td>\n",
       "      <td>NaN</td>\n",
       "    </tr>\n",
       "    <tr>\n",
       "      <th>12609161</th>\n",
       "      <td>3abaa6ce-e320-4e51-9469-d9f3fa328e86</td>\n",
       "      <td>CLICK</td>\n",
       "      <td>NaN</td>\n",
       "    </tr>\n",
       "    <tr>\n",
       "      <th>12609162</th>\n",
       "      <td>3abaa6ce-e320-4e51-9469-d9f3fa328e86</td>\n",
       "      <td>HOMEPAGE</td>\n",
       "      <td>NaN</td>\n",
       "    </tr>\n",
       "  </tbody>\n",
       "</table>\n",
       "</div>"
      ],
      "text/plain": [
       "                                    session_id   event_name  \\\n",
       "12609138  3abaa6ce-e320-4e51-9469-d9f3fa328e86     HOMEPAGE   \n",
       "12609139  3abaa6ce-e320-4e51-9469-d9f3fa328e86  ADD_TO_CART   \n",
       "12609140  3abaa6ce-e320-4e51-9469-d9f3fa328e86    ADD_PROMO   \n",
       "12609141  3abaa6ce-e320-4e51-9469-d9f3fa328e86      BOOKING   \n",
       "12609142  3abaa6ce-e320-4e51-9469-d9f3fa328e86        CLICK   \n",
       "12609143  3abaa6ce-e320-4e51-9469-d9f3fa328e86        CLICK   \n",
       "12609144  3abaa6ce-e320-4e51-9469-d9f3fa328e86   PROMO_PAGE   \n",
       "12609145  3abaa6ce-e320-4e51-9469-d9f3fa328e86     HOMEPAGE   \n",
       "12609146  3abaa6ce-e320-4e51-9469-d9f3fa328e86   PROMO_PAGE   \n",
       "12609147  3abaa6ce-e320-4e51-9469-d9f3fa328e86  ADD_TO_CART   \n",
       "12609148  3abaa6ce-e320-4e51-9469-d9f3fa328e86        CLICK   \n",
       "12609149  3abaa6ce-e320-4e51-9469-d9f3fa328e86  ADD_TO_CART   \n",
       "12609150  3abaa6ce-e320-4e51-9469-d9f3fa328e86        CLICK   \n",
       "12609151  3abaa6ce-e320-4e51-9469-d9f3fa328e86   PROMO_PAGE   \n",
       "12609152  3abaa6ce-e320-4e51-9469-d9f3fa328e86        CLICK   \n",
       "12609153  3abaa6ce-e320-4e51-9469-d9f3fa328e86   PROMO_PAGE   \n",
       "12609154  3abaa6ce-e320-4e51-9469-d9f3fa328e86       SEARCH   \n",
       "12609155  3abaa6ce-e320-4e51-9469-d9f3fa328e86     HOMEPAGE   \n",
       "12609156  3abaa6ce-e320-4e51-9469-d9f3fa328e86        CLICK   \n",
       "12609157  3abaa6ce-e320-4e51-9469-d9f3fa328e86  ITEM_DETAIL   \n",
       "12609158  3abaa6ce-e320-4e51-9469-d9f3fa328e86  ITEM_DETAIL   \n",
       "12609159  3abaa6ce-e320-4e51-9469-d9f3fa328e86  ADD_TO_CART   \n",
       "12609160  3abaa6ce-e320-4e51-9469-d9f3fa328e86   PROMO_PAGE   \n",
       "12609161  3abaa6ce-e320-4e51-9469-d9f3fa328e86        CLICK   \n",
       "12609162  3abaa6ce-e320-4e51-9469-d9f3fa328e86     HOMEPAGE   \n",
       "\n",
       "                                             event_metadata  \n",
       "12609138                                                NaN  \n",
       "12609139  {'product_id': 54728, 'quantity': 1, 'item_pri...  \n",
       "12609140  {'promo_code': 'WEEKENDSERU', 'promo_amount': ...  \n",
       "12609141                      {'payment_status': 'Success'}  \n",
       "12609142                                                NaN  \n",
       "12609143                                                NaN  \n",
       "12609144                                                NaN  \n",
       "12609145                                                NaN  \n",
       "12609146                                                NaN  \n",
       "12609147  {'product_id': 43341, 'quantity': 1, 'item_pri...  \n",
       "12609148                                                NaN  \n",
       "12609149  {'product_id': 4282, 'quantity': 1, 'item_pric...  \n",
       "12609150                                                NaN  \n",
       "12609151                                                NaN  \n",
       "12609152                                                NaN  \n",
       "12609153                                                NaN  \n",
       "12609154                {'search_keywords': 'Barang Bekas'}  \n",
       "12609155                                                NaN  \n",
       "12609156                                                NaN  \n",
       "12609157                                                NaN  \n",
       "12609158                                                NaN  \n",
       "12609159  {'product_id': 54538, 'quantity': 1, 'item_pri...  \n",
       "12609160                                                NaN  \n",
       "12609161                                                NaN  \n",
       "12609162                                                NaN  "
      ]
     },
     "execution_count": 9,
     "metadata": {},
     "output_type": "execute_result"
    }
   ],
   "source": [
    "click[click['session_id'] == '3abaa6ce-e320-4e51-9469-d9f3fa328e86'][['session_id','event_name','event_metadata']]"
   ]
  },
  {
   "cell_type": "markdown",
   "id": "7b63fdb7",
   "metadata": {
    "papermill": {
     "duration": 0.020792,
     "end_time": "2022-10-24T14:34:14.492420",
     "exception": false,
     "start_time": "2022-10-24T14:34:14.471628",
     "status": "completed"
    },
    "tags": []
   },
   "source": [
    "ternyata setelah dicek, data id_session yang punya booking_id dan event BOOKING tervalidasi datanya di click_stream. maka 2 data tadi kita drop aja soalnya mungkin itu ada salah input"
   ]
  },
  {
   "cell_type": "code",
   "execution_count": 10,
   "id": "ea1f5d70",
   "metadata": {
    "execution": {
     "iopub.execute_input": "2022-10-24T14:34:14.537083Z",
     "iopub.status.busy": "2022-10-24T14:34:14.536667Z",
     "iopub.status.idle": "2022-10-24T14:34:15.678889Z",
     "shell.execute_reply": "2022-10-24T14:34:15.677595Z"
    },
    "papermill": {
     "duration": 1.168161,
     "end_time": "2022-10-24T14:34:15.681878",
     "exception": false,
     "start_time": "2022-10-24T14:34:14.513717",
     "status": "completed"
    },
    "tags": []
   },
   "outputs": [],
   "source": [
    "transaction_book = trans[['booking_id','session_id']].merge(ses_book, on='session_id', how='inner')"
   ]
  },
  {
   "cell_type": "code",
   "execution_count": 11,
   "id": "44a8dedd",
   "metadata": {
    "execution": {
     "iopub.execute_input": "2022-10-24T14:34:15.726552Z",
     "iopub.status.busy": "2022-10-24T14:34:15.726112Z",
     "iopub.status.idle": "2022-10-24T14:34:15.733755Z",
     "shell.execute_reply": "2022-10-24T14:34:15.732515Z"
    },
    "papermill": {
     "duration": 0.032909,
     "end_time": "2022-10-24T14:34:15.736059",
     "exception": false,
     "start_time": "2022-10-24T14:34:15.703150",
     "status": "completed"
    },
    "tags": []
   },
   "outputs": [
    {
     "data": {
      "text/plain": [
       "(852582, 7)"
      ]
     },
     "execution_count": 11,
     "metadata": {},
     "output_type": "execute_result"
    }
   ],
   "source": [
    "transaction_book.shape"
   ]
  },
  {
   "cell_type": "markdown",
   "id": "9922c22c",
   "metadata": {
    "papermill": {
     "duration": 0.021252,
     "end_time": "2022-10-24T14:34:15.778855",
     "exception": false,
     "start_time": "2022-10-24T14:34:15.757603",
     "status": "completed"
    },
    "tags": []
   },
   "source": [
    "# jumlah masing2 event_name tiap session"
   ]
  },
  {
   "cell_type": "code",
   "execution_count": 12,
   "id": "d739d986",
   "metadata": {
    "execution": {
     "iopub.execute_input": "2022-10-24T14:34:15.823263Z",
     "iopub.status.busy": "2022-10-24T14:34:15.822826Z",
     "iopub.status.idle": "2022-10-24T14:34:16.901678Z",
     "shell.execute_reply": "2022-10-24T14:34:16.900193Z"
    },
    "papermill": {
     "duration": 1.104446,
     "end_time": "2022-10-24T14:34:16.904822",
     "exception": false,
     "start_time": "2022-10-24T14:34:15.800376",
     "status": "completed"
    },
    "tags": []
   },
   "outputs": [
    {
     "data": {
      "text/plain": [
       "array(['HOMEPAGE', 'SCROLL', 'ADD_TO_CART', 'BOOKING', 'SEARCH',\n",
       "       'ITEM_DETAIL', 'ADD_PROMO', 'CLICK', 'PROMO_PAGE'], dtype=object)"
      ]
     },
     "execution_count": 12,
     "metadata": {},
     "output_type": "execute_result"
    }
   ],
   "source": [
    "click['event_name'].unique()"
   ]
  },
  {
   "cell_type": "markdown",
   "id": "6c300caf",
   "metadata": {
    "papermill": {
     "duration": 0.021943,
     "end_time": "2022-10-24T14:34:16.949791",
     "exception": false,
     "start_time": "2022-10-24T14:34:16.927848",
     "status": "completed"
    },
    "tags": []
   },
   "source": [
    "ada 9 jenis event: HOMEPAGE, SCROLL, ADD_TO_CART, BOOKING, SEARCH, ITEM_DETAIL, ADD_PROMO, CLICK, PROMO_PAGE"
   ]
  },
  {
   "cell_type": "code",
   "execution_count": 13,
   "id": "cae79a6f",
   "metadata": {
    "execution": {
     "iopub.execute_input": "2022-10-24T14:34:16.994940Z",
     "iopub.status.busy": "2022-10-24T14:34:16.994506Z",
     "iopub.status.idle": "2022-10-24T14:34:17.001998Z",
     "shell.execute_reply": "2022-10-24T14:34:17.000714Z"
    },
    "papermill": {
     "duration": 0.032982,
     "end_time": "2022-10-24T14:34:17.004544",
     "exception": false,
     "start_time": "2022-10-24T14:34:16.971562",
     "status": "completed"
    },
    "tags": []
   },
   "outputs": [
    {
     "data": {
      "text/plain": [
       "(12833602, 6)"
      ]
     },
     "execution_count": 13,
     "metadata": {},
     "output_type": "execute_result"
    }
   ],
   "source": [
    "click.shape"
   ]
  },
  {
   "cell_type": "code",
   "execution_count": 14,
   "id": "d78b27ab",
   "metadata": {
    "execution": {
     "iopub.execute_input": "2022-10-24T14:34:17.050309Z",
     "iopub.status.busy": "2022-10-24T14:34:17.049826Z",
     "iopub.status.idle": "2022-10-24T14:34:17.063262Z",
     "shell.execute_reply": "2022-10-24T14:34:17.062378Z"
    },
    "papermill": {
     "duration": 0.039591,
     "end_time": "2022-10-24T14:34:17.065646",
     "exception": false,
     "start_time": "2022-10-24T14:34:17.026055",
     "status": "completed"
    },
    "tags": []
   },
   "outputs": [
    {
     "data": {
      "text/html": [
       "<div>\n",
       "<style scoped>\n",
       "    .dataframe tbody tr th:only-of-type {\n",
       "        vertical-align: middle;\n",
       "    }\n",
       "\n",
       "    .dataframe tbody tr th {\n",
       "        vertical-align: top;\n",
       "    }\n",
       "\n",
       "    .dataframe thead th {\n",
       "        text-align: right;\n",
       "    }\n",
       "</style>\n",
       "<table border=\"1\" class=\"dataframe\">\n",
       "  <thead>\n",
       "    <tr style=\"text-align: right;\">\n",
       "      <th></th>\n",
       "      <th>session_id</th>\n",
       "      <th>event_name</th>\n",
       "      <th>event_time</th>\n",
       "      <th>event_id</th>\n",
       "      <th>traffic_source</th>\n",
       "      <th>event_metadata</th>\n",
       "    </tr>\n",
       "  </thead>\n",
       "  <tbody>\n",
       "    <tr>\n",
       "      <th>0</th>\n",
       "      <td>fb0abf9e-fd1a-44dd-b5c0-2834d5a4b81c</td>\n",
       "      <td>HOMEPAGE</td>\n",
       "      <td>2019-09-06T15:54:32.821085Z</td>\n",
       "      <td>9c4388c4-c95b-4678-b5ca-e9cbc0734109</td>\n",
       "      <td>MOBILE</td>\n",
       "      <td>NaN</td>\n",
       "    </tr>\n",
       "    <tr>\n",
       "      <th>1</th>\n",
       "      <td>fb0abf9e-fd1a-44dd-b5c0-2834d5a4b81c</td>\n",
       "      <td>SCROLL</td>\n",
       "      <td>2019-09-06T16:03:57.821085Z</td>\n",
       "      <td>4690e1f5-3f99-42d3-84a5-22c4c4d8500a</td>\n",
       "      <td>MOBILE</td>\n",
       "      <td>NaN</td>\n",
       "    </tr>\n",
       "    <tr>\n",
       "      <th>2</th>\n",
       "      <td>7d440441-e67a-4d36-b324-80ffd636d166</td>\n",
       "      <td>HOMEPAGE</td>\n",
       "      <td>2019-09-01T12:05:10.322763Z</td>\n",
       "      <td>88aeaeb5-ec98-4859-852c-8abb483faf31</td>\n",
       "      <td>MOBILE</td>\n",
       "      <td>NaN</td>\n",
       "    </tr>\n",
       "    <tr>\n",
       "      <th>3</th>\n",
       "      <td>7d440441-e67a-4d36-b324-80ffd636d166</td>\n",
       "      <td>ADD_TO_CART</td>\n",
       "      <td>2019-09-01T12:06:33.322763Z</td>\n",
       "      <td>934e306e-ecc6-472f-9ccb-12c8536910a2</td>\n",
       "      <td>MOBILE</td>\n",
       "      <td>{'product_id': 15315, 'quantity': 4, 'item_pri...</td>\n",
       "    </tr>\n",
       "    <tr>\n",
       "      <th>4</th>\n",
       "      <td>7d440441-e67a-4d36-b324-80ffd636d166</td>\n",
       "      <td>BOOKING</td>\n",
       "      <td>2019-09-01T12:15:29.425431Z</td>\n",
       "      <td>9f4767a1-40fa-4c9c-9524-dfad18634d56</td>\n",
       "      <td>MOBILE</td>\n",
       "      <td>{'payment_status': 'Success'}</td>\n",
       "    </tr>\n",
       "  </tbody>\n",
       "</table>\n",
       "</div>"
      ],
      "text/plain": [
       "                             session_id   event_name  \\\n",
       "0  fb0abf9e-fd1a-44dd-b5c0-2834d5a4b81c     HOMEPAGE   \n",
       "1  fb0abf9e-fd1a-44dd-b5c0-2834d5a4b81c       SCROLL   \n",
       "2  7d440441-e67a-4d36-b324-80ffd636d166     HOMEPAGE   \n",
       "3  7d440441-e67a-4d36-b324-80ffd636d166  ADD_TO_CART   \n",
       "4  7d440441-e67a-4d36-b324-80ffd636d166      BOOKING   \n",
       "\n",
       "                    event_time                              event_id  \\\n",
       "0  2019-09-06T15:54:32.821085Z  9c4388c4-c95b-4678-b5ca-e9cbc0734109   \n",
       "1  2019-09-06T16:03:57.821085Z  4690e1f5-3f99-42d3-84a5-22c4c4d8500a   \n",
       "2  2019-09-01T12:05:10.322763Z  88aeaeb5-ec98-4859-852c-8abb483faf31   \n",
       "3  2019-09-01T12:06:33.322763Z  934e306e-ecc6-472f-9ccb-12c8536910a2   \n",
       "4  2019-09-01T12:15:29.425431Z  9f4767a1-40fa-4c9c-9524-dfad18634d56   \n",
       "\n",
       "  traffic_source                                     event_metadata  \n",
       "0         MOBILE                                                NaN  \n",
       "1         MOBILE                                                NaN  \n",
       "2         MOBILE                                                NaN  \n",
       "3         MOBILE  {'product_id': 15315, 'quantity': 4, 'item_pri...  \n",
       "4         MOBILE                      {'payment_status': 'Success'}  "
      ]
     },
     "execution_count": 14,
     "metadata": {},
     "output_type": "execute_result"
    }
   ],
   "source": [
    "click.head()"
   ]
  },
  {
   "cell_type": "code",
   "execution_count": 15,
   "id": "e43e744e",
   "metadata": {
    "execution": {
     "iopub.execute_input": "2022-10-24T14:34:17.114734Z",
     "iopub.status.busy": "2022-10-24T14:34:17.114307Z",
     "iopub.status.idle": "2022-10-24T14:34:18.123385Z",
     "shell.execute_reply": "2022-10-24T14:34:18.122112Z"
    },
    "papermill": {
     "duration": 1.036332,
     "end_time": "2022-10-24T14:34:18.126144",
     "exception": false,
     "start_time": "2022-10-24T14:34:17.089812",
     "status": "completed"
    },
    "tags": []
   },
   "outputs": [
    {
     "data": {
      "text/plain": [
       "3abaa6ce-e320-4e51-9469-d9f3fa328e86    1\n",
       "fd1c35ad-9a81-4ff9-9c13-909216f4e954    1\n",
       "82ca8ea9-735b-48e5-9f29-8bd4c30dba55    1\n",
       "f0118283-e2bc-4bc4-843e-30b5adc7082d    1\n",
       "c94f7bd9-5b04-4172-b4ef-bfee94e4960c    1\n",
       "                                       ..\n",
       "1c1454f4-d187-4779-bd25-641f281e84a7    1\n",
       "bb4cbffe-b429-4ee8-83e3-aa4fc6ad9b9e    1\n",
       "049a3c41-928e-446d-b3dd-97b12642f58f    1\n",
       "b9625971-a539-4bc4-87f2-da062b5ff9df    1\n",
       "5e3183df-198b-40e0-b861-27ef694a832a    1\n",
       "Name: session_id, Length: 852584, dtype: int64"
      ]
     },
     "execution_count": 15,
     "metadata": {},
     "output_type": "execute_result"
    }
   ],
   "source": [
    "trans['session_id'].value_counts()"
   ]
  },
  {
   "cell_type": "markdown",
   "id": "63b14526",
   "metadata": {
    "papermill": {
     "duration": 0.021928,
     "end_time": "2022-10-24T14:34:18.170257",
     "exception": false,
     "start_time": "2022-10-24T14:34:18.148329",
     "status": "completed"
    },
    "tags": []
   },
   "source": [
    "ada user yang hanya membuat account, lalu mencoba aplikasi dengan meng-klik berbagai macam tombol yang ada, namun tidak pernah melakukan transaksi. untuk pengecekan behavior user dalam melakukan click_stream hanya bisa dilakukan pada user yang pernah melakukan transaksi, baik transaksinya sukses ataupun gagal (table click_stream --> merge transactions ('session_id') --> merge customer ('customer_id')). LALU BAGAIMANA NASIB CUSTOMER YANG TIDAK PERNAH TRANSAKSI? KITA TIDAK BISA MENGECEK BEHAVIORNYA DONG? sepertinya iyes"
   ]
  },
  {
   "cell_type": "code",
   "execution_count": 16,
   "id": "31ae4140",
   "metadata": {
    "execution": {
     "iopub.execute_input": "2022-10-24T14:34:18.216608Z",
     "iopub.status.busy": "2022-10-24T14:34:18.216161Z",
     "iopub.status.idle": "2022-10-24T14:34:18.222755Z",
     "shell.execute_reply": "2022-10-24T14:34:18.221620Z"
    },
    "papermill": {
     "duration": 0.032665,
     "end_time": "2022-10-24T14:34:18.225135",
     "exception": false,
     "start_time": "2022-10-24T14:34:18.192470",
     "status": "completed"
    },
    "tags": []
   },
   "outputs": [
    {
     "data": {
      "text/plain": [
       "370598"
      ]
     },
     "execution_count": 16,
     "metadata": {},
     "output_type": "execute_result"
    }
   ],
   "source": [
    "# data click_stream yang tidak bisa dicek siapa customernya (click.shape - cust_session.shape)\n",
    "12833602 - 12463004"
   ]
  },
  {
   "cell_type": "code",
   "execution_count": 17,
   "id": "38d23be6",
   "metadata": {
    "execution": {
     "iopub.execute_input": "2022-10-24T14:34:18.272746Z",
     "iopub.status.busy": "2022-10-24T14:34:18.272348Z",
     "iopub.status.idle": "2022-10-24T14:34:36.317642Z",
     "shell.execute_reply": "2022-10-24T14:34:36.316359Z"
    },
    "papermill": {
     "duration": 18.073055,
     "end_time": "2022-10-24T14:34:36.320628",
     "exception": false,
     "start_time": "2022-10-24T14:34:18.247573",
     "status": "completed"
    },
    "tags": []
   },
   "outputs": [],
   "source": [
    "# merging dengan data cust\n",
    "cust_session = click.iloc[:,:2].merge(trans, on='session_id', how='inner')\n",
    "cust_session = cust_session.iloc[:,[0,1,3]]"
   ]
  },
  {
   "cell_type": "code",
   "execution_count": 18,
   "id": "7463dcdb",
   "metadata": {
    "execution": {
     "iopub.execute_input": "2022-10-24T14:34:36.366925Z",
     "iopub.status.busy": "2022-10-24T14:34:36.365927Z",
     "iopub.status.idle": "2022-10-24T14:34:36.372907Z",
     "shell.execute_reply": "2022-10-24T14:34:36.371929Z"
    },
    "papermill": {
     "duration": 0.032457,
     "end_time": "2022-10-24T14:34:36.375061",
     "exception": false,
     "start_time": "2022-10-24T14:34:36.342604",
     "status": "completed"
    },
    "tags": []
   },
   "outputs": [
    {
     "data": {
      "text/plain": [
       "(12463004, 3)"
      ]
     },
     "execution_count": 18,
     "metadata": {},
     "output_type": "execute_result"
    }
   ],
   "source": [
    "cust_session.shape"
   ]
  },
  {
   "cell_type": "code",
   "execution_count": 19,
   "id": "9d84e97f",
   "metadata": {
    "execution": {
     "iopub.execute_input": "2022-10-24T14:34:36.421404Z",
     "iopub.status.busy": "2022-10-24T14:34:36.420756Z",
     "iopub.status.idle": "2022-10-24T14:34:36.431862Z",
     "shell.execute_reply": "2022-10-24T14:34:36.430728Z"
    },
    "papermill": {
     "duration": 0.037,
     "end_time": "2022-10-24T14:34:36.434137",
     "exception": false,
     "start_time": "2022-10-24T14:34:36.397137",
     "status": "completed"
    },
    "tags": []
   },
   "outputs": [
    {
     "data": {
      "text/html": [
       "<div>\n",
       "<style scoped>\n",
       "    .dataframe tbody tr th:only-of-type {\n",
       "        vertical-align: middle;\n",
       "    }\n",
       "\n",
       "    .dataframe tbody tr th {\n",
       "        vertical-align: top;\n",
       "    }\n",
       "\n",
       "    .dataframe thead th {\n",
       "        text-align: right;\n",
       "    }\n",
       "</style>\n",
       "<table border=\"1\" class=\"dataframe\">\n",
       "  <thead>\n",
       "    <tr style=\"text-align: right;\">\n",
       "      <th></th>\n",
       "      <th>session_id</th>\n",
       "      <th>event_name</th>\n",
       "      <th>customer_id</th>\n",
       "    </tr>\n",
       "  </thead>\n",
       "  <tbody>\n",
       "    <tr>\n",
       "      <th>0</th>\n",
       "      <td>7d440441-e67a-4d36-b324-80ffd636d166</td>\n",
       "      <td>HOMEPAGE</td>\n",
       "      <td>18770</td>\n",
       "    </tr>\n",
       "    <tr>\n",
       "      <th>1</th>\n",
       "      <td>7d440441-e67a-4d36-b324-80ffd636d166</td>\n",
       "      <td>ADD_TO_CART</td>\n",
       "      <td>18770</td>\n",
       "    </tr>\n",
       "    <tr>\n",
       "      <th>2</th>\n",
       "      <td>7d440441-e67a-4d36-b324-80ffd636d166</td>\n",
       "      <td>BOOKING</td>\n",
       "      <td>18770</td>\n",
       "    </tr>\n",
       "    <tr>\n",
       "      <th>3</th>\n",
       "      <td>7d440441-e67a-4d36-b324-80ffd636d166</td>\n",
       "      <td>SEARCH</td>\n",
       "      <td>18770</td>\n",
       "    </tr>\n",
       "    <tr>\n",
       "      <th>4</th>\n",
       "      <td>7d440441-e67a-4d36-b324-80ffd636d166</td>\n",
       "      <td>HOMEPAGE</td>\n",
       "      <td>18770</td>\n",
       "    </tr>\n",
       "  </tbody>\n",
       "</table>\n",
       "</div>"
      ],
      "text/plain": [
       "                             session_id   event_name  customer_id\n",
       "0  7d440441-e67a-4d36-b324-80ffd636d166     HOMEPAGE        18770\n",
       "1  7d440441-e67a-4d36-b324-80ffd636d166  ADD_TO_CART        18770\n",
       "2  7d440441-e67a-4d36-b324-80ffd636d166      BOOKING        18770\n",
       "3  7d440441-e67a-4d36-b324-80ffd636d166       SEARCH        18770\n",
       "4  7d440441-e67a-4d36-b324-80ffd636d166     HOMEPAGE        18770"
      ]
     },
     "execution_count": 19,
     "metadata": {},
     "output_type": "execute_result"
    }
   ],
   "source": [
    "cust_session.head()"
   ]
  },
  {
   "cell_type": "code",
   "execution_count": 20,
   "id": "74445552",
   "metadata": {
    "execution": {
     "iopub.execute_input": "2022-10-24T14:34:36.480780Z",
     "iopub.status.busy": "2022-10-24T14:34:36.480090Z",
     "iopub.status.idle": "2022-10-24T14:34:36.506885Z",
     "shell.execute_reply": "2022-10-24T14:34:36.505666Z"
    },
    "papermill": {
     "duration": 0.052925,
     "end_time": "2022-10-24T14:34:36.509226",
     "exception": false,
     "start_time": "2022-10-24T14:34:36.456301",
     "status": "completed"
    },
    "tags": []
   },
   "outputs": [
    {
     "data": {
      "text/html": [
       "<div>\n",
       "<style scoped>\n",
       "    .dataframe tbody tr th:only-of-type {\n",
       "        vertical-align: middle;\n",
       "    }\n",
       "\n",
       "    .dataframe tbody tr th {\n",
       "        vertical-align: top;\n",
       "    }\n",
       "\n",
       "    .dataframe thead th {\n",
       "        text-align: right;\n",
       "    }\n",
       "</style>\n",
       "<table border=\"1\" class=\"dataframe\">\n",
       "  <thead>\n",
       "    <tr style=\"text-align: right;\">\n",
       "      <th></th>\n",
       "      <th>session_id</th>\n",
       "      <th>event_name</th>\n",
       "      <th>customer_id</th>\n",
       "    </tr>\n",
       "  </thead>\n",
       "  <tbody>\n",
       "    <tr>\n",
       "      <th>0</th>\n",
       "      <td>7d440441-e67a-4d36-b324-80ffd636d166</td>\n",
       "      <td>HOMEPAGE</td>\n",
       "      <td>18770</td>\n",
       "    </tr>\n",
       "    <tr>\n",
       "      <th>1</th>\n",
       "      <td>7d440441-e67a-4d36-b324-80ffd636d166</td>\n",
       "      <td>ADD_TO_CART</td>\n",
       "      <td>18770</td>\n",
       "    </tr>\n",
       "    <tr>\n",
       "      <th>2</th>\n",
       "      <td>7d440441-e67a-4d36-b324-80ffd636d166</td>\n",
       "      <td>BOOKING</td>\n",
       "      <td>18770</td>\n",
       "    </tr>\n",
       "    <tr>\n",
       "      <th>3</th>\n",
       "      <td>7d440441-e67a-4d36-b324-80ffd636d166</td>\n",
       "      <td>SEARCH</td>\n",
       "      <td>18770</td>\n",
       "    </tr>\n",
       "    <tr>\n",
       "      <th>4</th>\n",
       "      <td>7d440441-e67a-4d36-b324-80ffd636d166</td>\n",
       "      <td>HOMEPAGE</td>\n",
       "      <td>18770</td>\n",
       "    </tr>\n",
       "    <tr>\n",
       "      <th>...</th>\n",
       "      <td>...</td>\n",
       "      <td>...</td>\n",
       "      <td>...</td>\n",
       "    </tr>\n",
       "    <tr>\n",
       "      <th>2390</th>\n",
       "      <td>dc85c13c-7791-4437-b038-d46f6cbfb14f</td>\n",
       "      <td>SEARCH</td>\n",
       "      <td>18770</td>\n",
       "    </tr>\n",
       "    <tr>\n",
       "      <th>2391</th>\n",
       "      <td>dc85c13c-7791-4437-b038-d46f6cbfb14f</td>\n",
       "      <td>SCROLL</td>\n",
       "      <td>18770</td>\n",
       "    </tr>\n",
       "    <tr>\n",
       "      <th>2392</th>\n",
       "      <td>dc85c13c-7791-4437-b038-d46f6cbfb14f</td>\n",
       "      <td>SCROLL</td>\n",
       "      <td>18770</td>\n",
       "    </tr>\n",
       "    <tr>\n",
       "      <th>2393</th>\n",
       "      <td>dc85c13c-7791-4437-b038-d46f6cbfb14f</td>\n",
       "      <td>CLICK</td>\n",
       "      <td>18770</td>\n",
       "    </tr>\n",
       "    <tr>\n",
       "      <th>2394</th>\n",
       "      <td>dc85c13c-7791-4437-b038-d46f6cbfb14f</td>\n",
       "      <td>CLICK</td>\n",
       "      <td>18770</td>\n",
       "    </tr>\n",
       "  </tbody>\n",
       "</table>\n",
       "<p>2395 rows × 3 columns</p>\n",
       "</div>"
      ],
      "text/plain": [
       "                                session_id   event_name  customer_id\n",
       "0     7d440441-e67a-4d36-b324-80ffd636d166     HOMEPAGE        18770\n",
       "1     7d440441-e67a-4d36-b324-80ffd636d166  ADD_TO_CART        18770\n",
       "2     7d440441-e67a-4d36-b324-80ffd636d166      BOOKING        18770\n",
       "3     7d440441-e67a-4d36-b324-80ffd636d166       SEARCH        18770\n",
       "4     7d440441-e67a-4d36-b324-80ffd636d166     HOMEPAGE        18770\n",
       "...                                    ...          ...          ...\n",
       "2390  dc85c13c-7791-4437-b038-d46f6cbfb14f       SEARCH        18770\n",
       "2391  dc85c13c-7791-4437-b038-d46f6cbfb14f       SCROLL        18770\n",
       "2392  dc85c13c-7791-4437-b038-d46f6cbfb14f       SCROLL        18770\n",
       "2393  dc85c13c-7791-4437-b038-d46f6cbfb14f        CLICK        18770\n",
       "2394  dc85c13c-7791-4437-b038-d46f6cbfb14f        CLICK        18770\n",
       "\n",
       "[2395 rows x 3 columns]"
      ]
     },
     "execution_count": 20,
     "metadata": {},
     "output_type": "execute_result"
    }
   ],
   "source": [
    "w = cust_session[cust_session['customer_id'] == 18770]\n",
    "w"
   ]
  },
  {
   "cell_type": "markdown",
   "id": "eac67b79",
   "metadata": {
    "papermill": {
     "duration": 0.022475,
     "end_time": "2022-10-24T14:34:36.554131",
     "exception": false,
     "start_time": "2022-10-24T14:34:36.531656",
     "status": "completed"
    },
    "tags": []
   },
   "source": [
    "# Merge Data"
   ]
  },
  {
   "cell_type": "code",
   "execution_count": 21,
   "id": "04478079",
   "metadata": {
    "execution": {
     "iopub.execute_input": "2022-10-24T14:34:36.601455Z",
     "iopub.status.busy": "2022-10-24T14:34:36.600958Z",
     "iopub.status.idle": "2022-10-24T14:34:39.521567Z",
     "shell.execute_reply": "2022-10-24T14:34:39.520400Z"
    },
    "papermill": {
     "duration": 2.947177,
     "end_time": "2022-10-24T14:34:39.523871",
     "exception": false,
     "start_time": "2022-10-24T14:34:36.576694",
     "status": "completed"
    },
    "tags": []
   },
   "outputs": [
    {
     "data": {
      "text/plain": [
       "customer_id                    0\n",
       "first_name                     0\n",
       "last_name                      0\n",
       "username                       0\n",
       "email                          0\n",
       "gender                         0\n",
       "birthdate                      0\n",
       "device_type                    0\n",
       "device_id                      0\n",
       "device_version                 0\n",
       "home_location_lat              0\n",
       "home_location_long             0\n",
       "home_location                  0\n",
       "home_country                   0\n",
       "first_join_date                0\n",
       "created_at                 49295\n",
       "booking_id                 49295\n",
       "session_id                 49295\n",
       "product_metadata           49295\n",
       "payment_method             49295\n",
       "payment_status             49295\n",
       "promo_amount               49295\n",
       "promo_code                575343\n",
       "shipment_fee               49295\n",
       "shipment_date_limit        49295\n",
       "shipment_location_lat      49295\n",
       "shipment_location_long     49295\n",
       "total_amount               49295\n",
       "dtype: int64"
      ]
     },
     "execution_count": 21,
     "metadata": {},
     "output_type": "execute_result"
    }
   ],
   "source": [
    "df = cust.merge(right = trans, how = 'left', on = 'customer_id')\n",
    "df.isna().sum()"
   ]
  },
  {
   "cell_type": "markdown",
   "id": "1482cc93",
   "metadata": {
    "papermill": {
     "duration": 0.022401,
     "end_time": "2022-10-24T14:34:39.569061",
     "exception": false,
     "start_time": "2022-10-24T14:34:39.546660",
     "status": "completed"
    },
    "tags": []
   },
   "source": [
    "# FI : Total Transaksi Masing2 Cust"
   ]
  },
  {
   "cell_type": "code",
   "execution_count": 22,
   "id": "54162bd9",
   "metadata": {
    "execution": {
     "iopub.execute_input": "2022-10-24T14:34:39.616950Z",
     "iopub.status.busy": "2022-10-24T14:34:39.616310Z",
     "iopub.status.idle": "2022-10-24T14:34:43.344695Z",
     "shell.execute_reply": "2022-10-24T14:34:43.343417Z"
    },
    "papermill": {
     "duration": 3.755916,
     "end_time": "2022-10-24T14:34:43.347652",
     "exception": false,
     "start_time": "2022-10-24T14:34:39.591736",
     "status": "completed"
    },
    "tags": []
   },
   "outputs": [],
   "source": [
    "# merge data customer dengan transaksinya (baik transaksi sukses maupun gagal)\n",
    "cust_trans = cust.merge(right = trans, how = 'left', on = 'customer_id')\n",
    "\n",
    "# buat tabel mengenai total transaksi tiap pelanggan\n",
    "total_transaksi = cust_trans.groupby('customer_id')[['booking_id']].count().sort_values(by = 'booking_id', ascending = False).reset_index()\n",
    "total_transaksi = total_transaksi.rename(columns = {'booking_id' : 'total_transaksi'})\n",
    "\n",
    "# buat tabel mengenai total transaksi sukses tiap pelanggan\n",
    "sukses = cust_trans[cust_trans['payment_status'] == 'Success']\n",
    "total_transaksi_sukses = sukses.groupby('customer_id')[['booking_id']].count().sort_values(by = 'booking_id', ascending = False).reset_index()\n",
    "total_transaksi_sukses = total_transaksi_sukses.rename(columns = {'booking_id' : 'total_transaksi_sukses'})\n",
    "\n",
    "# buat tabel mengenai total transaksi sukses tiap pelanggan\n",
    "gagal = cust_trans[cust_trans['payment_status'] == 'Failed']\n",
    "total_transaksi_gagal = gagal.groupby('customer_id')[['booking_id']].count().sort_values(by = 'booking_id', ascending = False).reset_index()\n",
    "total_transaksi_gagal = total_transaksi_gagal.rename(columns = {'booking_id' : 'total_transaksi_gagal'})\n",
    "\n",
    "# merge total, sukses, dan gagal\n",
    "transaksi_all = total_transaksi.merge(total_transaksi_sukses, on='customer_id', how='outer')\n",
    "transaksi_all = transaksi_all.merge(total_transaksi_gagal, on='customer_id', how='outer')\n",
    "\n",
    "# handling NaN\n",
    "transaksi_all = transaksi_all.fillna(0)\n",
    "\n",
    "# buat kolom yang menjelaskan frekuensi order tiap pelanggan (asumsi = jika dibawah sama dengan 3 disebut sedikit, selain itu banyak)\n",
    "def freq(x):\n",
    "    if x == 0:\n",
    "        return 'never'\n",
    "    elif x <= 3:\n",
    "        return 'few'\n",
    "    else:\n",
    "        return 'many'\n",
    "transaksi_all['transaksi_freq'] = transaksi_all['total_transaksi_sukses'].apply(freq)"
   ]
  },
  {
   "cell_type": "code",
   "execution_count": 23,
   "id": "ee749a99",
   "metadata": {
    "execution": {
     "iopub.execute_input": "2022-10-24T14:34:43.395654Z",
     "iopub.status.busy": "2022-10-24T14:34:43.395204Z",
     "iopub.status.idle": "2022-10-24T14:34:43.410646Z",
     "shell.execute_reply": "2022-10-24T14:34:43.409218Z"
    },
    "papermill": {
     "duration": 0.042435,
     "end_time": "2022-10-24T14:34:43.413125",
     "exception": false,
     "start_time": "2022-10-24T14:34:43.370690",
     "status": "completed"
    },
    "tags": []
   },
   "outputs": [
    {
     "data": {
      "text/html": [
       "<div>\n",
       "<style scoped>\n",
       "    .dataframe tbody tr th:only-of-type {\n",
       "        vertical-align: middle;\n",
       "    }\n",
       "\n",
       "    .dataframe tbody tr th {\n",
       "        vertical-align: top;\n",
       "    }\n",
       "\n",
       "    .dataframe thead th {\n",
       "        text-align: right;\n",
       "    }\n",
       "</style>\n",
       "<table border=\"1\" class=\"dataframe\">\n",
       "  <thead>\n",
       "    <tr style=\"text-align: right;\">\n",
       "      <th></th>\n",
       "      <th>customer_id</th>\n",
       "      <th>total_transaksi</th>\n",
       "      <th>total_transaksi_sukses</th>\n",
       "      <th>total_transaksi_gagal</th>\n",
       "      <th>transaksi_freq</th>\n",
       "    </tr>\n",
       "  </thead>\n",
       "  <tbody>\n",
       "    <tr>\n",
       "      <th>0</th>\n",
       "      <td>43202</td>\n",
       "      <td>550</td>\n",
       "      <td>550.0</td>\n",
       "      <td>0.0</td>\n",
       "      <td>many</td>\n",
       "    </tr>\n",
       "    <tr>\n",
       "      <th>1</th>\n",
       "      <td>29496</td>\n",
       "      <td>505</td>\n",
       "      <td>505.0</td>\n",
       "      <td>0.0</td>\n",
       "      <td>many</td>\n",
       "    </tr>\n",
       "    <tr>\n",
       "      <th>2</th>\n",
       "      <td>82237</td>\n",
       "      <td>503</td>\n",
       "      <td>503.0</td>\n",
       "      <td>0.0</td>\n",
       "      <td>many</td>\n",
       "    </tr>\n",
       "    <tr>\n",
       "      <th>3</th>\n",
       "      <td>10167</td>\n",
       "      <td>473</td>\n",
       "      <td>460.0</td>\n",
       "      <td>13.0</td>\n",
       "      <td>many</td>\n",
       "    </tr>\n",
       "    <tr>\n",
       "      <th>4</th>\n",
       "      <td>69740</td>\n",
       "      <td>458</td>\n",
       "      <td>458.0</td>\n",
       "      <td>0.0</td>\n",
       "      <td>many</td>\n",
       "    </tr>\n",
       "  </tbody>\n",
       "</table>\n",
       "</div>"
      ],
      "text/plain": [
       "   customer_id  total_transaksi  total_transaksi_sukses  \\\n",
       "0        43202              550                   550.0   \n",
       "1        29496              505                   505.0   \n",
       "2        82237              503                   503.0   \n",
       "3        10167              473                   460.0   \n",
       "4        69740              458                   458.0   \n",
       "\n",
       "   total_transaksi_gagal transaksi_freq  \n",
       "0                    0.0           many  \n",
       "1                    0.0           many  \n",
       "2                    0.0           many  \n",
       "3                   13.0           many  \n",
       "4                    0.0           many  "
      ]
     },
     "execution_count": 23,
     "metadata": {},
     "output_type": "execute_result"
    }
   ],
   "source": [
    "transaksi_all.head()"
   ]
  },
  {
   "cell_type": "code",
   "execution_count": 24,
   "id": "d01ed33a",
   "metadata": {
    "execution": {
     "iopub.execute_input": "2022-10-24T14:34:43.461912Z",
     "iopub.status.busy": "2022-10-24T14:34:43.461506Z",
     "iopub.status.idle": "2022-10-24T14:34:43.478982Z",
     "shell.execute_reply": "2022-10-24T14:34:43.477854Z"
    },
    "papermill": {
     "duration": 0.044559,
     "end_time": "2022-10-24T14:34:43.481370",
     "exception": false,
     "start_time": "2022-10-24T14:34:43.436811",
     "status": "completed"
    },
    "tags": []
   },
   "outputs": [
    {
     "data": {
      "text/html": [
       "<div>\n",
       "<style scoped>\n",
       "    .dataframe tbody tr th:only-of-type {\n",
       "        vertical-align: middle;\n",
       "    }\n",
       "\n",
       "    .dataframe tbody tr th {\n",
       "        vertical-align: top;\n",
       "    }\n",
       "\n",
       "    .dataframe thead th {\n",
       "        text-align: right;\n",
       "    }\n",
       "</style>\n",
       "<table border=\"1\" class=\"dataframe\">\n",
       "  <thead>\n",
       "    <tr style=\"text-align: right;\">\n",
       "      <th></th>\n",
       "      <th>index</th>\n",
       "      <th>transaksi_freq</th>\n",
       "    </tr>\n",
       "  </thead>\n",
       "  <tbody>\n",
       "    <tr>\n",
       "      <th>0</th>\n",
       "      <td>never</td>\n",
       "      <td>49758</td>\n",
       "    </tr>\n",
       "    <tr>\n",
       "      <th>1</th>\n",
       "      <td>many</td>\n",
       "      <td>30755</td>\n",
       "    </tr>\n",
       "    <tr>\n",
       "      <th>2</th>\n",
       "      <td>few</td>\n",
       "      <td>19487</td>\n",
       "    </tr>\n",
       "  </tbody>\n",
       "</table>\n",
       "</div>"
      ],
      "text/plain": [
       "   index  transaksi_freq\n",
       "0  never           49758\n",
       "1   many           30755\n",
       "2    few           19487"
      ]
     },
     "execution_count": 24,
     "metadata": {},
     "output_type": "execute_result"
    }
   ],
   "source": [
    "transaksi_all['transaksi_freq'].value_counts().reset_index()"
   ]
  },
  {
   "cell_type": "code",
   "execution_count": 25,
   "id": "98b800f3",
   "metadata": {
    "execution": {
     "iopub.execute_input": "2022-10-24T14:34:43.529464Z",
     "iopub.status.busy": "2022-10-24T14:34:43.529016Z",
     "iopub.status.idle": "2022-10-24T14:34:43.777656Z",
     "shell.execute_reply": "2022-10-24T14:34:43.774713Z"
    },
    "papermill": {
     "duration": 0.278856,
     "end_time": "2022-10-24T14:34:43.783214",
     "exception": false,
     "start_time": "2022-10-24T14:34:43.504358",
     "status": "completed"
    },
    "tags": []
   },
   "outputs": [
    {
     "data": {
      "image/png": "[encoded data removed]",
      "text/plain": [
       "<Figure size 432x288 with 1 Axes>"
      ]
     },
     "metadata": {},
     "output_type": "display_data"
    }
   ],
   "source": [
    "transaksi_visual = transaksi_all.groupby('transaksi_freq')['customer_id'].count().reset_index()\n",
    "transaksi_visual = transaksi_visual.rename(columns = {'customer_id' : 'total_customer'})\n",
    "\n",
    "plt.pie(x = transaksi_visual['total_customer'], labels = transaksi_visual['transaksi_freq'], autopct='%1.1f%%')\n",
    "plt.tight_layout()\n",
    "plt.show()"
   ]
  },
  {
   "cell_type": "markdown",
   "id": "5832dcde",
   "metadata": {
    "papermill": {
     "duration": 0.027157,
     "end_time": "2022-10-24T14:34:43.867586",
     "exception": false,
     "start_time": "2022-10-24T14:34:43.840429",
     "status": "completed"
    },
    "tags": []
   },
   "source": [
    "jumlah customer yang tidak pernah melakukan transaksi sangat banyak, yakni mencapai 49% dari total customer keseluruhan, dan jumlah customer yang melakukan transaksi (sukses) lebih dari 3 kali (many) cukup banyak, yakni mencapai hampir 1/3 dari total customer keseluruhan"
   ]
  },
  {
   "cell_type": "markdown",
   "id": "351231c0",
   "metadata": {
    "papermill": {
     "duration": 0.024275,
     "end_time": "2022-10-24T14:34:43.917236",
     "exception": false,
     "start_time": "2022-10-24T14:34:43.892961",
     "status": "completed"
    },
    "tags": []
   },
   "source": [
    "# FI : Tanggal transaksi pertama dan transaksi terakhir (transaksi sukses)"
   ]
  },
  {
   "cell_type": "code",
   "execution_count": 26,
   "id": "55d9f5fb",
   "metadata": {
    "execution": {
     "iopub.execute_input": "2022-10-24T14:34:43.969258Z",
     "iopub.status.busy": "2022-10-24T14:34:43.968089Z",
     "iopub.status.idle": "2022-10-24T14:34:53.451552Z",
     "shell.execute_reply": "2022-10-24T14:34:53.450308Z"
    },
    "papermill": {
     "duration": 9.513494,
     "end_time": "2022-10-24T14:34:53.454506",
     "exception": false,
     "start_time": "2022-10-24T14:34:43.941012",
     "status": "completed"
    },
    "tags": []
   },
   "outputs": [],
   "source": [
    "trans_success = trans[trans['payment_status'] == 'Success']\n",
    "\n",
    "# buat tabel yang menginfokan tanggal pembelian pertama tiap pelanggan\n",
    "first_purchase = trans_success.groupby(['customer_id'])['created_at'].min()\n",
    "first_purchase = pd.DataFrame(data = first_purchase).reset_index()\n",
    "first_purchase['created_at'] = pd.to_datetime(first_purchase['created_at']).dt.date\n",
    "first_purchase = first_purchase.rename(columns = {'created_at' : 'first_purchase_date'})\n",
    "\n",
    "# buat tabel yang menginfokan tanggal pembelian terakhir tiap pelanggan\n",
    "last_purchase = trans_success.groupby(['customer_id'])['created_at'].max()\n",
    "last_purchase = pd.DataFrame(data = last_purchase).reset_index()\n",
    "last_purchase['created_at'] = pd.to_datetime(last_purchase['created_at']).dt.date\n",
    "last_purchase = last_purchase.rename(columns = {'created_at' : 'last_purchase_date'})"
   ]
  },
  {
   "cell_type": "code",
   "execution_count": 27,
   "id": "3808d54d",
   "metadata": {
    "execution": {
     "iopub.execute_input": "2022-10-24T14:34:53.503911Z",
     "iopub.status.busy": "2022-10-24T14:34:53.503453Z",
     "iopub.status.idle": "2022-10-24T14:34:53.621396Z",
     "shell.execute_reply": "2022-10-24T14:34:53.620139Z"
    },
    "papermill": {
     "duration": 0.146515,
     "end_time": "2022-10-24T14:34:53.624416",
     "exception": false,
     "start_time": "2022-10-24T14:34:53.477901",
     "status": "completed"
    },
    "tags": []
   },
   "outputs": [],
   "source": [
    "# gabungkan tabel first_purchase dan last_purchase\n",
    "purchase_date = pd.merge(left = first_purchase, right = last_purchase, on = 'customer_id')\n",
    "\n",
    "# buat kolom mengenai recency tiap pelanggan\n",
    "purchase_date['recency_days'] = pd.to_datetime(\"today\").date() - purchase_date['last_purchase_date']"
   ]
  },
  {
   "cell_type": "code",
   "execution_count": 28,
   "id": "d073b7f0",
   "metadata": {
    "execution": {
     "iopub.execute_input": "2022-10-24T14:34:53.674601Z",
     "iopub.status.busy": "2022-10-24T14:34:53.674150Z",
     "iopub.status.idle": "2022-10-24T14:34:53.686590Z",
     "shell.execute_reply": "2022-10-24T14:34:53.685387Z"
    },
    "papermill": {
     "duration": 0.040334,
     "end_time": "2022-10-24T14:34:53.688970",
     "exception": false,
     "start_time": "2022-10-24T14:34:53.648636",
     "status": "completed"
    },
    "tags": []
   },
   "outputs": [
    {
     "data": {
      "text/html": [
       "<div>\n",
       "<style scoped>\n",
       "    .dataframe tbody tr th:only-of-type {\n",
       "        vertical-align: middle;\n",
       "    }\n",
       "\n",
       "    .dataframe tbody tr th {\n",
       "        vertical-align: top;\n",
       "    }\n",
       "\n",
       "    .dataframe thead th {\n",
       "        text-align: right;\n",
       "    }\n",
       "</style>\n",
       "<table border=\"1\" class=\"dataframe\">\n",
       "  <thead>\n",
       "    <tr style=\"text-align: right;\">\n",
       "      <th></th>\n",
       "      <th>customer_id</th>\n",
       "      <th>first_purchase_date</th>\n",
       "      <th>last_purchase_date</th>\n",
       "      <th>recency_days</th>\n",
       "    </tr>\n",
       "  </thead>\n",
       "  <tbody>\n",
       "    <tr>\n",
       "      <th>0</th>\n",
       "      <td>3</td>\n",
       "      <td>2018-08-25</td>\n",
       "      <td>2022-06-26</td>\n",
       "      <td>120 days</td>\n",
       "    </tr>\n",
       "    <tr>\n",
       "      <th>1</th>\n",
       "      <td>8</td>\n",
       "      <td>2021-02-13</td>\n",
       "      <td>2022-05-15</td>\n",
       "      <td>162 days</td>\n",
       "    </tr>\n",
       "    <tr>\n",
       "      <th>2</th>\n",
       "      <td>9</td>\n",
       "      <td>2021-06-27</td>\n",
       "      <td>2022-05-28</td>\n",
       "      <td>149 days</td>\n",
       "    </tr>\n",
       "    <tr>\n",
       "      <th>3</th>\n",
       "      <td>11</td>\n",
       "      <td>2022-03-07</td>\n",
       "      <td>2022-03-07</td>\n",
       "      <td>231 days</td>\n",
       "    </tr>\n",
       "    <tr>\n",
       "      <th>4</th>\n",
       "      <td>15</td>\n",
       "      <td>2019-09-30</td>\n",
       "      <td>2022-01-05</td>\n",
       "      <td>292 days</td>\n",
       "    </tr>\n",
       "  </tbody>\n",
       "</table>\n",
       "</div>"
      ],
      "text/plain": [
       "   customer_id first_purchase_date last_purchase_date recency_days\n",
       "0            3          2018-08-25         2022-06-26     120 days\n",
       "1            8          2021-02-13         2022-05-15     162 days\n",
       "2            9          2021-06-27         2022-05-28     149 days\n",
       "3           11          2022-03-07         2022-03-07     231 days\n",
       "4           15          2019-09-30         2022-01-05     292 days"
      ]
     },
     "execution_count": 28,
     "metadata": {},
     "output_type": "execute_result"
    }
   ],
   "source": [
    "purchase_date.head()"
   ]
  },
  {
   "cell_type": "code",
   "execution_count": 29,
   "id": "5218b92b",
   "metadata": {
    "execution": {
     "iopub.execute_input": "2022-10-24T14:34:53.737941Z",
     "iopub.status.busy": "2022-10-24T14:34:53.737032Z",
     "iopub.status.idle": "2022-10-24T14:34:53.745195Z",
     "shell.execute_reply": "2022-10-24T14:34:53.743879Z"
    },
    "papermill": {
     "duration": 0.03536,
     "end_time": "2022-10-24T14:34:53.747790",
     "exception": false,
     "start_time": "2022-10-24T14:34:53.712430",
     "status": "completed"
    },
    "tags": []
   },
   "outputs": [
    {
     "data": {
      "text/plain": [
       "(50242, 4)"
      ]
     },
     "execution_count": 29,
     "metadata": {},
     "output_type": "execute_result"
    }
   ],
   "source": [
    "purchase_date.shape"
   ]
  },
  {
   "cell_type": "markdown",
   "id": "bce108dd",
   "metadata": {
    "papermill": {
     "duration": 0.023467,
     "end_time": "2022-10-24T14:34:53.797338",
     "exception": false,
     "start_time": "2022-10-24T14:34:53.773871",
     "status": "completed"
    },
    "tags": []
   },
   "source": [
    "# FI : Jumlah event click masing2 cust yang telah transaksi"
   ]
  },
  {
   "cell_type": "code",
   "execution_count": 30,
   "id": "814ec2d7",
   "metadata": {
    "execution": {
     "iopub.execute_input": "2022-10-24T14:34:53.845984Z",
     "iopub.status.busy": "2022-10-24T14:34:53.845534Z",
     "iopub.status.idle": "2022-10-24T14:35:14.527158Z",
     "shell.execute_reply": "2022-10-24T14:35:14.526242Z"
    },
    "papermill": {
     "duration": 20.708969,
     "end_time": "2022-10-24T14:35:14.529594",
     "exception": false,
     "start_time": "2022-10-24T14:34:53.820625",
     "status": "completed"
    },
    "tags": []
   },
   "outputs": [
    {
     "data": {
      "text/html": [
       "<div>\n",
       "<style scoped>\n",
       "    .dataframe tbody tr th:only-of-type {\n",
       "        vertical-align: middle;\n",
       "    }\n",
       "\n",
       "    .dataframe tbody tr th {\n",
       "        vertical-align: top;\n",
       "    }\n",
       "\n",
       "    .dataframe thead th {\n",
       "        text-align: right;\n",
       "    }\n",
       "</style>\n",
       "<table border=\"1\" class=\"dataframe\">\n",
       "  <thead>\n",
       "    <tr style=\"text-align: right;\">\n",
       "      <th></th>\n",
       "      <th>customer_id</th>\n",
       "      <th>add_promo_freq</th>\n",
       "      <th>add_to_cart_freq</th>\n",
       "      <th>booking_freq</th>\n",
       "      <th>click_freq</th>\n",
       "      <th>homepage_freq</th>\n",
       "      <th>item_detail_freq</th>\n",
       "      <th>promo_page_freq</th>\n",
       "      <th>scroll_freq</th>\n",
       "      <th>search_freq</th>\n",
       "    </tr>\n",
       "  </thead>\n",
       "  <tbody>\n",
       "    <tr>\n",
       "      <th>0</th>\n",
       "      <td>3</td>\n",
       "      <td>27.0</td>\n",
       "      <td>156.0</td>\n",
       "      <td>51.0</td>\n",
       "      <td>118.0</td>\n",
       "      <td>109.0</td>\n",
       "      <td>56.0</td>\n",
       "      <td>42.0</td>\n",
       "      <td>72.0</td>\n",
       "      <td>51.0</td>\n",
       "    </tr>\n",
       "    <tr>\n",
       "      <th>1</th>\n",
       "      <td>8</td>\n",
       "      <td>1.0</td>\n",
       "      <td>14.0</td>\n",
       "      <td>7.0</td>\n",
       "      <td>25.0</td>\n",
       "      <td>93.0</td>\n",
       "      <td>32.0</td>\n",
       "      <td>5.0</td>\n",
       "      <td>16.0</td>\n",
       "      <td>9.0</td>\n",
       "    </tr>\n",
       "    <tr>\n",
       "      <th>2</th>\n",
       "      <td>9</td>\n",
       "      <td>0.0</td>\n",
       "      <td>16.0</td>\n",
       "      <td>6.0</td>\n",
       "      <td>11.0</td>\n",
       "      <td>8.0</td>\n",
       "      <td>5.0</td>\n",
       "      <td>3.0</td>\n",
       "      <td>6.0</td>\n",
       "      <td>4.0</td>\n",
       "    </tr>\n",
       "    <tr>\n",
       "      <th>3</th>\n",
       "      <td>11</td>\n",
       "      <td>1.0</td>\n",
       "      <td>4.0</td>\n",
       "      <td>1.0</td>\n",
       "      <td>1.0</td>\n",
       "      <td>3.0</td>\n",
       "      <td>2.0</td>\n",
       "      <td>2.0</td>\n",
       "      <td>0.0</td>\n",
       "      <td>0.0</td>\n",
       "    </tr>\n",
       "    <tr>\n",
       "      <th>4</th>\n",
       "      <td>15</td>\n",
       "      <td>4.0</td>\n",
       "      <td>21.0</td>\n",
       "      <td>5.0</td>\n",
       "      <td>9.0</td>\n",
       "      <td>9.0</td>\n",
       "      <td>3.0</td>\n",
       "      <td>1.0</td>\n",
       "      <td>2.0</td>\n",
       "      <td>3.0</td>\n",
       "    </tr>\n",
       "  </tbody>\n",
       "</table>\n",
       "</div>"
      ],
      "text/plain": [
       "   customer_id  add_promo_freq  add_to_cart_freq  booking_freq  click_freq  \\\n",
       "0            3            27.0             156.0          51.0       118.0   \n",
       "1            8             1.0              14.0           7.0        25.0   \n",
       "2            9             0.0              16.0           6.0        11.0   \n",
       "3           11             1.0               4.0           1.0         1.0   \n",
       "4           15             4.0              21.0           5.0         9.0   \n",
       "\n",
       "   homepage_freq  item_detail_freq  promo_page_freq  scroll_freq  search_freq  \n",
       "0          109.0              56.0             42.0         72.0         51.0  \n",
       "1           93.0              32.0              5.0         16.0          9.0  \n",
       "2            8.0               5.0              3.0          6.0          4.0  \n",
       "3            3.0               2.0              2.0          0.0          0.0  \n",
       "4            9.0               3.0              1.0          2.0          3.0  "
      ]
     },
     "execution_count": 30,
     "metadata": {},
     "output_type": "execute_result"
    }
   ],
   "source": [
    "# merging dengan data cust\n",
    "cust_session = click.iloc[:,:2].merge(trans, on='session_id', how='inner')\n",
    "cust_session = cust_session.iloc[:,[0,1,3]]\n",
    "\n",
    "# ambil frequency event masing-masing cust\n",
    "total_event = cust_session.groupby(['customer_id','event_name']).count().reset_index()\n",
    "# total_event\n",
    "\n",
    "# buat feature baru\n",
    "total_event = total_event.pivot_table('session_id', ['customer_id'], 'event_name')\n",
    "\n",
    "# showing dataframe\n",
    "total_event = total_event.rename_axis(None, axis=1).reset_index()\n",
    "\n",
    "# handling NaN\n",
    "total_event = total_event.fillna(0)\n",
    "\n",
    "# rename columns\n",
    "total_event = total_event.rename({\n",
    "    'ADD_PROMO' : 'add_promo_freq',\n",
    "    'ADD_TO_CART' : 'add_to_cart_freq',\n",
    "    'BOOKING' : 'booking_freq',\n",
    "    'CLICK' : 'click_freq',\n",
    "    'HOMEPAGE' : 'homepage_freq',\n",
    "    'ITEM_DETAIL' : 'item_detail_freq',\n",
    "    'PROMO_PAGE' : 'promo_page_freq',\n",
    "    'SCROLL' : 'scroll_freq',\n",
    "    'SEARCH' : 'search_freq'\n",
    "}, axis='columns') \n",
    "\n",
    "\n",
    "total_event.head()"
   ]
  },
  {
   "cell_type": "code",
   "execution_count": 31,
   "id": "2e9bdf95",
   "metadata": {
    "execution": {
     "iopub.execute_input": "2022-10-24T14:35:14.580485Z",
     "iopub.status.busy": "2022-10-24T14:35:14.579763Z",
     "iopub.status.idle": "2022-10-24T14:35:14.585664Z",
     "shell.execute_reply": "2022-10-24T14:35:14.584770Z"
    },
    "papermill": {
     "duration": 0.034146,
     "end_time": "2022-10-24T14:35:14.587908",
     "exception": false,
     "start_time": "2022-10-24T14:35:14.553762",
     "status": "completed"
    },
    "tags": []
   },
   "outputs": [
    {
     "data": {
      "text/plain": [
       "(50704, 10)"
      ]
     },
     "execution_count": 31,
     "metadata": {},
     "output_type": "execute_result"
    }
   ],
   "source": [
    "total_event.shape"
   ]
  },
  {
   "cell_type": "markdown",
   "id": "6451990d",
   "metadata": {
    "papermill": {
     "duration": 0.023599,
     "end_time": "2022-10-24T14:35:14.635416",
     "exception": false,
     "start_time": "2022-10-24T14:35:14.611817",
     "status": "completed"
    },
    "tags": []
   },
   "source": [
    "# mengecek jumlah session masing2 user dan berapa waktu yang dihabiskan user di platform"
   ]
  },
  {
   "cell_type": "code",
   "execution_count": 32,
   "id": "30517608",
   "metadata": {
    "execution": {
     "iopub.execute_input": "2022-10-24T14:35:14.687532Z",
     "iopub.status.busy": "2022-10-24T14:35:14.687069Z",
     "iopub.status.idle": "2022-10-24T14:38:04.946397Z",
     "shell.execute_reply": "2022-10-24T14:38:04.944943Z"
    },
    "papermill": {
     "duration": 170.289649,
     "end_time": "2022-10-24T14:38:04.949958",
     "exception": false,
     "start_time": "2022-10-24T14:35:14.660309",
     "status": "completed"
    },
    "tags": []
   },
   "outputs": [],
   "source": [
    "# buat tabel yang menginfokan waktu interaksi pertama tiap session\n",
    "first_interact = click.groupby(['session_id'])['event_time'].min()\n",
    "first_interact = pd.DataFrame(data = first_interact).reset_index()\n",
    "# first_interact['event_time'] = pd.to_datetime(first_interact['event_time']).dt.time\n",
    "\n",
    "first_interact['event_time'] = pd.to_datetime(first_interact['event_time'])\n",
    "first_interact = first_interact.rename(columns = {'event_time' : 'first_interact_time'})\n",
    "\n",
    "# buat tabel yang menginfokan waktu interaksi pertama tiap session\n",
    "last_interact = click.groupby(['session_id'])['event_time'].max()\n",
    "last_interact = pd.DataFrame(data = last_interact).reset_index()\n",
    "# last_interact['event_time'] = pd.to_datetime(last_interact['event_time']).dt.time\n",
    "last_interact['event_time'] = pd.to_datetime(last_interact['event_time'])\n",
    "last_interact = last_interact.rename(columns = {'event_time' : 'last_interact_time'})"
   ]
  },
  {
   "cell_type": "code",
   "execution_count": 33,
   "id": "009c6195",
   "metadata": {
    "execution": {
     "iopub.execute_input": "2022-10-24T14:38:05.000300Z",
     "iopub.status.busy": "2022-10-24T14:38:04.999836Z",
     "iopub.status.idle": "2022-10-24T14:38:05.958589Z",
     "shell.execute_reply": "2022-10-24T14:38:05.957113Z"
    },
    "papermill": {
     "duration": 0.987342,
     "end_time": "2022-10-24T14:38:05.961571",
     "exception": false,
     "start_time": "2022-10-24T14:38:04.974229",
     "status": "completed"
    },
    "tags": []
   },
   "outputs": [],
   "source": [
    "# gabungkan tabel first_interact dan last_interact\n",
    "session_time = pd.merge(left = first_interact, right = last_interact, on = 'session_id')\n",
    "\n",
    "# buat kolom mengenai waktu yang dihabiskan tiap session\n",
    "session_time['session_time'] = session_time['last_interact_time'] - session_time['first_interact_time']"
   ]
  },
  {
   "cell_type": "code",
   "execution_count": 34,
   "id": "30b08ab1",
   "metadata": {
    "execution": {
     "iopub.execute_input": "2022-10-24T14:38:06.018893Z",
     "iopub.status.busy": "2022-10-24T14:38:06.018468Z",
     "iopub.status.idle": "2022-10-24T14:38:06.034787Z",
     "shell.execute_reply": "2022-10-24T14:38:06.033556Z"
    },
    "papermill": {
     "duration": 0.04927,
     "end_time": "2022-10-24T14:38:06.037404",
     "exception": false,
     "start_time": "2022-10-24T14:38:05.988134",
     "status": "completed"
    },
    "tags": []
   },
   "outputs": [
    {
     "data": {
      "text/html": [
       "<div>\n",
       "<style scoped>\n",
       "    .dataframe tbody tr th:only-of-type {\n",
       "        vertical-align: middle;\n",
       "    }\n",
       "\n",
       "    .dataframe tbody tr th {\n",
       "        vertical-align: top;\n",
       "    }\n",
       "\n",
       "    .dataframe thead th {\n",
       "        text-align: right;\n",
       "    }\n",
       "</style>\n",
       "<table border=\"1\" class=\"dataframe\">\n",
       "  <thead>\n",
       "    <tr style=\"text-align: right;\">\n",
       "      <th></th>\n",
       "      <th>session_id</th>\n",
       "      <th>first_interact_time</th>\n",
       "      <th>last_interact_time</th>\n",
       "      <th>session_time</th>\n",
       "    </tr>\n",
       "  </thead>\n",
       "  <tbody>\n",
       "    <tr>\n",
       "      <th>0</th>\n",
       "      <td>00001f29-3ede-4445-95f0-0178934e32ba</td>\n",
       "      <td>2019-05-17 11:51:52.276396+00:00</td>\n",
       "      <td>2019-05-19 20:17:04.276396+00:00</td>\n",
       "      <td>2 days 08:25:12</td>\n",
       "    </tr>\n",
       "    <tr>\n",
       "      <th>1</th>\n",
       "      <td>00003eca-954b-4150-aee1-63fc62f395cf</td>\n",
       "      <td>2019-08-24 05:47:16.849738+00:00</td>\n",
       "      <td>2019-08-24 06:26:12.662344+00:00</td>\n",
       "      <td>0 days 00:38:55.812606</td>\n",
       "    </tr>\n",
       "    <tr>\n",
       "      <th>2</th>\n",
       "      <td>0000425b-ddc8-4459-a240-6ba814dac132</td>\n",
       "      <td>2019-02-05 13:38:59.490443+00:00</td>\n",
       "      <td>2019-04-28 10:08:01.490443+00:00</td>\n",
       "      <td>81 days 20:29:02</td>\n",
       "    </tr>\n",
       "    <tr>\n",
       "      <th>3</th>\n",
       "      <td>00005746-17ec-449c-9c5c-699a3ea9304a</td>\n",
       "      <td>2022-03-08 23:17:19.510057+00:00</td>\n",
       "      <td>2022-03-08 23:21:35.510057+00:00</td>\n",
       "      <td>0 days 00:04:16</td>\n",
       "    </tr>\n",
       "    <tr>\n",
       "      <th>4</th>\n",
       "      <td>0000649b-9514-4600-979b-42166a798996</td>\n",
       "      <td>2020-07-17 13:32:48.525079+00:00</td>\n",
       "      <td>2020-07-23 14:31:15.525079+00:00</td>\n",
       "      <td>6 days 00:58:27</td>\n",
       "    </tr>\n",
       "  </tbody>\n",
       "</table>\n",
       "</div>"
      ],
      "text/plain": [
       "                             session_id              first_interact_time  \\\n",
       "0  00001f29-3ede-4445-95f0-0178934e32ba 2019-05-17 11:51:52.276396+00:00   \n",
       "1  00003eca-954b-4150-aee1-63fc62f395cf 2019-08-24 05:47:16.849738+00:00   \n",
       "2  0000425b-ddc8-4459-a240-6ba814dac132 2019-02-05 13:38:59.490443+00:00   \n",
       "3  00005746-17ec-449c-9c5c-699a3ea9304a 2022-03-08 23:17:19.510057+00:00   \n",
       "4  0000649b-9514-4600-979b-42166a798996 2020-07-17 13:32:48.525079+00:00   \n",
       "\n",
       "                last_interact_time           session_time  \n",
       "0 2019-05-19 20:17:04.276396+00:00        2 days 08:25:12  \n",
       "1 2019-08-24 06:26:12.662344+00:00 0 days 00:38:55.812606  \n",
       "2 2019-04-28 10:08:01.490443+00:00       81 days 20:29:02  \n",
       "3 2022-03-08 23:21:35.510057+00:00        0 days 00:04:16  \n",
       "4 2020-07-23 14:31:15.525079+00:00        6 days 00:58:27  "
      ]
     },
     "execution_count": 34,
     "metadata": {},
     "output_type": "execute_result"
    }
   ],
   "source": [
    "session_time.head()"
   ]
  },
  {
   "cell_type": "code",
   "execution_count": 35,
   "id": "5b3d4bc2",
   "metadata": {
    "execution": {
     "iopub.execute_input": "2022-10-24T14:38:06.096756Z",
     "iopub.status.busy": "2022-10-24T14:38:06.095351Z",
     "iopub.status.idle": "2022-10-24T14:38:08.265188Z",
     "shell.execute_reply": "2022-10-24T14:38:08.263936Z"
    },
    "papermill": {
     "duration": 2.201863,
     "end_time": "2022-10-24T14:38:08.268509",
     "exception": false,
     "start_time": "2022-10-24T14:38:06.066646",
     "status": "completed"
    },
    "tags": []
   },
   "outputs": [],
   "source": [
    "cust_session_time = trans.merge(session_time, on='session_id', how='inner')\n",
    "cust_session_time = cust_session_time.groupby('customer_id')['session_time'].sum().reset_index()\n",
    "cust_session_time = cust_session_time.sort_values('session_time', ascending=False)"
   ]
  },
  {
   "cell_type": "code",
   "execution_count": 36,
   "id": "40792a71",
   "metadata": {
    "execution": {
     "iopub.execute_input": "2022-10-24T14:38:08.318624Z",
     "iopub.status.busy": "2022-10-24T14:38:08.318199Z",
     "iopub.status.idle": "2022-10-24T14:38:08.328830Z",
     "shell.execute_reply": "2022-10-24T14:38:08.327615Z"
    },
    "papermill": {
     "duration": 0.038934,
     "end_time": "2022-10-24T14:38:08.331386",
     "exception": false,
     "start_time": "2022-10-24T14:38:08.292452",
     "status": "completed"
    },
    "tags": []
   },
   "outputs": [
    {
     "data": {
      "text/html": [
       "<div>\n",
       "<style scoped>\n",
       "    .dataframe tbody tr th:only-of-type {\n",
       "        vertical-align: middle;\n",
       "    }\n",
       "\n",
       "    .dataframe tbody tr th {\n",
       "        vertical-align: top;\n",
       "    }\n",
       "\n",
       "    .dataframe thead th {\n",
       "        text-align: right;\n",
       "    }\n",
       "</style>\n",
       "<table border=\"1\" class=\"dataframe\">\n",
       "  <thead>\n",
       "    <tr style=\"text-align: right;\">\n",
       "      <th></th>\n",
       "      <th>customer_id</th>\n",
       "      <th>session_time</th>\n",
       "    </tr>\n",
       "  </thead>\n",
       "  <tbody>\n",
       "    <tr>\n",
       "      <th>43284</th>\n",
       "      <td>85396</td>\n",
       "      <td>1090 days 07:44:45.557140992</td>\n",
       "    </tr>\n",
       "    <tr>\n",
       "      <th>3885</th>\n",
       "      <td>7473</td>\n",
       "      <td>1040 days 09:01:32.393412992</td>\n",
       "    </tr>\n",
       "    <tr>\n",
       "      <th>22196</th>\n",
       "      <td>43399</td>\n",
       "      <td>1034 days 13:59:11.397868992</td>\n",
       "    </tr>\n",
       "    <tr>\n",
       "      <th>835</th>\n",
       "      <td>1642</td>\n",
       "      <td>1031 days 05:19:09.461424</td>\n",
       "    </tr>\n",
       "    <tr>\n",
       "      <th>41267</th>\n",
       "      <td>81415</td>\n",
       "      <td>1029 days 04:12:58.103964992</td>\n",
       "    </tr>\n",
       "  </tbody>\n",
       "</table>\n",
       "</div>"
      ],
      "text/plain": [
       "       customer_id                 session_time\n",
       "43284        85396 1090 days 07:44:45.557140992\n",
       "3885          7473 1040 days 09:01:32.393412992\n",
       "22196        43399 1034 days 13:59:11.397868992\n",
       "835           1642    1031 days 05:19:09.461424\n",
       "41267        81415 1029 days 04:12:58.103964992"
      ]
     },
     "execution_count": 36,
     "metadata": {},
     "output_type": "execute_result"
    }
   ],
   "source": [
    "cust_session_time.head()"
   ]
  },
  {
   "cell_type": "code",
   "execution_count": 37,
   "id": "b0864572",
   "metadata": {
    "execution": {
     "iopub.execute_input": "2022-10-24T14:38:08.381441Z",
     "iopub.status.busy": "2022-10-24T14:38:08.380760Z",
     "iopub.status.idle": "2022-10-24T14:38:10.581894Z",
     "shell.execute_reply": "2022-10-24T14:38:10.580700Z"
    },
    "papermill": {
     "duration": 2.229339,
     "end_time": "2022-10-24T14:38:10.584639",
     "exception": false,
     "start_time": "2022-10-24T14:38:08.355300",
     "status": "completed"
    },
    "tags": []
   },
   "outputs": [],
   "source": [
    "cust_session_freq = trans.merge(session_time, on='session_id', how='inner')\n",
    "cust_session_freq = cust_session_freq.groupby('customer_id')['session_id'].count().reset_index()\n",
    "cust_session_freq = cust_session_freq.rename(columns = {'session_id' : 'total_session'})\n",
    "cust_session_freq = cust_session_freq.sort_values('total_session', ascending=False)"
   ]
  },
  {
   "cell_type": "code",
   "execution_count": 38,
   "id": "b7dc2bfb",
   "metadata": {
    "execution": {
     "iopub.execute_input": "2022-10-24T14:38:10.639360Z",
     "iopub.status.busy": "2022-10-24T14:38:10.638601Z",
     "iopub.status.idle": "2022-10-24T14:38:10.649699Z",
     "shell.execute_reply": "2022-10-24T14:38:10.648419Z"
    },
    "papermill": {
     "duration": 0.041936,
     "end_time": "2022-10-24T14:38:10.652203",
     "exception": false,
     "start_time": "2022-10-24T14:38:10.610267",
     "status": "completed"
    },
    "tags": []
   },
   "outputs": [
    {
     "data": {
      "text/html": [
       "<div>\n",
       "<style scoped>\n",
       "    .dataframe tbody tr th:only-of-type {\n",
       "        vertical-align: middle;\n",
       "    }\n",
       "\n",
       "    .dataframe tbody tr th {\n",
       "        vertical-align: top;\n",
       "    }\n",
       "\n",
       "    .dataframe thead th {\n",
       "        text-align: right;\n",
       "    }\n",
       "</style>\n",
       "<table border=\"1\" class=\"dataframe\">\n",
       "  <thead>\n",
       "    <tr style=\"text-align: right;\">\n",
       "      <th></th>\n",
       "      <th>customer_id</th>\n",
       "      <th>total_session</th>\n",
       "    </tr>\n",
       "  </thead>\n",
       "  <tbody>\n",
       "    <tr>\n",
       "      <th>22114</th>\n",
       "      <td>43202</td>\n",
       "      <td>550</td>\n",
       "    </tr>\n",
       "    <tr>\n",
       "      <th>15106</th>\n",
       "      <td>29496</td>\n",
       "      <td>505</td>\n",
       "    </tr>\n",
       "    <tr>\n",
       "      <th>41660</th>\n",
       "      <td>82237</td>\n",
       "      <td>503</td>\n",
       "    </tr>\n",
       "    <tr>\n",
       "      <th>5261</th>\n",
       "      <td>10167</td>\n",
       "      <td>473</td>\n",
       "    </tr>\n",
       "    <tr>\n",
       "      <th>35432</th>\n",
       "      <td>69740</td>\n",
       "      <td>458</td>\n",
       "    </tr>\n",
       "  </tbody>\n",
       "</table>\n",
       "</div>"
      ],
      "text/plain": [
       "       customer_id  total_session\n",
       "22114        43202            550\n",
       "15106        29496            505\n",
       "41660        82237            503\n",
       "5261         10167            473\n",
       "35432        69740            458"
      ]
     },
     "execution_count": 38,
     "metadata": {},
     "output_type": "execute_result"
    }
   ],
   "source": [
    "cust_session_freq.head()"
   ]
  },
  {
   "cell_type": "code",
   "execution_count": 39,
   "id": "d5bc8ad9",
   "metadata": {
    "execution": {
     "iopub.execute_input": "2022-10-24T14:38:10.706376Z",
     "iopub.status.busy": "2022-10-24T14:38:10.705903Z",
     "iopub.status.idle": "2022-10-24T14:38:10.743099Z",
     "shell.execute_reply": "2022-10-24T14:38:10.741501Z"
    },
    "papermill": {
     "duration": 0.068257,
     "end_time": "2022-10-24T14:38:10.746509",
     "exception": false,
     "start_time": "2022-10-24T14:38:10.678252",
     "status": "completed"
    },
    "tags": []
   },
   "outputs": [
    {
     "data": {
      "text/html": [
       "<div>\n",
       "<style scoped>\n",
       "    .dataframe tbody tr th:only-of-type {\n",
       "        vertical-align: middle;\n",
       "    }\n",
       "\n",
       "    .dataframe tbody tr th {\n",
       "        vertical-align: top;\n",
       "    }\n",
       "\n",
       "    .dataframe thead th {\n",
       "        text-align: right;\n",
       "    }\n",
       "</style>\n",
       "<table border=\"1\" class=\"dataframe\">\n",
       "  <thead>\n",
       "    <tr style=\"text-align: right;\">\n",
       "      <th></th>\n",
       "      <th>customer_id</th>\n",
       "      <th>total_session</th>\n",
       "      <th>session_time</th>\n",
       "      <th>avg_session_time</th>\n",
       "    </tr>\n",
       "  </thead>\n",
       "  <tbody>\n",
       "    <tr>\n",
       "      <th>0</th>\n",
       "      <td>43202</td>\n",
       "      <td>550</td>\n",
       "      <td>841 days 10:09:22.980147008</td>\n",
       "      <td>1 days 12:42:59.932691176</td>\n",
       "    </tr>\n",
       "    <tr>\n",
       "      <th>1</th>\n",
       "      <td>29496</td>\n",
       "      <td>505</td>\n",
       "      <td>554 days 05:09:02.968033</td>\n",
       "      <td>1 days 02:20:20.085085213</td>\n",
       "    </tr>\n",
       "    <tr>\n",
       "      <th>2</th>\n",
       "      <td>82237</td>\n",
       "      <td>503</td>\n",
       "      <td>706 days 18:34:59.166003</td>\n",
       "      <td>1 days 09:43:22.185220681</td>\n",
       "    </tr>\n",
       "    <tr>\n",
       "      <th>3</th>\n",
       "      <td>10167</td>\n",
       "      <td>473</td>\n",
       "      <td>649 days 21:06:34.125936</td>\n",
       "      <td>1 days 08:58:29.501323331</td>\n",
       "    </tr>\n",
       "    <tr>\n",
       "      <th>4</th>\n",
       "      <td>69740</td>\n",
       "      <td>458</td>\n",
       "      <td>517 days 08:02:01.589935</td>\n",
       "      <td>1 days 03:06:33.278580644</td>\n",
       "    </tr>\n",
       "    <tr>\n",
       "      <th>...</th>\n",
       "      <td>...</td>\n",
       "      <td>...</td>\n",
       "      <td>...</td>\n",
       "      <td>...</td>\n",
       "    </tr>\n",
       "    <tr>\n",
       "      <th>50699</th>\n",
       "      <td>80494</td>\n",
       "      <td>1</td>\n",
       "      <td>0 days 00:40:10.584424</td>\n",
       "      <td>0 days 00:40:10.584424</td>\n",
       "    </tr>\n",
       "    <tr>\n",
       "      <th>50700</th>\n",
       "      <td>14513</td>\n",
       "      <td>1</td>\n",
       "      <td>0 days 00:20:36.573197</td>\n",
       "      <td>0 days 00:20:36.573197</td>\n",
       "    </tr>\n",
       "    <tr>\n",
       "      <th>50701</th>\n",
       "      <td>80510</td>\n",
       "      <td>1</td>\n",
       "      <td>0 days 01:38:16.502030</td>\n",
       "      <td>0 days 01:38:16.502030</td>\n",
       "    </tr>\n",
       "    <tr>\n",
       "      <th>50702</th>\n",
       "      <td>56174</td>\n",
       "      <td>1</td>\n",
       "      <td>0 days 00:49:22.785180</td>\n",
       "      <td>0 days 00:49:22.785180</td>\n",
       "    </tr>\n",
       "    <tr>\n",
       "      <th>50703</th>\n",
       "      <td>99999</td>\n",
       "      <td>1</td>\n",
       "      <td>0 days 00:11:57.803596</td>\n",
       "      <td>0 days 00:11:57.803596</td>\n",
       "    </tr>\n",
       "  </tbody>\n",
       "</table>\n",
       "<p>50704 rows × 4 columns</p>\n",
       "</div>"
      ],
      "text/plain": [
       "       customer_id  total_session                session_time  \\\n",
       "0            43202            550 841 days 10:09:22.980147008   \n",
       "1            29496            505    554 days 05:09:02.968033   \n",
       "2            82237            503    706 days 18:34:59.166003   \n",
       "3            10167            473    649 days 21:06:34.125936   \n",
       "4            69740            458    517 days 08:02:01.589935   \n",
       "...            ...            ...                         ...   \n",
       "50699        80494              1      0 days 00:40:10.584424   \n",
       "50700        14513              1      0 days 00:20:36.573197   \n",
       "50701        80510              1      0 days 01:38:16.502030   \n",
       "50702        56174              1      0 days 00:49:22.785180   \n",
       "50703        99999              1      0 days 00:11:57.803596   \n",
       "\n",
       "               avg_session_time  \n",
       "0     1 days 12:42:59.932691176  \n",
       "1     1 days 02:20:20.085085213  \n",
       "2     1 days 09:43:22.185220681  \n",
       "3     1 days 08:58:29.501323331  \n",
       "4     1 days 03:06:33.278580644  \n",
       "...                         ...  \n",
       "50699    0 days 00:40:10.584424  \n",
       "50700    0 days 00:20:36.573197  \n",
       "50701    0 days 01:38:16.502030  \n",
       "50702    0 days 00:49:22.785180  \n",
       "50703    0 days 00:11:57.803596  \n",
       "\n",
       "[50704 rows x 4 columns]"
      ]
     },
     "execution_count": 39,
     "metadata": {},
     "output_type": "execute_result"
    }
   ],
   "source": [
    "cust_sess_total = cust_session_freq.merge(cust_session_time, on='customer_id')\n",
    "cust_sess_total['avg_session_time'] = cust_sess_total['session_time'] / cust_sess_total['total_session']\n",
    "cust_sess_total"
   ]
  },
  {
   "cell_type": "markdown",
   "id": "460fe520",
   "metadata": {
    "papermill": {
     "duration": 0.02659,
     "end_time": "2022-10-24T14:38:10.799251",
     "exception": false,
     "start_time": "2022-10-24T14:38:10.772661",
     "status": "completed"
    },
    "tags": []
   },
   "source": [
    "# Normalize json"
   ]
  },
  {
   "cell_type": "code",
   "execution_count": 40,
   "id": "f7a6fc54",
   "metadata": {
    "execution": {
     "iopub.execute_input": "2022-10-24T14:38:10.854314Z",
     "iopub.status.busy": "2022-10-24T14:38:10.853473Z",
     "iopub.status.idle": "2022-10-24T14:38:12.184208Z",
     "shell.execute_reply": "2022-10-24T14:38:12.182728Z"
    },
    "papermill": {
     "duration": 1.363187,
     "end_time": "2022-10-24T14:38:12.187287",
     "exception": false,
     "start_time": "2022-10-24T14:38:10.824100",
     "status": "completed"
    },
    "tags": []
   },
   "outputs": [],
   "source": [
    "click['event_metadata'] = click['event_metadata'].fillna('{}')"
   ]
  },
  {
   "cell_type": "code",
   "execution_count": 41,
   "id": "d3f79fb2",
   "metadata": {
    "execution": {
     "iopub.execute_input": "2022-10-24T14:38:12.243927Z",
     "iopub.status.busy": "2022-10-24T14:38:12.243185Z",
     "iopub.status.idle": "2022-10-24T14:40:10.382979Z",
     "shell.execute_reply": "2022-10-24T14:40:10.380961Z"
    },
    "papermill": {
     "duration": 118.173503,
     "end_time": "2022-10-24T14:40:10.386421",
     "exception": false,
     "start_time": "2022-10-24T14:38:12.212918",
     "status": "completed"
    },
    "tags": []
   },
   "outputs": [],
   "source": [
    "click['event_metadata'] = click['event_metadata'].apply(ast.literal_eval)"
   ]
  },
  {
   "cell_type": "code",
   "execution_count": 42,
   "id": "1d9d8df2",
   "metadata": {
    "execution": {
     "iopub.execute_input": "2022-10-24T14:40:10.459735Z",
     "iopub.status.busy": "2022-10-24T14:40:10.458852Z",
     "iopub.status.idle": "2022-10-24T14:41:07.301529Z",
     "shell.execute_reply": "2022-10-24T14:41:07.300041Z"
    },
    "papermill": {
     "duration": 56.88613,
     "end_time": "2022-10-24T14:41:07.304508",
     "exception": false,
     "start_time": "2022-10-24T14:40:10.418378",
     "status": "completed"
    },
    "tags": []
   },
   "outputs": [],
   "source": [
    "click = pd.concat([click.drop(['event_metadata'], axis=1), pd.json_normalize(click['event_metadata'])], axis=1)"
   ]
  },
  {
   "cell_type": "code",
   "execution_count": 43,
   "id": "d819f884",
   "metadata": {
    "execution": {
     "iopub.execute_input": "2022-10-24T14:41:07.360330Z",
     "iopub.status.busy": "2022-10-24T14:41:07.359834Z",
     "iopub.status.idle": "2022-10-24T14:41:21.648584Z",
     "shell.execute_reply": "2022-10-24T14:41:21.644252Z"
    },
    "papermill": {
     "duration": 14.333516,
     "end_time": "2022-10-24T14:41:21.664922",
     "exception": false,
     "start_time": "2022-10-24T14:41:07.331406",
     "status": "completed"
    },
    "tags": []
   },
   "outputs": [
    {
     "data": {
      "text/html": [
       "<div>\n",
       "<style scoped>\n",
       "    .dataframe tbody tr th:only-of-type {\n",
       "        vertical-align: middle;\n",
       "    }\n",
       "\n",
       "    .dataframe tbody tr th {\n",
       "        vertical-align: top;\n",
       "    }\n",
       "\n",
       "    .dataframe thead th {\n",
       "        text-align: right;\n",
       "    }\n",
       "</style>\n",
       "<table border=\"1\" class=\"dataframe\">\n",
       "  <thead>\n",
       "    <tr style=\"text-align: right;\">\n",
       "      <th></th>\n",
       "      <th>session_id</th>\n",
       "      <th>product_id</th>\n",
       "      <th>quantity</th>\n",
       "      <th>item_price</th>\n",
       "    </tr>\n",
       "  </thead>\n",
       "  <tbody>\n",
       "    <tr>\n",
       "      <th>3</th>\n",
       "      <td>7d440441-e67a-4d36-b324-80ffd636d166</td>\n",
       "      <td>15315.0</td>\n",
       "      <td>4.0</td>\n",
       "      <td>313529.0</td>\n",
       "    </tr>\n",
       "    <tr>\n",
       "      <th>12</th>\n",
       "      <td>f7b5cd60-4f87-4b3c-8bde-c7da8930eec2</td>\n",
       "      <td>6133.0</td>\n",
       "      <td>2.0</td>\n",
       "      <td>249443.0</td>\n",
       "    </tr>\n",
       "    <tr>\n",
       "      <th>13</th>\n",
       "      <td>f7b5cd60-4f87-4b3c-8bde-c7da8930eec2</td>\n",
       "      <td>6721.0</td>\n",
       "      <td>1.0</td>\n",
       "      <td>134504.0</td>\n",
       "    </tr>\n",
       "    <tr>\n",
       "      <th>14</th>\n",
       "      <td>f7b5cd60-4f87-4b3c-8bde-c7da8930eec2</td>\n",
       "      <td>57622.0</td>\n",
       "      <td>1.0</td>\n",
       "      <td>384716.0</td>\n",
       "    </tr>\n",
       "    <tr>\n",
       "      <th>15</th>\n",
       "      <td>f7b5cd60-4f87-4b3c-8bde-c7da8930eec2</td>\n",
       "      <td>5490.0</td>\n",
       "      <td>1.0</td>\n",
       "      <td>121318.0</td>\n",
       "    </tr>\n",
       "    <tr>\n",
       "      <th>...</th>\n",
       "      <td>...</td>\n",
       "      <td>...</td>\n",
       "      <td>...</td>\n",
       "      <td>...</td>\n",
       "    </tr>\n",
       "    <tr>\n",
       "      <th>12833583</th>\n",
       "      <td>f38416ce-51f2-46b0-a476-776d8fed1cb0</td>\n",
       "      <td>4869.0</td>\n",
       "      <td>1.0</td>\n",
       "      <td>282771.0</td>\n",
       "    </tr>\n",
       "    <tr>\n",
       "      <th>12833587</th>\n",
       "      <td>c1ce86f6-858b-4009-af5b-f1483a28d020</td>\n",
       "      <td>25127.0</td>\n",
       "      <td>1.0</td>\n",
       "      <td>166365.0</td>\n",
       "    </tr>\n",
       "    <tr>\n",
       "      <th>12833591</th>\n",
       "      <td>f5c4bbe0-f977-45bb-af23-6ab524df7777</td>\n",
       "      <td>19386.0</td>\n",
       "      <td>1.0</td>\n",
       "      <td>208644.0</td>\n",
       "    </tr>\n",
       "    <tr>\n",
       "      <th>12833595</th>\n",
       "      <td>ad1063b0-a6e5-40a9-aed6-d1b45741e571</td>\n",
       "      <td>13143.0</td>\n",
       "      <td>1.0</td>\n",
       "      <td>284949.0</td>\n",
       "    </tr>\n",
       "    <tr>\n",
       "      <th>12833599</th>\n",
       "      <td>64585e37-3fe7-48d7-b79b-ebcb70230eb2</td>\n",
       "      <td>19820.0</td>\n",
       "      <td>1.0</td>\n",
       "      <td>88918.0</td>\n",
       "    </tr>\n",
       "  </tbody>\n",
       "</table>\n",
       "<p>1937157 rows × 4 columns</p>\n",
       "</div>"
      ],
      "text/plain": [
       "                                    session_id  product_id  quantity  \\\n",
       "3         7d440441-e67a-4d36-b324-80ffd636d166     15315.0       4.0   \n",
       "12        f7b5cd60-4f87-4b3c-8bde-c7da8930eec2      6133.0       2.0   \n",
       "13        f7b5cd60-4f87-4b3c-8bde-c7da8930eec2      6721.0       1.0   \n",
       "14        f7b5cd60-4f87-4b3c-8bde-c7da8930eec2     57622.0       1.0   \n",
       "15        f7b5cd60-4f87-4b3c-8bde-c7da8930eec2      5490.0       1.0   \n",
       "...                                        ...         ...       ...   \n",
       "12833583  f38416ce-51f2-46b0-a476-776d8fed1cb0      4869.0       1.0   \n",
       "12833587  c1ce86f6-858b-4009-af5b-f1483a28d020     25127.0       1.0   \n",
       "12833591  f5c4bbe0-f977-45bb-af23-6ab524df7777     19386.0       1.0   \n",
       "12833595  ad1063b0-a6e5-40a9-aed6-d1b45741e571     13143.0       1.0   \n",
       "12833599  64585e37-3fe7-48d7-b79b-ebcb70230eb2     19820.0       1.0   \n",
       "\n",
       "          item_price  \n",
       "3           313529.0  \n",
       "12          249443.0  \n",
       "13          134504.0  \n",
       "14          384716.0  \n",
       "15          121318.0  \n",
       "...              ...  \n",
       "12833583    282771.0  \n",
       "12833587    166365.0  \n",
       "12833591    208644.0  \n",
       "12833595    284949.0  \n",
       "12833599     88918.0  \n",
       "\n",
       "[1937157 rows x 4 columns]"
      ]
     },
     "execution_count": 43,
     "metadata": {},
     "output_type": "execute_result"
    }
   ],
   "source": [
    "# search_click = click[click['event_name'] == 'SEARCH'][['session_id','search_keywords']]\n",
    "add_to_cart_click = click[click['event_name'] == 'ADD_TO_CART'][['session_id','product_id','quantity','item_price']]\n",
    "add_to_cart_click"
   ]
  },
  {
   "cell_type": "code",
   "execution_count": 44,
   "id": "2615b4db",
   "metadata": {
    "execution": {
     "iopub.execute_input": "2022-10-24T14:41:21.891548Z",
     "iopub.status.busy": "2022-10-24T14:41:21.889996Z",
     "iopub.status.idle": "2022-10-24T14:41:23.294935Z",
     "shell.execute_reply": "2022-10-24T14:41:23.293374Z"
    },
    "papermill": {
     "duration": 1.51828,
     "end_time": "2022-10-24T14:41:23.298261",
     "exception": false,
     "start_time": "2022-10-24T14:41:21.779981",
     "status": "completed"
    },
    "tags": []
   },
   "outputs": [
    {
     "data": {
      "text/plain": [
       "eaeb79af-fbe8-4825-8457-c73f5937ef96    52\n",
       "63687c42-bbbc-443a-be21-2e15e0e8c7a9    49\n",
       "5f3094ac-b3e4-4dc1-b1a2-bd492634abea    49\n",
       "2744464b-1097-4bb5-89e2-275aba30d3ea    48\n",
       "5aa4bcd3-d4a7-400f-a11f-5cf38b751fe4    43\n",
       "                                        ..\n",
       "d57ffd34-889c-47a3-8c5c-7f7b6b443956     1\n",
       "d60e345b-31a0-410d-895f-3e40a88d94ce     1\n",
       "5cd98885-b44b-4d23-9490-bbaf4387bae7     1\n",
       "514d016e-1fd4-48fb-a890-599bcf8a27c4     1\n",
       "64585e37-3fe7-48d7-b79b-ebcb70230eb2     1\n",
       "Name: session_id, Length: 872061, dtype: int64"
      ]
     },
     "execution_count": 44,
     "metadata": {},
     "output_type": "execute_result"
    }
   ],
   "source": [
    "add_to_cart_click['session_id'].value_counts()"
   ]
  },
  {
   "cell_type": "markdown",
   "id": "f1395632",
   "metadata": {
    "papermill": {
     "duration": 0.031997,
     "end_time": "2022-10-24T14:41:23.364723",
     "exception": false,
     "start_time": "2022-10-24T14:41:23.332726",
     "status": "completed"
    },
    "tags": []
   },
   "source": [
    "# explode Json"
   ]
  },
  {
   "cell_type": "code",
   "execution_count": 45,
   "id": "664589a6",
   "metadata": {
    "execution": {
     "iopub.execute_input": "2022-10-24T14:41:23.435134Z",
     "iopub.status.busy": "2022-10-24T14:41:23.434585Z",
     "iopub.status.idle": "2022-10-24T14:41:49.268249Z",
     "shell.execute_reply": "2022-10-24T14:41:49.266864Z"
    },
    "papermill": {
     "duration": 25.871161,
     "end_time": "2022-10-24T14:41:49.271280",
     "exception": false,
     "start_time": "2022-10-24T14:41:23.400119",
     "status": "completed"
    },
    "tags": []
   },
   "outputs": [],
   "source": [
    "trans['product_metadata'] = trans['product_metadata'].apply(ast.literal_eval)"
   ]
  },
  {
   "cell_type": "code",
   "execution_count": 46,
   "id": "2e04ec19",
   "metadata": {
    "execution": {
     "iopub.execute_input": "2022-10-24T14:41:49.324830Z",
     "iopub.status.busy": "2022-10-24T14:41:49.324153Z",
     "iopub.status.idle": "2022-10-24T14:41:52.488436Z",
     "shell.execute_reply": "2022-10-24T14:41:52.487236Z"
    },
    "papermill": {
     "duration": 3.194225,
     "end_time": "2022-10-24T14:41:52.491307",
     "exception": false,
     "start_time": "2022-10-24T14:41:49.297082",
     "status": "completed"
    },
    "tags": []
   },
   "outputs": [],
   "source": [
    "transaction_new = trans.explode('product_metadata')"
   ]
  },
  {
   "cell_type": "code",
   "execution_count": 47,
   "id": "1b21d9e4",
   "metadata": {
    "execution": {
     "iopub.execute_input": "2022-10-24T14:41:52.545286Z",
     "iopub.status.busy": "2022-10-24T14:41:52.544526Z",
     "iopub.status.idle": "2022-10-24T14:48:53.883243Z",
     "shell.execute_reply": "2022-10-24T14:48:53.881835Z"
    },
    "papermill": {
     "duration": 421.369883,
     "end_time": "2022-10-24T14:48:53.886869",
     "exception": false,
     "start_time": "2022-10-24T14:41:52.516986",
     "status": "completed"
    },
    "tags": []
   },
   "outputs": [],
   "source": [
    "transaction_new = pd.concat([transaction_new.drop(['product_metadata'], axis=1), transaction_new['product_metadata'].apply(pd.Series)], axis=1)"
   ]
  },
  {
   "cell_type": "code",
   "execution_count": 48,
   "id": "19cd6c40",
   "metadata": {
    "execution": {
     "iopub.execute_input": "2022-10-24T14:48:53.942447Z",
     "iopub.status.busy": "2022-10-24T14:48:53.941348Z",
     "iopub.status.idle": "2022-10-24T14:48:53.961181Z",
     "shell.execute_reply": "2022-10-24T14:48:53.959929Z"
    },
    "papermill": {
     "duration": 0.05048,
     "end_time": "2022-10-24T14:48:53.964010",
     "exception": false,
     "start_time": "2022-10-24T14:48:53.913530",
     "status": "completed"
    },
    "tags": []
   },
   "outputs": [
    {
     "data": {
      "text/html": [
       "<div>\n",
       "<style scoped>\n",
       "    .dataframe tbody tr th:only-of-type {\n",
       "        vertical-align: middle;\n",
       "    }\n",
       "\n",
       "    .dataframe tbody tr th {\n",
       "        vertical-align: top;\n",
       "    }\n",
       "\n",
       "    .dataframe thead th {\n",
       "        text-align: right;\n",
       "    }\n",
       "</style>\n",
       "<table border=\"1\" class=\"dataframe\">\n",
       "  <thead>\n",
       "    <tr style=\"text-align: right;\">\n",
       "      <th></th>\n",
       "      <th>created_at</th>\n",
       "      <th>customer_id</th>\n",
       "      <th>booking_id</th>\n",
       "      <th>session_id</th>\n",
       "      <th>payment_method</th>\n",
       "      <th>payment_status</th>\n",
       "      <th>promo_amount</th>\n",
       "      <th>promo_code</th>\n",
       "      <th>shipment_fee</th>\n",
       "      <th>shipment_date_limit</th>\n",
       "      <th>shipment_location_lat</th>\n",
       "      <th>shipment_location_long</th>\n",
       "      <th>total_amount</th>\n",
       "      <th>product_id</th>\n",
       "      <th>quantity</th>\n",
       "      <th>item_price</th>\n",
       "    </tr>\n",
       "  </thead>\n",
       "  <tbody>\n",
       "    <tr>\n",
       "      <th>0</th>\n",
       "      <td>2018-07-29T15:22:01.458193Z</td>\n",
       "      <td>5868</td>\n",
       "      <td>186e2bee-0637-4710-8981-50c2d737bc42</td>\n",
       "      <td>3abaa6ce-e320-4e51-9469-d9f3fa328e86</td>\n",
       "      <td>Debit Card</td>\n",
       "      <td>Success</td>\n",
       "      <td>1415</td>\n",
       "      <td>WEEKENDSERU</td>\n",
       "      <td>10000</td>\n",
       "      <td>2018-08-03T05:07:24.812676Z</td>\n",
       "      <td>-8.227893</td>\n",
       "      <td>111.969107</td>\n",
       "      <td>199832</td>\n",
       "      <td>54728</td>\n",
       "      <td>1</td>\n",
       "      <td>191247</td>\n",
       "    </tr>\n",
       "    <tr>\n",
       "      <th>1</th>\n",
       "      <td>2018-07-30T12:40:22.365620Z</td>\n",
       "      <td>4774</td>\n",
       "      <td>caadb57b-e808-4f94-9e96-8a7d4c9898db</td>\n",
       "      <td>2ee5ead1-f13e-4759-92df-7ff48475e970</td>\n",
       "      <td>Credit Card</td>\n",
       "      <td>Success</td>\n",
       "      <td>0</td>\n",
       "      <td>NaN</td>\n",
       "      <td>10000</td>\n",
       "      <td>2018-08-03T01:29:03.415705Z</td>\n",
       "      <td>3.013470</td>\n",
       "      <td>107.802514</td>\n",
       "      <td>155526</td>\n",
       "      <td>16193</td>\n",
       "      <td>1</td>\n",
       "      <td>145526</td>\n",
       "    </tr>\n",
       "    <tr>\n",
       "      <th>2</th>\n",
       "      <td>2018-09-15T11:51:17.365620Z</td>\n",
       "      <td>4774</td>\n",
       "      <td>6000fffb-9c1a-4f4a-9296-bc8f6b622b50</td>\n",
       "      <td>93325fb6-eb00-4268-bb0e-6471795a0ad0</td>\n",
       "      <td>OVO</td>\n",
       "      <td>Success</td>\n",
       "      <td>0</td>\n",
       "      <td>NaN</td>\n",
       "      <td>10000</td>\n",
       "      <td>2018-09-18T08:41:49.422380Z</td>\n",
       "      <td>-2.579428</td>\n",
       "      <td>115.743885</td>\n",
       "      <td>550696</td>\n",
       "      <td>53686</td>\n",
       "      <td>4</td>\n",
       "      <td>135174</td>\n",
       "    </tr>\n",
       "    <tr>\n",
       "      <th>3</th>\n",
       "      <td>2018-11-01T11:23:48.365620Z</td>\n",
       "      <td>4774</td>\n",
       "      <td>f5e530a7-4350-4cd1-a3bc-525b5037bcab</td>\n",
       "      <td>bcad5a61-1b67-448d-8ff4-781d67bc56e4</td>\n",
       "      <td>Credit Card</td>\n",
       "      <td>Success</td>\n",
       "      <td>0</td>\n",
       "      <td>NaN</td>\n",
       "      <td>0</td>\n",
       "      <td>2018-11-05T17:42:27.954235Z</td>\n",
       "      <td>-3.602334</td>\n",
       "      <td>120.363824</td>\n",
       "      <td>271012</td>\n",
       "      <td>20228</td>\n",
       "      <td>1</td>\n",
       "      <td>271012</td>\n",
       "    </tr>\n",
       "    <tr>\n",
       "      <th>4</th>\n",
       "      <td>2018-12-18T11:20:30.365620Z</td>\n",
       "      <td>4774</td>\n",
       "      <td>0efc0594-dbbf-4f9a-b0b0-a488cfddf8a2</td>\n",
       "      <td>df1042ab-13e6-4072-b9d2-64a81974c51a</td>\n",
       "      <td>Credit Card</td>\n",
       "      <td>Success</td>\n",
       "      <td>0</td>\n",
       "      <td>NaN</td>\n",
       "      <td>0</td>\n",
       "      <td>2018-12-23T17:24:07.361785Z</td>\n",
       "      <td>-3.602334</td>\n",
       "      <td>120.363824</td>\n",
       "      <td>198753</td>\n",
       "      <td>55220</td>\n",
       "      <td>1</td>\n",
       "      <td>198753</td>\n",
       "    </tr>\n",
       "  </tbody>\n",
       "</table>\n",
       "</div>"
      ],
      "text/plain": [
       "                    created_at  customer_id  \\\n",
       "0  2018-07-29T15:22:01.458193Z         5868   \n",
       "1  2018-07-30T12:40:22.365620Z         4774   \n",
       "2  2018-09-15T11:51:17.365620Z         4774   \n",
       "3  2018-11-01T11:23:48.365620Z         4774   \n",
       "4  2018-12-18T11:20:30.365620Z         4774   \n",
       "\n",
       "                             booking_id                            session_id  \\\n",
       "0  186e2bee-0637-4710-8981-50c2d737bc42  3abaa6ce-e320-4e51-9469-d9f3fa328e86   \n",
       "1  caadb57b-e808-4f94-9e96-8a7d4c9898db  2ee5ead1-f13e-4759-92df-7ff48475e970   \n",
       "2  6000fffb-9c1a-4f4a-9296-bc8f6b622b50  93325fb6-eb00-4268-bb0e-6471795a0ad0   \n",
       "3  f5e530a7-4350-4cd1-a3bc-525b5037bcab  bcad5a61-1b67-448d-8ff4-781d67bc56e4   \n",
       "4  0efc0594-dbbf-4f9a-b0b0-a488cfddf8a2  df1042ab-13e6-4072-b9d2-64a81974c51a   \n",
       "\n",
       "  payment_method payment_status  promo_amount   promo_code  shipment_fee  \\\n",
       "0     Debit Card        Success          1415  WEEKENDSERU         10000   \n",
       "1    Credit Card        Success             0          NaN         10000   \n",
       "2            OVO        Success             0          NaN         10000   \n",
       "3    Credit Card        Success             0          NaN             0   \n",
       "4    Credit Card        Success             0          NaN             0   \n",
       "\n",
       "           shipment_date_limit  shipment_location_lat  shipment_location_long  \\\n",
       "0  2018-08-03T05:07:24.812676Z              -8.227893              111.969107   \n",
       "1  2018-08-03T01:29:03.415705Z               3.013470              107.802514   \n",
       "2  2018-09-18T08:41:49.422380Z              -2.579428              115.743885   \n",
       "3  2018-11-05T17:42:27.954235Z              -3.602334              120.363824   \n",
       "4  2018-12-23T17:24:07.361785Z              -3.602334              120.363824   \n",
       "\n",
       "   total_amount  product_id  quantity  item_price  \n",
       "0        199832       54728         1      191247  \n",
       "1        155526       16193         1      145526  \n",
       "2        550696       53686         4      135174  \n",
       "3        271012       20228         1      271012  \n",
       "4        198753       55220         1      198753  "
      ]
     },
     "execution_count": 48,
     "metadata": {},
     "output_type": "execute_result"
    }
   ],
   "source": [
    "transaction_new.head()"
   ]
  },
  {
   "cell_type": "markdown",
   "id": "76ce63d4",
   "metadata": {
    "papermill": {
     "duration": 0.025357,
     "end_time": "2022-10-24T14:48:54.015681",
     "exception": false,
     "start_time": "2022-10-24T14:48:53.990324",
     "status": "completed"
    },
    "tags": []
   },
   "source": [
    "# Labelling customer"
   ]
  },
  {
   "cell_type": "code",
   "execution_count": 49,
   "id": "2e6fcb50",
   "metadata": {
    "execution": {
     "iopub.execute_input": "2022-10-24T14:48:54.069930Z",
     "iopub.status.busy": "2022-10-24T14:48:54.069486Z",
     "iopub.status.idle": "2022-10-24T14:48:54.092392Z",
     "shell.execute_reply": "2022-10-24T14:48:54.091112Z"
    },
    "papermill": {
     "duration": 0.053461,
     "end_time": "2022-10-24T14:48:54.094738",
     "exception": false,
     "start_time": "2022-10-24T14:48:54.041277",
     "status": "completed"
    },
    "tags": []
   },
   "outputs": [
    {
     "data": {
      "text/html": [
       "<div>\n",
       "<style scoped>\n",
       "    .dataframe tbody tr th:only-of-type {\n",
       "        vertical-align: middle;\n",
       "    }\n",
       "\n",
       "    .dataframe tbody tr th {\n",
       "        vertical-align: top;\n",
       "    }\n",
       "\n",
       "    .dataframe thead th {\n",
       "        text-align: right;\n",
       "    }\n",
       "</style>\n",
       "<table border=\"1\" class=\"dataframe\">\n",
       "  <thead>\n",
       "    <tr style=\"text-align: right;\">\n",
       "      <th></th>\n",
       "      <th>created_at</th>\n",
       "      <th>customer_id</th>\n",
       "      <th>booking_id</th>\n",
       "      <th>session_id</th>\n",
       "      <th>product_metadata</th>\n",
       "      <th>payment_method</th>\n",
       "      <th>payment_status</th>\n",
       "      <th>promo_amount</th>\n",
       "      <th>promo_code</th>\n",
       "      <th>shipment_fee</th>\n",
       "      <th>shipment_date_limit</th>\n",
       "      <th>shipment_location_lat</th>\n",
       "      <th>shipment_location_long</th>\n",
       "      <th>total_amount</th>\n",
       "    </tr>\n",
       "  </thead>\n",
       "  <tbody>\n",
       "    <tr>\n",
       "      <th>0</th>\n",
       "      <td>2018-07-29T15:22:01.458193Z</td>\n",
       "      <td>5868</td>\n",
       "      <td>186e2bee-0637-4710-8981-50c2d737bc42</td>\n",
       "      <td>3abaa6ce-e320-4e51-9469-d9f3fa328e86</td>\n",
       "      <td>[{'product_id': 54728, 'quantity': 1, 'item_pr...</td>\n",
       "      <td>Debit Card</td>\n",
       "      <td>Success</td>\n",
       "      <td>1415</td>\n",
       "      <td>WEEKENDSERU</td>\n",
       "      <td>10000</td>\n",
       "      <td>2018-08-03T05:07:24.812676Z</td>\n",
       "      <td>-8.227893</td>\n",
       "      <td>111.969107</td>\n",
       "      <td>199832</td>\n",
       "    </tr>\n",
       "    <tr>\n",
       "      <th>1</th>\n",
       "      <td>2018-07-30T12:40:22.365620Z</td>\n",
       "      <td>4774</td>\n",
       "      <td>caadb57b-e808-4f94-9e96-8a7d4c9898db</td>\n",
       "      <td>2ee5ead1-f13e-4759-92df-7ff48475e970</td>\n",
       "      <td>[{'product_id': 16193, 'quantity': 1, 'item_pr...</td>\n",
       "      <td>Credit Card</td>\n",
       "      <td>Success</td>\n",
       "      <td>0</td>\n",
       "      <td>NaN</td>\n",
       "      <td>10000</td>\n",
       "      <td>2018-08-03T01:29:03.415705Z</td>\n",
       "      <td>3.013470</td>\n",
       "      <td>107.802514</td>\n",
       "      <td>155526</td>\n",
       "    </tr>\n",
       "    <tr>\n",
       "      <th>2</th>\n",
       "      <td>2018-09-15T11:51:17.365620Z</td>\n",
       "      <td>4774</td>\n",
       "      <td>6000fffb-9c1a-4f4a-9296-bc8f6b622b50</td>\n",
       "      <td>93325fb6-eb00-4268-bb0e-6471795a0ad0</td>\n",
       "      <td>[{'product_id': 53686, 'quantity': 4, 'item_pr...</td>\n",
       "      <td>OVO</td>\n",
       "      <td>Success</td>\n",
       "      <td>0</td>\n",
       "      <td>NaN</td>\n",
       "      <td>10000</td>\n",
       "      <td>2018-09-18T08:41:49.422380Z</td>\n",
       "      <td>-2.579428</td>\n",
       "      <td>115.743885</td>\n",
       "      <td>550696</td>\n",
       "    </tr>\n",
       "    <tr>\n",
       "      <th>3</th>\n",
       "      <td>2018-11-01T11:23:48.365620Z</td>\n",
       "      <td>4774</td>\n",
       "      <td>f5e530a7-4350-4cd1-a3bc-525b5037bcab</td>\n",
       "      <td>bcad5a61-1b67-448d-8ff4-781d67bc56e4</td>\n",
       "      <td>[{'product_id': 20228, 'quantity': 1, 'item_pr...</td>\n",
       "      <td>Credit Card</td>\n",
       "      <td>Success</td>\n",
       "      <td>0</td>\n",
       "      <td>NaN</td>\n",
       "      <td>0</td>\n",
       "      <td>2018-11-05T17:42:27.954235Z</td>\n",
       "      <td>-3.602334</td>\n",
       "      <td>120.363824</td>\n",
       "      <td>271012</td>\n",
       "    </tr>\n",
       "    <tr>\n",
       "      <th>4</th>\n",
       "      <td>2018-12-18T11:20:30.365620Z</td>\n",
       "      <td>4774</td>\n",
       "      <td>0efc0594-dbbf-4f9a-b0b0-a488cfddf8a2</td>\n",
       "      <td>df1042ab-13e6-4072-b9d2-64a81974c51a</td>\n",
       "      <td>[{'product_id': 55220, 'quantity': 1, 'item_pr...</td>\n",
       "      <td>Credit Card</td>\n",
       "      <td>Success</td>\n",
       "      <td>0</td>\n",
       "      <td>NaN</td>\n",
       "      <td>0</td>\n",
       "      <td>2018-12-23T17:24:07.361785Z</td>\n",
       "      <td>-3.602334</td>\n",
       "      <td>120.363824</td>\n",
       "      <td>198753</td>\n",
       "    </tr>\n",
       "  </tbody>\n",
       "</table>\n",
       "</div>"
      ],
      "text/plain": [
       "                    created_at  customer_id  \\\n",
       "0  2018-07-29T15:22:01.458193Z         5868   \n",
       "1  2018-07-30T12:40:22.365620Z         4774   \n",
       "2  2018-09-15T11:51:17.365620Z         4774   \n",
       "3  2018-11-01T11:23:48.365620Z         4774   \n",
       "4  2018-12-18T11:20:30.365620Z         4774   \n",
       "\n",
       "                             booking_id                            session_id  \\\n",
       "0  186e2bee-0637-4710-8981-50c2d737bc42  3abaa6ce-e320-4e51-9469-d9f3fa328e86   \n",
       "1  caadb57b-e808-4f94-9e96-8a7d4c9898db  2ee5ead1-f13e-4759-92df-7ff48475e970   \n",
       "2  6000fffb-9c1a-4f4a-9296-bc8f6b622b50  93325fb6-eb00-4268-bb0e-6471795a0ad0   \n",
       "3  f5e530a7-4350-4cd1-a3bc-525b5037bcab  bcad5a61-1b67-448d-8ff4-781d67bc56e4   \n",
       "4  0efc0594-dbbf-4f9a-b0b0-a488cfddf8a2  df1042ab-13e6-4072-b9d2-64a81974c51a   \n",
       "\n",
       "                                    product_metadata payment_method  \\\n",
       "0  [{'product_id': 54728, 'quantity': 1, 'item_pr...     Debit Card   \n",
       "1  [{'product_id': 16193, 'quantity': 1, 'item_pr...    Credit Card   \n",
       "2  [{'product_id': 53686, 'quantity': 4, 'item_pr...            OVO   \n",
       "3  [{'product_id': 20228, 'quantity': 1, 'item_pr...    Credit Card   \n",
       "4  [{'product_id': 55220, 'quantity': 1, 'item_pr...    Credit Card   \n",
       "\n",
       "  payment_status  promo_amount   promo_code  shipment_fee  \\\n",
       "0        Success          1415  WEEKENDSERU         10000   \n",
       "1        Success             0          NaN         10000   \n",
       "2        Success             0          NaN         10000   \n",
       "3        Success             0          NaN             0   \n",
       "4        Success             0          NaN             0   \n",
       "\n",
       "           shipment_date_limit  shipment_location_lat  shipment_location_long  \\\n",
       "0  2018-08-03T05:07:24.812676Z              -8.227893              111.969107   \n",
       "1  2018-08-03T01:29:03.415705Z               3.013470              107.802514   \n",
       "2  2018-09-18T08:41:49.422380Z              -2.579428              115.743885   \n",
       "3  2018-11-05T17:42:27.954235Z              -3.602334              120.363824   \n",
       "4  2018-12-23T17:24:07.361785Z              -3.602334              120.363824   \n",
       "\n",
       "   total_amount  \n",
       "0        199832  \n",
       "1        155526  \n",
       "2        550696  \n",
       "3        271012  \n",
       "4        198753  "
      ]
     },
     "execution_count": 49,
     "metadata": {},
     "output_type": "execute_result"
    }
   ],
   "source": [
    "trans.head()"
   ]
  },
  {
   "cell_type": "code",
   "execution_count": 50,
   "id": "1bab20ce",
   "metadata": {
    "execution": {
     "iopub.execute_input": "2022-10-24T14:48:54.148923Z",
     "iopub.status.busy": "2022-10-24T14:48:54.148542Z",
     "iopub.status.idle": "2022-10-24T14:48:54.169975Z",
     "shell.execute_reply": "2022-10-24T14:48:54.168762Z"
    },
    "papermill": {
     "duration": 0.051165,
     "end_time": "2022-10-24T14:48:54.172241",
     "exception": false,
     "start_time": "2022-10-24T14:48:54.121076",
     "status": "completed"
    },
    "tags": []
   },
   "outputs": [
    {
     "data": {
      "text/html": [
       "<div>\n",
       "<style scoped>\n",
       "    .dataframe tbody tr th:only-of-type {\n",
       "        vertical-align: middle;\n",
       "    }\n",
       "\n",
       "    .dataframe tbody tr th {\n",
       "        vertical-align: top;\n",
       "    }\n",
       "\n",
       "    .dataframe thead th {\n",
       "        text-align: right;\n",
       "    }\n",
       "</style>\n",
       "<table border=\"1\" class=\"dataframe\">\n",
       "  <thead>\n",
       "    <tr style=\"text-align: right;\">\n",
       "      <th></th>\n",
       "      <th>customer_id</th>\n",
       "      <th>first_name</th>\n",
       "      <th>last_name</th>\n",
       "      <th>username</th>\n",
       "      <th>email</th>\n",
       "      <th>gender</th>\n",
       "      <th>birthdate</th>\n",
       "      <th>device_type</th>\n",
       "      <th>device_id</th>\n",
       "      <th>device_version</th>\n",
       "      <th>home_location_lat</th>\n",
       "      <th>home_location_long</th>\n",
       "      <th>home_location</th>\n",
       "      <th>home_country</th>\n",
       "      <th>first_join_date</th>\n",
       "    </tr>\n",
       "  </thead>\n",
       "  <tbody>\n",
       "    <tr>\n",
       "      <th>0</th>\n",
       "      <td>2870</td>\n",
       "      <td>Lala</td>\n",
       "      <td>Maryati</td>\n",
       "      <td>671a0865-ac4e-4dc4-9c4f-c286a1176f7e</td>\n",
       "      <td>671a0865_ac4e_4dc4_9c4f_c286a1176f7e@startupca...</td>\n",
       "      <td>F</td>\n",
       "      <td>1996-06-14</td>\n",
       "      <td>iOS</td>\n",
       "      <td>c9c0de76-0a6c-4ac2-843f-65264ab9fe63</td>\n",
       "      <td>iPhone; CPU iPhone OS 14_2_1 like Mac OS X</td>\n",
       "      <td>-1.043345</td>\n",
       "      <td>101.360523</td>\n",
       "      <td>Sumatera Barat</td>\n",
       "      <td>Indonesia</td>\n",
       "      <td>2019-07-21</td>\n",
       "    </tr>\n",
       "    <tr>\n",
       "      <th>1</th>\n",
       "      <td>8193</td>\n",
       "      <td>Maimunah</td>\n",
       "      <td>Laksmiwati</td>\n",
       "      <td>83be2ba7-8133-48a4-bbcb-b46a2762473f</td>\n",
       "      <td>83be2ba7_8133_48a4_bbcb_b46a2762473f@zakyfound...</td>\n",
       "      <td>F</td>\n",
       "      <td>1993-08-16</td>\n",
       "      <td>Android</td>\n",
       "      <td>fb331c3d-f42e-40fe-afe2-b4b73a8a6e25</td>\n",
       "      <td>Android 2.2.1</td>\n",
       "      <td>-6.212489</td>\n",
       "      <td>106.818850</td>\n",
       "      <td>Jakarta Raya</td>\n",
       "      <td>Indonesia</td>\n",
       "      <td>2017-07-16</td>\n",
       "    </tr>\n",
       "    <tr>\n",
       "      <th>2</th>\n",
       "      <td>7279</td>\n",
       "      <td>Bakiman</td>\n",
       "      <td>Simanjuntak</td>\n",
       "      <td>3250e5a3-1d23-4675-a647-3281879d42be</td>\n",
       "      <td>3250e5a3_1d23_4675_a647_3281879d42be@startupca...</td>\n",
       "      <td>M</td>\n",
       "      <td>1989-01-23</td>\n",
       "      <td>iOS</td>\n",
       "      <td>d13dde0a-6ae1-43c3-83a7-11bbb922730b</td>\n",
       "      <td>iPad; CPU iPad OS 4_2_1 like Mac OS X</td>\n",
       "      <td>-8.631607</td>\n",
       "      <td>116.428436</td>\n",
       "      <td>Nusa Tenggara Barat</td>\n",
       "      <td>Indonesia</td>\n",
       "      <td>2020-08-23</td>\n",
       "    </tr>\n",
       "    <tr>\n",
       "      <th>3</th>\n",
       "      <td>88813</td>\n",
       "      <td>Cahyadi</td>\n",
       "      <td>Maheswara</td>\n",
       "      <td>df797edf-b465-4a80-973b-9fbb612260c2</td>\n",
       "      <td>df797edf_b465_4a80_973b_9fbb612260c2@zakyfound...</td>\n",
       "      <td>M</td>\n",
       "      <td>1991-01-05</td>\n",
       "      <td>iOS</td>\n",
       "      <td>f4c18515-c5be-419f-8142-f037be47c9cd</td>\n",
       "      <td>iPad; CPU iPad OS 14_2 like Mac OS X</td>\n",
       "      <td>1.299332</td>\n",
       "      <td>115.774934</td>\n",
       "      <td>Kalimantan Timur</td>\n",
       "      <td>Indonesia</td>\n",
       "      <td>2021-10-03</td>\n",
       "    </tr>\n",
       "    <tr>\n",
       "      <th>4</th>\n",
       "      <td>82542</td>\n",
       "      <td>Irnanto</td>\n",
       "      <td>Wijaya</td>\n",
       "      <td>36ab08e1-03de-42a8-9e3b-59528c798824</td>\n",
       "      <td>36ab08e1_03de_42a8_9e3b_59528c798824@startupca...</td>\n",
       "      <td>M</td>\n",
       "      <td>2000-07-15</td>\n",
       "      <td>iOS</td>\n",
       "      <td>e46e4c36-4630-4736-8fcf-663db29ca3b0</td>\n",
       "      <td>iPhone; CPU iPhone OS 10_3_3 like Mac OS X</td>\n",
       "      <td>-2.980807</td>\n",
       "      <td>114.924675</td>\n",
       "      <td>Kalimantan Selatan</td>\n",
       "      <td>Indonesia</td>\n",
       "      <td>2021-04-11</td>\n",
       "    </tr>\n",
       "  </tbody>\n",
       "</table>\n",
       "</div>"
      ],
      "text/plain": [
       "   customer_id first_name    last_name                              username  \\\n",
       "0         2870       Lala      Maryati  671a0865-ac4e-4dc4-9c4f-c286a1176f7e   \n",
       "1         8193   Maimunah   Laksmiwati  83be2ba7-8133-48a4-bbcb-b46a2762473f   \n",
       "2         7279    Bakiman  Simanjuntak  3250e5a3-1d23-4675-a647-3281879d42be   \n",
       "3        88813    Cahyadi    Maheswara  df797edf-b465-4a80-973b-9fbb612260c2   \n",
       "4        82542    Irnanto       Wijaya  36ab08e1-03de-42a8-9e3b-59528c798824   \n",
       "\n",
       "                                               email gender   birthdate  \\\n",
       "0  671a0865_ac4e_4dc4_9c4f_c286a1176f7e@startupca...      F  1996-06-14   \n",
       "1  83be2ba7_8133_48a4_bbcb_b46a2762473f@zakyfound...      F  1993-08-16   \n",
       "2  3250e5a3_1d23_4675_a647_3281879d42be@startupca...      M  1989-01-23   \n",
       "3  df797edf_b465_4a80_973b_9fbb612260c2@zakyfound...      M  1991-01-05   \n",
       "4  36ab08e1_03de_42a8_9e3b_59528c798824@startupca...      M  2000-07-15   \n",
       "\n",
       "  device_type                             device_id  \\\n",
       "0         iOS  c9c0de76-0a6c-4ac2-843f-65264ab9fe63   \n",
       "1     Android  fb331c3d-f42e-40fe-afe2-b4b73a8a6e25   \n",
       "2         iOS  d13dde0a-6ae1-43c3-83a7-11bbb922730b   \n",
       "3         iOS  f4c18515-c5be-419f-8142-f037be47c9cd   \n",
       "4         iOS  e46e4c36-4630-4736-8fcf-663db29ca3b0   \n",
       "\n",
       "                               device_version  home_location_lat  \\\n",
       "0  iPhone; CPU iPhone OS 14_2_1 like Mac OS X          -1.043345   \n",
       "1                               Android 2.2.1          -6.212489   \n",
       "2       iPad; CPU iPad OS 4_2_1 like Mac OS X          -8.631607   \n",
       "3        iPad; CPU iPad OS 14_2 like Mac OS X           1.299332   \n",
       "4  iPhone; CPU iPhone OS 10_3_3 like Mac OS X          -2.980807   \n",
       "\n",
       "   home_location_long        home_location home_country first_join_date  \n",
       "0          101.360523       Sumatera Barat    Indonesia      2019-07-21  \n",
       "1          106.818850         Jakarta Raya    Indonesia      2017-07-16  \n",
       "2          116.428436  Nusa Tenggara Barat    Indonesia      2020-08-23  \n",
       "3          115.774934     Kalimantan Timur    Indonesia      2021-10-03  \n",
       "4          114.924675   Kalimantan Selatan    Indonesia      2021-04-11  "
      ]
     },
     "execution_count": 50,
     "metadata": {},
     "output_type": "execute_result"
    }
   ],
   "source": [
    "cust.head()"
   ]
  },
  {
   "cell_type": "code",
   "execution_count": 51,
   "id": "ce40117e",
   "metadata": {
    "execution": {
     "iopub.execute_input": "2022-10-24T14:48:54.226803Z",
     "iopub.status.busy": "2022-10-24T14:48:54.226421Z",
     "iopub.status.idle": "2022-10-24T14:48:54.247525Z",
     "shell.execute_reply": "2022-10-24T14:48:54.246378Z"
    },
    "papermill": {
     "duration": 0.05113,
     "end_time": "2022-10-24T14:48:54.250008",
     "exception": false,
     "start_time": "2022-10-24T14:48:54.198878",
     "status": "completed"
    },
    "tags": []
   },
   "outputs": [
    {
     "data": {
      "text/html": [
       "<div>\n",
       "<style scoped>\n",
       "    .dataframe tbody tr th:only-of-type {\n",
       "        vertical-align: middle;\n",
       "    }\n",
       "\n",
       "    .dataframe tbody tr th {\n",
       "        vertical-align: top;\n",
       "    }\n",
       "\n",
       "    .dataframe thead th {\n",
       "        text-align: right;\n",
       "    }\n",
       "</style>\n",
       "<table border=\"1\" class=\"dataframe\">\n",
       "  <thead>\n",
       "    <tr style=\"text-align: right;\">\n",
       "      <th></th>\n",
       "      <th>created_at</th>\n",
       "      <th>customer_id</th>\n",
       "      <th>booking_id</th>\n",
       "      <th>session_id</th>\n",
       "      <th>product_metadata</th>\n",
       "      <th>payment_method</th>\n",
       "      <th>payment_status</th>\n",
       "      <th>promo_amount</th>\n",
       "      <th>promo_code</th>\n",
       "      <th>shipment_fee</th>\n",
       "      <th>shipment_date_limit</th>\n",
       "      <th>shipment_location_lat</th>\n",
       "      <th>shipment_location_long</th>\n",
       "      <th>total_amount</th>\n",
       "    </tr>\n",
       "  </thead>\n",
       "  <tbody>\n",
       "    <tr>\n",
       "      <th>114231</th>\n",
       "      <td>2017-02-05T03:34:24.939282Z</td>\n",
       "      <td>89888</td>\n",
       "      <td>ee7c9ed9-2be9-4f16-9055-5ed93ee71ab9</td>\n",
       "      <td>05c47dbc-b694-4439-a18c-ac6b93245612</td>\n",
       "      <td>[{'product_id': 44516, 'quantity': 1, 'item_pr...</td>\n",
       "      <td>Debit Card</td>\n",
       "      <td>Failed</td>\n",
       "      <td>0</td>\n",
       "      <td>NaN</td>\n",
       "      <td>10000</td>\n",
       "      <td>2017-02-10T09:54:53.192351Z</td>\n",
       "      <td>-7.599113</td>\n",
       "      <td>108.896090</td>\n",
       "      <td>57922</td>\n",
       "    </tr>\n",
       "    <tr>\n",
       "      <th>114232</th>\n",
       "      <td>2018-12-04T08:16:04.939282Z</td>\n",
       "      <td>89888</td>\n",
       "      <td>ce326275-1d39-4a15-8c8d-52a7b716c6ef</td>\n",
       "      <td>e96657b2-4313-41c7-bffa-c808c5948bc6</td>\n",
       "      <td>[{'product_id': 49556, 'quantity': 1, 'item_pr...</td>\n",
       "      <td>Debit Card</td>\n",
       "      <td>Success</td>\n",
       "      <td>0</td>\n",
       "      <td>NaN</td>\n",
       "      <td>0</td>\n",
       "      <td>2018-12-05T18:13:33.527384Z</td>\n",
       "      <td>-6.151020</td>\n",
       "      <td>106.801904</td>\n",
       "      <td>236571</td>\n",
       "    </tr>\n",
       "    <tr>\n",
       "      <th>114233</th>\n",
       "      <td>2020-10-01T14:55:53.939282Z</td>\n",
       "      <td>89888</td>\n",
       "      <td>39f1e326-f053-4394-aa86-4f3663c4a9da</td>\n",
       "      <td>a3b99fa7-fe0a-49a2-a776-1df0a1e27f1d</td>\n",
       "      <td>[{'product_id': 34553, 'quantity': 1, 'item_pr...</td>\n",
       "      <td>Debit Card</td>\n",
       "      <td>Success</td>\n",
       "      <td>0</td>\n",
       "      <td>NaN</td>\n",
       "      <td>0</td>\n",
       "      <td>2020-10-03T08:52:57.169450Z</td>\n",
       "      <td>-6.151020</td>\n",
       "      <td>106.801904</td>\n",
       "      <td>513229</td>\n",
       "    </tr>\n",
       "  </tbody>\n",
       "</table>\n",
       "</div>"
      ],
      "text/plain": [
       "                         created_at  customer_id  \\\n",
       "114231  2017-02-05T03:34:24.939282Z        89888   \n",
       "114232  2018-12-04T08:16:04.939282Z        89888   \n",
       "114233  2020-10-01T14:55:53.939282Z        89888   \n",
       "\n",
       "                                  booking_id  \\\n",
       "114231  ee7c9ed9-2be9-4f16-9055-5ed93ee71ab9   \n",
       "114232  ce326275-1d39-4a15-8c8d-52a7b716c6ef   \n",
       "114233  39f1e326-f053-4394-aa86-4f3663c4a9da   \n",
       "\n",
       "                                  session_id  \\\n",
       "114231  05c47dbc-b694-4439-a18c-ac6b93245612   \n",
       "114232  e96657b2-4313-41c7-bffa-c808c5948bc6   \n",
       "114233  a3b99fa7-fe0a-49a2-a776-1df0a1e27f1d   \n",
       "\n",
       "                                         product_metadata payment_method  \\\n",
       "114231  [{'product_id': 44516, 'quantity': 1, 'item_pr...     Debit Card   \n",
       "114232  [{'product_id': 49556, 'quantity': 1, 'item_pr...     Debit Card   \n",
       "114233  [{'product_id': 34553, 'quantity': 1, 'item_pr...     Debit Card   \n",
       "\n",
       "       payment_status  promo_amount promo_code  shipment_fee  \\\n",
       "114231         Failed             0        NaN         10000   \n",
       "114232        Success             0        NaN             0   \n",
       "114233        Success             0        NaN             0   \n",
       "\n",
       "                shipment_date_limit  shipment_location_lat  \\\n",
       "114231  2017-02-10T09:54:53.192351Z              -7.599113   \n",
       "114232  2018-12-05T18:13:33.527384Z              -6.151020   \n",
       "114233  2020-10-03T08:52:57.169450Z              -6.151020   \n",
       "\n",
       "        shipment_location_long  total_amount  \n",
       "114231              108.896090         57922  \n",
       "114232              106.801904        236571  \n",
       "114233              106.801904        513229  "
      ]
     },
     "execution_count": 51,
     "metadata": {},
     "output_type": "execute_result"
    }
   ],
   "source": [
    "trans[trans['customer_id'] == 89888]"
   ]
  },
  {
   "cell_type": "code",
   "execution_count": 52,
   "id": "59fff037",
   "metadata": {
    "execution": {
     "iopub.execute_input": "2022-10-24T14:48:54.305901Z",
     "iopub.status.busy": "2022-10-24T14:48:54.305495Z",
     "iopub.status.idle": "2022-10-24T14:48:54.321124Z",
     "shell.execute_reply": "2022-10-24T14:48:54.320052Z"
    },
    "papermill": {
     "duration": 0.046137,
     "end_time": "2022-10-24T14:48:54.323468",
     "exception": false,
     "start_time": "2022-10-24T14:48:54.277331",
     "status": "completed"
    },
    "tags": []
   },
   "outputs": [
    {
     "data": {
      "text/plain": [
       "'2016-06-30'"
      ]
     },
     "execution_count": 52,
     "metadata": {},
     "output_type": "execute_result"
    }
   ],
   "source": [
    "cust['first_join_date'].min()"
   ]
  },
  {
   "cell_type": "code",
   "execution_count": 53,
   "id": "ef88d0a4",
   "metadata": {
    "execution": {
     "iopub.execute_input": "2022-10-24T14:48:54.378773Z",
     "iopub.status.busy": "2022-10-24T14:48:54.378321Z",
     "iopub.status.idle": "2022-10-24T14:48:54.393404Z",
     "shell.execute_reply": "2022-10-24T14:48:54.391957Z"
    },
    "papermill": {
     "duration": 0.045931,
     "end_time": "2022-10-24T14:48:54.396005",
     "exception": false,
     "start_time": "2022-10-24T14:48:54.350074",
     "status": "completed"
    },
    "tags": []
   },
   "outputs": [
    {
     "data": {
      "text/plain": [
       "'2022-07-31'"
      ]
     },
     "execution_count": 53,
     "metadata": {},
     "output_type": "execute_result"
    }
   ],
   "source": [
    "cust['first_join_date'].max()"
   ]
  },
  {
   "cell_type": "code",
   "execution_count": 54,
   "id": "442fa915",
   "metadata": {
    "execution": {
     "iopub.execute_input": "2022-10-24T14:48:54.452249Z",
     "iopub.status.busy": "2022-10-24T14:48:54.451756Z",
     "iopub.status.idle": "2022-10-24T14:48:54.464205Z",
     "shell.execute_reply": "2022-10-24T14:48:54.463275Z"
    },
    "papermill": {
     "duration": 0.042981,
     "end_time": "2022-10-24T14:48:54.466524",
     "exception": false,
     "start_time": "2022-10-24T14:48:54.423543",
     "status": "completed"
    },
    "tags": []
   },
   "outputs": [
    {
     "data": {
      "text/plain": [
       "datetime.date(2016, 6, 30)"
      ]
     },
     "execution_count": 54,
     "metadata": {},
     "output_type": "execute_result"
    }
   ],
   "source": [
    "purchase_date['first_purchase_date'].min()"
   ]
  },
  {
   "cell_type": "code",
   "execution_count": 55,
   "id": "c2137984",
   "metadata": {
    "execution": {
     "iopub.execute_input": "2022-10-24T14:48:54.522349Z",
     "iopub.status.busy": "2022-10-24T14:48:54.521889Z",
     "iopub.status.idle": "2022-10-24T14:48:54.534844Z",
     "shell.execute_reply": "2022-10-24T14:48:54.533558Z"
    },
    "papermill": {
     "duration": 0.043773,
     "end_time": "2022-10-24T14:48:54.537367",
     "exception": false,
     "start_time": "2022-10-24T14:48:54.493594",
     "status": "completed"
    },
    "tags": []
   },
   "outputs": [
    {
     "data": {
      "text/plain": [
       "datetime.date(2022, 7, 31)"
      ]
     },
     "execution_count": 55,
     "metadata": {},
     "output_type": "execute_result"
    }
   ],
   "source": [
    "purchase_date['last_purchase_date'].max()"
   ]
  },
  {
   "cell_type": "markdown",
   "id": "79e72ab0",
   "metadata": {
    "papermill": {
     "duration": 0.027016,
     "end_time": "2022-10-24T14:48:54.591748",
     "exception": false,
     "start_time": "2022-10-24T14:48:54.564732",
     "status": "completed"
    },
    "tags": []
   },
   "source": [
    "user yang pertama kali join, yakni user pada tanggal 30 juni 2016 dan langsung melakukan transaksi. maka labelling dimulai dari **juni 2016 hingga juli 2022**"
   ]
  },
  {
   "cell_type": "code",
   "execution_count": 56,
   "id": "7d501c95",
   "metadata": {
    "execution": {
     "iopub.execute_input": "2022-10-24T14:48:54.647548Z",
     "iopub.status.busy": "2022-10-24T14:48:54.647131Z",
     "iopub.status.idle": "2022-10-24T14:48:54.659068Z",
     "shell.execute_reply": "2022-10-24T14:48:54.657875Z"
    },
    "papermill": {
     "duration": 0.042919,
     "end_time": "2022-10-24T14:48:54.661647",
     "exception": false,
     "start_time": "2022-10-24T14:48:54.618728",
     "status": "completed"
    },
    "tags": []
   },
   "outputs": [
    {
     "data": {
      "text/plain": [
       "'[\"2016-06\", \"2016-07\", \"2016-08\", \"2016-09\", \"2016-10\", \"2016-11\", \"2016-12\", \"2017-01\", \"2017-02\", \"2017-03\", \"2017-04\", \"2017-05\", \"2017-06\", \"2017-07\", \"2017-08\", \"2017-09\", \"2017-10\", \"2017-11\", \"2017-12\", \"2018-01\", \"2018-02\", \"2018-03\", \"2018-04\", \"2018-05\", \"2018-06\", \"2018-07\", \"2018-08\", \"2018-09\", \"2018-10\", \"2018-11\", \"2018-12\", \"2019-01\", \"2019-02\", \"2019-03\", \"2019-04\", \"2019-05\", \"2019-06\", \"2019-07\", \"2019-08\", \"2019-09\", \"2019-10\", \"2019-11\", \"2019-12\", \"2020-01\", \"2020-02\", \"2020-03\", \"2020-04\", \"2020-05\", \"2020-06\", \"2020-07\", \"2020-08\", \"2020-09\", \"2020-10\", \"2020-11\", \"2020-12\", \"2021-01\", \"2021-02\", \"2021-03\", \"2021-04\", \"2021-05\", \"2021-06\", \"2021-07\", \"2021-08\", \"2021-09\", \"2021-10\", \"2021-11\", \"2021-12\", \"2022-01\", \"2022-02\", \"2022-03\", \"2022-04\", \"2022-05\", \"2022-06\", \"2022-07\"]'"
      ]
     },
     "execution_count": 56,
     "metadata": {},
     "output_type": "execute_result"
    }
   ],
   "source": [
    "d = ['2016-06','2016-07','2016-08','2016-09','2016-10','2016-11',\n",
    "     '2016-12','2017-01','2017-02','2017-03','2017-04','2017-05',\n",
    "     '2017-06','2017-07','2017-08','2017-09','2017-10','2017-11',\n",
    "     '2017-12','2018-01','2018-02','2018-03','2018-04','2018-05',\n",
    "     '2018-06','2018-07','2018-08','2018-09','2018-10','2018-11',\n",
    "     '2018-12','2019-01','2019-02','2019-03','2019-04','2019-05',\n",
    "     '2019-06','2019-07','2019-08','2019-09','2019-10','2019-11',\n",
    "     '2019-12','2020-01','2020-02','2020-03','2020-04','2020-05',\n",
    "     '2020-06','2020-07','2020-08','2020-09','2020-10','2020-11',\n",
    "     '2020-12','2021-01','2021-02','2021-03','2021-04','2021-05',\n",
    "     '2021-06','2021-07','2021-08','2021-09','2021-10','2021-11',\n",
    "     '2021-12','2022-01','2022-02','2022-03','2022-04','2022-05',\n",
    "     '2022-06','2022-07']\n",
    "\n",
    "# d = ['2020-10','2020-11','2020-12']\n",
    "d = json.dumps(d)\n",
    "periode_bulan = d\n",
    " \n",
    "periode_bulan"
   ]
  },
  {
   "cell_type": "code",
   "execution_count": 57,
   "id": "46a0d4f5",
   "metadata": {
    "execution": {
     "iopub.execute_input": "2022-10-24T14:48:54.718383Z",
     "iopub.status.busy": "2022-10-24T14:48:54.717942Z",
     "iopub.status.idle": "2022-10-24T14:49:10.570441Z",
     "shell.execute_reply": "2022-10-24T14:49:10.569233Z"
    },
    "papermill": {
     "duration": 15.884054,
     "end_time": "2022-10-24T14:49:10.573204",
     "exception": false,
     "start_time": "2022-10-24T14:48:54.689150",
     "status": "completed"
    },
    "tags": []
   },
   "outputs": [],
   "source": [
    "label_cust = cust[['customer_id']]\n",
    "# label_cust = label_cust[label_cust['customer_id'] == 89888]\n",
    "\n",
    "for x in label_cust:\n",
    "    label_cust['periode'] = periode_bulan\n",
    "\n",
    "label_cust['periode'] = label_cust['periode'].apply(ast.literal_eval)\n",
    "label_cust = label_cust.explode('periode')\n",
    "label_cust['periode'] = pd.to_datetime(label_cust['periode']).dt.to_period('M')"
   ]
  },
  {
   "cell_type": "code",
   "execution_count": 58,
   "id": "516b69d7",
   "metadata": {
    "execution": {
     "iopub.execute_input": "2022-10-24T14:49:10.630045Z",
     "iopub.status.busy": "2022-10-24T14:49:10.628868Z",
     "iopub.status.idle": "2022-10-24T14:49:10.645122Z",
     "shell.execute_reply": "2022-10-24T14:49:10.643968Z"
    },
    "papermill": {
     "duration": 0.047312,
     "end_time": "2022-10-24T14:49:10.647564",
     "exception": false,
     "start_time": "2022-10-24T14:49:10.600252",
     "status": "completed"
    },
    "tags": []
   },
   "outputs": [
    {
     "data": {
      "text/plain": [
       "50705"
      ]
     },
     "execution_count": 58,
     "metadata": {},
     "output_type": "execute_result"
    }
   ],
   "source": [
    "# jumlah user yang sudah melakukan transaksi\n",
    "\n",
    "trans['customer_id'].unique().size"
   ]
  },
  {
   "cell_type": "code",
   "execution_count": 59,
   "id": "472ebf69",
   "metadata": {
    "execution": {
     "iopub.execute_input": "2022-10-24T14:49:10.703927Z",
     "iopub.status.busy": "2022-10-24T14:49:10.703092Z",
     "iopub.status.idle": "2022-10-24T14:49:10.760386Z",
     "shell.execute_reply": "2022-10-24T14:49:10.759469Z"
    },
    "papermill": {
     "duration": 0.087735,
     "end_time": "2022-10-24T14:49:10.762573",
     "exception": false,
     "start_time": "2022-10-24T14:49:10.674838",
     "status": "completed"
    },
    "tags": []
   },
   "outputs": [
    {
     "data": {
      "text/plain": [
       "100000"
      ]
     },
     "execution_count": 59,
     "metadata": {},
     "output_type": "execute_result"
    }
   ],
   "source": [
    "# jumlah keseluruhan user\n",
    "\n",
    "label_cust['customer_id'].unique().size"
   ]
  },
  {
   "cell_type": "code",
   "execution_count": 60,
   "id": "3684bad7",
   "metadata": {
    "execution": {
     "iopub.execute_input": "2022-10-24T14:49:10.819634Z",
     "iopub.status.busy": "2022-10-24T14:49:10.819138Z",
     "iopub.status.idle": "2022-10-24T14:49:10.829874Z",
     "shell.execute_reply": "2022-10-24T14:49:10.828717Z"
    },
    "papermill": {
     "duration": 0.042496,
     "end_time": "2022-10-24T14:49:10.832649",
     "exception": false,
     "start_time": "2022-10-24T14:49:10.790153",
     "status": "completed"
    },
    "tags": []
   },
   "outputs": [
    {
     "data": {
      "text/html": [
       "<div>\n",
       "<style scoped>\n",
       "    .dataframe tbody tr th:only-of-type {\n",
       "        vertical-align: middle;\n",
       "    }\n",
       "\n",
       "    .dataframe tbody tr th {\n",
       "        vertical-align: top;\n",
       "    }\n",
       "\n",
       "    .dataframe thead th {\n",
       "        text-align: right;\n",
       "    }\n",
       "</style>\n",
       "<table border=\"1\" class=\"dataframe\">\n",
       "  <thead>\n",
       "    <tr style=\"text-align: right;\">\n",
       "      <th></th>\n",
       "      <th>customer_id</th>\n",
       "      <th>periode</th>\n",
       "    </tr>\n",
       "  </thead>\n",
       "  <tbody>\n",
       "    <tr>\n",
       "      <th>0</th>\n",
       "      <td>2870</td>\n",
       "      <td>2016-06</td>\n",
       "    </tr>\n",
       "    <tr>\n",
       "      <th>0</th>\n",
       "      <td>2870</td>\n",
       "      <td>2016-07</td>\n",
       "    </tr>\n",
       "    <tr>\n",
       "      <th>0</th>\n",
       "      <td>2870</td>\n",
       "      <td>2016-08</td>\n",
       "    </tr>\n",
       "    <tr>\n",
       "      <th>0</th>\n",
       "      <td>2870</td>\n",
       "      <td>2016-09</td>\n",
       "    </tr>\n",
       "    <tr>\n",
       "      <th>0</th>\n",
       "      <td>2870</td>\n",
       "      <td>2016-10</td>\n",
       "    </tr>\n",
       "  </tbody>\n",
       "</table>\n",
       "</div>"
      ],
      "text/plain": [
       "   customer_id  periode\n",
       "0         2870  2016-06\n",
       "0         2870  2016-07\n",
       "0         2870  2016-08\n",
       "0         2870  2016-09\n",
       "0         2870  2016-10"
      ]
     },
     "execution_count": 60,
     "metadata": {},
     "output_type": "execute_result"
    }
   ],
   "source": [
    "label_cust.head()"
   ]
  },
  {
   "cell_type": "code",
   "execution_count": 61,
   "id": "5873dff7",
   "metadata": {
    "execution": {
     "iopub.execute_input": "2022-10-24T14:49:10.889963Z",
     "iopub.status.busy": "2022-10-24T14:49:10.889582Z",
     "iopub.status.idle": "2022-10-24T14:49:11.394288Z",
     "shell.execute_reply": "2022-10-24T14:49:11.393379Z"
    },
    "papermill": {
     "duration": 0.5363,
     "end_time": "2022-10-24T14:49:11.396825",
     "exception": false,
     "start_time": "2022-10-24T14:49:10.860525",
     "status": "completed"
    },
    "tags": []
   },
   "outputs": [],
   "source": [
    "trans_periode = trans\n",
    "trans_periode['periode'] = pd.to_datetime(trans_periode['created_at']).dt.to_period('M')"
   ]
  },
  {
   "cell_type": "code",
   "execution_count": 62,
   "id": "5366c9ae",
   "metadata": {
    "execution": {
     "iopub.execute_input": "2022-10-24T14:49:11.456001Z",
     "iopub.status.busy": "2022-10-24T14:49:11.455286Z",
     "iopub.status.idle": "2022-10-24T14:49:11.708877Z",
     "shell.execute_reply": "2022-10-24T14:49:11.707669Z"
    },
    "papermill": {
     "duration": 0.286602,
     "end_time": "2022-10-24T14:49:11.711828",
     "exception": false,
     "start_time": "2022-10-24T14:49:11.425226",
     "status": "completed"
    },
    "tags": []
   },
   "outputs": [],
   "source": [
    "a = trans_periode.groupby(['customer_id','periode'])[['payment_status']].count()\n",
    "a = a.reset_index().rename(columns={'payment_status' : 'total_transaksi'})\n",
    "# a = a[a['customer_id'] == 89888]"
   ]
  },
  {
   "cell_type": "code",
   "execution_count": 63,
   "id": "2e81f112",
   "metadata": {
    "execution": {
     "iopub.execute_input": "2022-10-24T14:49:11.771024Z",
     "iopub.status.busy": "2022-10-24T14:49:11.770039Z",
     "iopub.status.idle": "2022-10-24T14:49:16.756786Z",
     "shell.execute_reply": "2022-10-24T14:49:16.755550Z"
    },
    "papermill": {
     "duration": 5.019888,
     "end_time": "2022-10-24T14:49:16.759672",
     "exception": false,
     "start_time": "2022-10-24T14:49:11.739784",
     "status": "completed"
    },
    "tags": []
   },
   "outputs": [],
   "source": [
    "# beri label churn jika user tidak transaksi\n",
    "\n",
    "# pd.set_option('display.max_rows', None)\n",
    "\n",
    "label_cust_churn = label_cust.merge(a, on=['customer_id','periode'], how='outer')\n",
    "label_cust_churn = label_cust_churn.replace(np.nan,0)\n",
    "\n",
    "label_cust_churn['churn'] = label_cust_churn['total_transaksi'].apply(lambda x: 1 if x == 0 else 0)"
   ]
  },
  {
   "cell_type": "code",
   "execution_count": 64,
   "id": "0f2ec382",
   "metadata": {
    "execution": {
     "iopub.execute_input": "2022-10-24T14:49:16.819778Z",
     "iopub.status.busy": "2022-10-24T14:49:16.819355Z",
     "iopub.status.idle": "2022-10-24T14:49:16.835457Z",
     "shell.execute_reply": "2022-10-24T14:49:16.834378Z"
    },
    "papermill": {
     "duration": 0.048087,
     "end_time": "2022-10-24T14:49:16.837828",
     "exception": false,
     "start_time": "2022-10-24T14:49:16.789741",
     "status": "completed"
    },
    "tags": []
   },
   "outputs": [
    {
     "data": {
      "text/html": [
       "<div>\n",
       "<style scoped>\n",
       "    .dataframe tbody tr th:only-of-type {\n",
       "        vertical-align: middle;\n",
       "    }\n",
       "\n",
       "    .dataframe tbody tr th {\n",
       "        vertical-align: top;\n",
       "    }\n",
       "\n",
       "    .dataframe thead th {\n",
       "        text-align: right;\n",
       "    }\n",
       "</style>\n",
       "<table border=\"1\" class=\"dataframe\">\n",
       "  <thead>\n",
       "    <tr style=\"text-align: right;\">\n",
       "      <th></th>\n",
       "      <th>customer_id</th>\n",
       "      <th>periode</th>\n",
       "      <th>total_transaksi</th>\n",
       "      <th>churn</th>\n",
       "    </tr>\n",
       "  </thead>\n",
       "  <tbody>\n",
       "    <tr>\n",
       "      <th>0</th>\n",
       "      <td>2870</td>\n",
       "      <td>2016-06</td>\n",
       "      <td>0.0</td>\n",
       "      <td>1</td>\n",
       "    </tr>\n",
       "    <tr>\n",
       "      <th>1</th>\n",
       "      <td>2870</td>\n",
       "      <td>2016-07</td>\n",
       "      <td>0.0</td>\n",
       "      <td>1</td>\n",
       "    </tr>\n",
       "    <tr>\n",
       "      <th>2</th>\n",
       "      <td>2870</td>\n",
       "      <td>2016-08</td>\n",
       "      <td>0.0</td>\n",
       "      <td>1</td>\n",
       "    </tr>\n",
       "    <tr>\n",
       "      <th>3</th>\n",
       "      <td>2870</td>\n",
       "      <td>2016-09</td>\n",
       "      <td>0.0</td>\n",
       "      <td>1</td>\n",
       "    </tr>\n",
       "    <tr>\n",
       "      <th>4</th>\n",
       "      <td>2870</td>\n",
       "      <td>2016-10</td>\n",
       "      <td>0.0</td>\n",
       "      <td>1</td>\n",
       "    </tr>\n",
       "    <tr>\n",
       "      <th>...</th>\n",
       "      <td>...</td>\n",
       "      <td>...</td>\n",
       "      <td>...</td>\n",
       "      <td>...</td>\n",
       "    </tr>\n",
       "    <tr>\n",
       "      <th>7399995</th>\n",
       "      <td>40573</td>\n",
       "      <td>2022-03</td>\n",
       "      <td>1.0</td>\n",
       "      <td>0</td>\n",
       "    </tr>\n",
       "    <tr>\n",
       "      <th>7399996</th>\n",
       "      <td>40573</td>\n",
       "      <td>2022-04</td>\n",
       "      <td>1.0</td>\n",
       "      <td>0</td>\n",
       "    </tr>\n",
       "    <tr>\n",
       "      <th>7399997</th>\n",
       "      <td>40573</td>\n",
       "      <td>2022-05</td>\n",
       "      <td>0.0</td>\n",
       "      <td>1</td>\n",
       "    </tr>\n",
       "    <tr>\n",
       "      <th>7399998</th>\n",
       "      <td>40573</td>\n",
       "      <td>2022-06</td>\n",
       "      <td>1.0</td>\n",
       "      <td>0</td>\n",
       "    </tr>\n",
       "    <tr>\n",
       "      <th>7399999</th>\n",
       "      <td>40573</td>\n",
       "      <td>2022-07</td>\n",
       "      <td>0.0</td>\n",
       "      <td>1</td>\n",
       "    </tr>\n",
       "  </tbody>\n",
       "</table>\n",
       "<p>7400000 rows × 4 columns</p>\n",
       "</div>"
      ],
      "text/plain": [
       "         customer_id  periode  total_transaksi  churn\n",
       "0               2870  2016-06              0.0      1\n",
       "1               2870  2016-07              0.0      1\n",
       "2               2870  2016-08              0.0      1\n",
       "3               2870  2016-09              0.0      1\n",
       "4               2870  2016-10              0.0      1\n",
       "...              ...      ...              ...    ...\n",
       "7399995        40573  2022-03              1.0      0\n",
       "7399996        40573  2022-04              1.0      0\n",
       "7399997        40573  2022-05              0.0      1\n",
       "7399998        40573  2022-06              1.0      0\n",
       "7399999        40573  2022-07              0.0      1\n",
       "\n",
       "[7400000 rows x 4 columns]"
      ]
     },
     "execution_count": 64,
     "metadata": {},
     "output_type": "execute_result"
    }
   ],
   "source": [
    "label_cust_churn"
   ]
  },
  {
   "cell_type": "code",
   "execution_count": 65,
   "id": "fd13f8cb",
   "metadata": {
    "execution": {
     "iopub.execute_input": "2022-10-24T14:49:16.895546Z",
     "iopub.status.busy": "2022-10-24T14:49:16.895117Z",
     "iopub.status.idle": "2022-10-24T14:49:16.940679Z",
     "shell.execute_reply": "2022-10-24T14:49:16.939422Z"
    },
    "papermill": {
     "duration": 0.077543,
     "end_time": "2022-10-24T14:49:16.943259",
     "exception": false,
     "start_time": "2022-10-24T14:49:16.865716",
     "status": "completed"
    },
    "tags": []
   },
   "outputs": [
    {
     "data": {
      "text/html": [
       "<div>\n",
       "<style scoped>\n",
       "    .dataframe tbody tr th:only-of-type {\n",
       "        vertical-align: middle;\n",
       "    }\n",
       "\n",
       "    .dataframe tbody tr th {\n",
       "        vertical-align: top;\n",
       "    }\n",
       "\n",
       "    .dataframe thead th {\n",
       "        text-align: right;\n",
       "    }\n",
       "</style>\n",
       "<table border=\"1\" class=\"dataframe\">\n",
       "  <thead>\n",
       "    <tr style=\"text-align: right;\">\n",
       "      <th></th>\n",
       "      <th>customer_id</th>\n",
       "      <th>first_join_date</th>\n",
       "    </tr>\n",
       "  </thead>\n",
       "  <tbody>\n",
       "    <tr>\n",
       "      <th>0</th>\n",
       "      <td>2870</td>\n",
       "      <td>2019-07</td>\n",
       "    </tr>\n",
       "    <tr>\n",
       "      <th>1</th>\n",
       "      <td>8193</td>\n",
       "      <td>2017-07</td>\n",
       "    </tr>\n",
       "    <tr>\n",
       "      <th>2</th>\n",
       "      <td>7279</td>\n",
       "      <td>2020-08</td>\n",
       "    </tr>\n",
       "    <tr>\n",
       "      <th>3</th>\n",
       "      <td>88813</td>\n",
       "      <td>2021-10</td>\n",
       "    </tr>\n",
       "    <tr>\n",
       "      <th>4</th>\n",
       "      <td>82542</td>\n",
       "      <td>2021-04</td>\n",
       "    </tr>\n",
       "  </tbody>\n",
       "</table>\n",
       "</div>"
      ],
      "text/plain": [
       "   customer_id first_join_date\n",
       "0         2870         2019-07\n",
       "1         8193         2017-07\n",
       "2         7279         2020-08\n",
       "3        88813         2021-10\n",
       "4        82542         2021-04"
      ]
     },
     "execution_count": 65,
     "metadata": {},
     "output_type": "execute_result"
    }
   ],
   "source": [
    "# ambil bulan dan tahun cust first join\n",
    "\n",
    "cust_join = cust[['customer_id','first_join_date']]\n",
    "cust_join['first_join_date'] = pd.to_datetime(cust_join['first_join_date']).dt.to_period('M')\n",
    "cust_join.head()"
   ]
  },
  {
   "cell_type": "code",
   "execution_count": 66,
   "id": "7ba7ccef",
   "metadata": {
    "execution": {
     "iopub.execute_input": "2022-10-24T14:49:17.001850Z",
     "iopub.status.busy": "2022-10-24T14:49:17.001440Z",
     "iopub.status.idle": "2022-10-24T14:49:18.172013Z",
     "shell.execute_reply": "2022-10-24T14:49:18.170582Z"
    },
    "papermill": {
     "duration": 1.20291,
     "end_time": "2022-10-24T14:49:18.174981",
     "exception": false,
     "start_time": "2022-10-24T14:49:16.972071",
     "status": "completed"
    },
    "tags": []
   },
   "outputs": [],
   "source": [
    "# drop data yang churn sebelum cust join\n",
    "\n",
    "churn_after_join = label_cust_churn.merge(cust_join, on='customer_id')\n",
    "churn_after_join = churn_after_join[~(churn_after_join['periode'] < churn_after_join['first_join_date'])]"
   ]
  },
  {
   "cell_type": "code",
   "execution_count": 67,
   "id": "9b9c0cdf",
   "metadata": {
    "execution": {
     "iopub.execute_input": "2022-10-24T14:49:18.233875Z",
     "iopub.status.busy": "2022-10-24T14:49:18.233459Z",
     "iopub.status.idle": "2022-10-24T14:49:18.290976Z",
     "shell.execute_reply": "2022-10-24T14:49:18.289702Z"
    },
    "papermill": {
     "duration": 0.0908,
     "end_time": "2022-10-24T14:49:18.293673",
     "exception": false,
     "start_time": "2022-10-24T14:49:18.202873",
     "status": "completed"
    },
    "tags": []
   },
   "outputs": [
    {
     "data": {
      "text/plain": [
       "100000"
      ]
     },
     "execution_count": 67,
     "metadata": {},
     "output_type": "execute_result"
    }
   ],
   "source": [
    "# label_cust_churn.shape\n",
    "label_cust_churn['customer_id'].unique().size"
   ]
  },
  {
   "cell_type": "code",
   "execution_count": 68,
   "id": "16a0272c",
   "metadata": {
    "execution": {
     "iopub.execute_input": "2022-10-24T14:49:18.353056Z",
     "iopub.status.busy": "2022-10-24T14:49:18.352265Z",
     "iopub.status.idle": "2022-10-24T14:49:18.384149Z",
     "shell.execute_reply": "2022-10-24T14:49:18.382801Z"
    },
    "papermill": {
     "duration": 0.064508,
     "end_time": "2022-10-24T14:49:18.386615",
     "exception": false,
     "start_time": "2022-10-24T14:49:18.322107",
     "status": "completed"
    },
    "tags": []
   },
   "outputs": [
    {
     "data": {
      "text/plain": [
       "100000"
      ]
     },
     "execution_count": 68,
     "metadata": {},
     "output_type": "execute_result"
    }
   ],
   "source": [
    "churn_after_join['customer_id'].unique().size"
   ]
  },
  {
   "cell_type": "code",
   "execution_count": 69,
   "id": "adc1187c",
   "metadata": {
    "execution": {
     "iopub.execute_input": "2022-10-24T14:49:18.445438Z",
     "iopub.status.busy": "2022-10-24T14:49:18.444653Z",
     "iopub.status.idle": "2022-10-24T14:49:18.462789Z",
     "shell.execute_reply": "2022-10-24T14:49:18.461500Z"
    },
    "papermill": {
     "duration": 0.05003,
     "end_time": "2022-10-24T14:49:18.465304",
     "exception": false,
     "start_time": "2022-10-24T14:49:18.415274",
     "status": "completed"
    },
    "tags": []
   },
   "outputs": [
    {
     "data": {
      "text/html": [
       "<div>\n",
       "<style scoped>\n",
       "    .dataframe tbody tr th:only-of-type {\n",
       "        vertical-align: middle;\n",
       "    }\n",
       "\n",
       "    .dataframe tbody tr th {\n",
       "        vertical-align: top;\n",
       "    }\n",
       "\n",
       "    .dataframe thead th {\n",
       "        text-align: right;\n",
       "    }\n",
       "</style>\n",
       "<table border=\"1\" class=\"dataframe\">\n",
       "  <thead>\n",
       "    <tr style=\"text-align: right;\">\n",
       "      <th></th>\n",
       "      <th>customer_id</th>\n",
       "      <th>periode</th>\n",
       "      <th>total_transaksi</th>\n",
       "      <th>churn</th>\n",
       "      <th>first_join_date</th>\n",
       "    </tr>\n",
       "  </thead>\n",
       "  <tbody>\n",
       "    <tr>\n",
       "      <th>7399765</th>\n",
       "      <td>72065</td>\n",
       "      <td>2021-07</td>\n",
       "      <td>1.0</td>\n",
       "      <td>0</td>\n",
       "      <td>2017-11</td>\n",
       "    </tr>\n",
       "    <tr>\n",
       "      <th>7399766</th>\n",
       "      <td>72065</td>\n",
       "      <td>2021-08</td>\n",
       "      <td>1.0</td>\n",
       "      <td>0</td>\n",
       "      <td>2017-11</td>\n",
       "    </tr>\n",
       "    <tr>\n",
       "      <th>7399767</th>\n",
       "      <td>72065</td>\n",
       "      <td>2021-09</td>\n",
       "      <td>1.0</td>\n",
       "      <td>0</td>\n",
       "      <td>2017-11</td>\n",
       "    </tr>\n",
       "    <tr>\n",
       "      <th>7399768</th>\n",
       "      <td>72065</td>\n",
       "      <td>2021-10</td>\n",
       "      <td>0.0</td>\n",
       "      <td>1</td>\n",
       "      <td>2017-11</td>\n",
       "    </tr>\n",
       "    <tr>\n",
       "      <th>7399769</th>\n",
       "      <td>72065</td>\n",
       "      <td>2021-11</td>\n",
       "      <td>1.0</td>\n",
       "      <td>0</td>\n",
       "      <td>2017-11</td>\n",
       "    </tr>\n",
       "    <tr>\n",
       "      <th>...</th>\n",
       "      <td>...</td>\n",
       "      <td>...</td>\n",
       "      <td>...</td>\n",
       "      <td>...</td>\n",
       "      <td>...</td>\n",
       "    </tr>\n",
       "    <tr>\n",
       "      <th>7399995</th>\n",
       "      <td>40573</td>\n",
       "      <td>2022-03</td>\n",
       "      <td>1.0</td>\n",
       "      <td>0</td>\n",
       "      <td>2021-07</td>\n",
       "    </tr>\n",
       "    <tr>\n",
       "      <th>7399996</th>\n",
       "      <td>40573</td>\n",
       "      <td>2022-04</td>\n",
       "      <td>1.0</td>\n",
       "      <td>0</td>\n",
       "      <td>2021-07</td>\n",
       "    </tr>\n",
       "    <tr>\n",
       "      <th>7399997</th>\n",
       "      <td>40573</td>\n",
       "      <td>2022-05</td>\n",
       "      <td>0.0</td>\n",
       "      <td>1</td>\n",
       "      <td>2021-07</td>\n",
       "    </tr>\n",
       "    <tr>\n",
       "      <th>7399998</th>\n",
       "      <td>40573</td>\n",
       "      <td>2022-06</td>\n",
       "      <td>1.0</td>\n",
       "      <td>0</td>\n",
       "      <td>2021-07</td>\n",
       "    </tr>\n",
       "    <tr>\n",
       "      <th>7399999</th>\n",
       "      <td>40573</td>\n",
       "      <td>2022-07</td>\n",
       "      <td>0.0</td>\n",
       "      <td>1</td>\n",
       "      <td>2021-07</td>\n",
       "    </tr>\n",
       "  </tbody>\n",
       "</table>\n",
       "<p>100 rows × 5 columns</p>\n",
       "</div>"
      ],
      "text/plain": [
       "         customer_id  periode  total_transaksi  churn first_join_date\n",
       "7399765        72065  2021-07              1.0      0         2017-11\n",
       "7399766        72065  2021-08              1.0      0         2017-11\n",
       "7399767        72065  2021-09              1.0      0         2017-11\n",
       "7399768        72065  2021-10              0.0      1         2017-11\n",
       "7399769        72065  2021-11              1.0      0         2017-11\n",
       "...              ...      ...              ...    ...             ...\n",
       "7399995        40573  2022-03              1.0      0         2021-07\n",
       "7399996        40573  2022-04              1.0      0         2021-07\n",
       "7399997        40573  2022-05              0.0      1         2021-07\n",
       "7399998        40573  2022-06              1.0      0         2021-07\n",
       "7399999        40573  2022-07              0.0      1         2021-07\n",
       "\n",
       "[100 rows x 5 columns]"
      ]
     },
     "execution_count": 69,
     "metadata": {},
     "output_type": "execute_result"
    }
   ],
   "source": [
    "churn_after_join.tail(100)"
   ]
  },
  {
   "cell_type": "markdown",
   "id": "5c5a10c0",
   "metadata": {
    "papermill": {
     "duration": 0.02779,
     "end_time": "2022-10-24T14:49:18.521296",
     "exception": false,
     "start_time": "2022-10-24T14:49:18.493506",
     "status": "completed"
    },
    "tags": []
   },
   "source": [
    "# Merge label dengan transaksi per bulan"
   ]
  },
  {
   "cell_type": "code",
   "execution_count": 70,
   "id": "6e694d7c",
   "metadata": {
    "execution": {
     "iopub.execute_input": "2022-10-24T14:49:18.579537Z",
     "iopub.status.busy": "2022-10-24T14:49:18.578693Z",
     "iopub.status.idle": "2022-10-24T14:49:20.835344Z",
     "shell.execute_reply": "2022-10-24T14:49:20.833990Z"
    },
    "papermill": {
     "duration": 2.288817,
     "end_time": "2022-10-24T14:49:20.838152",
     "exception": false,
     "start_time": "2022-10-24T14:49:18.549335",
     "status": "completed"
    },
    "tags": []
   },
   "outputs": [],
   "source": [
    "cust_trans = cust.merge(right = trans, how = 'left', on = 'customer_id')"
   ]
  },
  {
   "cell_type": "code",
   "execution_count": 71,
   "id": "50e98e4b",
   "metadata": {
    "execution": {
     "iopub.execute_input": "2022-10-24T14:49:20.897954Z",
     "iopub.status.busy": "2022-10-24T14:49:20.896819Z",
     "iopub.status.idle": "2022-10-24T14:49:21.542331Z",
     "shell.execute_reply": "2022-10-24T14:49:21.541081Z"
    },
    "papermill": {
     "duration": 0.678447,
     "end_time": "2022-10-24T14:49:21.545159",
     "exception": false,
     "start_time": "2022-10-24T14:49:20.866712",
     "status": "completed"
    },
    "tags": []
   },
   "outputs": [],
   "source": [
    "cust_trans['created_at'] = pd.to_datetime(cust_trans['created_at']).dt.to_period('M')"
   ]
  },
  {
   "cell_type": "code",
   "execution_count": 72,
   "id": "9d94966b",
   "metadata": {
    "execution": {
     "iopub.execute_input": "2022-10-24T14:49:21.603499Z",
     "iopub.status.busy": "2022-10-24T14:49:21.603071Z",
     "iopub.status.idle": "2022-10-24T14:49:23.289307Z",
     "shell.execute_reply": "2022-10-24T14:49:23.288041Z"
    },
    "papermill": {
     "duration": 1.719003,
     "end_time": "2022-10-24T14:49:23.292554",
     "exception": false,
     "start_time": "2022-10-24T14:49:21.573551",
     "status": "completed"
    },
    "tags": []
   },
   "outputs": [],
   "source": [
    "# buat tabel mengenai total transaksi sukses tiap pelanggan\n",
    "sukses = cust_trans[cust_trans['payment_status'] == 'Success']\n",
    "total_transaksi_sukses = sukses.groupby(['customer_id','created_at'])[['booking_id']].count().sort_values(by = 'booking_id', ascending = False).reset_index()\n",
    "total_transaksi_sukses = total_transaksi_sukses.rename(columns = {'booking_id' : 'total_transaksi_sukses'})"
   ]
  },
  {
   "cell_type": "code",
   "execution_count": 73,
   "id": "fe6ae474",
   "metadata": {
    "execution": {
     "iopub.execute_input": "2022-10-24T14:49:23.351814Z",
     "iopub.status.busy": "2022-10-24T14:49:23.351398Z",
     "iopub.status.idle": "2022-10-24T14:49:23.363898Z",
     "shell.execute_reply": "2022-10-24T14:49:23.362709Z"
    },
    "papermill": {
     "duration": 0.0459,
     "end_time": "2022-10-24T14:49:23.366809",
     "exception": false,
     "start_time": "2022-10-24T14:49:23.320909",
     "status": "completed"
    },
    "tags": []
   },
   "outputs": [
    {
     "data": {
      "text/html": [
       "<div>\n",
       "<style scoped>\n",
       "    .dataframe tbody tr th:only-of-type {\n",
       "        vertical-align: middle;\n",
       "    }\n",
       "\n",
       "    .dataframe tbody tr th {\n",
       "        vertical-align: top;\n",
       "    }\n",
       "\n",
       "    .dataframe thead th {\n",
       "        text-align: right;\n",
       "    }\n",
       "</style>\n",
       "<table border=\"1\" class=\"dataframe\">\n",
       "  <thead>\n",
       "    <tr style=\"text-align: right;\">\n",
       "      <th></th>\n",
       "      <th>customer_id</th>\n",
       "      <th>created_at</th>\n",
       "      <th>total_transaksi_sukses</th>\n",
       "    </tr>\n",
       "  </thead>\n",
       "  <tbody>\n",
       "    <tr>\n",
       "      <th>0</th>\n",
       "      <td>3410</td>\n",
       "      <td>2022-07</td>\n",
       "      <td>74</td>\n",
       "    </tr>\n",
       "    <tr>\n",
       "      <th>1</th>\n",
       "      <td>76961</td>\n",
       "      <td>2022-07</td>\n",
       "      <td>72</td>\n",
       "    </tr>\n",
       "    <tr>\n",
       "      <th>2</th>\n",
       "      <td>75646</td>\n",
       "      <td>2022-07</td>\n",
       "      <td>70</td>\n",
       "    </tr>\n",
       "    <tr>\n",
       "      <th>3</th>\n",
       "      <td>83562</td>\n",
       "      <td>2022-07</td>\n",
       "      <td>62</td>\n",
       "    </tr>\n",
       "    <tr>\n",
       "      <th>4</th>\n",
       "      <td>30485</td>\n",
       "      <td>2022-07</td>\n",
       "      <td>57</td>\n",
       "    </tr>\n",
       "  </tbody>\n",
       "</table>\n",
       "</div>"
      ],
      "text/plain": [
       "   customer_id created_at  total_transaksi_sukses\n",
       "0         3410    2022-07                      74\n",
       "1        76961    2022-07                      72\n",
       "2        75646    2022-07                      70\n",
       "3        83562    2022-07                      62\n",
       "4        30485    2022-07                      57"
      ]
     },
     "execution_count": 73,
     "metadata": {},
     "output_type": "execute_result"
    }
   ],
   "source": [
    "total_transaksi_sukses.head()"
   ]
  },
  {
   "cell_type": "code",
   "execution_count": 74,
   "id": "b628ef1a",
   "metadata": {
    "execution": {
     "iopub.execute_input": "2022-10-24T14:49:23.430077Z",
     "iopub.status.busy": "2022-10-24T14:49:23.429682Z",
     "iopub.status.idle": "2022-10-24T14:49:23.585023Z",
     "shell.execute_reply": "2022-10-24T14:49:23.583765Z"
    },
    "papermill": {
     "duration": 0.191684,
     "end_time": "2022-10-24T14:49:23.587894",
     "exception": false,
     "start_time": "2022-10-24T14:49:23.396210",
     "status": "completed"
    },
    "tags": []
   },
   "outputs": [],
   "source": [
    "# buat tabel mengenai total transaksi sukses tiap pelanggan\n",
    "gagal = cust_trans[cust_trans['payment_status'] == 'Failed']\n",
    "total_transaksi_gagal = gagal.groupby(['customer_id','created_at'])[['booking_id']].count().sort_values(by = 'booking_id', ascending = False).reset_index()\n",
    "total_transaksi_gagal = total_transaksi_gagal.rename(columns = {'booking_id' : 'total_transaksi_gagal'})"
   ]
  },
  {
   "cell_type": "code",
   "execution_count": 75,
   "id": "ae9d38cf",
   "metadata": {
    "execution": {
     "iopub.execute_input": "2022-10-24T14:49:23.647076Z",
     "iopub.status.busy": "2022-10-24T14:49:23.646662Z",
     "iopub.status.idle": "2022-10-24T14:49:23.805984Z",
     "shell.execute_reply": "2022-10-24T14:49:23.804598Z"
    },
    "papermill": {
     "duration": 0.192747,
     "end_time": "2022-10-24T14:49:23.809230",
     "exception": false,
     "start_time": "2022-10-24T14:49:23.616483",
     "status": "completed"
    },
    "tags": []
   },
   "outputs": [],
   "source": [
    "# merge total, sukses, dan gagal\n",
    "transaksi_all = total_transaksi_sukses.merge(total_transaksi_gagal, on=['customer_id','created_at'], how='outer')\n",
    "transaksi_all = transaksi_all.replace(np.nan,0)"
   ]
  },
  {
   "cell_type": "code",
   "execution_count": 76,
   "id": "57c81e3a",
   "metadata": {
    "execution": {
     "iopub.execute_input": "2022-10-24T14:49:23.870400Z",
     "iopub.status.busy": "2022-10-24T14:49:23.869954Z",
     "iopub.status.idle": "2022-10-24T14:49:23.883875Z",
     "shell.execute_reply": "2022-10-24T14:49:23.882634Z"
    },
    "papermill": {
     "duration": 0.04831,
     "end_time": "2022-10-24T14:49:23.886423",
     "exception": false,
     "start_time": "2022-10-24T14:49:23.838113",
     "status": "completed"
    },
    "tags": []
   },
   "outputs": [
    {
     "data": {
      "text/html": [
       "<div>\n",
       "<style scoped>\n",
       "    .dataframe tbody tr th:only-of-type {\n",
       "        vertical-align: middle;\n",
       "    }\n",
       "\n",
       "    .dataframe tbody tr th {\n",
       "        vertical-align: top;\n",
       "    }\n",
       "\n",
       "    .dataframe thead th {\n",
       "        text-align: right;\n",
       "    }\n",
       "</style>\n",
       "<table border=\"1\" class=\"dataframe\">\n",
       "  <thead>\n",
       "    <tr style=\"text-align: right;\">\n",
       "      <th></th>\n",
       "      <th>customer_id</th>\n",
       "      <th>created_at</th>\n",
       "      <th>total_transaksi_sukses</th>\n",
       "      <th>total_transaksi_gagal</th>\n",
       "    </tr>\n",
       "  </thead>\n",
       "  <tbody>\n",
       "    <tr>\n",
       "      <th>0</th>\n",
       "      <td>3410</td>\n",
       "      <td>2022-07</td>\n",
       "      <td>74.0</td>\n",
       "      <td>1.0</td>\n",
       "    </tr>\n",
       "    <tr>\n",
       "      <th>1</th>\n",
       "      <td>76961</td>\n",
       "      <td>2022-07</td>\n",
       "      <td>72.0</td>\n",
       "      <td>0.0</td>\n",
       "    </tr>\n",
       "    <tr>\n",
       "      <th>2</th>\n",
       "      <td>75646</td>\n",
       "      <td>2022-07</td>\n",
       "      <td>70.0</td>\n",
       "      <td>3.0</td>\n",
       "    </tr>\n",
       "    <tr>\n",
       "      <th>3</th>\n",
       "      <td>83562</td>\n",
       "      <td>2022-07</td>\n",
       "      <td>62.0</td>\n",
       "      <td>0.0</td>\n",
       "    </tr>\n",
       "    <tr>\n",
       "      <th>4</th>\n",
       "      <td>30485</td>\n",
       "      <td>2022-07</td>\n",
       "      <td>57.0</td>\n",
       "      <td>0.0</td>\n",
       "    </tr>\n",
       "  </tbody>\n",
       "</table>\n",
       "</div>"
      ],
      "text/plain": [
       "   customer_id created_at  total_transaksi_sukses  total_transaksi_gagal\n",
       "0         3410    2022-07                    74.0                    1.0\n",
       "1        76961    2022-07                    72.0                    0.0\n",
       "2        75646    2022-07                    70.0                    3.0\n",
       "3        83562    2022-07                    62.0                    0.0\n",
       "4        30485    2022-07                    57.0                    0.0"
      ]
     },
     "execution_count": 76,
     "metadata": {},
     "output_type": "execute_result"
    }
   ],
   "source": [
    "transaksi_all.head()"
   ]
  },
  {
   "cell_type": "code",
   "execution_count": 77,
   "id": "cdacb100",
   "metadata": {
    "execution": {
     "iopub.execute_input": "2022-10-24T14:49:23.947638Z",
     "iopub.status.busy": "2022-10-24T14:49:23.947148Z",
     "iopub.status.idle": "2022-10-24T14:49:24.960611Z",
     "shell.execute_reply": "2022-10-24T14:49:24.959259Z"
    },
    "papermill": {
     "duration": 1.04675,
     "end_time": "2022-10-24T14:49:24.963415",
     "exception": false,
     "start_time": "2022-10-24T14:49:23.916665",
     "status": "completed"
    },
    "tags": []
   },
   "outputs": [],
   "source": [
    "# merge data transaksi per bulan dengan data cust yang churn\n",
    "\n",
    "cust_all_churn = churn_after_join.merge(transaksi_all, left_on=['customer_id', 'periode'], right_on=['customer_id', 'created_at'])"
   ]
  },
  {
   "cell_type": "code",
   "execution_count": 78,
   "id": "ccab67f4",
   "metadata": {
    "execution": {
     "iopub.execute_input": "2022-10-24T14:49:25.023284Z",
     "iopub.status.busy": "2022-10-24T14:49:25.022741Z",
     "iopub.status.idle": "2022-10-24T14:49:25.181514Z",
     "shell.execute_reply": "2022-10-24T14:49:25.180314Z"
    },
    "papermill": {
     "duration": 0.192042,
     "end_time": "2022-10-24T14:49:25.184203",
     "exception": false,
     "start_time": "2022-10-24T14:49:24.992161",
     "status": "completed"
    },
    "tags": []
   },
   "outputs": [],
   "source": [
    "# buat kolom yang menjelaskan frekuensi order perbulan tiap cust \n",
    "# (asumsi = jika dibawah sama dengan 3 disebut sedikit, selain itu banyak)\n",
    "def freq(x):\n",
    "    if x == 0:\n",
    "        return 'never'\n",
    "    elif x <= 3:\n",
    "        return 'few'\n",
    "    else:\n",
    "        return 'many'\n",
    "cust_all_churn['transaksi_freq'] = cust_all_churn['total_transaksi_sukses'].apply(freq)"
   ]
  },
  {
   "cell_type": "code",
   "execution_count": 79,
   "id": "d2e8f418",
   "metadata": {
    "execution": {
     "iopub.execute_input": "2022-10-24T14:49:25.244696Z",
     "iopub.status.busy": "2022-10-24T14:49:25.244049Z",
     "iopub.status.idle": "2022-10-24T14:49:25.259693Z",
     "shell.execute_reply": "2022-10-24T14:49:25.258824Z"
    },
    "papermill": {
     "duration": 0.048871,
     "end_time": "2022-10-24T14:49:25.262030",
     "exception": false,
     "start_time": "2022-10-24T14:49:25.213159",
     "status": "completed"
    },
    "tags": []
   },
   "outputs": [
    {
     "data": {
      "text/html": [
       "<div>\n",
       "<style scoped>\n",
       "    .dataframe tbody tr th:only-of-type {\n",
       "        vertical-align: middle;\n",
       "    }\n",
       "\n",
       "    .dataframe tbody tr th {\n",
       "        vertical-align: top;\n",
       "    }\n",
       "\n",
       "    .dataframe thead th {\n",
       "        text-align: right;\n",
       "    }\n",
       "</style>\n",
       "<table border=\"1\" class=\"dataframe\">\n",
       "  <thead>\n",
       "    <tr style=\"text-align: right;\">\n",
       "      <th></th>\n",
       "      <th>customer_id</th>\n",
       "      <th>periode</th>\n",
       "      <th>total_transaksi</th>\n",
       "      <th>churn</th>\n",
       "      <th>first_join_date</th>\n",
       "      <th>created_at</th>\n",
       "      <th>total_transaksi_sukses</th>\n",
       "      <th>total_transaksi_gagal</th>\n",
       "      <th>transaksi_freq</th>\n",
       "    </tr>\n",
       "  </thead>\n",
       "  <tbody>\n",
       "    <tr>\n",
       "      <th>0</th>\n",
       "      <td>7279</td>\n",
       "      <td>2020-08</td>\n",
       "      <td>2.0</td>\n",
       "      <td>0</td>\n",
       "      <td>2020-08</td>\n",
       "      <td>2020-08</td>\n",
       "      <td>2.0</td>\n",
       "      <td>0.0</td>\n",
       "      <td>few</td>\n",
       "    </tr>\n",
       "    <tr>\n",
       "      <th>1</th>\n",
       "      <td>7279</td>\n",
       "      <td>2020-09</td>\n",
       "      <td>3.0</td>\n",
       "      <td>0</td>\n",
       "      <td>2020-08</td>\n",
       "      <td>2020-09</td>\n",
       "      <td>2.0</td>\n",
       "      <td>1.0</td>\n",
       "      <td>few</td>\n",
       "    </tr>\n",
       "    <tr>\n",
       "      <th>2</th>\n",
       "      <td>7279</td>\n",
       "      <td>2020-10</td>\n",
       "      <td>4.0</td>\n",
       "      <td>0</td>\n",
       "      <td>2020-08</td>\n",
       "      <td>2020-10</td>\n",
       "      <td>3.0</td>\n",
       "      <td>1.0</td>\n",
       "      <td>few</td>\n",
       "    </tr>\n",
       "    <tr>\n",
       "      <th>3</th>\n",
       "      <td>7279</td>\n",
       "      <td>2020-11</td>\n",
       "      <td>4.0</td>\n",
       "      <td>0</td>\n",
       "      <td>2020-08</td>\n",
       "      <td>2020-11</td>\n",
       "      <td>4.0</td>\n",
       "      <td>0.0</td>\n",
       "      <td>many</td>\n",
       "    </tr>\n",
       "    <tr>\n",
       "      <th>4</th>\n",
       "      <td>7279</td>\n",
       "      <td>2020-12</td>\n",
       "      <td>4.0</td>\n",
       "      <td>0</td>\n",
       "      <td>2020-08</td>\n",
       "      <td>2020-12</td>\n",
       "      <td>4.0</td>\n",
       "      <td>0.0</td>\n",
       "      <td>many</td>\n",
       "    </tr>\n",
       "  </tbody>\n",
       "</table>\n",
       "</div>"
      ],
      "text/plain": [
       "   customer_id  periode  total_transaksi  churn first_join_date created_at  \\\n",
       "0         7279  2020-08              2.0      0         2020-08    2020-08   \n",
       "1         7279  2020-09              3.0      0         2020-08    2020-09   \n",
       "2         7279  2020-10              4.0      0         2020-08    2020-10   \n",
       "3         7279  2020-11              4.0      0         2020-08    2020-11   \n",
       "4         7279  2020-12              4.0      0         2020-08    2020-12   \n",
       "\n",
       "   total_transaksi_sukses  total_transaksi_gagal transaksi_freq  \n",
       "0                     2.0                    0.0            few  \n",
       "1                     2.0                    1.0            few  \n",
       "2                     3.0                    1.0            few  \n",
       "3                     4.0                    0.0           many  \n",
       "4                     4.0                    0.0           many  "
      ]
     },
     "execution_count": 79,
     "metadata": {},
     "output_type": "execute_result"
    }
   ],
   "source": [
    "cust_all_churn.head()"
   ]
  }
 ],
 "metadata": {
  "kernelspec": {
   "display_name": "Python 3",
   "language": "python",
   "name": "python3"
  },
  "language_info": {
   "codemirror_mode": {
    "name": "ipython",
    "version": 3
   },
   "file_extension": ".py",
   "mimetype": "text/x-python",
   "name": "python",
   "nbconvert_exporter": "python",
   "pygments_lexer": "ipython3",
   "version": "3.7.12"
  },
  "papermill": {
   "default_parameters": {},
   "duration": 1004.824612,
   "end_time": "2022-10-24T14:49:28.418312",
   "environment_variables": {},
   "exception": null,
   "input_path": "__notebook__.ipynb",
   "output_path": "__notebook__.ipynb",
   "parameters": {},
   "start_time": "2022-10-24T14:32:43.593700",
   "version": "2.3.4"
  }
 },
 "nbformat": 4,
 "nbformat_minor": 5
}
