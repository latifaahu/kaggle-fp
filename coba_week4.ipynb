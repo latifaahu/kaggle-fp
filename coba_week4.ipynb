{
 "cells": [
  {
   "cell_type": "markdown",
   "id": "95d2ca6c",
   "metadata": {
    "papermill": {
     "duration": 0.017773,
     "end_time": "2022-11-07T11:57:43.157445",
     "exception": false,
     "start_time": "2022-11-07T11:57:43.139672",
     "status": "completed"
    },
    "tags": []
   },
   "source": [
    "# Import Library"
   ]
  },
  {
   "cell_type": "code",
   "execution_count": 1,
   "id": "bef14f78",
   "metadata": {
    "execution": {
     "iopub.execute_input": "2022-11-07T11:57:43.195799Z",
     "iopub.status.busy": "2022-11-07T11:57:43.194689Z",
     "iopub.status.idle": "2022-11-07T11:57:46.155462Z",
     "shell.execute_reply": "2022-11-07T11:57:46.154211Z"
    },
    "papermill": {
     "duration": 2.986832,
     "end_time": "2022-11-07T11:57:46.158590",
     "exception": false,
     "start_time": "2022-11-07T11:57:43.171758",
     "status": "completed"
    },
    "tags": []
   },
   "outputs": [
    {
     "data": {
      "text/html": [
       "<style type='text/css'>\n",
       ".datatable table.frame { margin-bottom: 0; }\n",
       ".datatable table.frame thead { border-bottom: none; }\n",
       ".datatable table.frame tr.coltypes td {  color: #FFFFFF;  line-height: 6px;  padding: 0 0.5em;}\n",
       ".datatable .bool    { background: #DDDD99; }\n",
       ".datatable .object  { background: #565656; }\n",
       ".datatable .int     { background: #5D9E5D; }\n",
       ".datatable .float   { background: #4040CC; }\n",
       ".datatable .str     { background: #CC4040; }\n",
       ".datatable .time    { background: #40CC40; }\n",
       ".datatable .row_index {  background: var(--jp-border-color3);  border-right: 1px solid var(--jp-border-color0);  color: var(--jp-ui-font-color3);  font-size: 9px;}\n",
       ".datatable .frame tbody td { text-align: left; }\n",
       ".datatable .frame tr.coltypes .row_index {  background: var(--jp-border-color0);}\n",
       ".datatable th:nth-child(2) { padding-left: 12px; }\n",
       ".datatable .hellipsis {  color: var(--jp-cell-editor-border-color);}\n",
       ".datatable .vellipsis {  background: var(--jp-layout-color0);  color: var(--jp-cell-editor-border-color);}\n",
       ".datatable .na {  color: var(--jp-cell-editor-border-color);  font-size: 80%;}\n",
       ".datatable .sp {  opacity: 0.25;}\n",
       ".datatable .footer { font-size: 9px; }\n",
       ".datatable .frame_dimensions {  background: var(--jp-border-color3);  border-top: 1px solid var(--jp-border-color0);  color: var(--jp-ui-font-color3);  display: inline-block;  opacity: 0.6;  padding: 1px 10px 1px 5px;}\n",
       "</style>\n"
      ],
      "text/plain": [
       "<IPython.core.display.HTML object>"
      ]
     },
     "metadata": {},
     "output_type": "display_data"
    }
   ],
   "source": [
    "import pandas as pd\n",
    "import numpy as np\n",
    "from datetime import date\n",
    "from datetime import datetime\n",
    "import ast\n",
    "\n",
    "import warnings\n",
    "warnings.filterwarnings('ignore')\n",
    "\n",
    "#visualization libraries\n",
    "import matplotlib\n",
    "import matplotlib.pyplot as plt\n",
    "\n",
    "from sklearn.model_selection import train_test_split\n",
    "from sklearn.metrics import accuracy_score, confusion_matrix,precision_score,recall_score,roc_auc_score,f1_score,plot_confusion_matrix,plot_roc_curve,roc_curve\n",
    "from sklearn.linear_model import LogisticRegression\n",
    "from sklearn.tree import DecisionTreeClassifier\n",
    "from sklearn.svm import SVC\n",
    "\n",
    "from xgboost import XGBClassifier\n",
    "from lightgbm import LGBMClassifier\n",
    "from catboost import CatBoostClassifier\n",
    "from sklearn import svm\n",
    "from sklearn.ensemble import RandomForestClassifier\n",
    "from sklearn.neighbors import KNeighborsClassifier\n",
    "\n",
    "pd.set_option('display.max_columns', 10000)"
   ]
  },
  {
   "cell_type": "markdown",
   "id": "568baa7f",
   "metadata": {
    "papermill": {
     "duration": 0.01303,
     "end_time": "2022-11-07T11:57:46.185213",
     "exception": false,
     "start_time": "2022-11-07T11:57:46.172183",
     "status": "completed"
    },
    "tags": []
   },
   "source": [
    "# Read Data"
   ]
  },
  {
   "cell_type": "code",
   "execution_count": 2,
   "id": "33ea27d9",
   "metadata": {
    "execution": {
     "iopub.execute_input": "2022-11-07T11:57:46.214656Z",
     "iopub.status.busy": "2022-11-07T11:57:46.213864Z",
     "iopub.status.idle": "2022-11-07T11:58:52.612525Z",
     "shell.execute_reply": "2022-11-07T11:58:52.611378Z"
    },
    "papermill": {
     "duration": 66.416911,
     "end_time": "2022-11-07T11:58:52.615597",
     "exception": false,
     "start_time": "2022-11-07T11:57:46.198686",
     "status": "completed"
    },
    "tags": []
   },
   "outputs": [],
   "source": [
    "trx = pd.read_csv(\"../input/fashion-campus/transactions.csv\")\n",
    "cust = pd.read_csv(\"../input/fashion-campus/customer.csv\")\n",
    "products = pd.read_csv('../input/fashion-campus/product.csv', on_bad_lines='skip')\n",
    "click = pd.read_csv('../input/fashion-campus/click_stream.csv')"
   ]
  },
  {
   "cell_type": "markdown",
   "id": "1fb7b096",
   "metadata": {
    "papermill": {
     "duration": 0.013708,
     "end_time": "2022-11-07T11:58:52.642928",
     "exception": false,
     "start_time": "2022-11-07T11:58:52.629220",
     "status": "completed"
    },
    "tags": []
   },
   "source": [
    "# Normalize JSON - click_stream"
   ]
  },
  {
   "cell_type": "code",
   "execution_count": 3,
   "id": "069820a1",
   "metadata": {
    "execution": {
     "iopub.execute_input": "2022-11-07T11:58:52.672107Z",
     "iopub.status.busy": "2022-11-07T11:58:52.671647Z",
     "iopub.status.idle": "2022-11-07T11:58:53.959862Z",
     "shell.execute_reply": "2022-11-07T11:58:53.958592Z"
    },
    "papermill": {
     "duration": 1.30634,
     "end_time": "2022-11-07T11:58:53.962746",
     "exception": false,
     "start_time": "2022-11-07T11:58:52.656406",
     "status": "completed"
    },
    "tags": []
   },
   "outputs": [],
   "source": [
    "click['event_metadata'] = click['event_metadata'].fillna('{}')"
   ]
  },
  {
   "cell_type": "code",
   "execution_count": 4,
   "id": "263dacbe",
   "metadata": {
    "execution": {
     "iopub.execute_input": "2022-11-07T11:58:53.990577Z",
     "iopub.status.busy": "2022-11-07T11:58:53.990136Z",
     "iopub.status.idle": "2022-11-07T12:00:53.834065Z",
     "shell.execute_reply": "2022-11-07T12:00:53.832596Z"
    },
    "papermill": {
     "duration": 119.861912,
     "end_time": "2022-11-07T12:00:53.837715",
     "exception": false,
     "start_time": "2022-11-07T11:58:53.975803",
     "status": "completed"
    },
    "tags": []
   },
   "outputs": [],
   "source": [
    "click['event_metadata'] = click['event_metadata'].apply(ast.literal_eval)"
   ]
  },
  {
   "cell_type": "code",
   "execution_count": 5,
   "id": "a01885cf",
   "metadata": {
    "execution": {
     "iopub.execute_input": "2022-11-07T12:00:53.866639Z",
     "iopub.status.busy": "2022-11-07T12:00:53.866196Z",
     "iopub.status.idle": "2022-11-07T12:01:51.212769Z",
     "shell.execute_reply": "2022-11-07T12:01:51.211058Z"
    },
    "papermill": {
     "duration": 57.364487,
     "end_time": "2022-11-07T12:01:51.216179",
     "exception": false,
     "start_time": "2022-11-07T12:00:53.851692",
     "status": "completed"
    },
    "tags": []
   },
   "outputs": [],
   "source": [
    "click = pd.concat([click.drop(['event_metadata'], axis=1), pd.json_normalize(click['event_metadata'])], axis=1)"
   ]
  },
  {
   "cell_type": "code",
   "execution_count": 6,
   "id": "c87c4ff6",
   "metadata": {
    "execution": {
     "iopub.execute_input": "2022-11-07T12:01:51.245881Z",
     "iopub.status.busy": "2022-11-07T12:01:51.245417Z",
     "iopub.status.idle": "2022-11-07T12:01:51.272460Z",
     "shell.execute_reply": "2022-11-07T12:01:51.271065Z"
    },
    "papermill": {
     "duration": 0.045141,
     "end_time": "2022-11-07T12:01:51.275453",
     "exception": false,
     "start_time": "2022-11-07T12:01:51.230312",
     "status": "completed"
    },
    "tags": []
   },
   "outputs": [
    {
     "data": {
      "text/html": [
       "<div>\n",
       "<style scoped>\n",
       "    .dataframe tbody tr th:only-of-type {\n",
       "        vertical-align: middle;\n",
       "    }\n",
       "\n",
       "    .dataframe tbody tr th {\n",
       "        vertical-align: top;\n",
       "    }\n",
       "\n",
       "    .dataframe thead th {\n",
       "        text-align: right;\n",
       "    }\n",
       "</style>\n",
       "<table border=\"1\" class=\"dataframe\">\n",
       "  <thead>\n",
       "    <tr style=\"text-align: right;\">\n",
       "      <th></th>\n",
       "      <th>session_id</th>\n",
       "      <th>event_name</th>\n",
       "      <th>event_time</th>\n",
       "      <th>event_id</th>\n",
       "      <th>traffic_source</th>\n",
       "      <th>product_id</th>\n",
       "      <th>quantity</th>\n",
       "      <th>item_price</th>\n",
       "      <th>payment_status</th>\n",
       "      <th>search_keywords</th>\n",
       "      <th>promo_code</th>\n",
       "      <th>promo_amount</th>\n",
       "    </tr>\n",
       "  </thead>\n",
       "  <tbody>\n",
       "    <tr>\n",
       "      <th>0</th>\n",
       "      <td>fb0abf9e-fd1a-44dd-b5c0-2834d5a4b81c</td>\n",
       "      <td>HOMEPAGE</td>\n",
       "      <td>2019-09-06T15:54:32.821085Z</td>\n",
       "      <td>9c4388c4-c95b-4678-b5ca-e9cbc0734109</td>\n",
       "      <td>MOBILE</td>\n",
       "      <td>NaN</td>\n",
       "      <td>NaN</td>\n",
       "      <td>NaN</td>\n",
       "      <td>NaN</td>\n",
       "      <td>NaN</td>\n",
       "      <td>NaN</td>\n",
       "      <td>NaN</td>\n",
       "    </tr>\n",
       "    <tr>\n",
       "      <th>1</th>\n",
       "      <td>fb0abf9e-fd1a-44dd-b5c0-2834d5a4b81c</td>\n",
       "      <td>SCROLL</td>\n",
       "      <td>2019-09-06T16:03:57.821085Z</td>\n",
       "      <td>4690e1f5-3f99-42d3-84a5-22c4c4d8500a</td>\n",
       "      <td>MOBILE</td>\n",
       "      <td>NaN</td>\n",
       "      <td>NaN</td>\n",
       "      <td>NaN</td>\n",
       "      <td>NaN</td>\n",
       "      <td>NaN</td>\n",
       "      <td>NaN</td>\n",
       "      <td>NaN</td>\n",
       "    </tr>\n",
       "    <tr>\n",
       "      <th>2</th>\n",
       "      <td>7d440441-e67a-4d36-b324-80ffd636d166</td>\n",
       "      <td>HOMEPAGE</td>\n",
       "      <td>2019-09-01T12:05:10.322763Z</td>\n",
       "      <td>88aeaeb5-ec98-4859-852c-8abb483faf31</td>\n",
       "      <td>MOBILE</td>\n",
       "      <td>NaN</td>\n",
       "      <td>NaN</td>\n",
       "      <td>NaN</td>\n",
       "      <td>NaN</td>\n",
       "      <td>NaN</td>\n",
       "      <td>NaN</td>\n",
       "      <td>NaN</td>\n",
       "    </tr>\n",
       "    <tr>\n",
       "      <th>3</th>\n",
       "      <td>7d440441-e67a-4d36-b324-80ffd636d166</td>\n",
       "      <td>ADD_TO_CART</td>\n",
       "      <td>2019-09-01T12:06:33.322763Z</td>\n",
       "      <td>934e306e-ecc6-472f-9ccb-12c8536910a2</td>\n",
       "      <td>MOBILE</td>\n",
       "      <td>15315.0</td>\n",
       "      <td>4.0</td>\n",
       "      <td>313529.0</td>\n",
       "      <td>NaN</td>\n",
       "      <td>NaN</td>\n",
       "      <td>NaN</td>\n",
       "      <td>NaN</td>\n",
       "    </tr>\n",
       "    <tr>\n",
       "      <th>4</th>\n",
       "      <td>7d440441-e67a-4d36-b324-80ffd636d166</td>\n",
       "      <td>BOOKING</td>\n",
       "      <td>2019-09-01T12:15:29.425431Z</td>\n",
       "      <td>9f4767a1-40fa-4c9c-9524-dfad18634d56</td>\n",
       "      <td>MOBILE</td>\n",
       "      <td>NaN</td>\n",
       "      <td>NaN</td>\n",
       "      <td>NaN</td>\n",
       "      <td>Success</td>\n",
       "      <td>NaN</td>\n",
       "      <td>NaN</td>\n",
       "      <td>NaN</td>\n",
       "    </tr>\n",
       "  </tbody>\n",
       "</table>\n",
       "</div>"
      ],
      "text/plain": [
       "                             session_id   event_name  \\\n",
       "0  fb0abf9e-fd1a-44dd-b5c0-2834d5a4b81c     HOMEPAGE   \n",
       "1  fb0abf9e-fd1a-44dd-b5c0-2834d5a4b81c       SCROLL   \n",
       "2  7d440441-e67a-4d36-b324-80ffd636d166     HOMEPAGE   \n",
       "3  7d440441-e67a-4d36-b324-80ffd636d166  ADD_TO_CART   \n",
       "4  7d440441-e67a-4d36-b324-80ffd636d166      BOOKING   \n",
       "\n",
       "                    event_time                              event_id  \\\n",
       "0  2019-09-06T15:54:32.821085Z  9c4388c4-c95b-4678-b5ca-e9cbc0734109   \n",
       "1  2019-09-06T16:03:57.821085Z  4690e1f5-3f99-42d3-84a5-22c4c4d8500a   \n",
       "2  2019-09-01T12:05:10.322763Z  88aeaeb5-ec98-4859-852c-8abb483faf31   \n",
       "3  2019-09-01T12:06:33.322763Z  934e306e-ecc6-472f-9ccb-12c8536910a2   \n",
       "4  2019-09-01T12:15:29.425431Z  9f4767a1-40fa-4c9c-9524-dfad18634d56   \n",
       "\n",
       "  traffic_source  product_id  quantity  item_price payment_status  \\\n",
       "0         MOBILE         NaN       NaN         NaN            NaN   \n",
       "1         MOBILE         NaN       NaN         NaN            NaN   \n",
       "2         MOBILE         NaN       NaN         NaN            NaN   \n",
       "3         MOBILE     15315.0       4.0    313529.0            NaN   \n",
       "4         MOBILE         NaN       NaN         NaN        Success   \n",
       "\n",
       "  search_keywords promo_code  promo_amount  \n",
       "0             NaN        NaN           NaN  \n",
       "1             NaN        NaN           NaN  \n",
       "2             NaN        NaN           NaN  \n",
       "3             NaN        NaN           NaN  \n",
       "4             NaN        NaN           NaN  "
      ]
     },
     "execution_count": 6,
     "metadata": {},
     "output_type": "execute_result"
    }
   ],
   "source": [
    "click.head()"
   ]
  },
  {
   "cell_type": "markdown",
   "id": "8f2e1420",
   "metadata": {
    "papermill": {
     "duration": 0.014291,
     "end_time": "2022-11-07T12:01:51.304723",
     "exception": false,
     "start_time": "2022-11-07T12:01:51.290432",
     "status": "completed"
    },
    "tags": []
   },
   "source": [
    "# Explode JSON - transactions"
   ]
  },
  {
   "cell_type": "code",
   "execution_count": 7,
   "id": "db47bae1",
   "metadata": {
    "execution": {
     "iopub.execute_input": "2022-11-07T12:01:51.334123Z",
     "iopub.status.busy": "2022-11-07T12:01:51.333648Z",
     "iopub.status.idle": "2022-11-07T12:02:14.777345Z",
     "shell.execute_reply": "2022-11-07T12:02:14.775951Z"
    },
    "papermill": {
     "duration": 23.462354,
     "end_time": "2022-11-07T12:02:14.780804",
     "exception": false,
     "start_time": "2022-11-07T12:01:51.318450",
     "status": "completed"
    },
    "tags": []
   },
   "outputs": [],
   "source": [
    "trx['product_metadata'] = trx['product_metadata'].apply(ast.literal_eval)"
   ]
  },
  {
   "cell_type": "code",
   "execution_count": 8,
   "id": "a3fcaa78",
   "metadata": {
    "execution": {
     "iopub.execute_input": "2022-11-07T12:02:14.810677Z",
     "iopub.status.busy": "2022-11-07T12:02:14.810214Z",
     "iopub.status.idle": "2022-11-07T12:02:17.518616Z",
     "shell.execute_reply": "2022-11-07T12:02:17.517106Z"
    },
    "papermill": {
     "duration": 2.726839,
     "end_time": "2022-11-07T12:02:17.521643",
     "exception": false,
     "start_time": "2022-11-07T12:02:14.794804",
     "status": "completed"
    },
    "tags": []
   },
   "outputs": [],
   "source": [
    "transaction_new = trx.explode('product_metadata')"
   ]
  },
  {
   "cell_type": "code",
   "execution_count": 9,
   "id": "7a519b65",
   "metadata": {
    "execution": {
     "iopub.execute_input": "2022-11-07T12:02:17.551791Z",
     "iopub.status.busy": "2022-11-07T12:02:17.551318Z",
     "iopub.status.idle": "2022-11-07T12:08:50.061871Z",
     "shell.execute_reply": "2022-11-07T12:08:50.059982Z"
    },
    "papermill": {
     "duration": 392.530813,
     "end_time": "2022-11-07T12:08:50.066258",
     "exception": false,
     "start_time": "2022-11-07T12:02:17.535445",
     "status": "completed"
    },
    "tags": []
   },
   "outputs": [],
   "source": [
    "transaction_new = pd.concat([transaction_new.drop(['product_metadata'], axis=1), transaction_new['product_metadata'].apply(pd.Series)], axis=1)"
   ]
  },
  {
   "cell_type": "code",
   "execution_count": 10,
   "id": "f3a9c624",
   "metadata": {
    "execution": {
     "iopub.execute_input": "2022-11-07T12:08:50.098620Z",
     "iopub.status.busy": "2022-11-07T12:08:50.097771Z",
     "iopub.status.idle": "2022-11-07T12:08:50.117286Z",
     "shell.execute_reply": "2022-11-07T12:08:50.116051Z"
    },
    "papermill": {
     "duration": 0.038221,
     "end_time": "2022-11-07T12:08:50.120066",
     "exception": false,
     "start_time": "2022-11-07T12:08:50.081845",
     "status": "completed"
    },
    "tags": []
   },
   "outputs": [
    {
     "data": {
      "text/html": [
       "<div>\n",
       "<style scoped>\n",
       "    .dataframe tbody tr th:only-of-type {\n",
       "        vertical-align: middle;\n",
       "    }\n",
       "\n",
       "    .dataframe tbody tr th {\n",
       "        vertical-align: top;\n",
       "    }\n",
       "\n",
       "    .dataframe thead th {\n",
       "        text-align: right;\n",
       "    }\n",
       "</style>\n",
       "<table border=\"1\" class=\"dataframe\">\n",
       "  <thead>\n",
       "    <tr style=\"text-align: right;\">\n",
       "      <th></th>\n",
       "      <th>created_at</th>\n",
       "      <th>customer_id</th>\n",
       "      <th>booking_id</th>\n",
       "      <th>session_id</th>\n",
       "      <th>payment_method</th>\n",
       "      <th>payment_status</th>\n",
       "      <th>promo_amount</th>\n",
       "      <th>promo_code</th>\n",
       "      <th>shipment_fee</th>\n",
       "      <th>shipment_date_limit</th>\n",
       "      <th>shipment_location_lat</th>\n",
       "      <th>shipment_location_long</th>\n",
       "      <th>total_amount</th>\n",
       "      <th>product_id</th>\n",
       "      <th>quantity</th>\n",
       "      <th>item_price</th>\n",
       "    </tr>\n",
       "  </thead>\n",
       "  <tbody>\n",
       "    <tr>\n",
       "      <th>0</th>\n",
       "      <td>2018-07-29T15:22:01.458193Z</td>\n",
       "      <td>5868</td>\n",
       "      <td>186e2bee-0637-4710-8981-50c2d737bc42</td>\n",
       "      <td>3abaa6ce-e320-4e51-9469-d9f3fa328e86</td>\n",
       "      <td>Debit Card</td>\n",
       "      <td>Success</td>\n",
       "      <td>1415</td>\n",
       "      <td>WEEKENDSERU</td>\n",
       "      <td>10000</td>\n",
       "      <td>2018-08-03T05:07:24.812676Z</td>\n",
       "      <td>-8.227893</td>\n",
       "      <td>111.969107</td>\n",
       "      <td>199832</td>\n",
       "      <td>54728</td>\n",
       "      <td>1</td>\n",
       "      <td>191247</td>\n",
       "    </tr>\n",
       "    <tr>\n",
       "      <th>1</th>\n",
       "      <td>2018-07-30T12:40:22.365620Z</td>\n",
       "      <td>4774</td>\n",
       "      <td>caadb57b-e808-4f94-9e96-8a7d4c9898db</td>\n",
       "      <td>2ee5ead1-f13e-4759-92df-7ff48475e970</td>\n",
       "      <td>Credit Card</td>\n",
       "      <td>Success</td>\n",
       "      <td>0</td>\n",
       "      <td>NaN</td>\n",
       "      <td>10000</td>\n",
       "      <td>2018-08-03T01:29:03.415705Z</td>\n",
       "      <td>3.013470</td>\n",
       "      <td>107.802514</td>\n",
       "      <td>155526</td>\n",
       "      <td>16193</td>\n",
       "      <td>1</td>\n",
       "      <td>145526</td>\n",
       "    </tr>\n",
       "    <tr>\n",
       "      <th>2</th>\n",
       "      <td>2018-09-15T11:51:17.365620Z</td>\n",
       "      <td>4774</td>\n",
       "      <td>6000fffb-9c1a-4f4a-9296-bc8f6b622b50</td>\n",
       "      <td>93325fb6-eb00-4268-bb0e-6471795a0ad0</td>\n",
       "      <td>OVO</td>\n",
       "      <td>Success</td>\n",
       "      <td>0</td>\n",
       "      <td>NaN</td>\n",
       "      <td>10000</td>\n",
       "      <td>2018-09-18T08:41:49.422380Z</td>\n",
       "      <td>-2.579428</td>\n",
       "      <td>115.743885</td>\n",
       "      <td>550696</td>\n",
       "      <td>53686</td>\n",
       "      <td>4</td>\n",
       "      <td>135174</td>\n",
       "    </tr>\n",
       "    <tr>\n",
       "      <th>3</th>\n",
       "      <td>2018-11-01T11:23:48.365620Z</td>\n",
       "      <td>4774</td>\n",
       "      <td>f5e530a7-4350-4cd1-a3bc-525b5037bcab</td>\n",
       "      <td>bcad5a61-1b67-448d-8ff4-781d67bc56e4</td>\n",
       "      <td>Credit Card</td>\n",
       "      <td>Success</td>\n",
       "      <td>0</td>\n",
       "      <td>NaN</td>\n",
       "      <td>0</td>\n",
       "      <td>2018-11-05T17:42:27.954235Z</td>\n",
       "      <td>-3.602334</td>\n",
       "      <td>120.363824</td>\n",
       "      <td>271012</td>\n",
       "      <td>20228</td>\n",
       "      <td>1</td>\n",
       "      <td>271012</td>\n",
       "    </tr>\n",
       "    <tr>\n",
       "      <th>4</th>\n",
       "      <td>2018-12-18T11:20:30.365620Z</td>\n",
       "      <td>4774</td>\n",
       "      <td>0efc0594-dbbf-4f9a-b0b0-a488cfddf8a2</td>\n",
       "      <td>df1042ab-13e6-4072-b9d2-64a81974c51a</td>\n",
       "      <td>Credit Card</td>\n",
       "      <td>Success</td>\n",
       "      <td>0</td>\n",
       "      <td>NaN</td>\n",
       "      <td>0</td>\n",
       "      <td>2018-12-23T17:24:07.361785Z</td>\n",
       "      <td>-3.602334</td>\n",
       "      <td>120.363824</td>\n",
       "      <td>198753</td>\n",
       "      <td>55220</td>\n",
       "      <td>1</td>\n",
       "      <td>198753</td>\n",
       "    </tr>\n",
       "  </tbody>\n",
       "</table>\n",
       "</div>"
      ],
      "text/plain": [
       "                    created_at  customer_id  \\\n",
       "0  2018-07-29T15:22:01.458193Z         5868   \n",
       "1  2018-07-30T12:40:22.365620Z         4774   \n",
       "2  2018-09-15T11:51:17.365620Z         4774   \n",
       "3  2018-11-01T11:23:48.365620Z         4774   \n",
       "4  2018-12-18T11:20:30.365620Z         4774   \n",
       "\n",
       "                             booking_id                            session_id  \\\n",
       "0  186e2bee-0637-4710-8981-50c2d737bc42  3abaa6ce-e320-4e51-9469-d9f3fa328e86   \n",
       "1  caadb57b-e808-4f94-9e96-8a7d4c9898db  2ee5ead1-f13e-4759-92df-7ff48475e970   \n",
       "2  6000fffb-9c1a-4f4a-9296-bc8f6b622b50  93325fb6-eb00-4268-bb0e-6471795a0ad0   \n",
       "3  f5e530a7-4350-4cd1-a3bc-525b5037bcab  bcad5a61-1b67-448d-8ff4-781d67bc56e4   \n",
       "4  0efc0594-dbbf-4f9a-b0b0-a488cfddf8a2  df1042ab-13e6-4072-b9d2-64a81974c51a   \n",
       "\n",
       "  payment_method payment_status  promo_amount   promo_code  shipment_fee  \\\n",
       "0     Debit Card        Success          1415  WEEKENDSERU         10000   \n",
       "1    Credit Card        Success             0          NaN         10000   \n",
       "2            OVO        Success             0          NaN         10000   \n",
       "3    Credit Card        Success             0          NaN             0   \n",
       "4    Credit Card        Success             0          NaN             0   \n",
       "\n",
       "           shipment_date_limit  shipment_location_lat  shipment_location_long  \\\n",
       "0  2018-08-03T05:07:24.812676Z              -8.227893              111.969107   \n",
       "1  2018-08-03T01:29:03.415705Z               3.013470              107.802514   \n",
       "2  2018-09-18T08:41:49.422380Z              -2.579428              115.743885   \n",
       "3  2018-11-05T17:42:27.954235Z              -3.602334              120.363824   \n",
       "4  2018-12-23T17:24:07.361785Z              -3.602334              120.363824   \n",
       "\n",
       "   total_amount  product_id  quantity  item_price  \n",
       "0        199832       54728         1      191247  \n",
       "1        155526       16193         1      145526  \n",
       "2        550696       53686         4      135174  \n",
       "3        271012       20228         1      271012  \n",
       "4        198753       55220         1      198753  "
      ]
     },
     "execution_count": 10,
     "metadata": {},
     "output_type": "execute_result"
    }
   ],
   "source": [
    "transaction_new.head()"
   ]
  },
  {
   "cell_type": "markdown",
   "id": "a2cc69af",
   "metadata": {
    "papermill": {
     "duration": 0.014122,
     "end_time": "2022-11-07T12:08:50.148583",
     "exception": false,
     "start_time": "2022-11-07T12:08:50.134461",
     "status": "completed"
    },
    "tags": []
   },
   "source": [
    "# Labelling"
   ]
  },
  {
   "cell_type": "code",
   "execution_count": 11,
   "id": "08535805",
   "metadata": {
    "execution": {
     "iopub.execute_input": "2022-11-07T12:08:50.178615Z",
     "iopub.status.busy": "2022-11-07T12:08:50.177929Z",
     "iopub.status.idle": "2022-11-07T12:08:50.629035Z",
     "shell.execute_reply": "2022-11-07T12:08:50.628169Z"
    },
    "papermill": {
     "duration": 0.46886,
     "end_time": "2022-11-07T12:08:50.631359",
     "exception": false,
     "start_time": "2022-11-07T12:08:50.162499",
     "status": "completed"
    },
    "tags": []
   },
   "outputs": [
    {
     "data": {
      "text/html": [
       "<div>\n",
       "<style scoped>\n",
       "    .dataframe tbody tr th:only-of-type {\n",
       "        vertical-align: middle;\n",
       "    }\n",
       "\n",
       "    .dataframe tbody tr th {\n",
       "        vertical-align: top;\n",
       "    }\n",
       "\n",
       "    .dataframe thead th {\n",
       "        text-align: right;\n",
       "    }\n",
       "</style>\n",
       "<table border=\"1\" class=\"dataframe\">\n",
       "  <thead>\n",
       "    <tr style=\"text-align: right;\">\n",
       "      <th></th>\n",
       "      <th>created_at</th>\n",
       "      <th>customer_id</th>\n",
       "      <th>booking_id</th>\n",
       "      <th>session_id</th>\n",
       "      <th>payment_method</th>\n",
       "      <th>payment_status</th>\n",
       "      <th>promo_amount</th>\n",
       "      <th>promo_code</th>\n",
       "      <th>shipment_fee</th>\n",
       "      <th>shipment_date_limit</th>\n",
       "      <th>shipment_location_lat</th>\n",
       "      <th>shipment_location_long</th>\n",
       "      <th>total_amount</th>\n",
       "      <th>product_id</th>\n",
       "      <th>quantity</th>\n",
       "      <th>item_price</th>\n",
       "    </tr>\n",
       "  </thead>\n",
       "  <tbody>\n",
       "    <tr>\n",
       "      <th>0</th>\n",
       "      <td>2018-07-29T15:22:01.458193Z</td>\n",
       "      <td>5868</td>\n",
       "      <td>186e2bee-0637-4710-8981-50c2d737bc42</td>\n",
       "      <td>3abaa6ce-e320-4e51-9469-d9f3fa328e86</td>\n",
       "      <td>Debit Card</td>\n",
       "      <td>Success</td>\n",
       "      <td>1415</td>\n",
       "      <td>WEEKENDSERU</td>\n",
       "      <td>10000</td>\n",
       "      <td>2018-08-03T05:07:24.812676Z</td>\n",
       "      <td>-8.227893</td>\n",
       "      <td>111.969107</td>\n",
       "      <td>199832</td>\n",
       "      <td>54728</td>\n",
       "      <td>1</td>\n",
       "      <td>191247</td>\n",
       "    </tr>\n",
       "    <tr>\n",
       "      <th>1</th>\n",
       "      <td>2018-07-30T12:40:22.365620Z</td>\n",
       "      <td>4774</td>\n",
       "      <td>caadb57b-e808-4f94-9e96-8a7d4c9898db</td>\n",
       "      <td>2ee5ead1-f13e-4759-92df-7ff48475e970</td>\n",
       "      <td>Credit Card</td>\n",
       "      <td>Success</td>\n",
       "      <td>0</td>\n",
       "      <td>NaN</td>\n",
       "      <td>10000</td>\n",
       "      <td>2018-08-03T01:29:03.415705Z</td>\n",
       "      <td>3.013470</td>\n",
       "      <td>107.802514</td>\n",
       "      <td>155526</td>\n",
       "      <td>16193</td>\n",
       "      <td>1</td>\n",
       "      <td>145526</td>\n",
       "    </tr>\n",
       "    <tr>\n",
       "      <th>2</th>\n",
       "      <td>2018-09-15T11:51:17.365620Z</td>\n",
       "      <td>4774</td>\n",
       "      <td>6000fffb-9c1a-4f4a-9296-bc8f6b622b50</td>\n",
       "      <td>93325fb6-eb00-4268-bb0e-6471795a0ad0</td>\n",
       "      <td>OVO</td>\n",
       "      <td>Success</td>\n",
       "      <td>0</td>\n",
       "      <td>NaN</td>\n",
       "      <td>10000</td>\n",
       "      <td>2018-09-18T08:41:49.422380Z</td>\n",
       "      <td>-2.579428</td>\n",
       "      <td>115.743885</td>\n",
       "      <td>550696</td>\n",
       "      <td>53686</td>\n",
       "      <td>4</td>\n",
       "      <td>135174</td>\n",
       "    </tr>\n",
       "    <tr>\n",
       "      <th>3</th>\n",
       "      <td>2018-11-01T11:23:48.365620Z</td>\n",
       "      <td>4774</td>\n",
       "      <td>f5e530a7-4350-4cd1-a3bc-525b5037bcab</td>\n",
       "      <td>bcad5a61-1b67-448d-8ff4-781d67bc56e4</td>\n",
       "      <td>Credit Card</td>\n",
       "      <td>Success</td>\n",
       "      <td>0</td>\n",
       "      <td>NaN</td>\n",
       "      <td>0</td>\n",
       "      <td>2018-11-05T17:42:27.954235Z</td>\n",
       "      <td>-3.602334</td>\n",
       "      <td>120.363824</td>\n",
       "      <td>271012</td>\n",
       "      <td>20228</td>\n",
       "      <td>1</td>\n",
       "      <td>271012</td>\n",
       "    </tr>\n",
       "    <tr>\n",
       "      <th>4</th>\n",
       "      <td>2018-12-18T11:20:30.365620Z</td>\n",
       "      <td>4774</td>\n",
       "      <td>0efc0594-dbbf-4f9a-b0b0-a488cfddf8a2</td>\n",
       "      <td>df1042ab-13e6-4072-b9d2-64a81974c51a</td>\n",
       "      <td>Credit Card</td>\n",
       "      <td>Success</td>\n",
       "      <td>0</td>\n",
       "      <td>NaN</td>\n",
       "      <td>0</td>\n",
       "      <td>2018-12-23T17:24:07.361785Z</td>\n",
       "      <td>-3.602334</td>\n",
       "      <td>120.363824</td>\n",
       "      <td>198753</td>\n",
       "      <td>55220</td>\n",
       "      <td>1</td>\n",
       "      <td>198753</td>\n",
       "    </tr>\n",
       "  </tbody>\n",
       "</table>\n",
       "</div>"
      ],
      "text/plain": [
       "                    created_at  customer_id  \\\n",
       "0  2018-07-29T15:22:01.458193Z         5868   \n",
       "1  2018-07-30T12:40:22.365620Z         4774   \n",
       "2  2018-09-15T11:51:17.365620Z         4774   \n",
       "3  2018-11-01T11:23:48.365620Z         4774   \n",
       "4  2018-12-18T11:20:30.365620Z         4774   \n",
       "\n",
       "                             booking_id                            session_id  \\\n",
       "0  186e2bee-0637-4710-8981-50c2d737bc42  3abaa6ce-e320-4e51-9469-d9f3fa328e86   \n",
       "1  caadb57b-e808-4f94-9e96-8a7d4c9898db  2ee5ead1-f13e-4759-92df-7ff48475e970   \n",
       "2  6000fffb-9c1a-4f4a-9296-bc8f6b622b50  93325fb6-eb00-4268-bb0e-6471795a0ad0   \n",
       "3  f5e530a7-4350-4cd1-a3bc-525b5037bcab  bcad5a61-1b67-448d-8ff4-781d67bc56e4   \n",
       "4  0efc0594-dbbf-4f9a-b0b0-a488cfddf8a2  df1042ab-13e6-4072-b9d2-64a81974c51a   \n",
       "\n",
       "  payment_method payment_status  promo_amount   promo_code  shipment_fee  \\\n",
       "0     Debit Card        Success          1415  WEEKENDSERU         10000   \n",
       "1    Credit Card        Success             0          NaN         10000   \n",
       "2            OVO        Success             0          NaN         10000   \n",
       "3    Credit Card        Success             0          NaN             0   \n",
       "4    Credit Card        Success             0          NaN             0   \n",
       "\n",
       "           shipment_date_limit  shipment_location_lat  shipment_location_long  \\\n",
       "0  2018-08-03T05:07:24.812676Z              -8.227893              111.969107   \n",
       "1  2018-08-03T01:29:03.415705Z               3.013470              107.802514   \n",
       "2  2018-09-18T08:41:49.422380Z              -2.579428              115.743885   \n",
       "3  2018-11-05T17:42:27.954235Z              -3.602334              120.363824   \n",
       "4  2018-12-23T17:24:07.361785Z              -3.602334              120.363824   \n",
       "\n",
       "   total_amount  product_id  quantity  item_price  \n",
       "0        199832       54728         1      191247  \n",
       "1        155526       16193         1      145526  \n",
       "2        550696       53686         4      135174  \n",
       "3        271012       20228         1      271012  \n",
       "4        198753       55220         1      198753  "
      ]
     },
     "execution_count": 11,
     "metadata": {},
     "output_type": "execute_result"
    }
   ],
   "source": [
    "trx2 = transaction_new[transaction_new[\"payment_status\"] == \"Success\"]\n",
    "trx2.head()"
   ]
  },
  {
   "cell_type": "code",
   "execution_count": 12,
   "id": "9f184055",
   "metadata": {
    "execution": {
     "iopub.execute_input": "2022-11-07T12:08:50.663207Z",
     "iopub.status.busy": "2022-11-07T12:08:50.661955Z",
     "iopub.status.idle": "2022-11-07T12:08:50.959755Z",
     "shell.execute_reply": "2022-11-07T12:08:50.958481Z"
    },
    "papermill": {
     "duration": 0.316237,
     "end_time": "2022-11-07T12:08:50.962093",
     "exception": false,
     "start_time": "2022-11-07T12:08:50.645856",
     "status": "completed"
    },
    "tags": []
   },
   "outputs": [
    {
     "data": {
      "text/html": [
       "<div>\n",
       "<style scoped>\n",
       "    .dataframe tbody tr th:only-of-type {\n",
       "        vertical-align: middle;\n",
       "    }\n",
       "\n",
       "    .dataframe tbody tr th {\n",
       "        vertical-align: top;\n",
       "    }\n",
       "\n",
       "    .dataframe thead th {\n",
       "        text-align: right;\n",
       "    }\n",
       "</style>\n",
       "<table border=\"1\" class=\"dataframe\">\n",
       "  <thead>\n",
       "    <tr style=\"text-align: right;\">\n",
       "      <th></th>\n",
       "      <th>customer_id</th>\n",
       "      <th>first_join_date</th>\n",
       "      <th>created_at</th>\n",
       "    </tr>\n",
       "  </thead>\n",
       "  <tbody>\n",
       "    <tr>\n",
       "      <th>0</th>\n",
       "      <td>2870</td>\n",
       "      <td>2019-07-21</td>\n",
       "      <td>NaN</td>\n",
       "    </tr>\n",
       "    <tr>\n",
       "      <th>1</th>\n",
       "      <td>8193</td>\n",
       "      <td>2017-07-16</td>\n",
       "      <td>NaN</td>\n",
       "    </tr>\n",
       "    <tr>\n",
       "      <th>2</th>\n",
       "      <td>7279</td>\n",
       "      <td>2020-08-23</td>\n",
       "      <td>2020-08-23T12:53:12.916342Z</td>\n",
       "    </tr>\n",
       "    <tr>\n",
       "      <th>3</th>\n",
       "      <td>7279</td>\n",
       "      <td>2020-08-23</td>\n",
       "      <td>2020-08-23T12:53:12.916342Z</td>\n",
       "    </tr>\n",
       "    <tr>\n",
       "      <th>4</th>\n",
       "      <td>7279</td>\n",
       "      <td>2020-08-23</td>\n",
       "      <td>2020-08-31T13:34:59.916342Z</td>\n",
       "    </tr>\n",
       "    <tr>\n",
       "      <th>...</th>\n",
       "      <td>...</td>\n",
       "      <td>...</td>\n",
       "      <td>...</td>\n",
       "    </tr>\n",
       "    <tr>\n",
       "      <th>1250788</th>\n",
       "      <td>40573</td>\n",
       "      <td>2021-07-17</td>\n",
       "      <td>2021-10-21T15:43:07.139547Z</td>\n",
       "    </tr>\n",
       "    <tr>\n",
       "      <th>1250789</th>\n",
       "      <td>40573</td>\n",
       "      <td>2021-07-17</td>\n",
       "      <td>2022-01-23T19:01:48.139547Z</td>\n",
       "    </tr>\n",
       "    <tr>\n",
       "      <th>1250790</th>\n",
       "      <td>40573</td>\n",
       "      <td>2021-07-17</td>\n",
       "      <td>2022-03-11T19:03:09.139547Z</td>\n",
       "    </tr>\n",
       "    <tr>\n",
       "      <th>1250791</th>\n",
       "      <td>40573</td>\n",
       "      <td>2021-07-17</td>\n",
       "      <td>2022-04-27T20:00:55.139547Z</td>\n",
       "    </tr>\n",
       "    <tr>\n",
       "      <th>1250792</th>\n",
       "      <td>40573</td>\n",
       "      <td>2021-07-17</td>\n",
       "      <td>2022-06-13T21:03:53.139547Z</td>\n",
       "    </tr>\n",
       "  </tbody>\n",
       "</table>\n",
       "<p>1250793 rows × 3 columns</p>\n",
       "</div>"
      ],
      "text/plain": [
       "         customer_id first_join_date                   created_at\n",
       "0               2870      2019-07-21                          NaN\n",
       "1               8193      2017-07-16                          NaN\n",
       "2               7279      2020-08-23  2020-08-23T12:53:12.916342Z\n",
       "3               7279      2020-08-23  2020-08-23T12:53:12.916342Z\n",
       "4               7279      2020-08-23  2020-08-31T13:34:59.916342Z\n",
       "...              ...             ...                          ...\n",
       "1250788        40573      2021-07-17  2021-10-21T15:43:07.139547Z\n",
       "1250789        40573      2021-07-17  2022-01-23T19:01:48.139547Z\n",
       "1250790        40573      2021-07-17  2022-03-11T19:03:09.139547Z\n",
       "1250791        40573      2021-07-17  2022-04-27T20:00:55.139547Z\n",
       "1250792        40573      2021-07-17  2022-06-13T21:03:53.139547Z\n",
       "\n",
       "[1250793 rows x 3 columns]"
      ]
     },
     "execution_count": 12,
     "metadata": {},
     "output_type": "execute_result"
    }
   ],
   "source": [
    "cust_trx= pd.merge(cust[[\"customer_id\",\"first_join_date\"]],trx2[[\"customer_id\",\"created_at\"]], on = \"customer_id\", how = \"left\")\n",
    "cust_trx"
   ]
  },
  {
   "cell_type": "code",
   "execution_count": 13,
   "id": "b426294b",
   "metadata": {
    "execution": {
     "iopub.execute_input": "2022-11-07T12:08:50.994576Z",
     "iopub.status.busy": "2022-11-07T12:08:50.994096Z",
     "iopub.status.idle": "2022-11-07T12:08:52.193348Z",
     "shell.execute_reply": "2022-11-07T12:08:52.192289Z"
    },
    "papermill": {
     "duration": 1.219214,
     "end_time": "2022-11-07T12:08:52.196383",
     "exception": false,
     "start_time": "2022-11-07T12:08:50.977169",
     "status": "completed"
    },
    "tags": []
   },
   "outputs": [],
   "source": [
    "cust_trx[\"created_at\"] = pd.to_datetime(cust_trx[\"created_at\"])\n",
    "cust_trx[\"first_join_date\"] = pd.to_datetime(cust_trx[\"first_join_date\"])"
   ]
  },
  {
   "cell_type": "code",
   "execution_count": 14,
   "id": "91ec74ea",
   "metadata": {
    "execution": {
     "iopub.execute_input": "2022-11-07T12:08:52.229444Z",
     "iopub.status.busy": "2022-11-07T12:08:52.228322Z",
     "iopub.status.idle": "2022-11-07T12:08:52.243898Z",
     "shell.execute_reply": "2022-11-07T12:08:52.242717Z"
    },
    "papermill": {
     "duration": 0.034712,
     "end_time": "2022-11-07T12:08:52.246472",
     "exception": false,
     "start_time": "2022-11-07T12:08:52.211760",
     "status": "completed"
    },
    "tags": []
   },
   "outputs": [
    {
     "data": {
      "text/html": [
       "<div>\n",
       "<style scoped>\n",
       "    .dataframe tbody tr th:only-of-type {\n",
       "        vertical-align: middle;\n",
       "    }\n",
       "\n",
       "    .dataframe tbody tr th {\n",
       "        vertical-align: top;\n",
       "    }\n",
       "\n",
       "    .dataframe thead th {\n",
       "        text-align: right;\n",
       "    }\n",
       "</style>\n",
       "<table border=\"1\" class=\"dataframe\">\n",
       "  <thead>\n",
       "    <tr style=\"text-align: right;\">\n",
       "      <th></th>\n",
       "      <th>customer_id</th>\n",
       "      <th>first_join_date</th>\n",
       "      <th>created_at</th>\n",
       "    </tr>\n",
       "  </thead>\n",
       "  <tbody>\n",
       "    <tr>\n",
       "      <th>0</th>\n",
       "      <td>2870</td>\n",
       "      <td>2019-07-21</td>\n",
       "      <td>NaT</td>\n",
       "    </tr>\n",
       "    <tr>\n",
       "      <th>1</th>\n",
       "      <td>8193</td>\n",
       "      <td>2017-07-16</td>\n",
       "      <td>NaT</td>\n",
       "    </tr>\n",
       "    <tr>\n",
       "      <th>2</th>\n",
       "      <td>7279</td>\n",
       "      <td>2020-08-23</td>\n",
       "      <td>2020-08-23 12:53:12.916342+00:00</td>\n",
       "    </tr>\n",
       "    <tr>\n",
       "      <th>3</th>\n",
       "      <td>7279</td>\n",
       "      <td>2020-08-23</td>\n",
       "      <td>2020-08-23 12:53:12.916342+00:00</td>\n",
       "    </tr>\n",
       "    <tr>\n",
       "      <th>4</th>\n",
       "      <td>7279</td>\n",
       "      <td>2020-08-23</td>\n",
       "      <td>2020-08-31 13:34:59.916342+00:00</td>\n",
       "    </tr>\n",
       "    <tr>\n",
       "      <th>...</th>\n",
       "      <td>...</td>\n",
       "      <td>...</td>\n",
       "      <td>...</td>\n",
       "    </tr>\n",
       "    <tr>\n",
       "      <th>1250788</th>\n",
       "      <td>40573</td>\n",
       "      <td>2021-07-17</td>\n",
       "      <td>2021-10-21 15:43:07.139547+00:00</td>\n",
       "    </tr>\n",
       "    <tr>\n",
       "      <th>1250789</th>\n",
       "      <td>40573</td>\n",
       "      <td>2021-07-17</td>\n",
       "      <td>2022-01-23 19:01:48.139547+00:00</td>\n",
       "    </tr>\n",
       "    <tr>\n",
       "      <th>1250790</th>\n",
       "      <td>40573</td>\n",
       "      <td>2021-07-17</td>\n",
       "      <td>2022-03-11 19:03:09.139547+00:00</td>\n",
       "    </tr>\n",
       "    <tr>\n",
       "      <th>1250791</th>\n",
       "      <td>40573</td>\n",
       "      <td>2021-07-17</td>\n",
       "      <td>2022-04-27 20:00:55.139547+00:00</td>\n",
       "    </tr>\n",
       "    <tr>\n",
       "      <th>1250792</th>\n",
       "      <td>40573</td>\n",
       "      <td>2021-07-17</td>\n",
       "      <td>2022-06-13 21:03:53.139547+00:00</td>\n",
       "    </tr>\n",
       "  </tbody>\n",
       "</table>\n",
       "<p>1250793 rows × 3 columns</p>\n",
       "</div>"
      ],
      "text/plain": [
       "         customer_id first_join_date                       created_at\n",
       "0               2870      2019-07-21                              NaT\n",
       "1               8193      2017-07-16                              NaT\n",
       "2               7279      2020-08-23 2020-08-23 12:53:12.916342+00:00\n",
       "3               7279      2020-08-23 2020-08-23 12:53:12.916342+00:00\n",
       "4               7279      2020-08-23 2020-08-31 13:34:59.916342+00:00\n",
       "...              ...             ...                              ...\n",
       "1250788        40573      2021-07-17 2021-10-21 15:43:07.139547+00:00\n",
       "1250789        40573      2021-07-17 2022-01-23 19:01:48.139547+00:00\n",
       "1250790        40573      2021-07-17 2022-03-11 19:03:09.139547+00:00\n",
       "1250791        40573      2021-07-17 2022-04-27 20:00:55.139547+00:00\n",
       "1250792        40573      2021-07-17 2022-06-13 21:03:53.139547+00:00\n",
       "\n",
       "[1250793 rows x 3 columns]"
      ]
     },
     "execution_count": 14,
     "metadata": {},
     "output_type": "execute_result"
    }
   ],
   "source": [
    "cust_trx"
   ]
  },
  {
   "cell_type": "code",
   "execution_count": 15,
   "id": "f1298a9a",
   "metadata": {
    "execution": {
     "iopub.execute_input": "2022-11-07T12:08:52.278911Z",
     "iopub.status.busy": "2022-11-07T12:08:52.278061Z",
     "iopub.status.idle": "2022-11-07T12:09:05.039268Z",
     "shell.execute_reply": "2022-11-07T12:09:05.037817Z"
    },
    "papermill": {
     "duration": 12.780957,
     "end_time": "2022-11-07T12:09:05.042456",
     "exception": false,
     "start_time": "2022-11-07T12:08:52.261499",
     "status": "completed"
    },
    "tags": []
   },
   "outputs": [],
   "source": [
    "cust_trx['created_at'] = cust_trx['created_at'].dt.strftime('%Y-%m')\n",
    "cust_trx['first_join_date'] = cust_trx['first_join_date'].dt.strftime('%Y-%m')"
   ]
  },
  {
   "cell_type": "code",
   "execution_count": 16,
   "id": "155745b1",
   "metadata": {
    "execution": {
     "iopub.execute_input": "2022-11-07T12:09:05.074100Z",
     "iopub.status.busy": "2022-11-07T12:09:05.073618Z",
     "iopub.status.idle": "2022-11-07T12:09:05.091238Z",
     "shell.execute_reply": "2022-11-07T12:09:05.089891Z"
    },
    "papermill": {
     "duration": 0.036731,
     "end_time": "2022-11-07T12:09:05.093897",
     "exception": false,
     "start_time": "2022-11-07T12:09:05.057166",
     "status": "completed"
    },
    "tags": []
   },
   "outputs": [
    {
     "data": {
      "text/html": [
       "<div>\n",
       "<style scoped>\n",
       "    .dataframe tbody tr th:only-of-type {\n",
       "        vertical-align: middle;\n",
       "    }\n",
       "\n",
       "    .dataframe tbody tr th {\n",
       "        vertical-align: top;\n",
       "    }\n",
       "\n",
       "    .dataframe thead th {\n",
       "        text-align: right;\n",
       "    }\n",
       "</style>\n",
       "<table border=\"1\" class=\"dataframe\">\n",
       "  <thead>\n",
       "    <tr style=\"text-align: right;\">\n",
       "      <th></th>\n",
       "      <th>customer_id</th>\n",
       "      <th>first_join_date</th>\n",
       "      <th>created_at</th>\n",
       "    </tr>\n",
       "  </thead>\n",
       "  <tbody>\n",
       "    <tr>\n",
       "      <th>0</th>\n",
       "      <td>2870</td>\n",
       "      <td>2019-07</td>\n",
       "      <td>NaN</td>\n",
       "    </tr>\n",
       "    <tr>\n",
       "      <th>1</th>\n",
       "      <td>8193</td>\n",
       "      <td>2017-07</td>\n",
       "      <td>NaN</td>\n",
       "    </tr>\n",
       "    <tr>\n",
       "      <th>2</th>\n",
       "      <td>7279</td>\n",
       "      <td>2020-08</td>\n",
       "      <td>2020-08</td>\n",
       "    </tr>\n",
       "    <tr>\n",
       "      <th>3</th>\n",
       "      <td>7279</td>\n",
       "      <td>2020-08</td>\n",
       "      <td>2020-08</td>\n",
       "    </tr>\n",
       "    <tr>\n",
       "      <th>4</th>\n",
       "      <td>7279</td>\n",
       "      <td>2020-08</td>\n",
       "      <td>2020-08</td>\n",
       "    </tr>\n",
       "    <tr>\n",
       "      <th>...</th>\n",
       "      <td>...</td>\n",
       "      <td>...</td>\n",
       "      <td>...</td>\n",
       "    </tr>\n",
       "    <tr>\n",
       "      <th>1250788</th>\n",
       "      <td>40573</td>\n",
       "      <td>2021-07</td>\n",
       "      <td>2021-10</td>\n",
       "    </tr>\n",
       "    <tr>\n",
       "      <th>1250789</th>\n",
       "      <td>40573</td>\n",
       "      <td>2021-07</td>\n",
       "      <td>2022-01</td>\n",
       "    </tr>\n",
       "    <tr>\n",
       "      <th>1250790</th>\n",
       "      <td>40573</td>\n",
       "      <td>2021-07</td>\n",
       "      <td>2022-03</td>\n",
       "    </tr>\n",
       "    <tr>\n",
       "      <th>1250791</th>\n",
       "      <td>40573</td>\n",
       "      <td>2021-07</td>\n",
       "      <td>2022-04</td>\n",
       "    </tr>\n",
       "    <tr>\n",
       "      <th>1250792</th>\n",
       "      <td>40573</td>\n",
       "      <td>2021-07</td>\n",
       "      <td>2022-06</td>\n",
       "    </tr>\n",
       "  </tbody>\n",
       "</table>\n",
       "<p>1250793 rows × 3 columns</p>\n",
       "</div>"
      ],
      "text/plain": [
       "         customer_id first_join_date created_at\n",
       "0               2870         2019-07        NaN\n",
       "1               8193         2017-07        NaN\n",
       "2               7279         2020-08    2020-08\n",
       "3               7279         2020-08    2020-08\n",
       "4               7279         2020-08    2020-08\n",
       "...              ...             ...        ...\n",
       "1250788        40573         2021-07    2021-10\n",
       "1250789        40573         2021-07    2022-01\n",
       "1250790        40573         2021-07    2022-03\n",
       "1250791        40573         2021-07    2022-04\n",
       "1250792        40573         2021-07    2022-06\n",
       "\n",
       "[1250793 rows x 3 columns]"
      ]
     },
     "execution_count": 16,
     "metadata": {},
     "output_type": "execute_result"
    }
   ],
   "source": [
    "cust_trx"
   ]
  },
  {
   "cell_type": "markdown",
   "id": "75eedd5d",
   "metadata": {
    "papermill": {
     "duration": 0.014845,
     "end_time": "2022-11-07T12:09:05.124473",
     "exception": false,
     "start_time": "2022-11-07T12:09:05.109628",
     "status": "completed"
    },
    "tags": []
   },
   "source": [
    "## Cust nvr trx"
   ]
  },
  {
   "cell_type": "code",
   "execution_count": 17,
   "id": "e26ff94a",
   "metadata": {
    "execution": {
     "iopub.execute_input": "2022-11-07T12:09:05.157026Z",
     "iopub.status.busy": "2022-11-07T12:09:05.156542Z",
     "iopub.status.idle": "2022-11-07T12:09:05.368592Z",
     "shell.execute_reply": "2022-11-07T12:09:05.367291Z"
    },
    "papermill": {
     "duration": 0.231667,
     "end_time": "2022-11-07T12:09:05.371242",
     "exception": false,
     "start_time": "2022-11-07T12:09:05.139575",
     "status": "completed"
    },
    "tags": []
   },
   "outputs": [
    {
     "data": {
      "text/plain": [
       "(49758, 3)"
      ]
     },
     "execution_count": 17,
     "metadata": {},
     "output_type": "execute_result"
    }
   ],
   "source": [
    "cust_nvr_trx = cust_trx[cust_trx[\"created_at\"].isna()]\n",
    "cust_nvr_trx.shape"
   ]
  },
  {
   "cell_type": "markdown",
   "id": "481b8771",
   "metadata": {
    "papermill": {
     "duration": 0.01477,
     "end_time": "2022-11-07T12:09:05.401074",
     "exception": false,
     "start_time": "2022-11-07T12:09:05.386304",
     "status": "completed"
    },
    "tags": []
   },
   "source": [
    "sebanyak 49.758 (unique) customer tidak pernah transaksi sukses, sisanya yakni 50.242 customer (unique) pernah transaksi sukses"
   ]
  },
  {
   "cell_type": "markdown",
   "id": "7a7a804d",
   "metadata": {
    "papermill": {
     "duration": 0.014739,
     "end_time": "2022-11-07T12:09:05.430922",
     "exception": false,
     "start_time": "2022-11-07T12:09:05.416183",
     "status": "completed"
    },
    "tags": []
   },
   "source": [
    "## Cust trx"
   ]
  },
  {
   "cell_type": "code",
   "execution_count": 18,
   "id": "d83b7440",
   "metadata": {
    "execution": {
     "iopub.execute_input": "2022-11-07T12:09:05.462993Z",
     "iopub.status.busy": "2022-11-07T12:09:05.462489Z",
     "iopub.status.idle": "2022-11-07T12:09:05.629217Z",
     "shell.execute_reply": "2022-11-07T12:09:05.628029Z"
    },
    "papermill": {
     "duration": 0.185776,
     "end_time": "2022-11-07T12:09:05.631724",
     "exception": false,
     "start_time": "2022-11-07T12:09:05.445948",
     "status": "completed"
    },
    "tags": []
   },
   "outputs": [
    {
     "data": {
      "text/plain": [
       "(1201035, 3)"
      ]
     },
     "execution_count": 18,
     "metadata": {},
     "output_type": "execute_result"
    }
   ],
   "source": [
    "cust_trx2 = cust_trx[~cust_trx[\"created_at\"].isna()]\n",
    "cust_trx2.shape"
   ]
  },
  {
   "cell_type": "code",
   "execution_count": 19,
   "id": "9e8f4ae3",
   "metadata": {
    "execution": {
     "iopub.execute_input": "2022-11-07T12:09:05.664964Z",
     "iopub.status.busy": "2022-11-07T12:09:05.664530Z",
     "iopub.status.idle": "2022-11-07T12:09:05.678932Z",
     "shell.execute_reply": "2022-11-07T12:09:05.677549Z"
    },
    "papermill": {
     "duration": 0.034728,
     "end_time": "2022-11-07T12:09:05.681676",
     "exception": false,
     "start_time": "2022-11-07T12:09:05.646948",
     "status": "completed"
    },
    "tags": []
   },
   "outputs": [
    {
     "data": {
      "text/html": [
       "<div>\n",
       "<style scoped>\n",
       "    .dataframe tbody tr th:only-of-type {\n",
       "        vertical-align: middle;\n",
       "    }\n",
       "\n",
       "    .dataframe tbody tr th {\n",
       "        vertical-align: top;\n",
       "    }\n",
       "\n",
       "    .dataframe thead th {\n",
       "        text-align: right;\n",
       "    }\n",
       "</style>\n",
       "<table border=\"1\" class=\"dataframe\">\n",
       "  <thead>\n",
       "    <tr style=\"text-align: right;\">\n",
       "      <th></th>\n",
       "      <th>customer_id</th>\n",
       "      <th>first_join_date</th>\n",
       "      <th>created_at</th>\n",
       "    </tr>\n",
       "  </thead>\n",
       "  <tbody>\n",
       "    <tr>\n",
       "      <th>2</th>\n",
       "      <td>7279</td>\n",
       "      <td>2020-08</td>\n",
       "      <td>2020-08</td>\n",
       "    </tr>\n",
       "    <tr>\n",
       "      <th>3</th>\n",
       "      <td>7279</td>\n",
       "      <td>2020-08</td>\n",
       "      <td>2020-08</td>\n",
       "    </tr>\n",
       "    <tr>\n",
       "      <th>4</th>\n",
       "      <td>7279</td>\n",
       "      <td>2020-08</td>\n",
       "      <td>2020-08</td>\n",
       "    </tr>\n",
       "    <tr>\n",
       "      <th>5</th>\n",
       "      <td>7279</td>\n",
       "      <td>2020-08</td>\n",
       "      <td>2020-09</td>\n",
       "    </tr>\n",
       "    <tr>\n",
       "      <th>6</th>\n",
       "      <td>7279</td>\n",
       "      <td>2020-08</td>\n",
       "      <td>2020-09</td>\n",
       "    </tr>\n",
       "    <tr>\n",
       "      <th>...</th>\n",
       "      <td>...</td>\n",
       "      <td>...</td>\n",
       "      <td>...</td>\n",
       "    </tr>\n",
       "    <tr>\n",
       "      <th>1250788</th>\n",
       "      <td>40573</td>\n",
       "      <td>2021-07</td>\n",
       "      <td>2021-10</td>\n",
       "    </tr>\n",
       "    <tr>\n",
       "      <th>1250789</th>\n",
       "      <td>40573</td>\n",
       "      <td>2021-07</td>\n",
       "      <td>2022-01</td>\n",
       "    </tr>\n",
       "    <tr>\n",
       "      <th>1250790</th>\n",
       "      <td>40573</td>\n",
       "      <td>2021-07</td>\n",
       "      <td>2022-03</td>\n",
       "    </tr>\n",
       "    <tr>\n",
       "      <th>1250791</th>\n",
       "      <td>40573</td>\n",
       "      <td>2021-07</td>\n",
       "      <td>2022-04</td>\n",
       "    </tr>\n",
       "    <tr>\n",
       "      <th>1250792</th>\n",
       "      <td>40573</td>\n",
       "      <td>2021-07</td>\n",
       "      <td>2022-06</td>\n",
       "    </tr>\n",
       "  </tbody>\n",
       "</table>\n",
       "<p>1201035 rows × 3 columns</p>\n",
       "</div>"
      ],
      "text/plain": [
       "         customer_id first_join_date created_at\n",
       "2               7279         2020-08    2020-08\n",
       "3               7279         2020-08    2020-08\n",
       "4               7279         2020-08    2020-08\n",
       "5               7279         2020-08    2020-09\n",
       "6               7279         2020-08    2020-09\n",
       "...              ...             ...        ...\n",
       "1250788        40573         2021-07    2021-10\n",
       "1250789        40573         2021-07    2022-01\n",
       "1250790        40573         2021-07    2022-03\n",
       "1250791        40573         2021-07    2022-04\n",
       "1250792        40573         2021-07    2022-06\n",
       "\n",
       "[1201035 rows x 3 columns]"
      ]
     },
     "execution_count": 19,
     "metadata": {},
     "output_type": "execute_result"
    }
   ],
   "source": [
    "cust_trx2"
   ]
  },
  {
   "cell_type": "code",
   "execution_count": 20,
   "id": "f471f988",
   "metadata": {
    "execution": {
     "iopub.execute_input": "2022-11-07T12:09:05.715128Z",
     "iopub.status.busy": "2022-11-07T12:09:05.714688Z",
     "iopub.status.idle": "2022-11-07T12:09:06.292396Z",
     "shell.execute_reply": "2022-11-07T12:09:06.291188Z"
    },
    "papermill": {
     "duration": 0.597922,
     "end_time": "2022-11-07T12:09:06.295358",
     "exception": false,
     "start_time": "2022-11-07T12:09:05.697436",
     "status": "completed"
    },
    "tags": []
   },
   "outputs": [],
   "source": [
    "# groupkan berdasarkan customer_id dan created_at\n",
    "cust_trx4 = cust_trx2.groupby([\"customer_id\",\"created_at\"])['first_join_date'].first().reset_index()"
   ]
  },
  {
   "cell_type": "code",
   "execution_count": 21,
   "id": "4cc94727",
   "metadata": {
    "execution": {
     "iopub.execute_input": "2022-11-07T12:09:06.329678Z",
     "iopub.status.busy": "2022-11-07T12:09:06.329197Z",
     "iopub.status.idle": "2022-11-07T12:09:06.344447Z",
     "shell.execute_reply": "2022-11-07T12:09:06.343191Z"
    },
    "papermill": {
     "duration": 0.035208,
     "end_time": "2022-11-07T12:09:06.347018",
     "exception": false,
     "start_time": "2022-11-07T12:09:06.311810",
     "status": "completed"
    },
    "tags": []
   },
   "outputs": [
    {
     "data": {
      "text/html": [
       "<div>\n",
       "<style scoped>\n",
       "    .dataframe tbody tr th:only-of-type {\n",
       "        vertical-align: middle;\n",
       "    }\n",
       "\n",
       "    .dataframe tbody tr th {\n",
       "        vertical-align: top;\n",
       "    }\n",
       "\n",
       "    .dataframe thead th {\n",
       "        text-align: right;\n",
       "    }\n",
       "</style>\n",
       "<table border=\"1\" class=\"dataframe\">\n",
       "  <thead>\n",
       "    <tr style=\"text-align: right;\">\n",
       "      <th></th>\n",
       "      <th>customer_id</th>\n",
       "      <th>created_at</th>\n",
       "      <th>first_join_date</th>\n",
       "    </tr>\n",
       "  </thead>\n",
       "  <tbody>\n",
       "    <tr>\n",
       "      <th>0</th>\n",
       "      <td>3</td>\n",
       "      <td>2018-08</td>\n",
       "      <td>2018-08</td>\n",
       "    </tr>\n",
       "    <tr>\n",
       "      <th>1</th>\n",
       "      <td>3</td>\n",
       "      <td>2018-09</td>\n",
       "      <td>2018-08</td>\n",
       "    </tr>\n",
       "    <tr>\n",
       "      <th>2</th>\n",
       "      <td>3</td>\n",
       "      <td>2018-10</td>\n",
       "      <td>2018-08</td>\n",
       "    </tr>\n",
       "    <tr>\n",
       "      <th>3</th>\n",
       "      <td>3</td>\n",
       "      <td>2018-11</td>\n",
       "      <td>2018-08</td>\n",
       "    </tr>\n",
       "    <tr>\n",
       "      <th>4</th>\n",
       "      <td>3</td>\n",
       "      <td>2018-12</td>\n",
       "      <td>2018-08</td>\n",
       "    </tr>\n",
       "    <tr>\n",
       "      <th>...</th>\n",
       "      <td>...</td>\n",
       "      <td>...</td>\n",
       "      <td>...</td>\n",
       "    </tr>\n",
       "    <tr>\n",
       "      <th>565536</th>\n",
       "      <td>99998</td>\n",
       "      <td>2020-07</td>\n",
       "      <td>2018-07</td>\n",
       "    </tr>\n",
       "    <tr>\n",
       "      <th>565537</th>\n",
       "      <td>99998</td>\n",
       "      <td>2021-01</td>\n",
       "      <td>2018-07</td>\n",
       "    </tr>\n",
       "    <tr>\n",
       "      <th>565538</th>\n",
       "      <td>99998</td>\n",
       "      <td>2021-07</td>\n",
       "      <td>2018-07</td>\n",
       "    </tr>\n",
       "    <tr>\n",
       "      <th>565539</th>\n",
       "      <td>99998</td>\n",
       "      <td>2022-01</td>\n",
       "      <td>2018-07</td>\n",
       "    </tr>\n",
       "    <tr>\n",
       "      <th>565540</th>\n",
       "      <td>99999</td>\n",
       "      <td>2016-10</td>\n",
       "      <td>2016-10</td>\n",
       "    </tr>\n",
       "  </tbody>\n",
       "</table>\n",
       "<p>565541 rows × 3 columns</p>\n",
       "</div>"
      ],
      "text/plain": [
       "        customer_id created_at first_join_date\n",
       "0                 3    2018-08         2018-08\n",
       "1                 3    2018-09         2018-08\n",
       "2                 3    2018-10         2018-08\n",
       "3                 3    2018-11         2018-08\n",
       "4                 3    2018-12         2018-08\n",
       "...             ...        ...             ...\n",
       "565536        99998    2020-07         2018-07\n",
       "565537        99998    2021-01         2018-07\n",
       "565538        99998    2021-07         2018-07\n",
       "565539        99998    2022-01         2018-07\n",
       "565540        99999    2016-10         2016-10\n",
       "\n",
       "[565541 rows x 3 columns]"
      ]
     },
     "execution_count": 21,
     "metadata": {},
     "output_type": "execute_result"
    }
   ],
   "source": [
    "cust_trx4"
   ]
  },
  {
   "cell_type": "code",
   "execution_count": 22,
   "id": "1a3fc432",
   "metadata": {
    "execution": {
     "iopub.execute_input": "2022-11-07T12:09:06.381014Z",
     "iopub.status.busy": "2022-11-07T12:09:06.380590Z",
     "iopub.status.idle": "2022-11-07T12:09:06.462386Z",
     "shell.execute_reply": "2022-11-07T12:09:06.461041Z"
    },
    "papermill": {
     "duration": 0.102092,
     "end_time": "2022-11-07T12:09:06.465510",
     "exception": false,
     "start_time": "2022-11-07T12:09:06.363418",
     "status": "completed"
    },
    "tags": []
   },
   "outputs": [],
   "source": [
    "cust_trx4[\"created_at\"] = pd.to_datetime(cust_trx4[\"created_at\"])"
   ]
  },
  {
   "cell_type": "code",
   "execution_count": 23,
   "id": "adad873b",
   "metadata": {
    "execution": {
     "iopub.execute_input": "2022-11-07T12:09:06.498784Z",
     "iopub.status.busy": "2022-11-07T12:09:06.498362Z",
     "iopub.status.idle": "2022-11-07T12:10:51.274445Z",
     "shell.execute_reply": "2022-11-07T12:10:51.272796Z"
    },
    "papermill": {
     "duration": 104.79699,
     "end_time": "2022-11-07T12:10:51.278319",
     "exception": false,
     "start_time": "2022-11-07T12:09:06.481329",
     "status": "completed"
    },
    "tags": []
   },
   "outputs": [],
   "source": [
    "size = cust_trx4.shape[0]\n",
    "#temp = pd.DataFrame(columns=['A'])\n",
    "a = []\n",
    "for i in range (size-1) :\n",
    "    # jika nilai pada baris ke i di kolom ke 0 == nilai pada baris selanjutnya kolom ke 0 (merupakan cust yg sama)\n",
    "    if cust_trx4.iloc[i,0] == cust_trx4.iloc[i+1,0] :\n",
    "        # maka (created_at pada bulan next - created_at pd bulan before) dibagi 1 bulan\n",
    "        # ini untuk mencari jarak bulan transaksi sukses selanjutnya\n",
    "        a.append((cust_trx4.iloc[i+1,1] - cust_trx4.iloc[i,1])/np.timedelta64(1,'M'))\n",
    "    # jika nilai pada baris ke i di kolom ke 0 != nilai pada baris selanjutnya kolom ke 0 (merupakan cust yg berbeda)\n",
    "    else :\n",
    "        # maka (created_at pada bulan now - created_at pd bulan now) dibagi 1 bulan\n",
    "        # alias hasilnya 0, alias itu transaksi terakhir si cust tsb, atau bisa jd dia cuma transaksi sekali\n",
    "        a.append((cust_trx4.iloc[i,1] - cust_trx4.iloc[i,1])/np.timedelta64(1,'M'))"
   ]
  },
  {
   "cell_type": "code",
   "execution_count": 24,
   "id": "9690273f",
   "metadata": {
    "execution": {
     "iopub.execute_input": "2022-11-07T12:10:51.312476Z",
     "iopub.status.busy": "2022-11-07T12:10:51.312038Z",
     "iopub.status.idle": "2022-11-07T12:10:51.390395Z",
     "shell.execute_reply": "2022-11-07T12:10:51.389052Z"
    },
    "papermill": {
     "duration": 0.097968,
     "end_time": "2022-11-07T12:10:51.393095",
     "exception": false,
     "start_time": "2022-11-07T12:10:51.295127",
     "status": "completed"
    },
    "tags": []
   },
   "outputs": [
    {
     "data": {
      "text/html": [
       "<div>\n",
       "<style scoped>\n",
       "    .dataframe tbody tr th:only-of-type {\n",
       "        vertical-align: middle;\n",
       "    }\n",
       "\n",
       "    .dataframe tbody tr th {\n",
       "        vertical-align: top;\n",
       "    }\n",
       "\n",
       "    .dataframe thead th {\n",
       "        text-align: right;\n",
       "    }\n",
       "</style>\n",
       "<table border=\"1\" class=\"dataframe\">\n",
       "  <thead>\n",
       "    <tr style=\"text-align: right;\">\n",
       "      <th></th>\n",
       "      <th>diff</th>\n",
       "    </tr>\n",
       "  </thead>\n",
       "  <tbody>\n",
       "    <tr>\n",
       "      <th>0</th>\n",
       "      <td>1.0</td>\n",
       "    </tr>\n",
       "    <tr>\n",
       "      <th>1</th>\n",
       "      <td>1.0</td>\n",
       "    </tr>\n",
       "    <tr>\n",
       "      <th>2</th>\n",
       "      <td>1.0</td>\n",
       "    </tr>\n",
       "    <tr>\n",
       "      <th>3</th>\n",
       "      <td>1.0</td>\n",
       "    </tr>\n",
       "    <tr>\n",
       "      <th>4</th>\n",
       "      <td>2.0</td>\n",
       "    </tr>\n",
       "  </tbody>\n",
       "</table>\n",
       "</div>"
      ],
      "text/plain": [
       "   diff\n",
       "0   1.0\n",
       "1   1.0\n",
       "2   1.0\n",
       "3   1.0\n",
       "4   2.0"
      ]
     },
     "execution_count": 24,
     "metadata": {},
     "output_type": "execute_result"
    }
   ],
   "source": [
    "diff = pd.DataFrame(a, columns = [\"diff\"])\n",
    "diff = round(diff)\n",
    "diff.head()"
   ]
  },
  {
   "cell_type": "code",
   "execution_count": 25,
   "id": "bb524292",
   "metadata": {
    "execution": {
     "iopub.execute_input": "2022-11-07T12:10:51.426446Z",
     "iopub.status.busy": "2022-11-07T12:10:51.425963Z",
     "iopub.status.idle": "2022-11-07T12:10:51.486344Z",
     "shell.execute_reply": "2022-11-07T12:10:51.485013Z"
    },
    "papermill": {
     "duration": 0.080437,
     "end_time": "2022-11-07T12:10:51.489298",
     "exception": false,
     "start_time": "2022-11-07T12:10:51.408861",
     "status": "completed"
    },
    "tags": []
   },
   "outputs": [
    {
     "data": {
      "text/html": [
       "<div>\n",
       "<style scoped>\n",
       "    .dataframe tbody tr th:only-of-type {\n",
       "        vertical-align: middle;\n",
       "    }\n",
       "\n",
       "    .dataframe tbody tr th {\n",
       "        vertical-align: top;\n",
       "    }\n",
       "\n",
       "    .dataframe thead th {\n",
       "        text-align: right;\n",
       "    }\n",
       "</style>\n",
       "<table border=\"1\" class=\"dataframe\">\n",
       "  <thead>\n",
       "    <tr style=\"text-align: right;\">\n",
       "      <th></th>\n",
       "      <th>customer_id</th>\n",
       "      <th>created_at</th>\n",
       "      <th>first_join_date</th>\n",
       "      <th>diff</th>\n",
       "    </tr>\n",
       "  </thead>\n",
       "  <tbody>\n",
       "    <tr>\n",
       "      <th>0</th>\n",
       "      <td>3</td>\n",
       "      <td>2018-08-01</td>\n",
       "      <td>2018-08</td>\n",
       "      <td>1.0</td>\n",
       "    </tr>\n",
       "    <tr>\n",
       "      <th>1</th>\n",
       "      <td>3</td>\n",
       "      <td>2018-09-01</td>\n",
       "      <td>2018-08</td>\n",
       "      <td>1.0</td>\n",
       "    </tr>\n",
       "    <tr>\n",
       "      <th>2</th>\n",
       "      <td>3</td>\n",
       "      <td>2018-10-01</td>\n",
       "      <td>2018-08</td>\n",
       "      <td>1.0</td>\n",
       "    </tr>\n",
       "    <tr>\n",
       "      <th>3</th>\n",
       "      <td>3</td>\n",
       "      <td>2018-11-01</td>\n",
       "      <td>2018-08</td>\n",
       "      <td>1.0</td>\n",
       "    </tr>\n",
       "    <tr>\n",
       "      <th>4</th>\n",
       "      <td>3</td>\n",
       "      <td>2018-12-01</td>\n",
       "      <td>2018-08</td>\n",
       "      <td>2.0</td>\n",
       "    </tr>\n",
       "    <tr>\n",
       "      <th>...</th>\n",
       "      <td>...</td>\n",
       "      <td>...</td>\n",
       "      <td>...</td>\n",
       "      <td>...</td>\n",
       "    </tr>\n",
       "    <tr>\n",
       "      <th>565536</th>\n",
       "      <td>99998</td>\n",
       "      <td>2020-07-01</td>\n",
       "      <td>2018-07</td>\n",
       "      <td>6.0</td>\n",
       "    </tr>\n",
       "    <tr>\n",
       "      <th>565537</th>\n",
       "      <td>99998</td>\n",
       "      <td>2021-01-01</td>\n",
       "      <td>2018-07</td>\n",
       "      <td>6.0</td>\n",
       "    </tr>\n",
       "    <tr>\n",
       "      <th>565538</th>\n",
       "      <td>99998</td>\n",
       "      <td>2021-07-01</td>\n",
       "      <td>2018-07</td>\n",
       "      <td>6.0</td>\n",
       "    </tr>\n",
       "    <tr>\n",
       "      <th>565539</th>\n",
       "      <td>99998</td>\n",
       "      <td>2022-01-01</td>\n",
       "      <td>2018-07</td>\n",
       "      <td>0.0</td>\n",
       "    </tr>\n",
       "    <tr>\n",
       "      <th>565540</th>\n",
       "      <td>99999</td>\n",
       "      <td>2016-10-01</td>\n",
       "      <td>2016-10</td>\n",
       "      <td>0.0</td>\n",
       "    </tr>\n",
       "  </tbody>\n",
       "</table>\n",
       "<p>565541 rows × 4 columns</p>\n",
       "</div>"
      ],
      "text/plain": [
       "        customer_id created_at first_join_date  diff\n",
       "0                 3 2018-08-01         2018-08   1.0\n",
       "1                 3 2018-09-01         2018-08   1.0\n",
       "2                 3 2018-10-01         2018-08   1.0\n",
       "3                 3 2018-11-01         2018-08   1.0\n",
       "4                 3 2018-12-01         2018-08   2.0\n",
       "...             ...        ...             ...   ...\n",
       "565536        99998 2020-07-01         2018-07   6.0\n",
       "565537        99998 2021-01-01         2018-07   6.0\n",
       "565538        99998 2021-07-01         2018-07   6.0\n",
       "565539        99998 2022-01-01         2018-07   0.0\n",
       "565540        99999 2016-10-01         2016-10   0.0\n",
       "\n",
       "[565541 rows x 4 columns]"
      ]
     },
     "execution_count": 25,
     "metadata": {},
     "output_type": "execute_result"
    }
   ],
   "source": [
    "# langsung aja concat kalo emang jumlah rowsnya sama dan yakin dia emang seharusnya ada di row itu\n",
    "\n",
    "cust_trx5 = pd.concat([cust_trx4, diff], axis=1)\n",
    "cust_trx5[\"diff\"] = cust_trx5[\"diff\"].fillna(0)\n",
    "cust_trx5"
   ]
  },
  {
   "cell_type": "markdown",
   "id": "c061f197",
   "metadata": {
    "papermill": {
     "duration": 0.016576,
     "end_time": "2022-11-07T12:10:51.522157",
     "exception": false,
     "start_time": "2022-11-07T12:10:51.505581",
     "status": "completed"
    },
    "tags": []
   },
   "source": [
    "disini, 1 berati jarak antara transaksi bulan sekarang dengan transaksi selanjutnya, berjarak 1 bulan. kalo 0 berati dah gada transaksi lagi (ga dipake), kalo 2,3dst berati ya jarak antara transaksi bulan ini dgn transaksi selanjutnya berjarak sesuai angka itu (churn)"
   ]
  },
  {
   "cell_type": "code",
   "execution_count": 26,
   "id": "b58a4098",
   "metadata": {
    "execution": {
     "iopub.execute_input": "2022-11-07T12:10:51.556084Z",
     "iopub.status.busy": "2022-11-07T12:10:51.555606Z",
     "iopub.status.idle": "2022-11-07T12:11:00.305705Z",
     "shell.execute_reply": "2022-11-07T12:11:00.304712Z"
    },
    "papermill": {
     "duration": 8.770343,
     "end_time": "2022-11-07T12:11:00.308516",
     "exception": false,
     "start_time": "2022-11-07T12:10:51.538173",
     "status": "completed"
    },
    "tags": []
   },
   "outputs": [],
   "source": [
    "def renovated(df) : \n",
    "    if df[\"diff\"] == 1 : \n",
    "        return 0\n",
    "    elif df[\"diff\"] == 0 :\n",
    "        return 2\n",
    "    else :\n",
    "        return 1\n",
    "\n",
    "    \n",
    "cust_trx5[\"flagging\"] = cust_trx5.apply(renovated, axis =1 )"
   ]
  },
  {
   "cell_type": "markdown",
   "id": "95ba80a5",
   "metadata": {
    "papermill": {
     "duration": 0.0162,
     "end_time": "2022-11-07T12:11:00.341083",
     "exception": false,
     "start_time": "2022-11-07T12:11:00.324883",
     "status": "completed"
    },
    "tags": []
   },
   "source": [
    "disni berati, ketika jarak transaksi sekarang dgn selanjutnya adalah 1 bulan, dia akan dilabeli 0, maka dia terhitung transaksi rutin. kalo jaraknya 0 bulan, dia akan dilabeli 2, dan ketika jarak ke transaksi selanjutnya adalah di atas 1 bulan, dia akan dilabeli 1 (churn)"
   ]
  },
  {
   "cell_type": "code",
   "execution_count": 27,
   "id": "3be7d3d8",
   "metadata": {
    "execution": {
     "iopub.execute_input": "2022-11-07T12:11:00.374425Z",
     "iopub.status.busy": "2022-11-07T12:11:00.373984Z",
     "iopub.status.idle": "2022-11-07T12:11:00.390101Z",
     "shell.execute_reply": "2022-11-07T12:11:00.389293Z"
    },
    "papermill": {
     "duration": 0.035489,
     "end_time": "2022-11-07T12:11:00.392223",
     "exception": false,
     "start_time": "2022-11-07T12:11:00.356734",
     "status": "completed"
    },
    "tags": []
   },
   "outputs": [
    {
     "data": {
      "text/html": [
       "<div>\n",
       "<style scoped>\n",
       "    .dataframe tbody tr th:only-of-type {\n",
       "        vertical-align: middle;\n",
       "    }\n",
       "\n",
       "    .dataframe tbody tr th {\n",
       "        vertical-align: top;\n",
       "    }\n",
       "\n",
       "    .dataframe thead th {\n",
       "        text-align: right;\n",
       "    }\n",
       "</style>\n",
       "<table border=\"1\" class=\"dataframe\">\n",
       "  <thead>\n",
       "    <tr style=\"text-align: right;\">\n",
       "      <th></th>\n",
       "      <th>customer_id</th>\n",
       "      <th>created_at</th>\n",
       "      <th>first_join_date</th>\n",
       "      <th>diff</th>\n",
       "      <th>flagging</th>\n",
       "    </tr>\n",
       "  </thead>\n",
       "  <tbody>\n",
       "    <tr>\n",
       "      <th>0</th>\n",
       "      <td>3</td>\n",
       "      <td>2018-08-01</td>\n",
       "      <td>2018-08</td>\n",
       "      <td>1.0</td>\n",
       "      <td>0</td>\n",
       "    </tr>\n",
       "    <tr>\n",
       "      <th>1</th>\n",
       "      <td>3</td>\n",
       "      <td>2018-09-01</td>\n",
       "      <td>2018-08</td>\n",
       "      <td>1.0</td>\n",
       "      <td>0</td>\n",
       "    </tr>\n",
       "    <tr>\n",
       "      <th>2</th>\n",
       "      <td>3</td>\n",
       "      <td>2018-10-01</td>\n",
       "      <td>2018-08</td>\n",
       "      <td>1.0</td>\n",
       "      <td>0</td>\n",
       "    </tr>\n",
       "    <tr>\n",
       "      <th>3</th>\n",
       "      <td>3</td>\n",
       "      <td>2018-11-01</td>\n",
       "      <td>2018-08</td>\n",
       "      <td>1.0</td>\n",
       "      <td>0</td>\n",
       "    </tr>\n",
       "    <tr>\n",
       "      <th>4</th>\n",
       "      <td>3</td>\n",
       "      <td>2018-12-01</td>\n",
       "      <td>2018-08</td>\n",
       "      <td>2.0</td>\n",
       "      <td>1</td>\n",
       "    </tr>\n",
       "    <tr>\n",
       "      <th>...</th>\n",
       "      <td>...</td>\n",
       "      <td>...</td>\n",
       "      <td>...</td>\n",
       "      <td>...</td>\n",
       "      <td>...</td>\n",
       "    </tr>\n",
       "    <tr>\n",
       "      <th>565536</th>\n",
       "      <td>99998</td>\n",
       "      <td>2020-07-01</td>\n",
       "      <td>2018-07</td>\n",
       "      <td>6.0</td>\n",
       "      <td>1</td>\n",
       "    </tr>\n",
       "    <tr>\n",
       "      <th>565537</th>\n",
       "      <td>99998</td>\n",
       "      <td>2021-01-01</td>\n",
       "      <td>2018-07</td>\n",
       "      <td>6.0</td>\n",
       "      <td>1</td>\n",
       "    </tr>\n",
       "    <tr>\n",
       "      <th>565538</th>\n",
       "      <td>99998</td>\n",
       "      <td>2021-07-01</td>\n",
       "      <td>2018-07</td>\n",
       "      <td>6.0</td>\n",
       "      <td>1</td>\n",
       "    </tr>\n",
       "    <tr>\n",
       "      <th>565539</th>\n",
       "      <td>99998</td>\n",
       "      <td>2022-01-01</td>\n",
       "      <td>2018-07</td>\n",
       "      <td>0.0</td>\n",
       "      <td>2</td>\n",
       "    </tr>\n",
       "    <tr>\n",
       "      <th>565540</th>\n",
       "      <td>99999</td>\n",
       "      <td>2016-10-01</td>\n",
       "      <td>2016-10</td>\n",
       "      <td>0.0</td>\n",
       "      <td>2</td>\n",
       "    </tr>\n",
       "  </tbody>\n",
       "</table>\n",
       "<p>565541 rows × 5 columns</p>\n",
       "</div>"
      ],
      "text/plain": [
       "        customer_id created_at first_join_date  diff  flagging\n",
       "0                 3 2018-08-01         2018-08   1.0         0\n",
       "1                 3 2018-09-01         2018-08   1.0         0\n",
       "2                 3 2018-10-01         2018-08   1.0         0\n",
       "3                 3 2018-11-01         2018-08   1.0         0\n",
       "4                 3 2018-12-01         2018-08   2.0         1\n",
       "...             ...        ...             ...   ...       ...\n",
       "565536        99998 2020-07-01         2018-07   6.0         1\n",
       "565537        99998 2021-01-01         2018-07   6.0         1\n",
       "565538        99998 2021-07-01         2018-07   6.0         1\n",
       "565539        99998 2022-01-01         2018-07   0.0         2\n",
       "565540        99999 2016-10-01         2016-10   0.0         2\n",
       "\n",
       "[565541 rows x 5 columns]"
      ]
     },
     "execution_count": 27,
     "metadata": {},
     "output_type": "execute_result"
    }
   ],
   "source": [
    "cust_trx5"
   ]
  },
  {
   "cell_type": "code",
   "execution_count": 28,
   "id": "2f0ae670",
   "metadata": {
    "execution": {
     "iopub.execute_input": "2022-11-07T12:11:00.427066Z",
     "iopub.status.busy": "2022-11-07T12:11:00.426285Z",
     "iopub.status.idle": "2022-11-07T12:11:00.522558Z",
     "shell.execute_reply": "2022-11-07T12:11:00.521617Z"
    },
    "papermill": {
     "duration": 0.116567,
     "end_time": "2022-11-07T12:11:00.524945",
     "exception": false,
     "start_time": "2022-11-07T12:11:00.408378",
     "status": "completed"
    },
    "tags": []
   },
   "outputs": [
    {
     "data": {
      "text/html": [
       "<div>\n",
       "<style scoped>\n",
       "    .dataframe tbody tr th:only-of-type {\n",
       "        vertical-align: middle;\n",
       "    }\n",
       "\n",
       "    .dataframe tbody tr th {\n",
       "        vertical-align: top;\n",
       "    }\n",
       "\n",
       "    .dataframe thead th {\n",
       "        text-align: right;\n",
       "    }\n",
       "</style>\n",
       "<table border=\"1\" class=\"dataframe\">\n",
       "  <thead>\n",
       "    <tr style=\"text-align: right;\">\n",
       "      <th></th>\n",
       "      <th>customer_id</th>\n",
       "      <th>created_at</th>\n",
       "      <th>first_join_date</th>\n",
       "      <th>flagging</th>\n",
       "    </tr>\n",
       "  </thead>\n",
       "  <tbody>\n",
       "    <tr>\n",
       "      <th>0</th>\n",
       "      <td>3</td>\n",
       "      <td>2018-08-01</td>\n",
       "      <td>2018-08</td>\n",
       "      <td>0</td>\n",
       "    </tr>\n",
       "    <tr>\n",
       "      <th>1</th>\n",
       "      <td>3</td>\n",
       "      <td>2018-09-01</td>\n",
       "      <td>2018-08</td>\n",
       "      <td>0</td>\n",
       "    </tr>\n",
       "    <tr>\n",
       "      <th>2</th>\n",
       "      <td>3</td>\n",
       "      <td>2018-10-01</td>\n",
       "      <td>2018-08</td>\n",
       "      <td>0</td>\n",
       "    </tr>\n",
       "    <tr>\n",
       "      <th>3</th>\n",
       "      <td>3</td>\n",
       "      <td>2018-11-01</td>\n",
       "      <td>2018-08</td>\n",
       "      <td>0</td>\n",
       "    </tr>\n",
       "    <tr>\n",
       "      <th>4</th>\n",
       "      <td>3</td>\n",
       "      <td>2018-12-01</td>\n",
       "      <td>2018-08</td>\n",
       "      <td>1</td>\n",
       "    </tr>\n",
       "    <tr>\n",
       "      <th>...</th>\n",
       "      <td>...</td>\n",
       "      <td>...</td>\n",
       "      <td>...</td>\n",
       "      <td>...</td>\n",
       "    </tr>\n",
       "    <tr>\n",
       "      <th>565534</th>\n",
       "      <td>99998</td>\n",
       "      <td>2019-07-01</td>\n",
       "      <td>2018-07</td>\n",
       "      <td>1</td>\n",
       "    </tr>\n",
       "    <tr>\n",
       "      <th>565535</th>\n",
       "      <td>99998</td>\n",
       "      <td>2020-01-01</td>\n",
       "      <td>2018-07</td>\n",
       "      <td>1</td>\n",
       "    </tr>\n",
       "    <tr>\n",
       "      <th>565536</th>\n",
       "      <td>99998</td>\n",
       "      <td>2020-07-01</td>\n",
       "      <td>2018-07</td>\n",
       "      <td>1</td>\n",
       "    </tr>\n",
       "    <tr>\n",
       "      <th>565537</th>\n",
       "      <td>99998</td>\n",
       "      <td>2021-01-01</td>\n",
       "      <td>2018-07</td>\n",
       "      <td>1</td>\n",
       "    </tr>\n",
       "    <tr>\n",
       "      <th>565538</th>\n",
       "      <td>99998</td>\n",
       "      <td>2021-07-01</td>\n",
       "      <td>2018-07</td>\n",
       "      <td>1</td>\n",
       "    </tr>\n",
       "  </tbody>\n",
       "</table>\n",
       "<p>515299 rows × 4 columns</p>\n",
       "</div>"
      ],
      "text/plain": [
       "        customer_id created_at first_join_date  flagging\n",
       "0                 3 2018-08-01         2018-08         0\n",
       "1                 3 2018-09-01         2018-08         0\n",
       "2                 3 2018-10-01         2018-08         0\n",
       "3                 3 2018-11-01         2018-08         0\n",
       "4                 3 2018-12-01         2018-08         1\n",
       "...             ...        ...             ...       ...\n",
       "565534        99998 2019-07-01         2018-07         1\n",
       "565535        99998 2020-01-01         2018-07         1\n",
       "565536        99998 2020-07-01         2018-07         1\n",
       "565537        99998 2021-01-01         2018-07         1\n",
       "565538        99998 2021-07-01         2018-07         1\n",
       "\n",
       "[515299 rows x 4 columns]"
      ]
     },
     "execution_count": 28,
     "metadata": {},
     "output_type": "execute_result"
    }
   ],
   "source": [
    "final_flagging = cust_trx5[cust_trx5[\"flagging\"] <= 1].drop(columns=['diff'])\n",
    "final_flagging"
   ]
  },
  {
   "cell_type": "markdown",
   "id": "1cbe8d4d",
   "metadata": {
    "papermill": {
     "duration": 0.016001,
     "end_time": "2022-11-07T12:11:00.557638",
     "exception": false,
     "start_time": "2022-11-07T12:11:00.541637",
     "status": "completed"
    },
    "tags": []
   },
   "source": [
    "nah disini, yang label 2 di drop, yang mana jika cust tsb cuma trans sekali selama ini atau itu adalah transaksi terakhirnya, maka dia tidak akan diikutkan ke dalam pembuatan untuk feature"
   ]
  },
  {
   "cell_type": "code",
   "execution_count": 29,
   "id": "1ae5f284",
   "metadata": {
    "execution": {
     "iopub.execute_input": "2022-11-07T12:11:00.592898Z",
     "iopub.status.busy": "2022-11-07T12:11:00.592173Z",
     "iopub.status.idle": "2022-11-07T12:11:00.605497Z",
     "shell.execute_reply": "2022-11-07T12:11:00.604274Z"
    },
    "papermill": {
     "duration": 0.033976,
     "end_time": "2022-11-07T12:11:00.608079",
     "exception": false,
     "start_time": "2022-11-07T12:11:00.574103",
     "status": "completed"
    },
    "tags": []
   },
   "outputs": [
    {
     "data": {
      "text/plain": [
       "0    0.620106\n",
       "1    0.379894\n",
       "Name: flagging, dtype: float64"
      ]
     },
     "execution_count": 29,
     "metadata": {},
     "output_type": "execute_result"
    }
   ],
   "source": [
    "final_flagging[\"flagging\"].value_counts(normalize = True)"
   ]
  },
  {
   "cell_type": "markdown",
   "id": "4eed4b7a",
   "metadata": {
    "papermill": {
     "duration": 0.016123,
     "end_time": "2022-11-07T12:11:00.640795",
     "exception": false,
     "start_time": "2022-11-07T12:11:00.624672",
     "status": "completed"
    },
    "tags": []
   },
   "source": [
    "- 1 adalah nasabah churn\n",
    "- 0 adalah nasabah yang trx rutin"
   ]
  },
  {
   "cell_type": "markdown",
   "id": "6f4f18c9",
   "metadata": {
    "papermill": {
     "duration": 0.016283,
     "end_time": "2022-11-07T12:11:00.673679",
     "exception": false,
     "start_time": "2022-11-07T12:11:00.657396",
     "status": "completed"
    },
    "tags": []
   },
   "source": [
    "# Feature Engineering"
   ]
  },
  {
   "cell_type": "markdown",
   "id": "d8e7ffc9",
   "metadata": {
    "papermill": {
     "duration": 0.016182,
     "end_time": "2022-11-07T12:11:00.706438",
     "exception": false,
     "start_time": "2022-11-07T12:11:00.690256",
     "status": "completed"
    },
    "tags": []
   },
   "source": [
    "## Traffic Source"
   ]
  },
  {
   "cell_type": "code",
   "execution_count": 30,
   "id": "ef34455a",
   "metadata": {
    "execution": {
     "iopub.execute_input": "2022-11-07T12:11:00.741757Z",
     "iopub.status.busy": "2022-11-07T12:11:00.741251Z",
     "iopub.status.idle": "2022-11-07T12:11:10.784106Z",
     "shell.execute_reply": "2022-11-07T12:11:10.782956Z"
    },
    "papermill": {
     "duration": 10.06389,
     "end_time": "2022-11-07T12:11:10.786785",
     "exception": false,
     "start_time": "2022-11-07T12:11:00.722895",
     "status": "completed"
    },
    "tags": []
   },
   "outputs": [],
   "source": [
    "# ini karena masing2 device pasti punya sessionnya masing-masing. tidak mungkin device yang berbeda\n",
    "# memiliki session_id yang sama\n",
    "\n",
    "click_traffic = click.groupby(['session_id'])[['traffic_source']].first().reset_index()"
   ]
  },
  {
   "cell_type": "code",
   "execution_count": 31,
   "id": "b3ba8808",
   "metadata": {
    "execution": {
     "iopub.execute_input": "2022-11-07T12:11:10.823223Z",
     "iopub.status.busy": "2022-11-07T12:11:10.822571Z",
     "iopub.status.idle": "2022-11-07T12:11:10.834101Z",
     "shell.execute_reply": "2022-11-07T12:11:10.833206Z"
    },
    "papermill": {
     "duration": 0.032729,
     "end_time": "2022-11-07T12:11:10.836359",
     "exception": false,
     "start_time": "2022-11-07T12:11:10.803630",
     "status": "completed"
    },
    "tags": []
   },
   "outputs": [
    {
     "data": {
      "text/html": [
       "<div>\n",
       "<style scoped>\n",
       "    .dataframe tbody tr th:only-of-type {\n",
       "        vertical-align: middle;\n",
       "    }\n",
       "\n",
       "    .dataframe tbody tr th {\n",
       "        vertical-align: top;\n",
       "    }\n",
       "\n",
       "    .dataframe thead th {\n",
       "        text-align: right;\n",
       "    }\n",
       "</style>\n",
       "<table border=\"1\" class=\"dataframe\">\n",
       "  <thead>\n",
       "    <tr style=\"text-align: right;\">\n",
       "      <th></th>\n",
       "      <th>session_id</th>\n",
       "      <th>traffic_source</th>\n",
       "    </tr>\n",
       "  </thead>\n",
       "  <tbody>\n",
       "    <tr>\n",
       "      <th>0</th>\n",
       "      <td>00001f29-3ede-4445-95f0-0178934e32ba</td>\n",
       "      <td>MOBILE</td>\n",
       "    </tr>\n",
       "    <tr>\n",
       "      <th>1</th>\n",
       "      <td>00003eca-954b-4150-aee1-63fc62f395cf</td>\n",
       "      <td>MOBILE</td>\n",
       "    </tr>\n",
       "    <tr>\n",
       "      <th>2</th>\n",
       "      <td>0000425b-ddc8-4459-a240-6ba814dac132</td>\n",
       "      <td>MOBILE</td>\n",
       "    </tr>\n",
       "    <tr>\n",
       "      <th>3</th>\n",
       "      <td>00005746-17ec-449c-9c5c-699a3ea9304a</td>\n",
       "      <td>MOBILE</td>\n",
       "    </tr>\n",
       "    <tr>\n",
       "      <th>4</th>\n",
       "      <td>0000649b-9514-4600-979b-42166a798996</td>\n",
       "      <td>MOBILE</td>\n",
       "    </tr>\n",
       "    <tr>\n",
       "      <th>...</th>\n",
       "      <td>...</td>\n",
       "      <td>...</td>\n",
       "    </tr>\n",
       "    <tr>\n",
       "      <th>895198</th>\n",
       "      <td>ffffce53-1ba7-4d7d-a14a-ffa7079cfbff</td>\n",
       "      <td>WEB</td>\n",
       "    </tr>\n",
       "    <tr>\n",
       "      <th>895199</th>\n",
       "      <td>ffffd3d9-79db-459e-a427-388204a7aac7</td>\n",
       "      <td>MOBILE</td>\n",
       "    </tr>\n",
       "    <tr>\n",
       "      <th>895200</th>\n",
       "      <td>ffffdf8e-dea1-42bc-9839-7662675c0d38</td>\n",
       "      <td>MOBILE</td>\n",
       "    </tr>\n",
       "    <tr>\n",
       "      <th>895201</th>\n",
       "      <td>fffff7cf-2a18-4303-9c12-aa836ae3b543</td>\n",
       "      <td>MOBILE</td>\n",
       "    </tr>\n",
       "    <tr>\n",
       "      <th>895202</th>\n",
       "      <td>fffffaf6-55ee-428b-a3bf-075cd7f1a093</td>\n",
       "      <td>MOBILE</td>\n",
       "    </tr>\n",
       "  </tbody>\n",
       "</table>\n",
       "<p>895203 rows × 2 columns</p>\n",
       "</div>"
      ],
      "text/plain": [
       "                                  session_id traffic_source\n",
       "0       00001f29-3ede-4445-95f0-0178934e32ba         MOBILE\n",
       "1       00003eca-954b-4150-aee1-63fc62f395cf         MOBILE\n",
       "2       0000425b-ddc8-4459-a240-6ba814dac132         MOBILE\n",
       "3       00005746-17ec-449c-9c5c-699a3ea9304a         MOBILE\n",
       "4       0000649b-9514-4600-979b-42166a798996         MOBILE\n",
       "...                                      ...            ...\n",
       "895198  ffffce53-1ba7-4d7d-a14a-ffa7079cfbff            WEB\n",
       "895199  ffffd3d9-79db-459e-a427-388204a7aac7         MOBILE\n",
       "895200  ffffdf8e-dea1-42bc-9839-7662675c0d38         MOBILE\n",
       "895201  fffff7cf-2a18-4303-9c12-aa836ae3b543         MOBILE\n",
       "895202  fffffaf6-55ee-428b-a3bf-075cd7f1a093         MOBILE\n",
       "\n",
       "[895203 rows x 2 columns]"
      ]
     },
     "execution_count": 31,
     "metadata": {},
     "output_type": "execute_result"
    }
   ],
   "source": [
    "click_traffic"
   ]
  },
  {
   "cell_type": "code",
   "execution_count": 32,
   "id": "9a935ad6",
   "metadata": {
    "execution": {
     "iopub.execute_input": "2022-11-07T12:11:10.872917Z",
     "iopub.status.busy": "2022-11-07T12:11:10.872266Z",
     "iopub.status.idle": "2022-11-07T12:11:20.859833Z",
     "shell.execute_reply": "2022-11-07T12:11:20.858441Z"
    },
    "papermill": {
     "duration": 10.00918,
     "end_time": "2022-11-07T12:11:20.862776",
     "exception": false,
     "start_time": "2022-11-07T12:11:10.853596",
     "status": "completed"
    },
    "tags": []
   },
   "outputs": [],
   "source": [
    "trx_click = pd.merge(trx2[['created_at','customer_id','session_id']], click_traffic[['session_id','traffic_source']], on='session_id')\n",
    "\n",
    "trx_click['created_at'] = pd.to_datetime(trx_click[\"created_at\"])\n",
    "trx_click['created_at'] = trx_click['created_at'].dt.strftime('%Y-%m')\n",
    "trx_click['created_at'] = pd.to_datetime(trx_click[\"created_at\"])\n",
    "\n",
    "trx_click2 = trx_click.groupby(['customer_id','created_at','traffic_source']).count().reset_index()"
   ]
  },
  {
   "cell_type": "code",
   "execution_count": 33,
   "id": "9aeefcb8",
   "metadata": {
    "execution": {
     "iopub.execute_input": "2022-11-07T12:11:20.900838Z",
     "iopub.status.busy": "2022-11-07T12:11:20.900138Z",
     "iopub.status.idle": "2022-11-07T12:11:24.064340Z",
     "shell.execute_reply": "2022-11-07T12:11:24.063021Z"
    },
    "papermill": {
     "duration": 3.186707,
     "end_time": "2022-11-07T12:11:24.067493",
     "exception": false,
     "start_time": "2022-11-07T12:11:20.880786",
     "status": "completed"
    },
    "tags": []
   },
   "outputs": [],
   "source": [
    "trx_click3 = trx_click2.pivot_table('session_id', ['customer_id','created_at'], 'traffic_source', aggfunc=len, fill_value=0).reset_index()\n",
    "trx_click3 = trx_click3.rename(columns = {\n",
    "    'MOBILE' : 'mobile_used',\n",
    "    'WEB' : 'web_used'\n",
    "})"
   ]
  },
  {
   "cell_type": "code",
   "execution_count": 34,
   "id": "28b86212",
   "metadata": {
    "execution": {
     "iopub.execute_input": "2022-11-07T12:11:24.103793Z",
     "iopub.status.busy": "2022-11-07T12:11:24.103348Z",
     "iopub.status.idle": "2022-11-07T12:11:24.326531Z",
     "shell.execute_reply": "2022-11-07T12:11:24.325291Z"
    },
    "papermill": {
     "duration": 0.244384,
     "end_time": "2022-11-07T12:11:24.329082",
     "exception": false,
     "start_time": "2022-11-07T12:11:24.084698",
     "status": "completed"
    },
    "tags": []
   },
   "outputs": [
    {
     "data": {
      "text/html": [
       "<div>\n",
       "<style scoped>\n",
       "    .dataframe tbody tr th:only-of-type {\n",
       "        vertical-align: middle;\n",
       "    }\n",
       "\n",
       "    .dataframe tbody tr th {\n",
       "        vertical-align: top;\n",
       "    }\n",
       "\n",
       "    .dataframe thead th {\n",
       "        text-align: right;\n",
       "    }\n",
       "</style>\n",
       "<table border=\"1\" class=\"dataframe\">\n",
       "  <thead>\n",
       "    <tr style=\"text-align: right;\">\n",
       "      <th></th>\n",
       "      <th>customer_id</th>\n",
       "      <th>created_at</th>\n",
       "      <th>first_join_date</th>\n",
       "      <th>flagging</th>\n",
       "      <th>mobile_used</th>\n",
       "      <th>web_used</th>\n",
       "    </tr>\n",
       "  </thead>\n",
       "  <tbody>\n",
       "    <tr>\n",
       "      <th>0</th>\n",
       "      <td>3</td>\n",
       "      <td>2018-08-01</td>\n",
       "      <td>2018-08</td>\n",
       "      <td>0</td>\n",
       "      <td>1</td>\n",
       "      <td>0</td>\n",
       "    </tr>\n",
       "    <tr>\n",
       "      <th>1</th>\n",
       "      <td>3</td>\n",
       "      <td>2018-09-01</td>\n",
       "      <td>2018-08</td>\n",
       "      <td>0</td>\n",
       "      <td>1</td>\n",
       "      <td>0</td>\n",
       "    </tr>\n",
       "    <tr>\n",
       "      <th>2</th>\n",
       "      <td>3</td>\n",
       "      <td>2018-10-01</td>\n",
       "      <td>2018-08</td>\n",
       "      <td>0</td>\n",
       "      <td>1</td>\n",
       "      <td>0</td>\n",
       "    </tr>\n",
       "    <tr>\n",
       "      <th>3</th>\n",
       "      <td>3</td>\n",
       "      <td>2018-11-01</td>\n",
       "      <td>2018-08</td>\n",
       "      <td>0</td>\n",
       "      <td>1</td>\n",
       "      <td>0</td>\n",
       "    </tr>\n",
       "    <tr>\n",
       "      <th>4</th>\n",
       "      <td>3</td>\n",
       "      <td>2018-12-01</td>\n",
       "      <td>2018-08</td>\n",
       "      <td>1</td>\n",
       "      <td>1</td>\n",
       "      <td>0</td>\n",
       "    </tr>\n",
       "    <tr>\n",
       "      <th>...</th>\n",
       "      <td>...</td>\n",
       "      <td>...</td>\n",
       "      <td>...</td>\n",
       "      <td>...</td>\n",
       "      <td>...</td>\n",
       "      <td>...</td>\n",
       "    </tr>\n",
       "    <tr>\n",
       "      <th>515293</th>\n",
       "      <td>99998</td>\n",
       "      <td>2019-07-01</td>\n",
       "      <td>2018-07</td>\n",
       "      <td>1</td>\n",
       "      <td>1</td>\n",
       "      <td>0</td>\n",
       "    </tr>\n",
       "    <tr>\n",
       "      <th>515294</th>\n",
       "      <td>99998</td>\n",
       "      <td>2020-01-01</td>\n",
       "      <td>2018-07</td>\n",
       "      <td>1</td>\n",
       "      <td>1</td>\n",
       "      <td>0</td>\n",
       "    </tr>\n",
       "    <tr>\n",
       "      <th>515295</th>\n",
       "      <td>99998</td>\n",
       "      <td>2020-07-01</td>\n",
       "      <td>2018-07</td>\n",
       "      <td>1</td>\n",
       "      <td>1</td>\n",
       "      <td>0</td>\n",
       "    </tr>\n",
       "    <tr>\n",
       "      <th>515296</th>\n",
       "      <td>99998</td>\n",
       "      <td>2021-01-01</td>\n",
       "      <td>2018-07</td>\n",
       "      <td>1</td>\n",
       "      <td>1</td>\n",
       "      <td>0</td>\n",
       "    </tr>\n",
       "    <tr>\n",
       "      <th>515297</th>\n",
       "      <td>99998</td>\n",
       "      <td>2021-07-01</td>\n",
       "      <td>2018-07</td>\n",
       "      <td>1</td>\n",
       "      <td>1</td>\n",
       "      <td>0</td>\n",
       "    </tr>\n",
       "  </tbody>\n",
       "</table>\n",
       "<p>515298 rows × 6 columns</p>\n",
       "</div>"
      ],
      "text/plain": [
       "        customer_id created_at first_join_date  flagging  mobile_used  \\\n",
       "0                 3 2018-08-01         2018-08         0            1   \n",
       "1                 3 2018-09-01         2018-08         0            1   \n",
       "2                 3 2018-10-01         2018-08         0            1   \n",
       "3                 3 2018-11-01         2018-08         0            1   \n",
       "4                 3 2018-12-01         2018-08         1            1   \n",
       "...             ...        ...             ...       ...          ...   \n",
       "515293        99998 2019-07-01         2018-07         1            1   \n",
       "515294        99998 2020-01-01         2018-07         1            1   \n",
       "515295        99998 2020-07-01         2018-07         1            1   \n",
       "515296        99998 2021-01-01         2018-07         1            1   \n",
       "515297        99998 2021-07-01         2018-07         1            1   \n",
       "\n",
       "        web_used  \n",
       "0              0  \n",
       "1              0  \n",
       "2              0  \n",
       "3              0  \n",
       "4              0  \n",
       "...          ...  \n",
       "515293         0  \n",
       "515294         0  \n",
       "515295         0  \n",
       "515296         0  \n",
       "515297         0  \n",
       "\n",
       "[515298 rows x 6 columns]"
      ]
     },
     "execution_count": 34,
     "metadata": {},
     "output_type": "execute_result"
    }
   ],
   "source": [
    "trx_click4 = final_flagging.merge(trx_click3, on=['customer_id','created_at'])\n",
    "trx_click4"
   ]
  },
  {
   "cell_type": "markdown",
   "id": "6eaab5af",
   "metadata": {
    "papermill": {
     "duration": 0.016626,
     "end_time": "2022-11-07T12:11:24.363105",
     "exception": false,
     "start_time": "2022-11-07T12:11:24.346479",
     "status": "completed"
    },
    "tags": []
   },
   "source": [
    "# Feature Selection"
   ]
  },
  {
   "cell_type": "code",
   "execution_count": 35,
   "id": "eb840b66",
   "metadata": {
    "execution": {
     "iopub.execute_input": "2022-11-07T12:11:24.399131Z",
     "iopub.status.busy": "2022-11-07T12:11:24.398669Z",
     "iopub.status.idle": "2022-11-07T12:11:24.415530Z",
     "shell.execute_reply": "2022-11-07T12:11:24.414203Z"
    },
    "papermill": {
     "duration": 0.03809,
     "end_time": "2022-11-07T12:11:24.418226",
     "exception": false,
     "start_time": "2022-11-07T12:11:24.380136",
     "status": "completed"
    },
    "tags": []
   },
   "outputs": [],
   "source": [
    "X = trx_click4.iloc[:,4:]\n",
    "y = trx_click4[[\"flagging\"]]"
   ]
  },
  {
   "cell_type": "code",
   "execution_count": 36,
   "id": "5360eaea",
   "metadata": {
    "execution": {
     "iopub.execute_input": "2022-11-07T12:11:24.455358Z",
     "iopub.status.busy": "2022-11-07T12:11:24.454511Z",
     "iopub.status.idle": "2022-11-07T12:11:24.517453Z",
     "shell.execute_reply": "2022-11-07T12:11:24.516214Z"
    },
    "papermill": {
     "duration": 0.085623,
     "end_time": "2022-11-07T12:11:24.521336",
     "exception": false,
     "start_time": "2022-11-07T12:11:24.435713",
     "status": "completed"
    },
    "tags": []
   },
   "outputs": [
    {
     "name": "stdout",
     "output_type": "stream",
     "text": [
      "Jumlah data training:  (360708, 2)\n",
      "Jumlah data testing:  (154590, 2)\n"
     ]
    }
   ],
   "source": [
    "from sklearn.model_selection import train_test_split\n",
    "\n",
    "X_train, X_test, y_train, y_test = train_test_split(X, y, random_state=100, test_size=0.3)\n",
    "print(\"Jumlah data training: \", X_train.shape)\n",
    "print(\"Jumlah data testing: \", X_test.shape)"
   ]
  },
  {
   "cell_type": "code",
   "execution_count": 37,
   "id": "8ad0e59f",
   "metadata": {
    "execution": {
     "iopub.execute_input": "2022-11-07T12:11:24.558879Z",
     "iopub.status.busy": "2022-11-07T12:11:24.558199Z",
     "iopub.status.idle": "2022-11-07T12:11:24.571893Z",
     "shell.execute_reply": "2022-11-07T12:11:24.570351Z"
    },
    "papermill": {
     "duration": 0.03521,
     "end_time": "2022-11-07T12:11:24.574677",
     "exception": false,
     "start_time": "2022-11-07T12:11:24.539467",
     "status": "completed"
    },
    "tags": []
   },
   "outputs": [],
   "source": [
    "def calc_iv(df, feature, target, pr=False):\n",
    "    \n",
    "    lst = []\n",
    "\n",
    "    df[feature] = df[feature].fillna(\"NULL\")\n",
    "\n",
    "    for i in range(df[feature].nunique()):\n",
    "        val = list(df[feature].unique())[i]\n",
    "        lst.append([feature,                                                        # Variable\n",
    "                    val,                                                            # Value\n",
    "                    df[df[feature] == val].count()[feature],                        # All\n",
    "                    df[(df[feature] == val) & (df[target] == 0)].count()[feature],  # Good (think: Fraud == 0)\n",
    "                    df[(df[feature] == val) & (df[target] == 1)].count()[feature]]) # Bad (think: Fraud == 1)\n",
    "\n",
    "    data = pd.DataFrame(lst, columns=['Variable', 'Value', 'All', 'Good', 'Bad'])\n",
    "\n",
    "    data['Share'] = data['All'] / data['All'].sum()\n",
    "    data['Bad Rate'] = data['Bad'] / data['All']\n",
    "    data['Distribution Good'] = (data['All'] - data['Bad']) / (data['All'].sum() - data['Bad'].sum())\n",
    "    data['Distribution Bad'] = data['Bad'] / data['Bad'].sum()\n",
    "    data['WoE'] = np.log(data['Distribution Good'] / data['Distribution Bad'])\n",
    "\n",
    "    data = data.replace({'WoE': {np.inf: 0, -np.inf: 0}})\n",
    "\n",
    "    data['IV'] = data['WoE'] * (data['Distribution Good'] - data['Distribution Bad'])\n",
    "\n",
    "    data = data.sort_values(by=['Variable', 'Value'], ascending=[True, True])\n",
    "    data.index = range(len(data.index))\n",
    "\n",
    "    if pr:\n",
    "        print(data)\n",
    "        print('IV = ', data['IV'].sum())\n",
    "\n",
    "    iv = data['IV'].sum()\n",
    "\n",
    "    return iv, data"
   ]
  },
  {
   "cell_type": "code",
   "execution_count": 38,
   "id": "cf24064f",
   "metadata": {
    "execution": {
     "iopub.execute_input": "2022-11-07T12:11:24.611078Z",
     "iopub.status.busy": "2022-11-07T12:11:24.610631Z",
     "iopub.status.idle": "2022-11-07T12:11:24.745424Z",
     "shell.execute_reply": "2022-11-07T12:11:24.744055Z"
    },
    "papermill": {
     "duration": 0.15628,
     "end_time": "2022-11-07T12:11:24.748275",
     "exception": false,
     "start_time": "2022-11-07T12:11:24.591995",
     "status": "completed"
    },
    "tags": []
   },
   "outputs": [
    {
     "data": {
      "text/html": [
       "<div>\n",
       "<style scoped>\n",
       "    .dataframe tbody tr th:only-of-type {\n",
       "        vertical-align: middle;\n",
       "    }\n",
       "\n",
       "    .dataframe tbody tr th {\n",
       "        vertical-align: top;\n",
       "    }\n",
       "\n",
       "    .dataframe thead th {\n",
       "        text-align: right;\n",
       "    }\n",
       "</style>\n",
       "<table border=\"1\" class=\"dataframe\">\n",
       "  <thead>\n",
       "    <tr style=\"text-align: right;\">\n",
       "      <th></th>\n",
       "      <th>Feature</th>\n",
       "      <th>iv</th>\n",
       "    </tr>\n",
       "  </thead>\n",
       "  <tbody>\n",
       "    <tr>\n",
       "      <th>0</th>\n",
       "      <td>mobile_used</td>\n",
       "      <td>0.02201</td>\n",
       "    </tr>\n",
       "    <tr>\n",
       "      <th>1</th>\n",
       "      <td>web_used</td>\n",
       "      <td>0.032347</td>\n",
       "    </tr>\n",
       "  </tbody>\n",
       "</table>\n",
       "</div>"
      ],
      "text/plain": [
       "       Feature        iv\n",
       "0  mobile_used   0.02201\n",
       "1     web_used  0.032347"
      ]
     },
     "execution_count": 38,
     "metadata": {},
     "output_type": "execute_result"
    }
   ],
   "source": [
    "iv_df = X_train.copy()\n",
    "iv_df[\"target\"] = y_train\n",
    "\n",
    "features = iv_df.columns[:-1].tolist()\n",
    "\n",
    "iv_list = []\n",
    "for feature in features:\n",
    "    iv, data = calc_iv(iv_df, feature, 'target')\n",
    "    iv_list.append(round(iv,6))\n",
    "\n",
    "woe_df = pd.DataFrame(np.column_stack([features, iv_list]), \n",
    "                      columns=['Feature', 'iv'])\n",
    "woe_df"
   ]
  },
  {
   "cell_type": "markdown",
   "id": "edd68c08",
   "metadata": {
    "papermill": {
     "duration": 0.017024,
     "end_time": "2022-11-07T12:11:24.784529",
     "exception": false,
     "start_time": "2022-11-07T12:11:24.767505",
     "status": "completed"
    },
    "tags": []
   },
   "source": [
    "# Modelling"
   ]
  },
  {
   "cell_type": "code",
   "execution_count": 39,
   "id": "9781db27",
   "metadata": {
    "execution": {
     "iopub.execute_input": "2022-11-07T12:11:24.822994Z",
     "iopub.status.busy": "2022-11-07T12:11:24.821690Z",
     "iopub.status.idle": "2022-11-07T12:11:24.826861Z",
     "shell.execute_reply": "2022-11-07T12:11:24.825954Z"
    },
    "papermill": {
     "duration": 0.027103,
     "end_time": "2022-11-07T12:11:24.829193",
     "exception": false,
     "start_time": "2022-11-07T12:11:24.802090",
     "status": "completed"
    },
    "tags": []
   },
   "outputs": [],
   "source": [
    "selected_features = [\"mobile_used\",\"web_used\"]"
   ]
  },
  {
   "cell_type": "code",
   "execution_count": 40,
   "id": "1287d7b0",
   "metadata": {
    "execution": {
     "iopub.execute_input": "2022-11-07T12:11:24.867511Z",
     "iopub.status.busy": "2022-11-07T12:11:24.866255Z",
     "iopub.status.idle": "2022-11-07T12:11:24.882376Z",
     "shell.execute_reply": "2022-11-07T12:11:24.881415Z"
    },
    "papermill": {
     "duration": 0.038028,
     "end_time": "2022-11-07T12:11:24.884866",
     "exception": false,
     "start_time": "2022-11-07T12:11:24.846838",
     "status": "completed"
    },
    "tags": []
   },
   "outputs": [],
   "source": [
    "classifiers = {\n",
    "    \"LogisticRegression\" : LogisticRegression(),\n",
    "    \"KNeighbors\" : KNeighborsClassifier(),\n",
    "    \"DecisionTree\" : DecisionTreeClassifier(),\n",
    "    \"RandomForest\" : RandomForestClassifier(n_estimators=250,max_depth=12,min_samples_leaf=16),\n",
    "    \"XGBoost\" : XGBClassifier(max_depth=12,\n",
    "                              n_estimators=250,\n",
    "                              min_child_weight=8, \n",
    "                              subsample=0.8, \n",
    "                              learning_rate =0.02,    \n",
    "                              seed=42),\n",
    "    \"CatBoost\" : CatBoostClassifier(iterations=250,\n",
    "                           learning_rate=0.2,\n",
    "                           od_type='Iter',\n",
    "                           verbose=25,\n",
    "                           depth=16,\n",
    "                           random_seed=42)\n",
    "}"
   ]
  },
  {
   "cell_type": "code",
   "execution_count": 41,
   "id": "e7868acd",
   "metadata": {
    "execution": {
     "iopub.execute_input": "2022-11-07T12:11:24.922788Z",
     "iopub.status.busy": "2022-11-07T12:11:24.921948Z",
     "iopub.status.idle": "2022-11-07T12:11:24.930357Z",
     "shell.execute_reply": "2022-11-07T12:11:24.929381Z"
    },
    "papermill": {
     "duration": 0.029945,
     "end_time": "2022-11-07T12:11:24.932872",
     "exception": false,
     "start_time": "2022-11-07T12:11:24.902927",
     "status": "completed"
    },
    "tags": []
   },
   "outputs": [],
   "source": [
    "result_table = pd.DataFrame(columns=['classifiers','accuracy','presicion','recall','f1_score','fpr','tpr','auc'])\n",
    "\n",
    "y_test = y_test.astype(int)"
   ]
  },
  {
   "cell_type": "code",
   "execution_count": 42,
   "id": "5649a0d6",
   "metadata": {
    "execution": {
     "iopub.execute_input": "2022-11-07T12:11:24.969931Z",
     "iopub.status.busy": "2022-11-07T12:11:24.969113Z",
     "iopub.status.idle": "2022-11-07T12:24:20.030495Z",
     "shell.execute_reply": "2022-11-07T12:24:20.029141Z"
    },
    "papermill": {
     "duration": 775.084675,
     "end_time": "2022-11-07T12:24:20.034931",
     "exception": false,
     "start_time": "2022-11-07T12:11:24.950256",
     "status": "completed"
    },
    "tags": []
   },
   "outputs": [
    {
     "name": "stdout",
     "output_type": "stream",
     "text": [
      "0:\tlearn: 0.6631233\ttotal: 108ms\tremaining: 26.9s\n",
      "25:\tlearn: 0.6332400\ttotal: 815ms\tremaining: 7.02s\n",
      "50:\tlearn: 0.6332623\ttotal: 1.47s\tremaining: 5.73s\n",
      "75:\tlearn: 0.6332667\ttotal: 2.12s\tremaining: 4.86s\n",
      "100:\tlearn: 0.6332683\ttotal: 2.78s\tremaining: 4.11s\n",
      "125:\tlearn: 0.6332683\ttotal: 3.43s\tremaining: 3.38s\n",
      "150:\tlearn: 0.6332683\ttotal: 4.08s\tremaining: 2.67s\n",
      "175:\tlearn: 0.6332683\ttotal: 4.74s\tremaining: 1.99s\n",
      "200:\tlearn: 0.6332683\ttotal: 5.39s\tremaining: 1.31s\n",
      "225:\tlearn: 0.6332683\ttotal: 6.05s\tremaining: 642ms\n",
      "249:\tlearn: 0.6332683\ttotal: 6.67s\tremaining: 0us\n"
     ]
    }
   ],
   "source": [
    "for key, classifier in classifiers.items():\n",
    "    classifier.fit(X_train[selected_features], y_train)\n",
    "    y_predict = classifier.predict(X_test[selected_features])\n",
    "    \n",
    "    yproba = classifier.predict_proba(X_test[selected_features])[::,1]\n",
    "    \n",
    "    fpr, tpr, _ = roc_curve(y_test,  yproba)\n",
    "    auc = roc_auc_score(y_test, yproba)\n",
    "    \n",
    "    conf_matrix = confusion_matrix(y_test,y_predict)\n",
    "    \n",
    "    result_table = result_table.append({'classifiers':key,\n",
    "                                        'accuracy':accuracy_score(y_test, y_predict),\n",
    "                                        'presicion':precision_score(y_test, y_predict, average='weighted'),\n",
    "                                        'recall':recall_score(y_test, y_predict, average='weighted'),\n",
    "                                        'f1_score':f1_score(y_test, y_predict, average='weighted'),\n",
    "                                        'fpr':fpr, \n",
    "                                        'tpr':tpr, \n",
    "                                        'auc':auc\n",
    "                                         }, ignore_index=True)\n",
    "        \n",
    "result_table.set_index('classifiers', inplace=True)"
   ]
  },
  {
   "cell_type": "code",
   "execution_count": 43,
   "id": "6921eb99",
   "metadata": {
    "execution": {
     "iopub.execute_input": "2022-11-07T12:24:20.085417Z",
     "iopub.status.busy": "2022-11-07T12:24:20.084696Z",
     "iopub.status.idle": "2022-11-07T12:30:20.530450Z",
     "shell.execute_reply": "2022-11-07T12:30:20.528891Z"
    },
    "papermill": {
     "duration": 360.495839,
     "end_time": "2022-11-07T12:30:20.554174",
     "exception": false,
     "start_time": "2022-11-07T12:24:20.058335",
     "status": "completed"
    },
    "tags": []
   },
   "outputs": [
    {
     "data": {
      "image/png": "[encoded data removed]",
      "text/plain": [
       "<Figure size 1080x720 with 12 Axes>"
      ]
     },
     "metadata": {
      "needs_background": "light"
     },
     "output_type": "display_data"
    }
   ],
   "source": [
    "fig, axes = plt.subplots(nrows=2, ncols=3, figsize=(15,10))\n",
    "\n",
    "for cls, ax in zip(list(classifiers.values()), axes.flatten()):\n",
    "    plot_confusion_matrix(cls, \n",
    "                          X_test[selected_features], \n",
    "                          y_test, \n",
    "                          ax=ax, \n",
    "                          cmap='Oranges')\n",
    "    ax.title.set_text(type(cls).__name__)\n",
    "plt.tight_layout()  \n",
    "plt.show()"
   ]
  },
  {
   "cell_type": "markdown",
   "id": "84da855d",
   "metadata": {
    "papermill": {
     "duration": 0.020882,
     "end_time": "2022-11-07T12:30:20.595525",
     "exception": false,
     "start_time": "2022-11-07T12:30:20.574643",
     "status": "completed"
    },
    "tags": []
   },
   "source": [
    "# Performance"
   ]
  },
  {
   "cell_type": "code",
   "execution_count": 44,
   "id": "b80d6a44",
   "metadata": {
    "execution": {
     "iopub.execute_input": "2022-11-07T12:30:20.640192Z",
     "iopub.status.busy": "2022-11-07T12:30:20.638872Z",
     "iopub.status.idle": "2022-11-07T12:30:20.979716Z",
     "shell.execute_reply": "2022-11-07T12:30:20.978051Z"
    },
    "papermill": {
     "duration": 0.365739,
     "end_time": "2022-11-07T12:30:20.983288",
     "exception": false,
     "start_time": "2022-11-07T12:30:20.617549",
     "status": "completed"
    },
    "tags": []
   },
   "outputs": [
    {
     "data": {
      "image/png": "[encoded data removed]",
      "text/plain": [
       "<Figure size 576x432 with 1 Axes>"
      ]
     },
     "metadata": {
      "needs_background": "light"
     },
     "output_type": "display_data"
    }
   ],
   "source": [
    "fig = plt.figure(figsize=(8,6))\n",
    "\n",
    "for i in result_table.index:\n",
    "    plt.plot(result_table.loc[i]['fpr'], \n",
    "             result_table.loc[i]['tpr'], \n",
    "             label=\"{}, AUC={:.3f}\".format(i, result_table.loc[i]['auc']))\n",
    "    \n",
    "plt.plot([0,1], [0,1], color='orange', linestyle='--')\n",
    "\n",
    "plt.xticks(np.arange(0.0, 1.1, step=0.1))\n",
    "plt.xlabel(\"Flase Positive Rate\", fontsize=15)\n",
    "\n",
    "plt.yticks(np.arange(0.0, 1.1, step=0.1))\n",
    "plt.ylabel(\"True Positive Rate\", fontsize=15)\n",
    "\n",
    "plt.title('ROC Curve Analysis', fontweight='bold', fontsize=15)\n",
    "plt.legend(prop={'size':13}, loc='lower right')\n",
    "\n",
    "plt.show()"
   ]
  },
  {
   "cell_type": "code",
   "execution_count": 45,
   "id": "55aada42",
   "metadata": {
    "execution": {
     "iopub.execute_input": "2022-11-07T12:30:21.041063Z",
     "iopub.status.busy": "2022-11-07T12:30:21.040125Z",
     "iopub.status.idle": "2022-11-07T12:30:21.063029Z",
     "shell.execute_reply": "2022-11-07T12:30:21.061853Z"
    },
    "papermill": {
     "duration": 0.052306,
     "end_time": "2022-11-07T12:30:21.066273",
     "exception": false,
     "start_time": "2022-11-07T12:30:21.013967",
     "status": "completed"
    },
    "tags": []
   },
   "outputs": [
    {
     "data": {
      "text/html": [
       "<div>\n",
       "<style scoped>\n",
       "    .dataframe tbody tr th:only-of-type {\n",
       "        vertical-align: middle;\n",
       "    }\n",
       "\n",
       "    .dataframe tbody tr th {\n",
       "        vertical-align: top;\n",
       "    }\n",
       "\n",
       "    .dataframe thead th {\n",
       "        text-align: right;\n",
       "    }\n",
       "</style>\n",
       "<table border=\"1\" class=\"dataframe\">\n",
       "  <thead>\n",
       "    <tr style=\"text-align: right;\">\n",
       "      <th></th>\n",
       "      <th>accuracy</th>\n",
       "      <th>presicion</th>\n",
       "      <th>recall</th>\n",
       "      <th>f1_score</th>\n",
       "    </tr>\n",
       "    <tr>\n",
       "      <th>classifiers</th>\n",
       "      <th></th>\n",
       "      <th></th>\n",
       "      <th></th>\n",
       "      <th></th>\n",
       "    </tr>\n",
       "  </thead>\n",
       "  <tbody>\n",
       "    <tr>\n",
       "      <th>LogisticRegression</th>\n",
       "      <td>0.619723</td>\n",
       "      <td>0.581497</td>\n",
       "      <td>0.619723</td>\n",
       "      <td>0.529019</td>\n",
       "    </tr>\n",
       "    <tr>\n",
       "      <th>KNeighbors</th>\n",
       "      <td>0.619063</td>\n",
       "      <td>0.383239</td>\n",
       "      <td>0.619063</td>\n",
       "      <td>0.473409</td>\n",
       "    </tr>\n",
       "    <tr>\n",
       "      <th>DecisionTree</th>\n",
       "      <td>0.619723</td>\n",
       "      <td>0.581497</td>\n",
       "      <td>0.619723</td>\n",
       "      <td>0.529019</td>\n",
       "    </tr>\n",
       "    <tr>\n",
       "      <th>RandomForest</th>\n",
       "      <td>0.619723</td>\n",
       "      <td>0.581497</td>\n",
       "      <td>0.619723</td>\n",
       "      <td>0.529019</td>\n",
       "    </tr>\n",
       "    <tr>\n",
       "      <th>XGBoost</th>\n",
       "      <td>0.619723</td>\n",
       "      <td>0.581497</td>\n",
       "      <td>0.619723</td>\n",
       "      <td>0.529019</td>\n",
       "    </tr>\n",
       "    <tr>\n",
       "      <th>CatBoost</th>\n",
       "      <td>0.619723</td>\n",
       "      <td>0.581497</td>\n",
       "      <td>0.619723</td>\n",
       "      <td>0.529019</td>\n",
       "    </tr>\n",
       "  </tbody>\n",
       "</table>\n",
       "</div>"
      ],
      "text/plain": [
       "                    accuracy  presicion    recall  f1_score\n",
       "classifiers                                                \n",
       "LogisticRegression  0.619723   0.581497  0.619723  0.529019\n",
       "KNeighbors          0.619063   0.383239  0.619063  0.473409\n",
       "DecisionTree        0.619723   0.581497  0.619723  0.529019\n",
       "RandomForest        0.619723   0.581497  0.619723  0.529019\n",
       "XGBoost             0.619723   0.581497  0.619723  0.529019\n",
       "CatBoost            0.619723   0.581497  0.619723  0.529019"
      ]
     },
     "execution_count": 45,
     "metadata": {},
     "output_type": "execute_result"
    }
   ],
   "source": [
    "result_table.iloc[:,:4]"
   ]
  }
 ],
 "metadata": {
  "kernelspec": {
   "display_name": "Python 3",
   "language": "python",
   "name": "python3"
  },
  "language_info": {
   "codemirror_mode": {
    "name": "ipython",
    "version": 3
   },
   "file_extension": ".py",
   "mimetype": "text/x-python",
   "name": "python",
   "nbconvert_exporter": "python",
   "pygments_lexer": "ipython3",
   "version": "3.7.12"
  },
  "papermill": {
   "default_parameters": {},
   "duration": 1970.304256,
   "end_time": "2022-11-07T12:30:24.331355",
   "environment_variables": {},
   "exception": null,
   "input_path": "__notebook__.ipynb",
   "output_path": "__notebook__.ipynb",
   "parameters": {},
   "start_time": "2022-11-07T11:57:34.027099",
   "version": "2.3.4"
  }
 },
 "nbformat": 4,
 "nbformat_minor": 5
}
